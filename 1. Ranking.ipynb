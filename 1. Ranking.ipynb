{
 "cells": [
  {
   "cell_type": "markdown",
   "metadata": {},
   "source": [
    "# Лабораторная работа 4. Часть 1. Ранжирование.\n",
    "\n",
    "\n",
    "\n",
    "Результат лабораторной работы − отчет. Мы предпочитаем принимать отчеты в формате ноутбуков IPython (ipynb-файл). Постарайтесь сделать ваш отчет интересным рассказом, последовательно отвечающим на вопросы из заданий. Помимо ответов на вопросы, в отчете так же должен быть код, однако чем меньше кода, тем лучше всем: нам − меньше проверять, вам — проще найти ошибку или дополнить эксперимент. При проверке оценивается четкость ответов на вопросы, аккуратность отчета и кода.\n",
    "\n",
    "\n",
    "### Оценивание и штрафы\n",
    "Каждая из задач имеет определенную «стоимость» (указана в скобках около задачи). Максимально допустимая оценка за работу — 9 баллов. Сдавать задание после указанного в lk срока сдачи нельзя. «Похожие» решения считаются плагиатом и все задействованные студенты (в том числе те, у кого списали) не могут получить за него больше 0 баллов и понижают карму (подробнее о плагиате см. на странице курса). Если вы нашли решение какого-то из заданий в открытом источнике, необходимо прислать ссылку на этот источник (скорее всего вы будете не единственным, кто это нашел, поэтому чтобы исключить подозрение в плагиате, нам необходима ссылка на источник).\n",
    "\n"
   ]
  },
  {
   "cell_type": "markdown",
   "metadata": {},
   "source": [
    "## Знакомство с данными\n",
    "\n",
    "### Ранжирование организаций по пользовательскому запросу\n",
    "\n",
    "Что мы обычно делаем, когда нам нужно найти определённое место, но не знаем его местоположения? Используем поиск на картах.\n",
    "\n",
    "В этой лабораторной работе вам будет необходимо построить небольшую поисковую систему, позволяющую отранжировать организации по запросу пользователя.\n",
    "\n",
    "Для обучения вам даны 2000 запросов и более 13 тысяч найденных по ним организаций. Для каждой пары \"запрос — организация\" была посчитана релевантность, по которой и происходит ранжирование."
   ]
  },
  {
   "cell_type": "markdown",
   "metadata": {},
   "source": [
    "**(2 балла) Задание 1.** Загрузите [данные](https://disk.yandex.ru/d/Bf3P4H8FDYe7-g) о запросах и их релевантности (*train.csv*), а также информацию об организациях (*train_org_information.json*) и рубриках (*train_rubric_information.json*)\n",
    "\n",
    "Для дальнейших экспериментов необходимо посчитать небольшой набор базовых факторов. С использованием информации о запросах и организациях, посчитайте факторы, которые на ваш взгляд будут полезными для предсказания релевантности.\n",
    "\n",
    "Примерами текстовых факторов могут служить:\n",
    " - кол-во слов в запросе и названии организации;\n",
    " - пословные/N-граммные пересечения слов запроса и названия организации (также можно использовать синонимы названия организации и адрес организации): кол-во слов в пересечении, [мера Жаккара](https://en.wikipedia.org/wiki/Jaccard_index) и пр.;\n",
    " - кол-во различных синонимичных названий организации (поле *names* в описании организации);\n",
    " - One-hot-encoded язык запроса.\n",
    " \n",
    "По информации о географическом положении:\n",
    " - факт совпадения региона, где задавался запрос и региона организации;\n",
    " - координаты показанной области;\n",
    " - размеры показанной области;\n",
    " - меры, характеризующие близость координат организации к показанному окну: расстояние до центра области и другие.\n",
    " \n",
    "Факторы, описывающие организацию:\n",
    " - one-hot-encoding фактор cтраны или региона организации (важно: не используйте one-hot-encoding факторы, в которых больше 10 значений; если в факторе слишком много значений, ограничьтесь, например, только самыми популярными категориями)\n",
    " - кол-во рабочих дней в неделе и общая продолжительность работы (поле *work_intervals* в описании организации)\n",
    " - кол-во рубрик (поле *rubrics* в описании организации)\n",
    " \n",
    "![](https://miro.medium.com/max/1500/0*FwubnnoNlt6Coo9j.png)\n",
    "\n",
    "В этом задании не нужно использовать многомерные представления текстовой информации (tfidf и прочие embeddings) и информацию о кликах (*train_clicks_information.json*). Придумывать сверхсложные факторы тоже необязательно.\n",
    "\n",
    "Вы можете реализовать описанные выше факторы и/или придумать свои. Но зачастую такие простые признаки могут приносить наибольшую пользу.\n",
    "\n",
    "В итоге у вас должно получиться от 15 до 50 факторов, характеризующих запрос и организацию и покрывающих основные источники данных (кроме кликов). Это наш основной датасет, который будет использоваться в экспериментах.\n",
    "\n"
   ]
  },
  {
   "cell_type": "code",
   "execution_count": 1,
   "metadata": {
    "execution": {
     "iopub.execute_input": "2022-04-21T22:02:22.814103Z",
     "iopub.status.busy": "2022-04-21T22:02:22.813820Z",
     "iopub.status.idle": "2022-04-21T22:02:22.818929Z",
     "shell.execute_reply": "2022-04-21T22:02:22.817691Z",
     "shell.execute_reply.started": "2022-04-21T22:02:22.814058Z"
    },
    "tags": []
   },
   "outputs": [],
   "source": [
    "#!pip3 install wldhx.yadisk-direct"
   ]
  },
  {
   "cell_type": "code",
   "execution_count": 2,
   "metadata": {
    "execution": {
     "iopub.execute_input": "2022-04-21T22:02:22.821545Z",
     "iopub.status.busy": "2022-04-21T22:02:22.821270Z",
     "iopub.status.idle": "2022-04-21T22:02:22.825670Z",
     "shell.execute_reply": "2022-04-21T22:02:22.824918Z",
     "shell.execute_reply.started": "2022-04-21T22:02:22.821448Z"
    },
    "tags": []
   },
   "outputs": [],
   "source": [
    "# !curl -L $(yadisk-direct https://disk.yandex.ru/d/Bf3P4H8FDYe7-g) -o ranking_data.zip"
   ]
  },
  {
   "cell_type": "code",
   "execution_count": 3,
   "metadata": {
    "execution": {
     "iopub.execute_input": "2022-04-21T22:02:22.826762Z",
     "iopub.status.busy": "2022-04-21T22:02:22.826540Z",
     "iopub.status.idle": "2022-04-21T22:02:22.850939Z",
     "shell.execute_reply": "2022-04-21T22:02:22.849934Z",
     "shell.execute_reply.started": "2022-04-21T22:02:22.826716Z"
    },
    "tags": []
   },
   "outputs": [],
   "source": [
    "# !unzip ranking_data.zip"
   ]
  },
  {
   "cell_type": "code",
   "execution_count": 4,
   "metadata": {
    "execution": {
     "iopub.execute_input": "2022-04-21T22:02:22.852311Z",
     "iopub.status.busy": "2022-04-21T22:02:22.852030Z",
     "iopub.status.idle": "2022-04-21T22:02:24.353750Z",
     "shell.execute_reply": "2022-04-21T22:02:24.352962Z",
     "shell.execute_reply.started": "2022-04-21T22:02:22.852276Z"
    },
    "tags": []
   },
   "outputs": [],
   "source": [
    "import json\n",
    "import langdetect\n",
    "import re\n",
    "import matplotlib.pyplot as plt\n",
    "import numpy as np\n",
    "import pandas as pd\n",
    "from collections import Counter\n",
    "from sklearn.preprocessing import OneHotEncoder\n",
    "import logging\n",
    "import random\n",
    "from tqdm.auto import tqdm\n",
    "import sys\n",
    "\n",
    "logging.basicConfig(stream=sys.stdout, level=logging.DEBUG)\n",
    "np.random.seed(2022)\n",
    "random.seed(2022)"
   ]
  },
  {
   "cell_type": "code",
   "execution_count": 5,
   "metadata": {
    "execution": {
     "iopub.execute_input": "2022-04-21T22:02:24.355210Z",
     "iopub.status.busy": "2022-04-21T22:02:24.354969Z",
     "iopub.status.idle": "2022-04-21T22:02:24.450774Z",
     "shell.execute_reply": "2022-04-21T22:02:24.449940Z",
     "shell.execute_reply.started": "2022-04-21T22:02:24.355154Z"
    },
    "tags": []
   },
   "outputs": [
    {
     "data": {
      "text/html": [
       "<div>\n",
       "<style scoped>\n",
       "    .dataframe tbody tr th:only-of-type {\n",
       "        vertical-align: middle;\n",
       "    }\n",
       "\n",
       "    .dataframe tbody tr th {\n",
       "        vertical-align: top;\n",
       "    }\n",
       "\n",
       "    .dataframe thead th {\n",
       "        text-align: right;\n",
       "    }\n",
       "</style>\n",
       "<table border=\"1\" class=\"dataframe\">\n",
       "  <thead>\n",
       "    <tr style=\"text-align: right;\">\n",
       "      <th></th>\n",
       "      <th>query_id</th>\n",
       "      <th>query</th>\n",
       "      <th>region</th>\n",
       "      <th>org_name</th>\n",
       "      <th>org_id</th>\n",
       "      <th>window_center</th>\n",
       "      <th>window_size</th>\n",
       "      <th>relevance</th>\n",
       "    </tr>\n",
       "  </thead>\n",
       "  <tbody>\n",
       "    <tr>\n",
       "      <th>21872</th>\n",
       "      <td>29498</td>\n",
       "      <td>крит Marilena hotel 4* расположение</td>\n",
       "      <td>18</td>\n",
       "      <td>На час, Аманда отель на Адмиралтейской</td>\n",
       "      <td>1749152458</td>\n",
       "      <td>34.359688,61.789036</td>\n",
       "      <td>0.466091,0.149715</td>\n",
       "      <td>0.00</td>\n",
       "    </tr>\n",
       "    <tr>\n",
       "      <th>25881</th>\n",
       "      <td>33228</td>\n",
       "      <td>сад 103 александра невского 7</td>\n",
       "      <td>2</td>\n",
       "      <td>Детский сад № 38 Румяные щечки</td>\n",
       "      <td>20242747624</td>\n",
       "      <td>38.924181,55.987513</td>\n",
       "      <td>0.040855,0.012437</td>\n",
       "      <td>0.00</td>\n",
       "    </tr>\n",
       "    <tr>\n",
       "      <th>22255</th>\n",
       "      <td>29787</td>\n",
       "      <td>листок горно-алтайск</td>\n",
       "      <td>11319</td>\n",
       "      <td>Россельхозбанк, банкомат</td>\n",
       "      <td>1027308246</td>\n",
       "      <td>85.951597,51.958287</td>\n",
       "      <td>0.026178,0.008617</td>\n",
       "      <td>0.00</td>\n",
       "    </tr>\n",
       "    <tr>\n",
       "      <th>28004</th>\n",
       "      <td>34964</td>\n",
       "      <td>ул. Талсинская, д.23 (ТЦ \"Сиреневый\")</td>\n",
       "      <td>213</td>\n",
       "      <td>Ситилинк мини, пункт выдачи</td>\n",
       "      <td>1292610377</td>\n",
       "      <td>37.617671,55.755768</td>\n",
       "      <td>1.620483,0.451494</td>\n",
       "      <td>0.00</td>\n",
       "    </tr>\n",
       "    <tr>\n",
       "      <th>25714</th>\n",
       "      <td>33145</td>\n",
       "      <td>русклимат</td>\n",
       "      <td>47</td>\n",
       "      <td>Русклимат</td>\n",
       "      <td>45671709168</td>\n",
       "      <td>43.845260,56.316998</td>\n",
       "      <td>0.252857,0.076702</td>\n",
       "      <td>0.02</td>\n",
       "    </tr>\n",
       "  </tbody>\n",
       "</table>\n",
       "</div>"
      ],
      "text/plain": [
       "       query_id                                  query  region  \\\n",
       "21872     29498    крит Marilena hotel 4* расположение      18   \n",
       "25881     33228          сад 103 александра невского 7       2   \n",
       "22255     29787                   листок горно-алтайск   11319   \n",
       "28004     34964  ул. Талсинская, д.23 (ТЦ \"Сиреневый\")     213   \n",
       "25714     33145                              русклимат      47   \n",
       "\n",
       "                                     org_name       org_id  \\\n",
       "21872  На час, Аманда отель на Адмиралтейской   1749152458   \n",
       "25881          Детский сад № 38 Румяные щечки  20242747624   \n",
       "22255                Россельхозбанк, банкомат   1027308246   \n",
       "28004             Ситилинк мини, пункт выдачи   1292610377   \n",
       "25714                               Русклимат  45671709168   \n",
       "\n",
       "             window_center        window_size  relevance  \n",
       "21872  34.359688,61.789036  0.466091,0.149715       0.00  \n",
       "25881  38.924181,55.987513  0.040855,0.012437       0.00  \n",
       "22255  85.951597,51.958287  0.026178,0.008617       0.00  \n",
       "28004  37.617671,55.755768  1.620483,0.451494       0.00  \n",
       "25714  43.845260,56.316998  0.252857,0.076702       0.02  "
      ]
     },
     "execution_count": 5,
     "metadata": {},
     "output_type": "execute_result"
    }
   ],
   "source": [
    "train_data = pd.read_csv('./2021_sem3_lab_04_part_01_ranking_data/train.csv')\n",
    "train_data.sample(5)"
   ]
  },
  {
   "cell_type": "code",
   "execution_count": 6,
   "metadata": {
    "execution": {
     "iopub.execute_input": "2022-04-21T22:02:24.452112Z",
     "iopub.status.busy": "2022-04-21T22:02:24.451885Z",
     "iopub.status.idle": "2022-04-21T22:02:24.457484Z",
     "shell.execute_reply": "2022-04-21T22:02:24.456710Z",
     "shell.execute_reply.started": "2022-04-21T22:02:24.452079Z"
    },
    "tags": []
   },
   "outputs": [
    {
     "data": {
      "text/plain": [
       "(29274, 8)"
      ]
     },
     "execution_count": 6,
     "metadata": {},
     "output_type": "execute_result"
    }
   ],
   "source": [
    "train_data.shape"
   ]
  },
  {
   "cell_type": "code",
   "execution_count": 7,
   "metadata": {
    "execution": {
     "iopub.execute_input": "2022-04-21T22:02:24.458881Z",
     "iopub.status.busy": "2022-04-21T22:02:24.458627Z",
     "iopub.status.idle": "2022-04-21T22:02:24.476469Z",
     "shell.execute_reply": "2022-04-21T22:02:24.472549Z",
     "shell.execute_reply.started": "2022-04-21T22:02:24.458830Z"
    },
    "tags": []
   },
   "outputs": [
    {
     "name": "stdout",
     "output_type": "stream",
     "text": [
      "query_id : 76\n",
      "query : кладбище\n",
      "region : 28313\n",
      "org_name : Кладовище № 2\n",
      "org_id : 1019383718\n",
      "window_center : 36.112721,49.953447\n",
      "window_size : 0.023285,0.008106\n",
      "relevance : 0.0\n",
      "\n",
      "query_id : 73\n",
      "query : Гостиницы\n",
      "region : 24897\n",
      "org_name : Готель Хеллі\n",
      "org_id : 1076500882\n",
      "window_center : 23.506196,49.275280\n",
      "window_size : 0.015378,0.012322\n",
      "relevance : 0.14\n",
      "\n",
      "query_id : 73\n",
      "query : Гостиницы\n",
      "region : 24897\n",
      "org_name : Готель Весна\n",
      "org_id : 1188713685\n",
      "window_center : 23.506196,49.275280\n",
      "window_size : 0.015378,0.012322\n",
      "relevance : 0.14\n",
      "\n"
     ]
    }
   ],
   "source": [
    "for i in np.random.randint(10, 100, 3):\n",
    "    for col, data in zip(train_data.columns, train_data.iloc[i].values):\n",
    "        print(col, \":\", data)\n",
    "    print()"
   ]
  },
  {
   "cell_type": "code",
   "execution_count": 8,
   "metadata": {
    "execution": {
     "iopub.execute_input": "2022-04-21T22:02:24.478304Z",
     "iopub.status.busy": "2022-04-21T22:02:24.478071Z",
     "iopub.status.idle": "2022-04-21T22:02:24.484558Z",
     "shell.execute_reply": "2022-04-21T22:02:24.483556Z",
     "shell.execute_reply.started": "2022-04-21T22:02:24.478276Z"
    },
    "tags": []
   },
   "outputs": [
    {
     "data": {
      "text/plain": [
       "51"
      ]
     },
     "execution_count": 8,
     "metadata": {},
     "output_type": "execute_result"
    }
   ],
   "source": [
    "i"
   ]
  },
  {
   "cell_type": "code",
   "execution_count": 9,
   "metadata": {
    "execution": {
     "iopub.execute_input": "2022-04-21T22:02:24.485828Z",
     "iopub.status.busy": "2022-04-21T22:02:24.485420Z",
     "iopub.status.idle": "2022-04-21T22:02:24.527431Z",
     "shell.execute_reply": "2022-04-21T22:02:24.519881Z",
     "shell.execute_reply.started": "2022-04-21T22:02:24.485756Z"
    },
    "tags": []
   },
   "outputs": [
    {
     "name": "stdout",
     "output_type": "stream",
     "text": [
      "query: Гостиницы\n",
      "org_name Готель Парк Трускавець\n",
      "relevance 0.14\n",
      "\n",
      "query: Гостиницы\n",
      "org_name Готель Mirotel Resort & Spa\n",
      "relevance 0.14\n",
      "\n",
      "query: Гостиницы\n",
      "org_name Курортно-готельний комплекс Свитязь\n",
      "relevance 0.14\n",
      "\n",
      "query: Гостиницы\n",
      "org_name Готель Весна\n",
      "relevance 0.14\n",
      "\n",
      "query: Гостиницы\n",
      "org_name Клуб pH\n",
      "relevance 0.14\n",
      "\n",
      "query: Гостиницы\n",
      "org_name Відпочинковий комплекс Клейнод\n",
      "relevance 0.14\n",
      "\n",
      "query: Гостиницы\n",
      "org_name Старий Відень\n",
      "relevance 0.14\n",
      "\n",
      "query: Гостиницы\n",
      "org_name Готель у Олега\n",
      "relevance 0.14\n",
      "\n",
      "query: Гостиницы\n",
      "org_name Готель Вiан\n",
      "relevance 0.14\n",
      "\n",
      "query: Гостиницы\n",
      "org_name Magnet hotel\n",
      "relevance 0.14\n",
      "\n",
      "query: Гостиницы\n",
      "org_name Ресторан Оріон\n",
      "relevance 0.14\n",
      "\n",
      "query: Гостиницы\n",
      "org_name Готель Club Ph\n",
      "relevance 0.14\n",
      "\n",
      "query: Гостиницы\n",
      "org_name Міні-готель Джем\n",
      "relevance 0.14\n",
      "\n",
      "query: Гостиницы\n",
      "org_name Готель Маріот Медікал центр\n",
      "relevance 0.14\n",
      "\n",
      "query: Гостиницы\n",
      "org_name Готель Мальви\n",
      "relevance 0.14\n",
      "\n",
      "query: Гостиницы\n",
      "org_name Санаторій Весна\n",
      "relevance 0.14\n",
      "\n",
      "query: Гостиницы\n",
      "org_name Готель Джем\n",
      "relevance 0.14\n",
      "\n",
      "query: Гостиницы\n",
      "org_name Privat Hotel\n",
      "relevance 0.14\n",
      "\n",
      "query: Гостиницы\n",
      "org_name Готель Арт\n",
      "relevance 0.14\n",
      "\n",
      "query: Гостиницы\n",
      "org_name Готель Хеллі\n",
      "relevance 0.14\n",
      "\n",
      "query: Гостиницы\n",
      "org_name Готель Дворик Лева\n",
      "relevance 0.14\n",
      "\n",
      "query: Гостиницы\n",
      "org_name Афродіта\n",
      "relevance 0.14\n",
      "\n",
      "query: Гостиницы\n",
      "org_name Готель Гермес\n",
      "relevance 0.14\n",
      "\n",
      "query: Гостиницы\n",
      "org_name Вілла Камелія\n",
      "relevance 0.14\n",
      "\n",
      "query: Гостиницы\n",
      "org_name Вілла Ірина\n",
      "relevance 0.14\n",
      "\n",
      "query: Гостиницы\n",
      "org_name СПА-готель П'ятий Океан\n",
      "relevance 0.14\n",
      "\n",
      "query: Гостиницы\n",
      "org_name Готель Нафтуся\n",
      "relevance 0.14\n",
      "\n",
      "query: Гостиницы\n",
      "org_name Готель Сані\n",
      "relevance 0.14\n",
      "\n",
      "query: Гостиницы\n",
      "org_name Готель Європа\n",
      "relevance 0.14\n",
      "\n",
      "query: Гостиницы\n",
      "org_name Готель Трускавець 365\n",
      "relevance 0.14\n",
      "\n",
      "query: Гостиницы\n",
      "org_name Готель Набі\n",
      "relevance 0.14\n",
      "\n",
      "query: Гостиницы\n",
      "org_name Ирина\n",
      "relevance 0.14\n",
      "\n",
      "query: Гостиницы\n",
      "org_name Вілла Калина\n",
      "relevance 0.14\n",
      "\n"
     ]
    }
   ],
   "source": [
    "for _, row in train_data[train_data.query_id == train_data.iloc[i].query_id].iterrows():\n",
    "    print(\"query:\", row.query)\n",
    "    print(\"org_name\", row.org_name)\n",
    "    print(\"relevance\", row.relevance)\n",
    "    print()"
   ]
  },
  {
   "cell_type": "code",
   "execution_count": 10,
   "metadata": {
    "execution": {
     "iopub.execute_input": "2022-04-21T22:02:24.528714Z",
     "iopub.status.busy": "2022-04-21T22:02:24.528475Z",
     "iopub.status.idle": "2022-04-21T22:02:26.270160Z",
     "shell.execute_reply": "2022-04-21T22:02:26.269157Z",
     "shell.execute_reply.started": "2022-04-21T22:02:24.528678Z"
    },
    "tags": []
   },
   "outputs": [],
   "source": [
    "org_data = pd.read_json('./2021_sem3_lab_04_part_01_ranking_data/train_org_information/train_org_information.json', \n",
    "                        orient='index', \n",
    "                        convert_axes=False, \n",
    "                        convert_dates=False)\n",
    "\n",
    "\n",
    "rubric_data = pd.read_json('./2021_sem3_lab_04_part_01_ranking_data/train_rubric_information/train_rubric_information.json', \n",
    "                           orient='index', \n",
    "                           convert_axes=False, \n",
    "                           convert_dates=False)"
   ]
  },
  {
   "cell_type": "code",
   "execution_count": 11,
   "metadata": {
    "execution": {
     "iopub.execute_input": "2022-04-21T22:02:26.274007Z",
     "iopub.status.busy": "2022-04-21T22:02:26.273801Z",
     "iopub.status.idle": "2022-04-21T22:02:26.308130Z",
     "shell.execute_reply": "2022-04-21T22:02:26.307096Z",
     "shell.execute_reply.started": "2022-04-21T22:02:26.273972Z"
    },
    "tags": []
   },
   "outputs": [
    {
     "data": {
      "text/html": [
       "<div>\n",
       "<style scoped>\n",
       "    .dataframe tbody tr th:only-of-type {\n",
       "        vertical-align: middle;\n",
       "    }\n",
       "\n",
       "    .dataframe tbody tr th {\n",
       "        vertical-align: top;\n",
       "    }\n",
       "\n",
       "    .dataframe thead th {\n",
       "        text-align: right;\n",
       "    }\n",
       "</style>\n",
       "<table border=\"1\" class=\"dataframe\">\n",
       "  <thead>\n",
       "    <tr style=\"text-align: right;\">\n",
       "      <th></th>\n",
       "      <th>names</th>\n",
       "      <th>rubrics</th>\n",
       "      <th>work_intervals</th>\n",
       "      <th>address</th>\n",
       "    </tr>\n",
       "  </thead>\n",
       "  <tbody>\n",
       "    <tr>\n",
       "      <th>1255014404</th>\n",
       "      <td>[{'value': {'locale': 'en', 'value': 'Bely Bok...</td>\n",
       "      <td>[20277, 20679, 21237]</td>\n",
       "      <td>[{'time_minutes_begin': 540, 'day': 'everyday'...</td>\n",
       "      <td>{'region_code': 'RU', 'formatted': {'locale': ...</td>\n",
       "    </tr>\n",
       "    <tr>\n",
       "      <th>1111883782</th>\n",
       "      <td>[{'value': {'locale': 'en', 'value': 'Vyborgsk...</td>\n",
       "      <td>[30723]</td>\n",
       "      <td>[{'time_minutes_begin': 510, 'day': 'saturday'...</td>\n",
       "      <td>{'region_code': 'RU', 'formatted': {'locale': ...</td>\n",
       "    </tr>\n",
       "    <tr>\n",
       "      <th>39713767434</th>\n",
       "      <td>[{'value': {'locale': 'en', 'value': 'Sberbank...</td>\n",
       "      <td>[30348]</td>\n",
       "      <td>[{'time_minutes_begin': 570, 'day': 'saturday'...</td>\n",
       "      <td>{'region_code': 'RU', 'formatted': {'locale': ...</td>\n",
       "    </tr>\n",
       "    <tr>\n",
       "      <th>1336016908</th>\n",
       "      <td>[{'value': {'locale': 'en', 'value': 'Filial b...</td>\n",
       "      <td>[30057, 30111, 30114]</td>\n",
       "      <td>[{'time_minutes_begin': 480, 'day': 'saturday'...</td>\n",
       "      <td>{'region_code': 'RU', 'formatted': {'locale': ...</td>\n",
       "    </tr>\n",
       "    <tr>\n",
       "      <th>149331116064</th>\n",
       "      <td>[{'value': {'locale': 'ru', 'value': 'Школа'}}]</td>\n",
       "      <td>[30723]</td>\n",
       "      <td>[]</td>\n",
       "      <td>{'region_code': 'RU', 'formatted': {'locale': ...</td>\n",
       "    </tr>\n",
       "  </tbody>\n",
       "</table>\n",
       "</div>"
      ],
      "text/plain": [
       "                                                          names  \\\n",
       "1255014404    [{'value': {'locale': 'en', 'value': 'Bely Bok...   \n",
       "1111883782    [{'value': {'locale': 'en', 'value': 'Vyborgsk...   \n",
       "39713767434   [{'value': {'locale': 'en', 'value': 'Sberbank...   \n",
       "1336016908    [{'value': {'locale': 'en', 'value': 'Filial b...   \n",
       "149331116064    [{'value': {'locale': 'ru', 'value': 'Школа'}}]   \n",
       "\n",
       "                            rubrics  \\\n",
       "1255014404    [20277, 20679, 21237]   \n",
       "1111883782                  [30723]   \n",
       "39713767434                 [30348]   \n",
       "1336016908    [30057, 30111, 30114]   \n",
       "149331116064                [30723]   \n",
       "\n",
       "                                                 work_intervals  \\\n",
       "1255014404    [{'time_minutes_begin': 540, 'day': 'everyday'...   \n",
       "1111883782    [{'time_minutes_begin': 510, 'day': 'saturday'...   \n",
       "39713767434   [{'time_minutes_begin': 570, 'day': 'saturday'...   \n",
       "1336016908    [{'time_minutes_begin': 480, 'day': 'saturday'...   \n",
       "149331116064                                                 []   \n",
       "\n",
       "                                                        address  \n",
       "1255014404    {'region_code': 'RU', 'formatted': {'locale': ...  \n",
       "1111883782    {'region_code': 'RU', 'formatted': {'locale': ...  \n",
       "39713767434   {'region_code': 'RU', 'formatted': {'locale': ...  \n",
       "1336016908    {'region_code': 'RU', 'formatted': {'locale': ...  \n",
       "149331116064  {'region_code': 'RU', 'formatted': {'locale': ...  "
      ]
     },
     "execution_count": 11,
     "metadata": {},
     "output_type": "execute_result"
    }
   ],
   "source": [
    "org_data.head()"
   ]
  },
  {
   "cell_type": "code",
   "execution_count": 12,
   "metadata": {
    "execution": {
     "iopub.execute_input": "2022-04-21T22:02:26.309554Z",
     "iopub.status.busy": "2022-04-21T22:02:26.309198Z",
     "iopub.status.idle": "2022-04-21T22:02:26.380592Z",
     "shell.execute_reply": "2022-04-21T22:02:26.379863Z",
     "shell.execute_reply.started": "2022-04-21T22:02:26.309499Z"
    },
    "tags": []
   },
   "outputs": [
    {
     "data": {
      "text/html": [
       "<div>\n",
       "<style scoped>\n",
       "    .dataframe tbody tr th:only-of-type {\n",
       "        vertical-align: middle;\n",
       "    }\n",
       "\n",
       "    .dataframe tbody tr th {\n",
       "        vertical-align: top;\n",
       "    }\n",
       "\n",
       "    .dataframe thead th {\n",
       "        text-align: right;\n",
       "    }\n",
       "</style>\n",
       "<table border=\"1\" class=\"dataframe\">\n",
       "  <thead>\n",
       "    <tr style=\"text-align: right;\">\n",
       "      <th></th>\n",
       "      <th>keywords</th>\n",
       "      <th>phrases</th>\n",
       "      <th>descriptions</th>\n",
       "      <th>names</th>\n",
       "    </tr>\n",
       "  </thead>\n",
       "  <tbody>\n",
       "    <tr>\n",
       "      <th>273147906</th>\n",
       "      <td>[{'locale': 'ru', 'value': 'велосипед парковка...</td>\n",
       "      <td>[{'locale': 'de', 'value': 'Parkplatz für Fahr...</td>\n",
       "      <td>[{'value': {'locale': 'tr', 'value': 'Bisiklet...</td>\n",
       "      <td>[{'locale': 'en', 'value': 'Bicycle stand'}, {...</td>\n",
       "    </tr>\n",
       "    <tr>\n",
       "      <th>30723</th>\n",
       "      <td>[{'locale': 'tr', 'value': 'liseler, ortaokul,...</td>\n",
       "      <td>[{'locale': 'de', 'value': 'Bildungseinrichtun...</td>\n",
       "      <td>[{'value': {'locale': 'tr', 'value': 'Çocuklar...</td>\n",
       "      <td>[{'locale': 'de', 'value': 'Allgemeinbildende ...</td>\n",
       "    </tr>\n",
       "    <tr>\n",
       "      <th>30724</th>\n",
       "      <td>[{'locale': 'tr', 'value': 'arastırma, bilim, ...</td>\n",
       "      <td>[{'locale': 'tr', 'value': 'Bilim Arastırma En...</td>\n",
       "      <td>[{'value': {'locale': 'tr', 'value': 'Bilim ar...</td>\n",
       "      <td>[{'locale': 'tr', 'value': 'Bilim Araştırma En...</td>\n",
       "    </tr>\n",
       "    <tr>\n",
       "      <th>30725</th>\n",
       "      <td>[{'locale': 'tr', 'value': 'eğitim kontrol'}]</td>\n",
       "      <td>[{'locale': 'en', 'value': 'Board of Education...</td>\n",
       "      <td>[{'value': {'locale': 'tr', 'value': 'Eğitim k...</td>\n",
       "      <td>[{'locale': 'it', 'value': 'Amministrazione de...</td>\n",
       "    </tr>\n",
       "    <tr>\n",
       "      <th>30731</th>\n",
       "      <td>[{'locale': 'ru', 'value': 'Новые технологии -...</td>\n",
       "      <td>[{'locale': 'en', 'value': 'implementation of ...</td>\n",
       "      <td>[{'value': {'locale': 'tr', 'value': 'Nanotekn...</td>\n",
       "      <td>[{'locale': 'de', 'value': 'Innovative Technol...</td>\n",
       "    </tr>\n",
       "  </tbody>\n",
       "</table>\n",
       "</div>"
      ],
      "text/plain": [
       "                                                    keywords  \\\n",
       "273147906  [{'locale': 'ru', 'value': 'велосипед парковка...   \n",
       "30723      [{'locale': 'tr', 'value': 'liseler, ortaokul,...   \n",
       "30724      [{'locale': 'tr', 'value': 'arastırma, bilim, ...   \n",
       "30725          [{'locale': 'tr', 'value': 'eğitim kontrol'}]   \n",
       "30731      [{'locale': 'ru', 'value': 'Новые технологии -...   \n",
       "\n",
       "                                                     phrases  \\\n",
       "273147906  [{'locale': 'de', 'value': 'Parkplatz für Fahr...   \n",
       "30723      [{'locale': 'de', 'value': 'Bildungseinrichtun...   \n",
       "30724      [{'locale': 'tr', 'value': 'Bilim Arastırma En...   \n",
       "30725      [{'locale': 'en', 'value': 'Board of Education...   \n",
       "30731      [{'locale': 'en', 'value': 'implementation of ...   \n",
       "\n",
       "                                                descriptions  \\\n",
       "273147906  [{'value': {'locale': 'tr', 'value': 'Bisiklet...   \n",
       "30723      [{'value': {'locale': 'tr', 'value': 'Çocuklar...   \n",
       "30724      [{'value': {'locale': 'tr', 'value': 'Bilim ar...   \n",
       "30725      [{'value': {'locale': 'tr', 'value': 'Eğitim k...   \n",
       "30731      [{'value': {'locale': 'tr', 'value': 'Nanotekn...   \n",
       "\n",
       "                                                       names  \n",
       "273147906  [{'locale': 'en', 'value': 'Bicycle stand'}, {...  \n",
       "30723      [{'locale': 'de', 'value': 'Allgemeinbildende ...  \n",
       "30724      [{'locale': 'tr', 'value': 'Bilim Araştırma En...  \n",
       "30725      [{'locale': 'it', 'value': 'Amministrazione de...  \n",
       "30731      [{'locale': 'de', 'value': 'Innovative Technol...  "
      ]
     },
     "execution_count": 12,
     "metadata": {},
     "output_type": "execute_result"
    }
   ],
   "source": [
    "rubric_data.head()"
   ]
  },
  {
   "cell_type": "code",
   "execution_count": 13,
   "metadata": {
    "execution": {
     "iopub.execute_input": "2022-04-21T22:02:26.381738Z",
     "iopub.status.busy": "2022-04-21T22:02:26.381501Z",
     "iopub.status.idle": "2022-04-21T22:02:27.835569Z",
     "shell.execute_reply": "2022-04-21T22:02:27.834546Z",
     "shell.execute_reply.started": "2022-04-21T22:02:26.381706Z"
    },
    "tags": []
   },
   "outputs": [],
   "source": [
    "with open('./2021_sem3_lab_04_part_01_ranking_data/train_org_information/train_org_information.json', 'r') as read_file:\n",
    "    train_org_json = json.load(read_file)"
   ]
  },
  {
   "cell_type": "code",
   "execution_count": 14,
   "metadata": {
    "execution": {
     "iopub.execute_input": "2022-04-21T22:02:27.836854Z",
     "iopub.status.busy": "2022-04-21T22:02:27.836649Z",
     "iopub.status.idle": "2022-04-21T22:02:27.942063Z",
     "shell.execute_reply": "2022-04-21T22:02:27.941084Z",
     "shell.execute_reply.started": "2022-04-21T22:02:27.836819Z"
    },
    "tags": []
   },
   "outputs": [],
   "source": [
    "with open('./2021_sem3_lab_04_part_01_ranking_data/train_rubric_information/train_rubric_information.json') as read_file:\n",
    "    train_rubric_json = json.load(read_file)"
   ]
  },
  {
   "cell_type": "code",
   "execution_count": 111,
   "metadata": {
    "execution": {
     "iopub.execute_input": "2022-04-22T08:00:07.802476Z",
     "iopub.status.busy": "2022-04-22T08:00:07.802288Z",
     "iopub.status.idle": "2022-04-22T08:00:07.819946Z",
     "shell.execute_reply": "2022-04-22T08:00:07.818657Z",
     "shell.execute_reply.started": "2022-04-22T08:00:07.802443Z"
    },
    "tags": []
   },
   "outputs": [],
   "source": [
    "def get_words_from_phrase(x) -> str:\n",
    "    return re.sub(r\"[^A-Za-zА-Яа-я]+\", ' ', x).lower().split()\n",
    "\n",
    "def get_intersection_words_count(x) -> int:\n",
    "    return len(set(get_words_from_phrase(x[0])) & set(get_words_from_phrase(x[1])))\n",
    "\n",
    "def get_synonymous_names_count(x) -> int:\n",
    "    node = train_org_json.get(str(x))\n",
    "\n",
    "    return len(node[\"names\"]) if node is not None else 0\n",
    "\n",
    "def get_encoded_langs():\n",
    "    langs = train_data['query'].apply(lambda x: langdetect.detect(x))\n",
    "    sortedLangs = [lang for lang, _ in Counter(langs).most_common()]\n",
    "    langsEncoder = OneHotEncoder(sparse=False).fit(langs.values.reshape(-1,1))\n",
    "    encodedLangs = langsEncoder.transform(langs.values.reshape(-1,1))\n",
    "    langsIdx = [np.where(langsEncoder.categories_[0] == lang)[0][0] for lang in sortedLangs[:10]]\n",
    "    \n",
    "    newEncodedLangs = np.zeros((encodedLangs.shape[0], 11))\n",
    "    for i, idx in enumerate(langsIdx):\n",
    "        newEncodedLangs[:, i] = encodedLangs[:, idx]\n",
    "    for row in newEncodedLangs:\n",
    "        if row.sum() == 0:\n",
    "            row[-1] = 1\n",
    "    return newEncodedLangs\n",
    "\n",
    "def get_rubrics_count(x) -> int:\n",
    "    node = train_org_json.get(str(x))\n",
    "    return len(node[\"rubrics\"]) if node is not None else 0\n",
    "\n",
    "def get_work_time(x) -> int:\n",
    "    node = train_org_json.get(str(x))\n",
    "    if node is not None:\n",
    "        work_interval_sum = 0\n",
    "        for work_interval in node[\"work_intervals\"]:\n",
    "            work_interval_sum += work_interval[\"time_minutes_end\"] - work_interval[\"time_minutes_begin\"]\n",
    "        if len(node[\"work_intervals\"]) != 0:\n",
    "            return work_interval_sum / len(node[\"work_intervals\"])\n",
    "    return 0\n",
    "\n",
    "def get_days_count(x):\n",
    "    node = train_org_json.get(str(x))\n",
    "    if node is not None:\n",
    "        daysCount = 0\n",
    "        for work_interval in node[\"work_intervals\"]:\n",
    "            day = work_interval[\"day\"]\n",
    "            if day == \"everyday\":\n",
    "                daysCount = max(daysCount, 7)\n",
    "            elif day == \"weekdays\":\n",
    "                daysCount = max(daysCount, 5)\n",
    "            elif day == \"weekend\":\n",
    "                daysCount = max(daysCount, 2)\n",
    "            elif day in [\"monday\", \"tuesday\", \"wednesday\", \"thursday\", \"friday\", \"saturday\", \"sunday\"]:\n",
    "                daysCount = 1\n",
    "            else:\n",
    "                daysCount = 0\n",
    "        return daysCount\n",
    "    return 0\n",
    "\n",
    "def get_region_code(x) -> str:\n",
    "    node = train_org_json.get(str(x))\n",
    "\n",
    "    return node[\"address\"][\"region_code\"] if node is not None else 0\n",
    "\n",
    "def get_encoded_region_code():\n",
    "    region_codes = train_data[\"org_id\"].apply(get_region_code).values\n",
    "    sorted_region_codes = [code for code, _ in Counter(region_codes).most_common()[:10]]\n",
    "    codesEncoder = OneHotEncoder(sparse=False).fit(region_codes.reshape(-1,1))\n",
    "    encodedCodes = codesEncoder.transform(region_codes.reshape(-1,1))\n",
    "    codesIdx = [np.where(codesEncoder.categories_[0] == code)[0][0] for code in sorted_region_codes[:10]]\n",
    "    \n",
    "    new_encoded_codes = np.zeros((encodedCodes.shape[0], 11))\n",
    "    for i, idx in enumerate(codesIdx):\n",
    "        new_encoded_codes[:, i] = encodedCodes[:, idx]\n",
    "        \n",
    "    for row in new_encoded_codes:\n",
    "        if row.sum() == 0:\n",
    "            row[-1] = 1\n",
    "            \n",
    "    return new_encoded_codes"
   ]
  },
  {
   "cell_type": "code",
   "execution_count": 112,
   "metadata": {
    "execution": {
     "iopub.execute_input": "2022-04-22T08:00:07.822306Z",
     "iopub.status.busy": "2022-04-22T08:00:07.822026Z",
     "iopub.status.idle": "2022-04-22T08:00:08.634666Z",
     "shell.execute_reply": "2022-04-22T08:00:08.633574Z",
     "shell.execute_reply.started": "2022-04-22T08:00:07.822276Z"
    },
    "tags": []
   },
   "outputs": [],
   "source": [
    "df = pd.DataFrame()\n",
    "\n",
    "df['query_id'] = train_data['query_id']\n",
    "df['query_words_count'] = train_data['query'].apply(lambda query: len(get_words_from_phrase(query)))\n",
    "df['org_name_words_count'] = train_data['org_name'].apply(lambda name: len(get_words_from_phrase(name)))\n",
    "df['intersection_words_count'] = train_data[['query', 'org_name']].apply(get_intersection_words_count, axis=1)\n",
    "df['jaccard_score'] = df['intersection_words_count'] / (df['query_words_count'] + df['org_name_words_count'] - df['intersection_words_count'])\n",
    "df['synonymous_names_count'] = train_data['org_id'].apply(get_synonymous_names_count)\n",
    "df['rubrics_count'] = train_data['org_id'].apply(get_rubrics_count)\n",
    "df['worktime'] = train_data['org_id'].apply(get_work_time)\n",
    "df['workdays_count'] = train_data['org_id'].apply(get_days_count)\n",
    "df[\"relevance\"] = train_data[\"relevance\"]"
   ]
  },
  {
   "cell_type": "code",
   "execution_count": 113,
   "metadata": {
    "execution": {
     "iopub.execute_input": "2022-04-22T08:00:08.635986Z",
     "iopub.status.busy": "2022-04-22T08:00:08.635694Z",
     "iopub.status.idle": "2022-04-22T08:00:08.651303Z",
     "shell.execute_reply": "2022-04-22T08:00:08.650222Z",
     "shell.execute_reply.started": "2022-04-22T08:00:08.635948Z"
    },
    "tags": []
   },
   "outputs": [
    {
     "data": {
      "text/html": [
       "<div>\n",
       "<style scoped>\n",
       "    .dataframe tbody tr th:only-of-type {\n",
       "        vertical-align: middle;\n",
       "    }\n",
       "\n",
       "    .dataframe tbody tr th {\n",
       "        vertical-align: top;\n",
       "    }\n",
       "\n",
       "    .dataframe thead th {\n",
       "        text-align: right;\n",
       "    }\n",
       "</style>\n",
       "<table border=\"1\" class=\"dataframe\">\n",
       "  <thead>\n",
       "    <tr style=\"text-align: right;\">\n",
       "      <th></th>\n",
       "      <th>query_id</th>\n",
       "      <th>query_words_count</th>\n",
       "      <th>org_name_words_count</th>\n",
       "      <th>intersection_words_count</th>\n",
       "      <th>jaccard_score</th>\n",
       "      <th>synonymous_names_count</th>\n",
       "      <th>rubrics_count</th>\n",
       "      <th>worktime</th>\n",
       "      <th>workdays_count</th>\n",
       "      <th>relevance</th>\n",
       "    </tr>\n",
       "  </thead>\n",
       "  <tbody>\n",
       "    <tr>\n",
       "      <th>0</th>\n",
       "      <td>11</td>\n",
       "      <td>7</td>\n",
       "      <td>7</td>\n",
       "      <td>1</td>\n",
       "      <td>0.076923</td>\n",
       "      <td>5</td>\n",
       "      <td>1</td>\n",
       "      <td>240.0</td>\n",
       "      <td>1</td>\n",
       "      <td>0.0</td>\n",
       "    </tr>\n",
       "    <tr>\n",
       "      <th>1</th>\n",
       "      <td>11</td>\n",
       "      <td>7</td>\n",
       "      <td>7</td>\n",
       "      <td>1</td>\n",
       "      <td>0.076923</td>\n",
       "      <td>5</td>\n",
       "      <td>1</td>\n",
       "      <td>540.0</td>\n",
       "      <td>5</td>\n",
       "      <td>0.0</td>\n",
       "    </tr>\n",
       "    <tr>\n",
       "      <th>2</th>\n",
       "      <td>11</td>\n",
       "      <td>7</td>\n",
       "      <td>4</td>\n",
       "      <td>1</td>\n",
       "      <td>0.100000</td>\n",
       "      <td>7</td>\n",
       "      <td>1</td>\n",
       "      <td>480.0</td>\n",
       "      <td>5</td>\n",
       "      <td>0.0</td>\n",
       "    </tr>\n",
       "    <tr>\n",
       "      <th>3</th>\n",
       "      <td>11</td>\n",
       "      <td>7</td>\n",
       "      <td>4</td>\n",
       "      <td>1</td>\n",
       "      <td>0.100000</td>\n",
       "      <td>7</td>\n",
       "      <td>1</td>\n",
       "      <td>240.0</td>\n",
       "      <td>1</td>\n",
       "      <td>0.0</td>\n",
       "    </tr>\n",
       "    <tr>\n",
       "      <th>4</th>\n",
       "      <td>11</td>\n",
       "      <td>7</td>\n",
       "      <td>2</td>\n",
       "      <td>1</td>\n",
       "      <td>0.125000</td>\n",
       "      <td>3</td>\n",
       "      <td>1</td>\n",
       "      <td>540.0</td>\n",
       "      <td>5</td>\n",
       "      <td>0.0</td>\n",
       "    </tr>\n",
       "  </tbody>\n",
       "</table>\n",
       "</div>"
      ],
      "text/plain": [
       "   query_id  query_words_count  org_name_words_count  \\\n",
       "0        11                  7                     7   \n",
       "1        11                  7                     7   \n",
       "2        11                  7                     4   \n",
       "3        11                  7                     4   \n",
       "4        11                  7                     2   \n",
       "\n",
       "   intersection_words_count  jaccard_score  synonymous_names_count  \\\n",
       "0                         1       0.076923                       5   \n",
       "1                         1       0.076923                       5   \n",
       "2                         1       0.100000                       7   \n",
       "3                         1       0.100000                       7   \n",
       "4                         1       0.125000                       3   \n",
       "\n",
       "   rubrics_count  worktime  workdays_count  relevance  \n",
       "0              1     240.0               1        0.0  \n",
       "1              1     540.0               5        0.0  \n",
       "2              1     480.0               5        0.0  \n",
       "3              1     240.0               1        0.0  \n",
       "4              1     540.0               5        0.0  "
      ]
     },
     "execution_count": 113,
     "metadata": {},
     "output_type": "execute_result"
    }
   ],
   "source": [
    "df.head()"
   ]
  },
  {
   "cell_type": "markdown",
   "metadata": {},
   "source": [
    "## Ранжирование\n",
    "\n",
    "![](http://i.imgur.com/2QnD2nF.jpg)\n",
    "\n",
    "Задачу поискового ранжирования можно описать следующим образом: имеется множество документов $d \\in D$ и множество запросов $q \\in Q$. Требуется оценить *степень релевантности* документа по отношению к запросу: $(q, d) \\mapsto r$, относительно которой будет производиться ранжирование. Для восстановления этой зависимости используются методы машинного обучения. Обычно используется три типа:\n",
    " - признаки запроса $q$, например: мешок слов текста запроса, его длина, ...\n",
    " - документа $d$, например: значение PageRank, мешок слов, доменное имя, ...\n",
    " - пары $(q, d)$, например: число вхождений фразы из запроса $q$ в документе $d$, ...\n",
    "\n",
    "Одна из отличительных особенностей задачи ранжирования от классических задач машинного обучения заключается в том, что качество результата зависит не от предсказанных оценок релевантности, а от порядка следования документов в рамках конкретного запроса, т.е. важно не абсолютное значение релевантности (его достаточно трудно формализовать в виде числа), а то, более или менее релевантен документ, относительно других документов.\n",
    "### Подходы к решению задачи ранжирования\n",
    "Существуют 3 основных подхода, различие между которыми в используемой функции потерь:\n",
    "  \n",
    "1. **Pointwise подход**. В этом случае рассматривается *один объект* (в случае поискового ранжирования - конкретный документ) и функция потерь считается только по нему. Любой стандартный классификатор или регрессор может решать pointwise задачу ранжирования, обучившись предсказывать значение таргета. Итоговое ранжирование получается после сортировки документов к одному запросу по предсказанию такой модели.\n",
    "2. **Pairwise подход**. В рамках данной модели функция потерь вычисляется по *паре объектов*. Другими словами, функция потерь штрафует модель, если отражированная этой моделью пара документов оказалась в неправильном порядке.\n",
    "3. **Listwise подход**. Этот подход использует все объекты для вычисления функции потерь, стараясь явно оптимизировать правильный порядок.\n",
    "\n",
    "### Оценка качества\n",
    "\n",
    "Для оценивания качества ранжирования найденных документов в поиске используются асессорские оценки. Само оценивание происходит на скрытых от обучения запросах $Queries$. Для этого традиционно используется метрика *DCG* ([Discounted Cumulative Gain](https://en.wikipedia.org/wiki/Discounted_cumulative_gain)) и ее нормализованный вариант — *nDCG*, всегда принимающий значения от 0 до 1.\n",
    "Для одного запроса DCG считается следующим образом:\n",
    "$$ DCG = \\sum_{i=1}^P\\frac{(2^{rel_i} - 1)}{\\log_2(i+1)}, $$\n",
    "\n",
    "где $P$ — число документов в поисковой выдаче, $rel_i$ — релевантность (асессорская оценка) документа, находящегося на i-той позиции.\n",
    "\n",
    "*IDCG* — идеальное (наибольшее из возможных) значение *DCG*, может быть получено путем ранжирования документов по убыванию асессорских оценок.\n",
    "\n",
    "Итоговая формула для расчета *nDCG*:\n",
    "\n",
    "$$nDCG = \\frac{DCG}{IDCG} \\in [0, 1].$$\n",
    "\n",
    "Чтобы оценить значение *nDCG* на выборке $Queries$ ($nDCG_{Queries}$) размера $N$, необходимо усреднить значение *nDCG* по всем запросам  выборки:\n",
    "$$nDCG_{Queries} = \\frac{1}{N}\\sum_{q \\in Queries}nDCG(q).$$\n",
    "\n",
    "Пример реализации метрик ранжирование на python можно найти [здесь](https://gist.github.com/mblondel/7337391)."
   ]
  },
  {
   "cell_type": "markdown",
   "metadata": {},
   "source": [
    "gssВ рамках нашей задачи «документом» будет являться организация.\n",
    "\n",
    "Разбейте обучающую выборку на обучение и контроль в соотношении 70 / 30. Обратите внимание, что разбивать необходимо множество запросов, а не строчки датасета."
   ]
  },
  {
   "cell_type": "code",
   "execution_count": 18,
   "metadata": {
    "execution": {
     "iopub.execute_input": "2022-04-21T22:02:28.826054Z",
     "iopub.status.busy": "2022-04-21T22:02:28.825868Z",
     "iopub.status.idle": "2022-04-21T22:02:28.859210Z",
     "shell.execute_reply": "2022-04-21T22:02:28.858582Z",
     "shell.execute_reply.started": "2022-04-21T22:02:28.826022Z"
    },
    "tags": []
   },
   "outputs": [],
   "source": [
    "from sklearn.model_selection import GroupShuffleSplit\n",
    "\n",
    "gss = GroupShuffleSplit(test_size = .3, n_splits = 1).split(df, groups=df.query_id)\n",
    "X_train_inds, X_test_inds = next(gss)\n",
    "\n",
    "new_train_data = df.iloc[X_train_inds]\n",
    "X_train = new_train_data.loc[:, ~new_train_data.columns.isin(['relevance'])]\n",
    "y_train = new_train_data.loc[:, new_train_data.columns.isin(['query_id', 'relevance'])]\n",
    "\n",
    "groups = train_data.groupby('query_id').size().to_frame('size')['size']\n",
    "\n",
    "new_test_data = df.iloc[X_test_inds]\n",
    "\n",
    "X_test = new_test_data.loc[:, ~new_test_data.columns.isin(['relevance'])]\n",
    "y_test = new_test_data.loc[:, new_test_data.columns.isin(['query_id', 'relevance'])]"
   ]
  },
  {
   "cell_type": "code",
   "execution_count": 19,
   "metadata": {
    "execution": {
     "iopub.execute_input": "2022-04-21T22:02:28.860217Z",
     "iopub.status.busy": "2022-04-21T22:02:28.860032Z",
     "iopub.status.idle": "2022-04-21T22:02:28.866375Z",
     "shell.execute_reply": "2022-04-21T22:02:28.865674Z",
     "shell.execute_reply.started": "2022-04-21T22:02:28.860178Z"
    },
    "tags": []
   },
   "outputs": [
    {
     "data": {
      "text/plain": [
       "array([    0,     1,     2, ..., 29257, 29258, 29259])"
      ]
     },
     "execution_count": 19,
     "metadata": {},
     "output_type": "execute_result"
    }
   ],
   "source": [
    "X_train_inds"
   ]
  },
  {
   "cell_type": "markdown",
   "metadata": {},
   "source": [
    "Далее рассмотрим несколько подходов предсказания релевантности. Для оценивания качества моделей используйте метрику nDCG на контроле. В случае подбора гиперпараметров используйте кросс-валидацию по 5 блокам, где разбиение должно быть по запросам, а не строчкам датасета."
   ]
  },
  {
   "cell_type": "markdown",
   "metadata": {},
   "source": [
    "###  Ранжируем с XGBoost и CatBoost\n",
    "\n",
    "XGBoost имеет несколько функций потерь для решения задачи ранжирования:\n",
    "1. **reg:linear** — данную функцию потерь можно использовать для решения задачи ранжирование *pointwise* подходом.\n",
    "2. **rank:pairwise** — в качестве *pairwise* модели в XGBoost реализован [RankNet](http://icml.cc/2015/wp-content/uploads/2015/06/icml_ranking.pdf), в котором минимизируется гладкий функционал качества ранжирования: $$ Obj = \\sum_{i \\prec j} \\mathcal{L}\\left(a(x_j) - a(x_i)\\right) \\rightarrow min $$ $$ \\mathcal{L}(M) = log(1 + e^{-M}), $$ где $ a(x) $ - функция ранжирования. Суммирование ведется по всем парам объектов, для которых определено отношение порядка, например, для пар документов, показанных по одному запросу. Таким образом функция потерь штрафует за то, что пара объектов неправильно упорядочена.\n",
    "3. **rank:map, rank:ndcg** — реализация [LambdaRank](https://www.microsoft.com/en-us/research/wp-content/uploads/2016/02/MSR-TR-2010-82.pdf) для двух метрик: [MAP](https://en.wikipedia.org/wiki/Information_retrieval#Mean_average_precision) и **nDCG**. Известно, что для того, чтобы оптимизировать негладкий функционал, такой как **nDCG**,  нужно домножить градиент функционала $ Obj(a) $ на значение $\\Delta NDCG_{ij} $ — изменение значения функционала качества при замене $x_i$ на $ x_j$.  Поскольку для вычисления метрик необходимы все объекты выборки, то эти две ранжирующие функции потерь являются представителями класса *listwise* моделей."
   ]
  },
  {
   "cell_type": "markdown",
   "metadata": {},
   "source": [
    "Реализованные в CatBoost ранжирующие функции потерь можной найти [здесь](https://catboost.ai/docs/concepts/loss-functions-ranking.html#groupwise-metrics)."
   ]
  },
  {
   "cell_type": "code",
   "execution_count": 20,
   "metadata": {
    "execution": {
     "iopub.execute_input": "2022-04-21T22:02:28.867650Z",
     "iopub.status.busy": "2022-04-21T22:02:28.867417Z",
     "iopub.status.idle": "2022-04-21T22:02:28.875490Z",
     "shell.execute_reply": "2022-04-21T22:02:28.874519Z",
     "shell.execute_reply.started": "2022-04-21T22:02:28.867622Z"
    },
    "tags": []
   },
   "outputs": [],
   "source": [
    "def get_fold_indexes(train_data, n_folds=5):\n",
    "    val_gss = GroupShuffleSplit(n_splits=n_folds, test_size=0.2, random_state=457)\n",
    "\n",
    "    fold_indexes = []\n",
    "    for train_idx, test_idx in val_gss.split(train_data, groups=train_data['query_id']):\n",
    "        fold_indexes.append({'train_idx': train_idx, 'test_idx': test_idx})\n",
    "        \n",
    "    return fold_indexes\n",
    "\n",
    "def get_specify_fold(X, fold_indexes, fold_number):\n",
    "    X_val_train = X.iloc[fold_indexes[fold_number]['train_idx']].loc[:, ~X.columns.isin(['relevance'])]\n",
    "    y_val_train = X.iloc[fold_indexes[fold_number]['train_idx']].loc[:, X.columns.isin(['query_id','relevance'])]\n",
    "    \n",
    "    X_val_test = X.iloc[fold_indexes[fold_number]['test_idx']].loc[:, ~X.columns.isin(['relevance'])]\n",
    "    y_val_test = X.iloc[fold_indexes[fold_number]['test_idx']].loc[:, X.columns.isin(['query_id','relevance'])]\n",
    "    return (X_val_train, y_val_train), (X_val_test, y_val_test)"
   ]
  },
  {
   "cell_type": "code",
   "execution_count": 114,
   "metadata": {
    "execution": {
     "iopub.execute_input": "2022-04-22T08:30:48.560320Z",
     "iopub.status.busy": "2022-04-22T08:30:48.559854Z",
     "iopub.status.idle": "2022-04-22T08:30:48.569399Z",
     "shell.execute_reply": "2022-04-22T08:30:48.568196Z",
     "shell.execute_reply.started": "2022-04-22T08:30:48.560264Z"
    },
    "tags": []
   },
   "outputs": [],
   "source": [
    "def DCG(y_true, y_pred, k = 10):\n",
    "    \n",
    "    order = np.argsort(y_pred)[::-1]\n",
    "    y_true = np.take(y_true, order[:k])\n",
    "    gains = 2 ** y_true - 1\n",
    "    discounts = np.log2(np.arange(len(y_true)) + 2) + 1e-6\n",
    "    return np.sum(gains / discounts)\n",
    "\n",
    "def nDCG(y_true, y_pred, k=10):\n",
    "    \n",
    "    best = DCG(y_true, y_true, k) + 1e-6\n",
    "    actual = DCG(y_true, y_pred, k)\n",
    "    return actual / best\n",
    "\n",
    "def nDCG_query(y_true_group, y_pred_group):\n",
    "    return np.mean([nDCG(y_true_group[query_id], y_pred_group[query_id]) for query_id in y_pred_group.index.values])\n"
   ]
  },
  {
   "cell_type": "code",
   "execution_count": 115,
   "metadata": {
    "execution": {
     "iopub.execute_input": "2022-04-22T08:30:50.483686Z",
     "iopub.status.busy": "2022-04-22T08:30:50.483497Z",
     "iopub.status.idle": "2022-04-22T08:30:50.489080Z",
     "shell.execute_reply": "2022-04-22T08:30:50.487964Z",
     "shell.execute_reply.started": "2022-04-22T08:30:50.483653Z"
    },
    "tags": []
   },
   "outputs": [],
   "source": [
    "def predict(model, df):\n",
    "    return model.predict(df.loc[:, ~df.columns.isin(['query_id'])])"
   ]
  },
  {
   "cell_type": "code",
   "execution_count": 116,
   "metadata": {
    "execution": {
     "iopub.execute_input": "2022-04-22T08:30:58.078003Z",
     "iopub.status.busy": "2022-04-22T08:30:58.077670Z",
     "iopub.status.idle": "2022-04-22T08:30:58.087733Z",
     "shell.execute_reply": "2022-04-22T08:30:58.086527Z",
     "shell.execute_reply.started": "2022-04-22T08:30:58.077950Z"
    },
    "tags": []
   },
   "outputs": [],
   "source": [
    "import catboost\n",
    "\n",
    "def cross_val_scores(model, new_train_data, n_folds=5, is_grouping=False, is_catboost=False):\n",
    "    ndcg_score = []\n",
    "    fold_train_indexes = get_fold_indexes(new_train_data)\n",
    "    for i in range(n_folds):\n",
    "        (X_val_train, y_val_train), (X_val_test, y_val_test) = get_specify_fold(new_train_data, fold_train_indexes, i)\n",
    "        \n",
    "        fit_parameters = {\n",
    "           'X': X_val_train.loc[:, ~X_val_train.columns.isin(['query_id'])], \n",
    "            'y': y_val_train.relevance,\n",
    "            'verbose': True\n",
    "        }\n",
    "    \n",
    "        if is_grouping:\n",
    "            fit_parameters['group'] = X_val_train.groupby('query_id').size().to_frame('size')['size'].to_numpy()\n",
    "            \n",
    "        if is_catboost:\n",
    "            fit_parameters['data'] = fit_parameters.pop('X')\n",
    "            fit_parameters['label'] = fit_parameters.pop('y')\n",
    "            fit_parameters['group_id'] = X_val_train['query_id']\n",
    "            del fit_parameters['verbose']\n",
    "        \n",
    "            train = catboost.Pool(**fit_parameters)\n",
    "            model.fit(train, silent=True)\n",
    "        else:\n",
    "            model.fit(**fit_parameters)\n",
    "\n",
    "        predictions = (X_val_test.groupby('query_id').apply(lambda x: predict(model, x)))\n",
    "        ndcg_score.append(nDCG_query(y_val_test.groupby('query_id').apply(lambda x: list(x.relevance)), predictions))\n",
    "    return ndcg_score"
   ]
  },
  {
   "cell_type": "code",
   "execution_count": 117,
   "metadata": {
    "execution": {
     "iopub.execute_input": "2022-04-22T08:31:00.043663Z",
     "iopub.status.busy": "2022-04-22T08:31:00.043428Z",
     "iopub.status.idle": "2022-04-22T08:31:00.064574Z",
     "shell.execute_reply": "2022-04-22T08:31:00.063631Z",
     "shell.execute_reply.started": "2022-04-22T08:31:00.043632Z"
    },
    "tags": []
   },
   "outputs": [],
   "source": [
    "fold_train_indexes = get_fold_indexes(new_train_data)\n",
    "(X_val_0, y_val_0), (X_val_1, y_val_1) = get_specify_fold(new_train_data, fold_train_indexes, 0)\n",
    "\n"
   ]
  },
  {
   "cell_type": "markdown",
   "metadata": {},
   "source": [
    "**(3 балла) Задание 2.** Попробуйте различные функции потерь (регрессионные и ранжирующие) для моделей XGBoost и CatBoost. Настройте основные параметры моделей (глубина, кол-во деревьев, глубина, скорость обучения, регуляризация).  \n",
    "Сравните построенные модели с точки зрения метрики nDCG на контроле и проанализируйте полученные результаты:\n",
    "  - какая модель работает лучше всего для данной задачи? \n",
    "  - в чем достоинства/недостатки каждой? \n",
    "  - сравните модели между собой: \n",
    "   - получается ли сравнимое качество линейного pointwise подхода с остальными моделями? \n",
    "   - заметна ли разница в качестве при использовании бустинга с разными функциями потерь?"
   ]
  },
  {
   "cell_type": "code",
   "execution_count": 119,
   "metadata": {
    "execution": {
     "iopub.execute_input": "2022-04-22T08:31:03.736727Z",
     "iopub.status.busy": "2022-04-22T08:31:03.736543Z",
     "iopub.status.idle": "2022-04-22T08:31:03.744500Z",
     "shell.execute_reply": "2022-04-22T08:31:03.743525Z",
     "shell.execute_reply.started": "2022-04-22T08:31:03.736693Z"
    },
    "tags": []
   },
   "outputs": [],
   "source": [
    "import itertools\n",
    "from tqdm.auto import tqdm\n",
    "import random\n",
    "import copy\n",
    "\n",
    "def grid_search(model, hyper_parameters_grid, cross_val_scores_func):\n",
    "    results = pd.DataFrame()\n",
    "    full_parameters_grid = list(itertools.product(*hyper_parameters_grid.values()))\n",
    "    \n",
    "    print(f'full gridsearch len is {len(full_parameters_grid)}')\n",
    "    \n",
    "    if len(full_parameters_grid) > 100:\n",
    "        full_parameters_grid = random.sample(full_parameters_grid, 100)\n",
    "       \n",
    "    # тут надобы было распараллелеить ..\n",
    "    for curr_params in tqdm(full_parameters_grid, total=len(full_parameters_grid)):\n",
    "        current_parametrs = {list(hyper_parameters_grid.keys())[i]: param for i, param in enumerate(curr_params)}\n",
    "        \n",
    "        cur_model = copy.deepcopy(model)\n",
    "        cur_model.set_params(**current_parametrs)\n",
    "        current_metric = np.mean(cross_val_scores_func(cur_model, new_train_data))\n",
    "        current_parametrs['nDCDG_cv'] = current_metric\n",
    "\n",
    "        results = results.append(current_parametrs, ignore_index = True)    \n",
    "    \n",
    "    results.sort_values(\n",
    "        by=\"nDCDG_cv\",\n",
    "        inplace=True,\n",
    "        ascending=False\n",
    "    )\n",
    "     \n",
    "    return results\n",
    "    "
   ]
  },
  {
   "cell_type": "code",
   "execution_count": 120,
   "metadata": {
    "execution": {
     "iopub.execute_input": "2022-04-22T08:31:03.746570Z",
     "iopub.status.busy": "2022-04-22T08:31:03.746320Z",
     "iopub.status.idle": "2022-04-22T08:32:17.200301Z",
     "shell.execute_reply": "2022-04-22T08:32:17.199216Z",
     "shell.execute_reply.started": "2022-04-22T08:31:03.746519Z"
    },
    "tags": []
   },
   "outputs": [
    {
     "name": "stdout",
     "output_type": "stream",
     "text": [
      "full gridsearch len is 6\n"
     ]
    },
    {
     "data": {
      "application/vnd.jupyter.widget-view+json": {
       "model_id": "f405e12684504ee9a4713a638f5efec2",
       "version_major": 2,
       "version_minor": 0
      },
      "text/plain": [
       "  0%|          | 0/6 [00:00<?, ?it/s]"
      ]
     },
     "metadata": {},
     "output_type": "display_data"
    }
   ],
   "source": [
    "import xgboost as xgb\n",
    "\n",
    "model = xgb.XGBRegressor(\n",
    "                objective='reg:squarederror',\n",
    "                verbosity=0\n",
    "            )\n",
    "\n",
    "\n",
    "df = grid_search(model, {'max_depth' : range(1,4), 'learning_rate': [1e-3, 1e-2]}, cross_val_scores)"
   ]
  },
  {
   "cell_type": "code",
   "execution_count": 121,
   "metadata": {
    "execution": {
     "iopub.execute_input": "2022-04-22T08:32:17.203029Z",
     "iopub.status.busy": "2022-04-22T08:32:17.202388Z",
     "iopub.status.idle": "2022-04-22T08:32:17.219514Z",
     "shell.execute_reply": "2022-04-22T08:32:17.218294Z",
     "shell.execute_reply.started": "2022-04-22T08:32:17.202963Z"
    },
    "tags": []
   },
   "outputs": [
    {
     "data": {
      "text/html": [
       "<div>\n",
       "<style scoped>\n",
       "    .dataframe tbody tr th:only-of-type {\n",
       "        vertical-align: middle;\n",
       "    }\n",
       "\n",
       "    .dataframe tbody tr th {\n",
       "        vertical-align: top;\n",
       "    }\n",
       "\n",
       "    .dataframe thead th {\n",
       "        text-align: right;\n",
       "    }\n",
       "</style>\n",
       "<table border=\"1\" class=\"dataframe\">\n",
       "  <thead>\n",
       "    <tr style=\"text-align: right;\">\n",
       "      <th></th>\n",
       "      <th>learning_rate</th>\n",
       "      <th>max_depth</th>\n",
       "      <th>nDCDG_cv</th>\n",
       "    </tr>\n",
       "  </thead>\n",
       "  <tbody>\n",
       "    <tr>\n",
       "      <th>0</th>\n",
       "      <td>0.001</td>\n",
       "      <td>1.0</td>\n",
       "      <td>0.906752</td>\n",
       "    </tr>\n",
       "    <tr>\n",
       "      <th>1</th>\n",
       "      <td>0.010</td>\n",
       "      <td>1.0</td>\n",
       "      <td>0.906752</td>\n",
       "    </tr>\n",
       "    <tr>\n",
       "      <th>2</th>\n",
       "      <td>0.001</td>\n",
       "      <td>2.0</td>\n",
       "      <td>0.897273</td>\n",
       "    </tr>\n",
       "    <tr>\n",
       "      <th>4</th>\n",
       "      <td>0.001</td>\n",
       "      <td>3.0</td>\n",
       "      <td>0.852851</td>\n",
       "    </tr>\n",
       "    <tr>\n",
       "      <th>3</th>\n",
       "      <td>0.010</td>\n",
       "      <td>2.0</td>\n",
       "      <td>0.846812</td>\n",
       "    </tr>\n",
       "    <tr>\n",
       "      <th>5</th>\n",
       "      <td>0.010</td>\n",
       "      <td>3.0</td>\n",
       "      <td>0.794008</td>\n",
       "    </tr>\n",
       "  </tbody>\n",
       "</table>\n",
       "</div>"
      ],
      "text/plain": [
       "   learning_rate  max_depth  nDCDG_cv\n",
       "0          0.001        1.0  0.906752\n",
       "1          0.010        1.0  0.906752\n",
       "2          0.001        2.0  0.897273\n",
       "4          0.001        3.0  0.852851\n",
       "3          0.010        2.0  0.846812\n",
       "5          0.010        3.0  0.794008"
      ]
     },
     "execution_count": 121,
     "metadata": {},
     "output_type": "execute_result"
    }
   ],
   "source": [
    "df"
   ]
  },
  {
   "cell_type": "markdown",
   "metadata": {
    "execution": {
     "iopub.execute_input": "2022-04-20T21:36:57.124718Z",
     "iopub.status.busy": "2022-04-20T21:36:57.124363Z",
     "iopub.status.idle": "2022-04-20T21:36:57.129681Z",
     "shell.execute_reply": "2022-04-20T21:36:57.128561Z",
     "shell.execute_reply.started": "2022-04-20T21:36:57.124676Z"
    }
   },
   "source": [
    "## xgboost"
   ]
  },
  {
   "cell_type": "code",
   "execution_count": null,
   "metadata": {
    "execution": {
     "iopub.status.busy": "2022-04-21T23:00:56.961979Z",
     "iopub.status.idle": "2022-04-21T23:00:56.962575Z",
     "shell.execute_reply": "2022-04-21T23:00:56.962324Z",
     "shell.execute_reply.started": "2022-04-21T23:00:56.962284Z"
    },
    "tags": []
   },
   "outputs": [],
   "source": [
    "import xgboost as xgb"
   ]
  },
  {
   "cell_type": "markdown",
   "metadata": {
    "execution": {
     "iopub.execute_input": "2022-04-20T21:31:58.006507Z",
     "iopub.status.busy": "2022-04-20T21:31:58.006224Z",
     "iopub.status.idle": "2022-04-20T21:31:58.011528Z",
     "shell.execute_reply": "2022-04-20T21:31:58.010508Z",
     "shell.execute_reply.started": "2022-04-20T21:31:58.006417Z"
    },
    "tags": []
   },
   "source": [
    "### reg:squarederror"
   ]
  },
  {
   "cell_type": "code",
   "execution_count": null,
   "metadata": {
    "execution": {
     "iopub.status.busy": "2022-04-21T23:00:56.964316Z",
     "iopub.status.idle": "2022-04-21T23:00:56.965239Z",
     "shell.execute_reply": "2022-04-21T23:00:56.964978Z",
     "shell.execute_reply.started": "2022-04-21T23:00:56.964938Z"
    },
    "tags": []
   },
   "outputs": [],
   "source": [
    "model = xgb.XGBRegressor(objective='reg:squarederror')\n",
    "model.fit(X_train.loc[:, ~X_train.columns.isin(['query_id'])], y_train.relevance, verbose=0)"
   ]
  },
  {
   "cell_type": "code",
   "execution_count": null,
   "metadata": {
    "execution": {
     "iopub.status.busy": "2022-04-21T23:00:56.967262Z",
     "iopub.status.idle": "2022-04-21T23:00:56.969657Z",
     "shell.execute_reply": "2022-04-21T23:00:56.969278Z",
     "shell.execute_reply.started": "2022-04-21T23:00:56.969232Z"
    },
    "tags": []
   },
   "outputs": [],
   "source": [
    "predictions = (X_test.groupby('query_id').apply(lambda x: predict(model, x)))"
   ]
  },
  {
   "cell_type": "code",
   "execution_count": 33,
   "metadata": {
    "execution": {
     "iopub.execute_input": "2022-04-21T22:03:06.521984Z",
     "iopub.status.busy": "2022-04-21T22:03:06.521068Z",
     "iopub.status.idle": "2022-04-21T22:03:06.699484Z",
     "shell.execute_reply": "2022-04-21T22:03:06.698613Z",
     "shell.execute_reply.started": "2022-04-21T22:03:06.521926Z"
    },
    "tags": []
   },
   "outputs": [
    {
     "data": {
      "text/plain": [
       "0.6670563883058807"
      ]
     },
     "execution_count": 33,
     "metadata": {},
     "output_type": "execute_result"
    }
   ],
   "source": [
    "nDCG_query(y_test.groupby('query_id').apply(lambda x: list(x.relevance)), predictions)"
   ]
  },
  {
   "cell_type": "code",
   "execution_count": 101,
   "metadata": {
    "execution": {
     "iopub.execute_input": "2022-04-21T23:01:09.963937Z",
     "iopub.status.busy": "2022-04-21T23:01:09.963583Z",
     "iopub.status.idle": "2022-04-21T23:20:07.708859Z",
     "shell.execute_reply": "2022-04-21T23:20:07.707889Z",
     "shell.execute_reply.started": "2022-04-21T23:01:09.963899Z"
    },
    "tags": []
   },
   "outputs": [
    {
     "name": "stdout",
     "output_type": "stream",
     "text": [
      "full gridsearch len is 500\n"
     ]
    },
    {
     "data": {
      "application/vnd.jupyter.widget-view+json": {
       "model_id": "ee2e9dc130e145618107c7f762910644",
       "version_major": 2,
       "version_minor": 0
      },
      "text/plain": [
       "  0%|          | 0/100 [00:00<?, ?it/s]"
      ]
     },
     "metadata": {},
     "output_type": "display_data"
    },
    {
     "data": {
      "text/html": [
       "<div>\n",
       "<style scoped>\n",
       "    .dataframe tbody tr th:only-of-type {\n",
       "        vertical-align: middle;\n",
       "    }\n",
       "\n",
       "    .dataframe tbody tr th {\n",
       "        vertical-align: top;\n",
       "    }\n",
       "\n",
       "    .dataframe thead th {\n",
       "        text-align: right;\n",
       "    }\n",
       "</style>\n",
       "<table border=\"1\" class=\"dataframe\">\n",
       "  <thead>\n",
       "    <tr style=\"text-align: right;\">\n",
       "      <th></th>\n",
       "      <th>learning_rate</th>\n",
       "      <th>max_depths</th>\n",
       "      <th>nDCDG_cv</th>\n",
       "      <th>n_estimators</th>\n",
       "      <th>reg_alpha</th>\n",
       "      <th>reg_lambda</th>\n",
       "    </tr>\n",
       "  </thead>\n",
       "  <tbody>\n",
       "    <tr>\n",
       "      <th>29</th>\n",
       "      <td>0.001</td>\n",
       "      <td>1.0</td>\n",
       "      <td>0.892627</td>\n",
       "      <td>50.0</td>\n",
       "      <td>1.0000</td>\n",
       "      <td>1.0000</td>\n",
       "    </tr>\n",
       "    <tr>\n",
       "      <th>46</th>\n",
       "      <td>0.001</td>\n",
       "      <td>1.0</td>\n",
       "      <td>0.886678</td>\n",
       "      <td>10.0</td>\n",
       "      <td>1.0000</td>\n",
       "      <td>0.0100</td>\n",
       "    </tr>\n",
       "    <tr>\n",
       "      <th>23</th>\n",
       "      <td>0.001</td>\n",
       "      <td>1.0</td>\n",
       "      <td>0.886678</td>\n",
       "      <td>10.0</td>\n",
       "      <td>1.0000</td>\n",
       "      <td>0.0001</td>\n",
       "    </tr>\n",
       "    <tr>\n",
       "      <th>32</th>\n",
       "      <td>0.001</td>\n",
       "      <td>1.0</td>\n",
       "      <td>0.885873</td>\n",
       "      <td>25.0</td>\n",
       "      <td>1.0000</td>\n",
       "      <td>0.0001</td>\n",
       "    </tr>\n",
       "    <tr>\n",
       "      <th>44</th>\n",
       "      <td>0.010</td>\n",
       "      <td>1.0</td>\n",
       "      <td>0.834622</td>\n",
       "      <td>50.0</td>\n",
       "      <td>1.0000</td>\n",
       "      <td>0.1000</td>\n",
       "    </tr>\n",
       "    <tr>\n",
       "      <th>81</th>\n",
       "      <td>0.010</td>\n",
       "      <td>1.0</td>\n",
       "      <td>0.828947</td>\n",
       "      <td>50.0</td>\n",
       "      <td>1.0000</td>\n",
       "      <td>0.0010</td>\n",
       "    </tr>\n",
       "    <tr>\n",
       "      <th>15</th>\n",
       "      <td>0.010</td>\n",
       "      <td>1.0</td>\n",
       "      <td>0.828702</td>\n",
       "      <td>50.0</td>\n",
       "      <td>1.0000</td>\n",
       "      <td>0.0100</td>\n",
       "    </tr>\n",
       "    <tr>\n",
       "      <th>52</th>\n",
       "      <td>0.010</td>\n",
       "      <td>1.0</td>\n",
       "      <td>0.825110</td>\n",
       "      <td>75.0</td>\n",
       "      <td>1.0000</td>\n",
       "      <td>0.1000</td>\n",
       "    </tr>\n",
       "    <tr>\n",
       "      <th>0</th>\n",
       "      <td>0.100</td>\n",
       "      <td>1.0</td>\n",
       "      <td>0.817744</td>\n",
       "      <td>10.0</td>\n",
       "      <td>1.0000</td>\n",
       "      <td>0.0100</td>\n",
       "    </tr>\n",
       "    <tr>\n",
       "      <th>61</th>\n",
       "      <td>0.001</td>\n",
       "      <td>1.0</td>\n",
       "      <td>0.816676</td>\n",
       "      <td>10.0</td>\n",
       "      <td>0.0001</td>\n",
       "      <td>1.0000</td>\n",
       "    </tr>\n",
       "  </tbody>\n",
       "</table>\n",
       "</div>"
      ],
      "text/plain": [
       "    learning_rate  max_depths  nDCDG_cv  n_estimators  reg_alpha  reg_lambda\n",
       "29          0.001         1.0  0.892627          50.0     1.0000      1.0000\n",
       "46          0.001         1.0  0.886678          10.0     1.0000      0.0100\n",
       "23          0.001         1.0  0.886678          10.0     1.0000      0.0001\n",
       "32          0.001         1.0  0.885873          25.0     1.0000      0.0001\n",
       "44          0.010         1.0  0.834622          50.0     1.0000      0.1000\n",
       "81          0.010         1.0  0.828947          50.0     1.0000      0.0010\n",
       "15          0.010         1.0  0.828702          50.0     1.0000      0.0100\n",
       "52          0.010         1.0  0.825110          75.0     1.0000      0.1000\n",
       "0           0.100         1.0  0.817744          10.0     1.0000      0.0100\n",
       "61          0.001         1.0  0.816676          10.0     0.0001      1.0000"
      ]
     },
     "execution_count": 101,
     "metadata": {},
     "output_type": "execute_result"
    }
   ],
   "source": [
    "params_grid = {\n",
    "    'max_depths': range(1, 2, 9),\n",
    "    'learning_rate': [1e-3, 1e-2, 1e-1, 1],\n",
    "    'n_estimators': [10, 25, 50, 75, 100],\n",
    "    'reg_alpha': [1e-4, 1e-3, 1e-2, 1e-1, 1],\n",
    "    'reg_lambda': [1e-4, 1e-3, 1e-2, 1e-1, 1]\n",
    "}\n",
    "\n",
    "\n",
    "model = xgb.XGBRegressor(\n",
    "            objective='reg:squarederror',\n",
    "            verbosity=0\n",
    ")\n",
    "\n",
    "grid_search(model, params_grid, cross_val_scores).head(10)"
   ]
  },
  {
   "cell_type": "markdown",
   "metadata": {
    "execution": {
     "iopub.status.busy": "2022-04-20T21:26:10.751529Z",
     "iopub.status.idle": "2022-04-20T21:26:10.751931Z",
     "shell.execute_reply": "2022-04-20T21:26:10.751776Z",
     "shell.execute_reply.started": "2022-04-20T21:26:10.751751Z"
    }
   },
   "source": [
    "### rank:pairwise\n",
    "\n"
   ]
  },
  {
   "cell_type": "code",
   "execution_count": 102,
   "metadata": {
    "execution": {
     "iopub.execute_input": "2022-04-21T23:20:09.580074Z",
     "iopub.status.busy": "2022-04-21T23:20:09.579821Z",
     "iopub.status.idle": "2022-04-21T23:38:00.768055Z",
     "shell.execute_reply": "2022-04-21T23:38:00.765063Z",
     "shell.execute_reply.started": "2022-04-21T23:20:09.580024Z"
    },
    "tags": []
   },
   "outputs": [
    {
     "name": "stdout",
     "output_type": "stream",
     "text": [
      "full gridsearch len is 500\n"
     ]
    },
    {
     "data": {
      "application/vnd.jupyter.widget-view+json": {
       "model_id": "78a4c860bd634d6db86256eef351c63e",
       "version_major": 2,
       "version_minor": 0
      },
      "text/plain": [
       "  0%|          | 0/100 [00:00<?, ?it/s]"
      ]
     },
     "metadata": {},
     "output_type": "display_data"
    },
    {
     "data": {
      "text/html": [
       "<div>\n",
       "<style scoped>\n",
       "    .dataframe tbody tr th:only-of-type {\n",
       "        vertical-align: middle;\n",
       "    }\n",
       "\n",
       "    .dataframe tbody tr th {\n",
       "        vertical-align: top;\n",
       "    }\n",
       "\n",
       "    .dataframe thead th {\n",
       "        text-align: right;\n",
       "    }\n",
       "</style>\n",
       "<table border=\"1\" class=\"dataframe\">\n",
       "  <thead>\n",
       "    <tr style=\"text-align: right;\">\n",
       "      <th></th>\n",
       "      <th>learning_rate</th>\n",
       "      <th>max_depths</th>\n",
       "      <th>nDCDG_cv</th>\n",
       "      <th>n_estimators</th>\n",
       "      <th>reg_alpha</th>\n",
       "      <th>reg_lambda</th>\n",
       "    </tr>\n",
       "  </thead>\n",
       "  <tbody>\n",
       "    <tr>\n",
       "      <th>47</th>\n",
       "      <td>0.010</td>\n",
       "      <td>1.0</td>\n",
       "      <td>0.727773</td>\n",
       "      <td>10.0</td>\n",
       "      <td>1.0000</td>\n",
       "      <td>0.0010</td>\n",
       "    </tr>\n",
       "    <tr>\n",
       "      <th>32</th>\n",
       "      <td>0.010</td>\n",
       "      <td>1.0</td>\n",
       "      <td>0.727720</td>\n",
       "      <td>10.0</td>\n",
       "      <td>0.0001</td>\n",
       "      <td>0.0010</td>\n",
       "    </tr>\n",
       "    <tr>\n",
       "      <th>56</th>\n",
       "      <td>0.010</td>\n",
       "      <td>1.0</td>\n",
       "      <td>0.727153</td>\n",
       "      <td>10.0</td>\n",
       "      <td>1.0000</td>\n",
       "      <td>0.0100</td>\n",
       "    </tr>\n",
       "    <tr>\n",
       "      <th>86</th>\n",
       "      <td>0.100</td>\n",
       "      <td>1.0</td>\n",
       "      <td>0.726716</td>\n",
       "      <td>10.0</td>\n",
       "      <td>1.0000</td>\n",
       "      <td>0.0001</td>\n",
       "    </tr>\n",
       "    <tr>\n",
       "      <th>22</th>\n",
       "      <td>0.100</td>\n",
       "      <td>1.0</td>\n",
       "      <td>0.726224</td>\n",
       "      <td>10.0</td>\n",
       "      <td>0.0001</td>\n",
       "      <td>0.0001</td>\n",
       "    </tr>\n",
       "    <tr>\n",
       "      <th>54</th>\n",
       "      <td>0.100</td>\n",
       "      <td>1.0</td>\n",
       "      <td>0.726089</td>\n",
       "      <td>10.0</td>\n",
       "      <td>1.0000</td>\n",
       "      <td>0.0100</td>\n",
       "    </tr>\n",
       "    <tr>\n",
       "      <th>98</th>\n",
       "      <td>0.010</td>\n",
       "      <td>1.0</td>\n",
       "      <td>0.726001</td>\n",
       "      <td>10.0</td>\n",
       "      <td>1.0000</td>\n",
       "      <td>0.1000</td>\n",
       "    </tr>\n",
       "    <tr>\n",
       "      <th>77</th>\n",
       "      <td>0.001</td>\n",
       "      <td>1.0</td>\n",
       "      <td>0.725533</td>\n",
       "      <td>10.0</td>\n",
       "      <td>0.0100</td>\n",
       "      <td>0.0001</td>\n",
       "    </tr>\n",
       "    <tr>\n",
       "      <th>0</th>\n",
       "      <td>0.100</td>\n",
       "      <td>1.0</td>\n",
       "      <td>0.725499</td>\n",
       "      <td>10.0</td>\n",
       "      <td>0.0010</td>\n",
       "      <td>0.1000</td>\n",
       "    </tr>\n",
       "    <tr>\n",
       "      <th>44</th>\n",
       "      <td>0.010</td>\n",
       "      <td>1.0</td>\n",
       "      <td>0.725290</td>\n",
       "      <td>25.0</td>\n",
       "      <td>1.0000</td>\n",
       "      <td>1.0000</td>\n",
       "    </tr>\n",
       "  </tbody>\n",
       "</table>\n",
       "</div>"
      ],
      "text/plain": [
       "    learning_rate  max_depths  nDCDG_cv  n_estimators  reg_alpha  reg_lambda\n",
       "47          0.010         1.0  0.727773          10.0     1.0000      0.0010\n",
       "32          0.010         1.0  0.727720          10.0     0.0001      0.0010\n",
       "56          0.010         1.0  0.727153          10.0     1.0000      0.0100\n",
       "86          0.100         1.0  0.726716          10.0     1.0000      0.0001\n",
       "22          0.100         1.0  0.726224          10.0     0.0001      0.0001\n",
       "54          0.100         1.0  0.726089          10.0     1.0000      0.0100\n",
       "98          0.010         1.0  0.726001          10.0     1.0000      0.1000\n",
       "77          0.001         1.0  0.725533          10.0     0.0100      0.0001\n",
       "0           0.100         1.0  0.725499          10.0     0.0010      0.1000\n",
       "44          0.010         1.0  0.725290          25.0     1.0000      1.0000"
      ]
     },
     "execution_count": 102,
     "metadata": {},
     "output_type": "execute_result"
    }
   ],
   "source": [
    "import functools\n",
    "\n",
    "model = xgb.XGBRanker(\n",
    "            objective='rank:pairwise',\n",
    "        )\n",
    "\n",
    "grid_search(model, params_grid, functools.partial(cross_val_scores, is_grouping=True)).head(10)"
   ]
  },
  {
   "cell_type": "markdown",
   "metadata": {},
   "source": [
    "### rank:map"
   ]
  },
  {
   "cell_type": "code",
   "execution_count": 105,
   "metadata": {
    "execution": {
     "iopub.execute_input": "2022-04-21T23:40:27.347623Z",
     "iopub.status.busy": "2022-04-21T23:40:27.347326Z",
     "iopub.status.idle": "2022-04-21T23:57:46.300251Z",
     "shell.execute_reply": "2022-04-21T23:57:46.299345Z",
     "shell.execute_reply.started": "2022-04-21T23:40:27.347588Z"
    },
    "tags": []
   },
   "outputs": [
    {
     "name": "stdout",
     "output_type": "stream",
     "text": [
      "full gridsearch len is 500\n"
     ]
    },
    {
     "data": {
      "application/vnd.jupyter.widget-view+json": {
       "model_id": "511775aade39477d955a64d9fbf553a5",
       "version_major": 2,
       "version_minor": 0
      },
      "text/plain": [
       "  0%|          | 0/100 [00:00<?, ?it/s]"
      ]
     },
     "metadata": {},
     "output_type": "display_data"
    },
    {
     "data": {
      "text/html": [
       "<div>\n",
       "<style scoped>\n",
       "    .dataframe tbody tr th:only-of-type {\n",
       "        vertical-align: middle;\n",
       "    }\n",
       "\n",
       "    .dataframe tbody tr th {\n",
       "        vertical-align: top;\n",
       "    }\n",
       "\n",
       "    .dataframe thead th {\n",
       "        text-align: right;\n",
       "    }\n",
       "</style>\n",
       "<table border=\"1\" class=\"dataframe\">\n",
       "  <thead>\n",
       "    <tr style=\"text-align: right;\">\n",
       "      <th></th>\n",
       "      <th>learning_rate</th>\n",
       "      <th>max_depths</th>\n",
       "      <th>nDCDG_cv</th>\n",
       "      <th>n_estimators</th>\n",
       "      <th>reg_alpha</th>\n",
       "      <th>reg_lambda</th>\n",
       "    </tr>\n",
       "  </thead>\n",
       "  <tbody>\n",
       "    <tr>\n",
       "      <th>66</th>\n",
       "      <td>0.010</td>\n",
       "      <td>1.0</td>\n",
       "      <td>0.730316</td>\n",
       "      <td>10.0</td>\n",
       "      <td>0.0100</td>\n",
       "      <td>0.1000</td>\n",
       "    </tr>\n",
       "    <tr>\n",
       "      <th>38</th>\n",
       "      <td>0.010</td>\n",
       "      <td>1.0</td>\n",
       "      <td>0.729460</td>\n",
       "      <td>10.0</td>\n",
       "      <td>0.0001</td>\n",
       "      <td>0.1000</td>\n",
       "    </tr>\n",
       "    <tr>\n",
       "      <th>42</th>\n",
       "      <td>0.010</td>\n",
       "      <td>1.0</td>\n",
       "      <td>0.729449</td>\n",
       "      <td>10.0</td>\n",
       "      <td>0.0010</td>\n",
       "      <td>0.1000</td>\n",
       "    </tr>\n",
       "    <tr>\n",
       "      <th>49</th>\n",
       "      <td>0.010</td>\n",
       "      <td>1.0</td>\n",
       "      <td>0.728119</td>\n",
       "      <td>10.0</td>\n",
       "      <td>0.0100</td>\n",
       "      <td>0.0010</td>\n",
       "    </tr>\n",
       "    <tr>\n",
       "      <th>17</th>\n",
       "      <td>0.010</td>\n",
       "      <td>1.0</td>\n",
       "      <td>0.727643</td>\n",
       "      <td>10.0</td>\n",
       "      <td>0.1000</td>\n",
       "      <td>0.0100</td>\n",
       "    </tr>\n",
       "    <tr>\n",
       "      <th>90</th>\n",
       "      <td>0.001</td>\n",
       "      <td>1.0</td>\n",
       "      <td>0.727601</td>\n",
       "      <td>10.0</td>\n",
       "      <td>0.0010</td>\n",
       "      <td>0.0001</td>\n",
       "    </tr>\n",
       "    <tr>\n",
       "      <th>37</th>\n",
       "      <td>0.001</td>\n",
       "      <td>1.0</td>\n",
       "      <td>0.727577</td>\n",
       "      <td>10.0</td>\n",
       "      <td>0.1000</td>\n",
       "      <td>0.0100</td>\n",
       "    </tr>\n",
       "    <tr>\n",
       "      <th>84</th>\n",
       "      <td>0.010</td>\n",
       "      <td>1.0</td>\n",
       "      <td>0.726698</td>\n",
       "      <td>10.0</td>\n",
       "      <td>1.0000</td>\n",
       "      <td>0.0100</td>\n",
       "    </tr>\n",
       "    <tr>\n",
       "      <th>64</th>\n",
       "      <td>0.001</td>\n",
       "      <td>1.0</td>\n",
       "      <td>0.726325</td>\n",
       "      <td>25.0</td>\n",
       "      <td>1.0000</td>\n",
       "      <td>1.0000</td>\n",
       "    </tr>\n",
       "    <tr>\n",
       "      <th>7</th>\n",
       "      <td>0.010</td>\n",
       "      <td>1.0</td>\n",
       "      <td>0.725587</td>\n",
       "      <td>10.0</td>\n",
       "      <td>1.0000</td>\n",
       "      <td>0.0001</td>\n",
       "    </tr>\n",
       "  </tbody>\n",
       "</table>\n",
       "</div>"
      ],
      "text/plain": [
       "    learning_rate  max_depths  nDCDG_cv  n_estimators  reg_alpha  reg_lambda\n",
       "66          0.010         1.0  0.730316          10.0     0.0100      0.1000\n",
       "38          0.010         1.0  0.729460          10.0     0.0001      0.1000\n",
       "42          0.010         1.0  0.729449          10.0     0.0010      0.1000\n",
       "49          0.010         1.0  0.728119          10.0     0.0100      0.0010\n",
       "17          0.010         1.0  0.727643          10.0     0.1000      0.0100\n",
       "90          0.001         1.0  0.727601          10.0     0.0010      0.0001\n",
       "37          0.001         1.0  0.727577          10.0     0.1000      0.0100\n",
       "84          0.010         1.0  0.726698          10.0     1.0000      0.0100\n",
       "64          0.001         1.0  0.726325          25.0     1.0000      1.0000\n",
       "7           0.010         1.0  0.725587          10.0     1.0000      0.0001"
      ]
     },
     "execution_count": 105,
     "metadata": {},
     "output_type": "execute_result"
    }
   ],
   "source": [
    "model = xgb.XGBRanker(\n",
    "            objective='rank:map',\n",
    "        )\n",
    "grid_search(model, params_grid, functools.partial(cross_val_scores, is_grouping=True)).head(10)"
   ]
  },
  {
   "cell_type": "markdown",
   "metadata": {},
   "source": [
    "### rank:ndcg"
   ]
  },
  {
   "cell_type": "code",
   "execution_count": 106,
   "metadata": {
    "execution": {
     "iopub.execute_input": "2022-04-21T23:57:48.273577Z",
     "iopub.status.busy": "2022-04-21T23:57:48.273397Z",
     "iopub.status.idle": "2022-04-22T00:12:14.747176Z",
     "shell.execute_reply": "2022-04-22T00:12:14.746246Z",
     "shell.execute_reply.started": "2022-04-21T23:57:48.273549Z"
    },
    "tags": []
   },
   "outputs": [
    {
     "name": "stdout",
     "output_type": "stream",
     "text": [
      "full gridsearch len is 500\n"
     ]
    },
    {
     "data": {
      "application/vnd.jupyter.widget-view+json": {
       "model_id": "1d0daf117daf47ab9250a88c48f069ee",
       "version_major": 2,
       "version_minor": 0
      },
      "text/plain": [
       "  0%|          | 0/100 [00:00<?, ?it/s]"
      ]
     },
     "metadata": {},
     "output_type": "display_data"
    },
    {
     "data": {
      "text/html": [
       "<div>\n",
       "<style scoped>\n",
       "    .dataframe tbody tr th:only-of-type {\n",
       "        vertical-align: middle;\n",
       "    }\n",
       "\n",
       "    .dataframe tbody tr th {\n",
       "        vertical-align: top;\n",
       "    }\n",
       "\n",
       "    .dataframe thead th {\n",
       "        text-align: right;\n",
       "    }\n",
       "</style>\n",
       "<table border=\"1\" class=\"dataframe\">\n",
       "  <thead>\n",
       "    <tr style=\"text-align: right;\">\n",
       "      <th></th>\n",
       "      <th>learning_rate</th>\n",
       "      <th>max_depths</th>\n",
       "      <th>nDCDG_cv</th>\n",
       "      <th>n_estimators</th>\n",
       "      <th>reg_alpha</th>\n",
       "      <th>reg_lambda</th>\n",
       "    </tr>\n",
       "  </thead>\n",
       "  <tbody>\n",
       "    <tr>\n",
       "      <th>0</th>\n",
       "      <td>1.000</td>\n",
       "      <td>1.0</td>\n",
       "      <td>0.906752</td>\n",
       "      <td>75.0</td>\n",
       "      <td>0.0001</td>\n",
       "      <td>0.0001</td>\n",
       "    </tr>\n",
       "    <tr>\n",
       "      <th>63</th>\n",
       "      <td>1.000</td>\n",
       "      <td>1.0</td>\n",
       "      <td>0.906752</td>\n",
       "      <td>100.0</td>\n",
       "      <td>1.0000</td>\n",
       "      <td>0.0010</td>\n",
       "    </tr>\n",
       "    <tr>\n",
       "      <th>73</th>\n",
       "      <td>0.001</td>\n",
       "      <td>1.0</td>\n",
       "      <td>0.906752</td>\n",
       "      <td>25.0</td>\n",
       "      <td>0.0010</td>\n",
       "      <td>0.0001</td>\n",
       "    </tr>\n",
       "    <tr>\n",
       "      <th>72</th>\n",
       "      <td>0.001</td>\n",
       "      <td>1.0</td>\n",
       "      <td>0.906752</td>\n",
       "      <td>25.0</td>\n",
       "      <td>0.0001</td>\n",
       "      <td>0.0001</td>\n",
       "    </tr>\n",
       "    <tr>\n",
       "      <th>71</th>\n",
       "      <td>0.010</td>\n",
       "      <td>1.0</td>\n",
       "      <td>0.906752</td>\n",
       "      <td>75.0</td>\n",
       "      <td>0.0100</td>\n",
       "      <td>0.0100</td>\n",
       "    </tr>\n",
       "    <tr>\n",
       "      <th>70</th>\n",
       "      <td>1.000</td>\n",
       "      <td>1.0</td>\n",
       "      <td>0.906752</td>\n",
       "      <td>75.0</td>\n",
       "      <td>1.0000</td>\n",
       "      <td>0.0010</td>\n",
       "    </tr>\n",
       "    <tr>\n",
       "      <th>69</th>\n",
       "      <td>1.000</td>\n",
       "      <td>1.0</td>\n",
       "      <td>0.906752</td>\n",
       "      <td>100.0</td>\n",
       "      <td>0.0010</td>\n",
       "      <td>0.0100</td>\n",
       "    </tr>\n",
       "    <tr>\n",
       "      <th>68</th>\n",
       "      <td>0.001</td>\n",
       "      <td>1.0</td>\n",
       "      <td>0.906752</td>\n",
       "      <td>100.0</td>\n",
       "      <td>0.0010</td>\n",
       "      <td>1.0000</td>\n",
       "    </tr>\n",
       "    <tr>\n",
       "      <th>67</th>\n",
       "      <td>0.010</td>\n",
       "      <td>1.0</td>\n",
       "      <td>0.906752</td>\n",
       "      <td>75.0</td>\n",
       "      <td>1.0000</td>\n",
       "      <td>1.0000</td>\n",
       "    </tr>\n",
       "    <tr>\n",
       "      <th>66</th>\n",
       "      <td>0.010</td>\n",
       "      <td>1.0</td>\n",
       "      <td>0.906752</td>\n",
       "      <td>10.0</td>\n",
       "      <td>1.0000</td>\n",
       "      <td>0.1000</td>\n",
       "    </tr>\n",
       "  </tbody>\n",
       "</table>\n",
       "</div>"
      ],
      "text/plain": [
       "    learning_rate  max_depths  nDCDG_cv  n_estimators  reg_alpha  reg_lambda\n",
       "0           1.000         1.0  0.906752          75.0     0.0001      0.0001\n",
       "63          1.000         1.0  0.906752         100.0     1.0000      0.0010\n",
       "73          0.001         1.0  0.906752          25.0     0.0010      0.0001\n",
       "72          0.001         1.0  0.906752          25.0     0.0001      0.0001\n",
       "71          0.010         1.0  0.906752          75.0     0.0100      0.0100\n",
       "70          1.000         1.0  0.906752          75.0     1.0000      0.0010\n",
       "69          1.000         1.0  0.906752         100.0     0.0010      0.0100\n",
       "68          0.001         1.0  0.906752         100.0     0.0010      1.0000\n",
       "67          0.010         1.0  0.906752          75.0     1.0000      1.0000\n",
       "66          0.010         1.0  0.906752          10.0     1.0000      0.1000"
      ]
     },
     "execution_count": 106,
     "metadata": {},
     "output_type": "execute_result"
    }
   ],
   "source": [
    "model = xgb.XGBRanker(\n",
    "            objective='rank:ndcg',\n",
    "        )\n",
    "grid_search(model, params_grid, functools.partial(cross_val_scores, is_grouping=True)).head(10)"
   ]
  },
  {
   "cell_type": "code",
   "execution_count": null,
   "metadata": {},
   "outputs": [],
   "source": []
  },
  {
   "cell_type": "markdown",
   "metadata": {},
   "source": [
    "## Catboost"
   ]
  },
  {
   "cell_type": "code",
   "execution_count": 107,
   "metadata": {
    "execution": {
     "iopub.execute_input": "2022-04-22T00:12:14.752570Z",
     "iopub.status.busy": "2022-04-22T00:12:14.752258Z",
     "iopub.status.idle": "2022-04-22T00:12:14.790862Z",
     "shell.execute_reply": "2022-04-22T00:12:14.789656Z",
     "shell.execute_reply.started": "2022-04-22T00:12:14.752515Z"
    },
    "tags": []
   },
   "outputs": [],
   "source": [
    "import catboost"
   ]
  },
  {
   "cell_type": "code",
   "execution_count": 108,
   "metadata": {
    "execution": {
     "iopub.execute_input": "2022-04-22T00:12:14.792728Z",
     "iopub.status.busy": "2022-04-22T00:12:14.792416Z",
     "iopub.status.idle": "2022-04-22T00:36:00.422371Z",
     "shell.execute_reply": "2022-04-22T00:36:00.421457Z",
     "shell.execute_reply.started": "2022-04-22T00:12:14.792675Z"
    },
    "tags": []
   },
   "outputs": [
    {
     "name": "stdout",
     "output_type": "stream",
     "text": [
      "full gridsearch len is 100\n"
     ]
    },
    {
     "data": {
      "application/vnd.jupyter.widget-view+json": {
       "model_id": "5a9e82f890fe488db8fda1334856e7df",
       "version_major": 2,
       "version_minor": 0
      },
      "text/plain": [
       "  0%|          | 0/100 [00:00<?, ?it/s]"
      ]
     },
     "metadata": {},
     "output_type": "display_data"
    },
    {
     "data": {
      "text/html": [
       "<div>\n",
       "<style scoped>\n",
       "    .dataframe tbody tr th:only-of-type {\n",
       "        vertical-align: middle;\n",
       "    }\n",
       "\n",
       "    .dataframe tbody tr th {\n",
       "        vertical-align: top;\n",
       "    }\n",
       "\n",
       "    .dataframe thead th {\n",
       "        text-align: right;\n",
       "    }\n",
       "</style>\n",
       "<table border=\"1\" class=\"dataframe\">\n",
       "  <thead>\n",
       "    <tr style=\"text-align: right;\">\n",
       "      <th></th>\n",
       "      <th>depth</th>\n",
       "      <th>learning_rate</th>\n",
       "      <th>nDCDG_cv</th>\n",
       "      <th>n_estimators</th>\n",
       "      <th>reg_lambda</th>\n",
       "    </tr>\n",
       "  </thead>\n",
       "  <tbody>\n",
       "    <tr>\n",
       "      <th>0</th>\n",
       "      <td>1.0</td>\n",
       "      <td>0.001</td>\n",
       "      <td>0.863246</td>\n",
       "      <td>10.0</td>\n",
       "      <td>0.0001</td>\n",
       "    </tr>\n",
       "    <tr>\n",
       "      <th>2</th>\n",
       "      <td>1.0</td>\n",
       "      <td>0.001</td>\n",
       "      <td>0.863246</td>\n",
       "      <td>10.0</td>\n",
       "      <td>0.0100</td>\n",
       "    </tr>\n",
       "    <tr>\n",
       "      <th>3</th>\n",
       "      <td>1.0</td>\n",
       "      <td>0.001</td>\n",
       "      <td>0.863246</td>\n",
       "      <td>10.0</td>\n",
       "      <td>0.1000</td>\n",
       "    </tr>\n",
       "    <tr>\n",
       "      <th>4</th>\n",
       "      <td>1.0</td>\n",
       "      <td>0.001</td>\n",
       "      <td>0.863246</td>\n",
       "      <td>10.0</td>\n",
       "      <td>1.0000</td>\n",
       "    </tr>\n",
       "    <tr>\n",
       "      <th>1</th>\n",
       "      <td>1.0</td>\n",
       "      <td>0.001</td>\n",
       "      <td>0.863246</td>\n",
       "      <td>10.0</td>\n",
       "      <td>0.0010</td>\n",
       "    </tr>\n",
       "    <tr>\n",
       "      <th>29</th>\n",
       "      <td>1.0</td>\n",
       "      <td>0.010</td>\n",
       "      <td>0.852066</td>\n",
       "      <td>10.0</td>\n",
       "      <td>1.0000</td>\n",
       "    </tr>\n",
       "    <tr>\n",
       "      <th>5</th>\n",
       "      <td>1.0</td>\n",
       "      <td>0.001</td>\n",
       "      <td>0.843890</td>\n",
       "      <td>25.0</td>\n",
       "      <td>0.0001</td>\n",
       "    </tr>\n",
       "    <tr>\n",
       "      <th>6</th>\n",
       "      <td>1.0</td>\n",
       "      <td>0.001</td>\n",
       "      <td>0.843890</td>\n",
       "      <td>25.0</td>\n",
       "      <td>0.0010</td>\n",
       "    </tr>\n",
       "    <tr>\n",
       "      <th>7</th>\n",
       "      <td>1.0</td>\n",
       "      <td>0.001</td>\n",
       "      <td>0.843890</td>\n",
       "      <td>25.0</td>\n",
       "      <td>0.0100</td>\n",
       "    </tr>\n",
       "    <tr>\n",
       "      <th>8</th>\n",
       "      <td>1.0</td>\n",
       "      <td>0.001</td>\n",
       "      <td>0.843890</td>\n",
       "      <td>25.0</td>\n",
       "      <td>0.1000</td>\n",
       "    </tr>\n",
       "    <tr>\n",
       "      <th>9</th>\n",
       "      <td>1.0</td>\n",
       "      <td>0.001</td>\n",
       "      <td>0.843890</td>\n",
       "      <td>25.0</td>\n",
       "      <td>1.0000</td>\n",
       "    </tr>\n",
       "    <tr>\n",
       "      <th>28</th>\n",
       "      <td>1.0</td>\n",
       "      <td>0.010</td>\n",
       "      <td>0.838732</td>\n",
       "      <td>10.0</td>\n",
       "      <td>0.1000</td>\n",
       "    </tr>\n",
       "    <tr>\n",
       "      <th>14</th>\n",
       "      <td>1.0</td>\n",
       "      <td>0.001</td>\n",
       "      <td>0.837310</td>\n",
       "      <td>50.0</td>\n",
       "      <td>1.0000</td>\n",
       "    </tr>\n",
       "    <tr>\n",
       "      <th>12</th>\n",
       "      <td>1.0</td>\n",
       "      <td>0.001</td>\n",
       "      <td>0.837310</td>\n",
       "      <td>50.0</td>\n",
       "      <td>0.0100</td>\n",
       "    </tr>\n",
       "    <tr>\n",
       "      <th>13</th>\n",
       "      <td>1.0</td>\n",
       "      <td>0.001</td>\n",
       "      <td>0.837310</td>\n",
       "      <td>50.0</td>\n",
       "      <td>0.1000</td>\n",
       "    </tr>\n",
       "  </tbody>\n",
       "</table>\n",
       "</div>"
      ],
      "text/plain": [
       "    depth  learning_rate  nDCDG_cv  n_estimators  reg_lambda\n",
       "0     1.0          0.001  0.863246          10.0      0.0001\n",
       "2     1.0          0.001  0.863246          10.0      0.0100\n",
       "3     1.0          0.001  0.863246          10.0      0.1000\n",
       "4     1.0          0.001  0.863246          10.0      1.0000\n",
       "1     1.0          0.001  0.863246          10.0      0.0010\n",
       "29    1.0          0.010  0.852066          10.0      1.0000\n",
       "5     1.0          0.001  0.843890          25.0      0.0001\n",
       "6     1.0          0.001  0.843890          25.0      0.0010\n",
       "7     1.0          0.001  0.843890          25.0      0.0100\n",
       "8     1.0          0.001  0.843890          25.0      0.1000\n",
       "9     1.0          0.001  0.843890          25.0      1.0000\n",
       "28    1.0          0.010  0.838732          10.0      0.1000\n",
       "14    1.0          0.001  0.837310          50.0      1.0000\n",
       "12    1.0          0.001  0.837310          50.0      0.0100\n",
       "13    1.0          0.001  0.837310          50.0      0.1000"
      ]
     },
     "execution_count": 108,
     "metadata": {},
     "output_type": "execute_result"
    }
   ],
   "source": [
    "params_grid_cat = {\n",
    "    'depth': range(1, 2, 9),\n",
    "    'learning_rate': [1e-3, 1e-2, 1e-1, 1],\n",
    "    'n_estimators': [10, 25, 50, 75, 100],\n",
    "    'reg_lambda': [1e-4, 1e-3, 1e-2, 1e-1, 1]\n",
    "}\n",
    "\n",
    "\n",
    "model = catboost.CatBoostRanker(loss_function='YetiRank')\n",
    "\n",
    "grid_search(model, params_grid_cat, functools.partial(cross_val_scores, is_catboost=True)).head(15)"
   ]
  },
  {
   "cell_type": "code",
   "execution_count": 110,
   "metadata": {
    "execution": {
     "iopub.execute_input": "2022-04-22T07:34:16.826857Z",
     "iopub.status.busy": "2022-04-22T07:34:16.826546Z",
     "iopub.status.idle": "2022-04-22T08:00:05.940537Z",
     "shell.execute_reply": "2022-04-22T08:00:05.939650Z",
     "shell.execute_reply.started": "2022-04-22T07:34:16.826824Z"
    }
   },
   "outputs": [
    {
     "name": "stdout",
     "output_type": "stream",
     "text": [
      "full gridsearch len is 100\n"
     ]
    },
    {
     "data": {
      "application/vnd.jupyter.widget-view+json": {
       "model_id": "1adfc346c2384a218aa7443b7473faed",
       "version_major": 2,
       "version_minor": 0
      },
      "text/plain": [
       "  0%|          | 0/100 [00:00<?, ?it/s]"
      ]
     },
     "metadata": {},
     "output_type": "display_data"
    },
    {
     "data": {
      "text/html": [
       "<div>\n",
       "<style scoped>\n",
       "    .dataframe tbody tr th:only-of-type {\n",
       "        vertical-align: middle;\n",
       "    }\n",
       "\n",
       "    .dataframe tbody tr th {\n",
       "        vertical-align: top;\n",
       "    }\n",
       "\n",
       "    .dataframe thead th {\n",
       "        text-align: right;\n",
       "    }\n",
       "</style>\n",
       "<table border=\"1\" class=\"dataframe\">\n",
       "  <thead>\n",
       "    <tr style=\"text-align: right;\">\n",
       "      <th></th>\n",
       "      <th>depth</th>\n",
       "      <th>learning_rate</th>\n",
       "      <th>nDCDG_cv</th>\n",
       "      <th>n_estimators</th>\n",
       "      <th>reg_lambda</th>\n",
       "    </tr>\n",
       "  </thead>\n",
       "  <tbody>\n",
       "    <tr>\n",
       "      <th>26</th>\n",
       "      <td>1.0</td>\n",
       "      <td>0.010</td>\n",
       "      <td>0.851568</td>\n",
       "      <td>10.0</td>\n",
       "      <td>0.0010</td>\n",
       "    </tr>\n",
       "    <tr>\n",
       "      <th>25</th>\n",
       "      <td>1.0</td>\n",
       "      <td>0.010</td>\n",
       "      <td>0.851568</td>\n",
       "      <td>10.0</td>\n",
       "      <td>0.0001</td>\n",
       "    </tr>\n",
       "    <tr>\n",
       "      <th>0</th>\n",
       "      <td>1.0</td>\n",
       "      <td>0.001</td>\n",
       "      <td>0.851530</td>\n",
       "      <td>10.0</td>\n",
       "      <td>0.0001</td>\n",
       "    </tr>\n",
       "    <tr>\n",
       "      <th>7</th>\n",
       "      <td>1.0</td>\n",
       "      <td>0.001</td>\n",
       "      <td>0.851530</td>\n",
       "      <td>25.0</td>\n",
       "      <td>0.0100</td>\n",
       "    </tr>\n",
       "    <tr>\n",
       "      <th>13</th>\n",
       "      <td>1.0</td>\n",
       "      <td>0.001</td>\n",
       "      <td>0.851530</td>\n",
       "      <td>50.0</td>\n",
       "      <td>0.1000</td>\n",
       "    </tr>\n",
       "    <tr>\n",
       "      <th>8</th>\n",
       "      <td>1.0</td>\n",
       "      <td>0.001</td>\n",
       "      <td>0.851530</td>\n",
       "      <td>25.0</td>\n",
       "      <td>0.1000</td>\n",
       "    </tr>\n",
       "    <tr>\n",
       "      <th>1</th>\n",
       "      <td>1.0</td>\n",
       "      <td>0.001</td>\n",
       "      <td>0.851530</td>\n",
       "      <td>10.0</td>\n",
       "      <td>0.0010</td>\n",
       "    </tr>\n",
       "    <tr>\n",
       "      <th>6</th>\n",
       "      <td>1.0</td>\n",
       "      <td>0.001</td>\n",
       "      <td>0.851530</td>\n",
       "      <td>25.0</td>\n",
       "      <td>0.0010</td>\n",
       "    </tr>\n",
       "    <tr>\n",
       "      <th>5</th>\n",
       "      <td>1.0</td>\n",
       "      <td>0.001</td>\n",
       "      <td>0.851530</td>\n",
       "      <td>25.0</td>\n",
       "      <td>0.0001</td>\n",
       "    </tr>\n",
       "    <tr>\n",
       "      <th>3</th>\n",
       "      <td>1.0</td>\n",
       "      <td>0.001</td>\n",
       "      <td>0.851530</td>\n",
       "      <td>10.0</td>\n",
       "      <td>0.1000</td>\n",
       "    </tr>\n",
       "    <tr>\n",
       "      <th>2</th>\n",
       "      <td>1.0</td>\n",
       "      <td>0.001</td>\n",
       "      <td>0.851530</td>\n",
       "      <td>10.0</td>\n",
       "      <td>0.0100</td>\n",
       "    </tr>\n",
       "    <tr>\n",
       "      <th>10</th>\n",
       "      <td>1.0</td>\n",
       "      <td>0.001</td>\n",
       "      <td>0.851454</td>\n",
       "      <td>50.0</td>\n",
       "      <td>0.0001</td>\n",
       "    </tr>\n",
       "    <tr>\n",
       "      <th>12</th>\n",
       "      <td>1.0</td>\n",
       "      <td>0.001</td>\n",
       "      <td>0.851454</td>\n",
       "      <td>50.0</td>\n",
       "      <td>0.0100</td>\n",
       "    </tr>\n",
       "    <tr>\n",
       "      <th>11</th>\n",
       "      <td>1.0</td>\n",
       "      <td>0.001</td>\n",
       "      <td>0.851454</td>\n",
       "      <td>50.0</td>\n",
       "      <td>0.0010</td>\n",
       "    </tr>\n",
       "    <tr>\n",
       "      <th>31</th>\n",
       "      <td>1.0</td>\n",
       "      <td>0.010</td>\n",
       "      <td>0.848537</td>\n",
       "      <td>25.0</td>\n",
       "      <td>0.0010</td>\n",
       "    </tr>\n",
       "  </tbody>\n",
       "</table>\n",
       "</div>"
      ],
      "text/plain": [
       "    depth  learning_rate  nDCDG_cv  n_estimators  reg_lambda\n",
       "26    1.0          0.010  0.851568          10.0      0.0010\n",
       "25    1.0          0.010  0.851568          10.0      0.0001\n",
       "0     1.0          0.001  0.851530          10.0      0.0001\n",
       "7     1.0          0.001  0.851530          25.0      0.0100\n",
       "13    1.0          0.001  0.851530          50.0      0.1000\n",
       "8     1.0          0.001  0.851530          25.0      0.1000\n",
       "1     1.0          0.001  0.851530          10.0      0.0010\n",
       "6     1.0          0.001  0.851530          25.0      0.0010\n",
       "5     1.0          0.001  0.851530          25.0      0.0001\n",
       "3     1.0          0.001  0.851530          10.0      0.1000\n",
       "2     1.0          0.001  0.851530          10.0      0.0100\n",
       "10    1.0          0.001  0.851454          50.0      0.0001\n",
       "12    1.0          0.001  0.851454          50.0      0.0100\n",
       "11    1.0          0.001  0.851454          50.0      0.0010\n",
       "31    1.0          0.010  0.848537          25.0      0.0010"
      ]
     },
     "execution_count": 110,
     "metadata": {},
     "output_type": "execute_result"
    }
   ],
   "source": [
    "params_grid_cat = {\n",
    "    'depth': range(1, 2, 9),\n",
    "    'learning_rate': [1e-3, 1e-2, 1e-1, 1],\n",
    "    'n_estimators': [10, 25, 50, 75, 100],\n",
    "    'reg_lambda': [1e-4, 1e-3, 1e-2, 1e-1, 1]\n",
    "}\n",
    "\n",
    "\n",
    "model = catboost.CatBoostRanker(loss_function='YetiRankPairwise')\n",
    "\n",
    "grid_search(model, params_grid_cat, functools.partial(cross_val_scores, is_catboost=True)).head(15)"
   ]
  },
  {
   "cell_type": "markdown",
   "metadata": {},
   "source": [
    "## Сравнение результатов\n",
    "\n",
    "Оказалось что для данной задачи больше всего подходит модель XGBRanker c функцией потерь `nDCG`.\n",
    "\n",
    "Написал свой гридсерч `grid_search` для подбора параметров на кросс-валидации потому что так было удобнее и т.к все учится довольно быстро\n",
    "\n",
    "### xgboost\n",
    "- Топ 1 – XGBRanker c `nDCG`, как кажется и должно быть учитываю что наша метрики – nDCG :)\n",
    "- Топ 2 – XGBRegressor с обычным `MSE`\n",
    "- То есть `pointwise` себя тут неплохо показал\n",
    "- По времени обучения – XGBRegressor кажется самый долгий. Но разница не особо заметная. Подбор параметров для всех xgb моделей происходил за [14, 19] мин\n",
    "\n",
    "### catboost\n",
    "- Показал себя хуже чем xgboost в данном случае. Но я думаю что это связано с тем что модели все-таки с разными гипер-параметрами мерялись\n",
    "- Наверное действительно стоило добавить кат.фичи\n",
    "- Pairwise в данном случае себя показал хуже pointwise\n"
   ]
  },
  {
   "cell_type": "code",
   "execution_count": null,
   "metadata": {},
   "outputs": [],
   "source": []
  }
 ],
 "metadata": {
  "kernelspec": {
   "display_name": "Python 3 (ipykernel)",
   "language": "python",
   "name": "python3"
  },
  "language_info": {
   "codemirror_mode": {
    "name": "ipython",
    "version": 3
   },
   "file_extension": ".py",
   "mimetype": "text/x-python",
   "name": "python",
   "nbconvert_exporter": "python",
   "pygments_lexer": "ipython3",
   "version": "3.9.7"
  },
  "widgets": {
   "application/vnd.jupyter.widget-state+json": {
    "state": {
     "00cfa7ef8b2945409c798a7cca9d91cd": {
      "model_module": "@jupyter-widgets/base",
      "model_module_version": "1.2.0",
      "model_name": "LayoutModel",
      "state": {}
     },
     "015f809b87084148a888e472d4f0779d": {
      "model_module": "@jupyter-widgets/controls",
      "model_module_version": "1.5.0",
      "model_name": "FloatProgressModel",
      "state": {
       "bar_style": "danger",
       "layout": "IPY_MODEL_2b714a0880644222b91427ee73f00c5f",
       "style": "IPY_MODEL_e830659d3d7548d0aa8fff5cff5cbe5a",
       "value": 1
      }
     },
     "01d89b0bccba4944b77a598604926eee": {
      "model_module": "@jupyter-widgets/controls",
      "model_module_version": "1.5.0",
      "model_name": "HBoxModel",
      "state": {
       "children": [
        "IPY_MODEL_a50056505de84e9a80c95d7fd13336d1",
        "IPY_MODEL_c255314effe44aef8320e4d6c71d0806",
        "IPY_MODEL_056f7a69954746f8ba583af54a167a33"
       ],
       "layout": "IPY_MODEL_1f1f5c41ff594eebb075dee8d862bb26"
      }
     },
     "0303a5642e304bf9ba87f9b22438c1ce": {
      "model_module": "@jupyter-widgets/controls",
      "model_module_version": "1.5.0",
      "model_name": "HTMLModel",
      "state": {
       "layout": "IPY_MODEL_56d234a06b714aff8c3cd0355586cb33",
       "style": "IPY_MODEL_e6aba12926b146b7b8464babf3bdc9b6",
       "value": " 100/100 [25:49&lt;00:00, 18.73s/it]"
      }
     },
     "03656f6e096146e88151427976dc262b": {
      "model_module": "@jupyter-widgets/base",
      "model_module_version": "1.2.0",
      "model_name": "LayoutModel",
      "state": {}
     },
     "03c6a2bb1efe45509ca0573f5671fbe2": {
      "model_module": "@jupyter-widgets/base",
      "model_module_version": "1.2.0",
      "model_name": "LayoutModel",
      "state": {}
     },
     "03ef436a94e2457fb6e4d4413a1ce897": {
      "model_module": "@jupyter-widgets/controls",
      "model_module_version": "1.5.0",
      "model_name": "DescriptionStyleModel",
      "state": {
       "description_width": ""
      }
     },
     "048e6de6d3f44594a1b417a05615a37e": {
      "model_module": "@jupyter-widgets/controls",
      "model_module_version": "1.5.0",
      "model_name": "HTMLModel",
      "state": {
       "layout": "IPY_MODEL_c3bcbda31e5f40d3b60b91b826755a96",
       "style": "IPY_MODEL_b1fd86fd83354805ab87d13eef085615",
       "value": " 50%"
      }
     },
     "04e66cc5fc9447b9811a1e0f6fc411d5": {
      "model_module": "@jupyter-widgets/controls",
      "model_module_version": "1.5.0",
      "model_name": "HTMLModel",
      "state": {
       "layout": "IPY_MODEL_7f4053c94c53413a910c5ca4741a5308",
       "style": "IPY_MODEL_ebf05768d81a4c3d9e2315f64cd69a45",
       "value": " 0/2 [00:00&lt;?, ?it/s]"
      }
     },
     "056f7a69954746f8ba583af54a167a33": {
      "model_module": "@jupyter-widgets/controls",
      "model_module_version": "1.5.0",
      "model_name": "HTMLModel",
      "state": {
       "layout": "IPY_MODEL_787f8f26459c46048bb658c97c035633",
       "style": "IPY_MODEL_482df36cee324bfb9168855d1cd145b1",
       "value": " 4/4 [01:01&lt;00:00, 14.32s/it]"
      }
     },
     "05d4634e612f44a691101c0506a5d02c": {
      "model_module": "@jupyter-widgets/controls",
      "model_module_version": "1.5.0",
      "model_name": "ProgressStyleModel",
      "state": {
       "description_width": ""
      }
     },
     "0703faf5fa2f411eb2f7a21eeb3cf05a": {
      "model_module": "@jupyter-widgets/base",
      "model_module_version": "1.2.0",
      "model_name": "LayoutModel",
      "state": {}
     },
     "075e5d6e5c984552aee4d343579cab43": {
      "model_module": "@jupyter-widgets/controls",
      "model_module_version": "1.5.0",
      "model_name": "HTMLModel",
      "state": {
       "layout": "IPY_MODEL_03656f6e096146e88151427976dc262b",
       "style": "IPY_MODEL_3eddd70bcacb45328ce54856eaad8775",
       "value": " 0/6 [00:00&lt;?, ?it/s]"
      }
     },
     "076da0fb72ac4e4f8540f050289ac0d3": {
      "model_module": "@jupyter-widgets/base",
      "model_module_version": "1.2.0",
      "model_name": "LayoutModel",
      "state": {}
     },
     "083451b398bb45ad921bc7bc14db7964": {
      "model_module": "@jupyter-widgets/controls",
      "model_module_version": "1.5.0",
      "model_name": "HTMLModel",
      "state": {
       "layout": "IPY_MODEL_ac266e45cd7942a7b580c77fb92207c4",
       "style": "IPY_MODEL_ed00411455cf4ff69909213c0e50806b",
       "value": " 6/6 [01:16&lt;00:00, 11.85s/it]"
      }
     },
     "087b345e80e649cdb09f4d99b431a143": {
      "model_module": "@jupyter-widgets/base",
      "model_module_version": "1.2.0",
      "model_name": "LayoutModel",
      "state": {}
     },
     "095c1908fd6c48c49f6b68ce9fae0f38": {
      "model_module": "@jupyter-widgets/controls",
      "model_module_version": "1.5.0",
      "model_name": "DescriptionStyleModel",
      "state": {
       "description_width": ""
      }
     },
     "0a6e9caf867040e79ed42cb65234b50b": {
      "model_module": "@jupyter-widgets/base",
      "model_module_version": "1.2.0",
      "model_name": "LayoutModel",
      "state": {}
     },
     "0b1466b9f0d74b49bc89fe289b2ca9a0": {
      "model_module": "@jupyter-widgets/controls",
      "model_module_version": "1.5.0",
      "model_name": "DescriptionStyleModel",
      "state": {
       "description_width": ""
      }
     },
     "0b64139134834cb687c3dd84a4cc495f": {
      "model_module": "@jupyter-widgets/controls",
      "model_module_version": "1.5.0",
      "model_name": "DescriptionStyleModel",
      "state": {
       "description_width": ""
      }
     },
     "0c8ecd1be4a24d488d717c6dd4d2932e": {
      "model_module": "@jupyter-widgets/base",
      "model_module_version": "1.2.0",
      "model_name": "LayoutModel",
      "state": {}
     },
     "0d4a559d57d74cb1a55fcd81c50afb00": {
      "model_module": "@jupyter-widgets/base",
      "model_module_version": "1.2.0",
      "model_name": "LayoutModel",
      "state": {}
     },
     "0e1cb7a40cbc4176826726ae0fa71df2": {
      "model_module": "@jupyter-widgets/controls",
      "model_module_version": "1.5.0",
      "model_name": "HTMLModel",
      "state": {
       "layout": "IPY_MODEL_1833dedb5dba495695736315cad3aaff",
       "style": "IPY_MODEL_d314727d4260466c9cd53b4828afc510",
       "value": " 0/6 [00:04&lt;?, ?it/s]"
      }
     },
     "0ea1bf1444f242cead5431ebdc00f3cd": {
      "model_module": "@jupyter-widgets/controls",
      "model_module_version": "1.5.0",
      "model_name": "HBoxModel",
      "state": {
       "children": [
        "IPY_MODEL_37220c8326694ba69d6d59c65c978b58",
        "IPY_MODEL_b6b72b3e85d14054a04fd9f128913f86",
        "IPY_MODEL_90efe39f1cb64778b7c26209f51d37ed"
       ],
       "layout": "IPY_MODEL_c3e4ded389ab474fb77c5751fb71f65a"
      }
     },
     "0ea938f502a2423ba4999fe37b6b38b8": {
      "model_module": "@jupyter-widgets/controls",
      "model_module_version": "1.5.0",
      "model_name": "FloatProgressModel",
      "state": {
       "bar_style": "danger",
       "layout": "IPY_MODEL_32b2673354be41b2bbadad6714f6fbdb",
       "style": "IPY_MODEL_5370de57f1464ce7a39cd343132e09dd"
      }
     },
     "0ef0d10ef7ed443382ad20cc2e4312d2": {
      "model_module": "@jupyter-widgets/controls",
      "model_module_version": "1.5.0",
      "model_name": "HBoxModel",
      "state": {
       "children": [
        "IPY_MODEL_4c03b468e0724e0c9ac1ddf8aa93dbe3",
        "IPY_MODEL_c7eeda77bf8e45a5a34009e3bd1b7404",
        "IPY_MODEL_d04706cefc9d4da3a128ca963c2679da"
       ],
       "layout": "IPY_MODEL_da9d06a1acee4381962dff7bc3345fa8"
      }
     },
     "10c52cfaf3f54173a9d0793bc19ab5a8": {
      "model_module": "@jupyter-widgets/base",
      "model_module_version": "1.2.0",
      "model_name": "LayoutModel",
      "state": {}
     },
     "10dc29fe4f25408b9cd2033832aebce6": {
      "model_module": "@jupyter-widgets/base",
      "model_module_version": "1.2.0",
      "model_name": "LayoutModel",
      "state": {}
     },
     "1109aa5b9c67403c8e80360ff3818fec": {
      "model_module": "@jupyter-widgets/controls",
      "model_module_version": "1.5.0",
      "model_name": "DescriptionStyleModel",
      "state": {
       "description_width": ""
      }
     },
     "11a5ac55982d482e95c1c118032abb85": {
      "model_module": "@jupyter-widgets/controls",
      "model_module_version": "1.5.0",
      "model_name": "ProgressStyleModel",
      "state": {
       "description_width": ""
      }
     },
     "13914e035423451281a53c7dedcfdb22": {
      "model_module": "@jupyter-widgets/controls",
      "model_module_version": "1.5.0",
      "model_name": "HTMLModel",
      "state": {
       "layout": "IPY_MODEL_0d4a559d57d74cb1a55fcd81c50afb00",
       "style": "IPY_MODEL_61d84738de494b32a424e0ad15f781f3",
       "value": "  0%"
      }
     },
     "1451f2039ccb4c1c82011bd448c66042": {
      "model_module": "@jupyter-widgets/base",
      "model_module_version": "1.2.0",
      "model_name": "LayoutModel",
      "state": {}
     },
     "15260d62ec0842149711bc60dd80b593": {
      "model_module": "@jupyter-widgets/base",
      "model_module_version": "1.2.0",
      "model_name": "LayoutModel",
      "state": {}
     },
     "1537c930621d42f0ba7c25cfafec163f": {
      "model_module": "@jupyter-widgets/controls",
      "model_module_version": "1.5.0",
      "model_name": "DescriptionStyleModel",
      "state": {
       "description_width": ""
      }
     },
     "16416b29583b4fbe8035466ea39a1c27": {
      "model_module": "@jupyter-widgets/base",
      "model_module_version": "1.2.0",
      "model_name": "LayoutModel",
      "state": {}
     },
     "17ec43fa48c84e94ab22c413ee640a9e": {
      "model_module": "@jupyter-widgets/controls",
      "model_module_version": "1.5.0",
      "model_name": "HTMLModel",
      "state": {
       "layout": "IPY_MODEL_6e9784eabd9b413784dd9042966a0e8d",
       "style": "IPY_MODEL_5c995b6d1365466aa11c695262d3bb2d",
       "value": " 10/10 [01:48&lt;00:00,  8.64s/it]"
      }
     },
     "1833dedb5dba495695736315cad3aaff": {
      "model_module": "@jupyter-widgets/base",
      "model_module_version": "1.2.0",
      "model_name": "LayoutModel",
      "state": {}
     },
     "1aa90569b2de4932b006aee6b6288412": {
      "model_module": "@jupyter-widgets/base",
      "model_module_version": "1.2.0",
      "model_name": "LayoutModel",
      "state": {}
     },
     "1adfc346c2384a218aa7443b7473faed": {
      "model_module": "@jupyter-widgets/controls",
      "model_module_version": "1.5.0",
      "model_name": "HBoxModel",
      "state": {
       "children": [
        "IPY_MODEL_cf78b6580a1748a2b9330b0424a68fab",
        "IPY_MODEL_a879638778134d26960589fe4c96e71f",
        "IPY_MODEL_0303a5642e304bf9ba87f9b22438c1ce"
       ],
       "layout": "IPY_MODEL_f6bb7da8d18a401bb2cf4a75c4328aaf"
      }
     },
     "1d0daf117daf47ab9250a88c48f069ee": {
      "model_module": "@jupyter-widgets/controls",
      "model_module_version": "1.5.0",
      "model_name": "HBoxModel",
      "state": {
       "children": [
        "IPY_MODEL_e006c661f2cb45a0bf166a05ce4f3dd9",
        "IPY_MODEL_a8bae12100be44459cb6264c5c0d74b9",
        "IPY_MODEL_7e6e184467624ee28cef2ba538fa95c4"
       ],
       "layout": "IPY_MODEL_f893b81671464b189ea876a351dc30c0"
      }
     },
     "1d29d671c1d847aaac0bc8fd37f592b4": {
      "model_module": "@jupyter-widgets/base",
      "model_module_version": "1.2.0",
      "model_name": "LayoutModel",
      "state": {}
     },
     "1e36cdb4d4db446c8a9b73dd1b2a7437": {
      "model_module": "@jupyter-widgets/controls",
      "model_module_version": "1.5.0",
      "model_name": "DescriptionStyleModel",
      "state": {
       "description_width": ""
      }
     },
     "1e4bc5dfa14d4a8e9ca7215f2d72d749": {
      "model_module": "@jupyter-widgets/base",
      "model_module_version": "1.2.0",
      "model_name": "LayoutModel",
      "state": {}
     },
     "1f1f5c41ff594eebb075dee8d862bb26": {
      "model_module": "@jupyter-widgets/base",
      "model_module_version": "1.2.0",
      "model_name": "LayoutModel",
      "state": {}
     },
     "1f36da911535401798c1b42728061a43": {
      "model_module": "@jupyter-widgets/controls",
      "model_module_version": "1.5.0",
      "model_name": "ProgressStyleModel",
      "state": {
       "description_width": ""
      }
     },
     "1f76367c5b464dd387d1bab2da3f3573": {
      "model_module": "@jupyter-widgets/controls",
      "model_module_version": "1.5.0",
      "model_name": "HBoxModel",
      "state": {
       "children": [
        "IPY_MODEL_13914e035423451281a53c7dedcfdb22",
        "IPY_MODEL_0ea938f502a2423ba4999fe37b6b38b8",
        "IPY_MODEL_ba3e0613edc3456292d3f13d4e15552d"
       ],
       "layout": "IPY_MODEL_10c52cfaf3f54173a9d0793bc19ab5a8"
      }
     },
     "1fb1b22564474ba2837dc3d805338094": {
      "model_module": "@jupyter-widgets/controls",
      "model_module_version": "1.5.0",
      "model_name": "FloatProgressModel",
      "state": {
       "bar_style": "danger",
       "layout": "IPY_MODEL_c1fe1e2bdcca46738dccdc45d83f87cf",
       "max": 6,
       "style": "IPY_MODEL_71ba34ac34ee40f3b2ee4b43bc62d012",
       "value": 3
      }
     },
     "21033b026e1f430893b1a0cc36a21637": {
      "model_module": "@jupyter-widgets/controls",
      "model_module_version": "1.5.0",
      "model_name": "DescriptionStyleModel",
      "state": {
       "description_width": ""
      }
     },
     "21d5eb6b5f2747c6be4186a3ae2205f8": {
      "model_module": "@jupyter-widgets/base",
      "model_module_version": "1.2.0",
      "model_name": "LayoutModel",
      "state": {}
     },
     "21fabb804e1f482abc7ae51f74ab52e7": {
      "model_module": "@jupyter-widgets/controls",
      "model_module_version": "1.5.0",
      "model_name": "HTMLModel",
      "state": {
       "layout": "IPY_MODEL_b4e400cd8e9b4c3b9dea653e706cfeb9",
       "style": "IPY_MODEL_03ef436a94e2457fb6e4d4413a1ce897",
       "value": "  0%"
      }
     },
     "21fc7a5b7a984f69ad06d1802dfe4489": {
      "model_module": "@jupyter-widgets/base",
      "model_module_version": "1.2.0",
      "model_name": "LayoutModel",
      "state": {}
     },
     "2325bacd444d458891fa8d507c12b350": {
      "model_module": "@jupyter-widgets/controls",
      "model_module_version": "1.5.0",
      "model_name": "FloatProgressModel",
      "state": {
       "bar_style": "danger",
       "layout": "IPY_MODEL_96c787483e574063a06b619cff453757",
       "max": 10,
       "style": "IPY_MODEL_d15a6b7cd3514676bdde43e4bab30e4b"
      }
     },
     "237080f7e2f243f58980416807d0de8f": {
      "model_module": "@jupyter-widgets/controls",
      "model_module_version": "1.5.0",
      "model_name": "ProgressStyleModel",
      "state": {
       "description_width": ""
      }
     },
     "23d62264f5f2445eac1a7788e8d1677d": {
      "model_module": "@jupyter-widgets/controls",
      "model_module_version": "1.5.0",
      "model_name": "ProgressStyleModel",
      "state": {
       "description_width": ""
      }
     },
     "23ea51d053f444509691b55780697b19": {
      "model_module": "@jupyter-widgets/controls",
      "model_module_version": "1.5.0",
      "model_name": "DescriptionStyleModel",
      "state": {
       "description_width": ""
      }
     },
     "2461155aaa834462b1655c64ec15aba6": {
      "model_module": "@jupyter-widgets/controls",
      "model_module_version": "1.5.0",
      "model_name": "HBoxModel",
      "state": {
       "children": [
        "IPY_MODEL_e5fc3fc16d27420fb2ad28e2551e6185",
        "IPY_MODEL_7c787e97b01141ea90a9ae9ea0afb414",
        "IPY_MODEL_29b9803d539e40a5af0872a85846713c"
       ],
       "layout": "IPY_MODEL_4f7ce0e7f77f48c1b9652c4f953282ee"
      }
     },
     "24a99a1b31364f438719238a942c247f": {
      "model_module": "@jupyter-widgets/controls",
      "model_module_version": "1.5.0",
      "model_name": "DescriptionStyleModel",
      "state": {
       "description_width": ""
      }
     },
     "25362c08ae23411e904c03ae9607b398": {
      "model_module": "@jupyter-widgets/controls",
      "model_module_version": "1.5.0",
      "model_name": "HTMLModel",
      "state": {
       "layout": "IPY_MODEL_b4813162911a4acdbfc22bc6f5e12b81",
       "style": "IPY_MODEL_7d0fe5a0ad174feaa165b5e09d36faf8",
       "value": " 0/6 [00:00&lt;?, ?it/s]"
      }
     },
     "25d9f91c6a4b4112bfb32503fe2d8aca": {
      "model_module": "@jupyter-widgets/base",
      "model_module_version": "1.2.0",
      "model_name": "LayoutModel",
      "state": {}
     },
     "25f9b260b64b4270980cdfe5e8cbb11d": {
      "model_module": "@jupyter-widgets/controls",
      "model_module_version": "1.5.0",
      "model_name": "HTMLModel",
      "state": {
       "layout": "IPY_MODEL_edd676eafc9a41c798d09e90b7454608",
       "style": "IPY_MODEL_ba66c948760844ffb82f40a751ec5d72",
       "value": " 0/10 [00:13&lt;?, ?it/s]"
      }
     },
     "2651a8fdb8dc42f1a128b6b1503cbac4": {
      "model_module": "@jupyter-widgets/controls",
      "model_module_version": "1.5.0",
      "model_name": "DescriptionStyleModel",
      "state": {
       "description_width": ""
      }
     },
     "266ec126c6c84c09aa064abb6f8745a5": {
      "model_module": "@jupyter-widgets/controls",
      "model_module_version": "1.5.0",
      "model_name": "DescriptionStyleModel",
      "state": {
       "description_width": ""
      }
     },
     "278301fb1bb948d2972006ace506a482": {
      "model_module": "@jupyter-widgets/base",
      "model_module_version": "1.2.0",
      "model_name": "LayoutModel",
      "state": {}
     },
     "28e2e6c3dca546ebaacf5628319c067f": {
      "model_module": "@jupyter-widgets/controls",
      "model_module_version": "1.5.0",
      "model_name": "HBoxModel",
      "state": {
       "children": [
        "IPY_MODEL_d3eff17a6c3946748a91f3cd9474f5ce",
        "IPY_MODEL_b913ad7e28f54793a16c52a7d5647802",
        "IPY_MODEL_083451b398bb45ad921bc7bc14db7964"
       ],
       "layout": "IPY_MODEL_ebddd59cf13b4aeaba60692c22273b72"
      }
     },
     "29a0bcc2dc7b4f16bca7fd0652618254": {
      "model_module": "@jupyter-widgets/controls",
      "model_module_version": "1.5.0",
      "model_name": "HTMLModel",
      "state": {
       "layout": "IPY_MODEL_6dc671d1ad244f0dac4a1d381b016f3a",
       "style": "IPY_MODEL_df02e8a78e7444f2b815a3f7769b33d0",
       "value": "  0%"
      }
     },
     "29b9803d539e40a5af0872a85846713c": {
      "model_module": "@jupyter-widgets/controls",
      "model_module_version": "1.5.0",
      "model_name": "HTMLModel",
      "state": {
       "layout": "IPY_MODEL_348af13c56e44ae9a6f733a3b72f1384",
       "style": "IPY_MODEL_ccd8c2df28d3467e8c175497e466dd4e",
       "value": " 10/10 [01:42&lt;00:00,  9.91s/it]"
      }
     },
     "2ab013f3e1994feca71a16fb3f75c8af": {
      "model_module": "@jupyter-widgets/controls",
      "model_module_version": "1.5.0",
      "model_name": "ProgressStyleModel",
      "state": {
       "description_width": ""
      }
     },
     "2b4f081699b040c0ae83a1e6c834a8c3": {
      "model_module": "@jupyter-widgets/base",
      "model_module_version": "1.2.0",
      "model_name": "LayoutModel",
      "state": {}
     },
     "2b714a0880644222b91427ee73f00c5f": {
      "model_module": "@jupyter-widgets/base",
      "model_module_version": "1.2.0",
      "model_name": "LayoutModel",
      "state": {}
     },
     "2b7b7f08b72f4cf68e00a969b81619ed": {
      "model_module": "@jupyter-widgets/base",
      "model_module_version": "1.2.0",
      "model_name": "LayoutModel",
      "state": {}
     },
     "2d70cda8bc754f3abcaf23a1cf2b728b": {
      "model_module": "@jupyter-widgets/controls",
      "model_module_version": "1.5.0",
      "model_name": "ProgressStyleModel",
      "state": {
       "description_width": ""
      }
     },
     "2dd4105cd29041fb8096f34b2ed2d7ea": {
      "model_module": "@jupyter-widgets/base",
      "model_module_version": "1.2.0",
      "model_name": "LayoutModel",
      "state": {}
     },
     "302e1f049f79490cacf65197e043ccef": {
      "model_module": "@jupyter-widgets/controls",
      "model_module_version": "1.5.0",
      "model_name": "FloatProgressModel",
      "state": {
       "bar_style": "danger",
       "layout": "IPY_MODEL_eb0d617369504477a02ce5b21770435c",
       "max": 2,
       "style": "IPY_MODEL_c3e9f8ecfe414850922bd3a846248c08"
      }
     },
     "31f4ae3759ff4aa883a6eea6c1fa78b6": {
      "model_module": "@jupyter-widgets/base",
      "model_module_version": "1.2.0",
      "model_name": "LayoutModel",
      "state": {}
     },
     "3207e193340a4c37992c411d2f4802b8": {
      "model_module": "@jupyter-widgets/controls",
      "model_module_version": "1.5.0",
      "model_name": "ProgressStyleModel",
      "state": {
       "description_width": ""
      }
     },
     "3253f3b7dd45425aaf10df9f23f65e02": {
      "model_module": "@jupyter-widgets/controls",
      "model_module_version": "1.5.0",
      "model_name": "DescriptionStyleModel",
      "state": {
       "description_width": ""
      }
     },
     "3299ede944ad4c84b5ba53c277cd47a9": {
      "model_module": "@jupyter-widgets/controls",
      "model_module_version": "1.5.0",
      "model_name": "ProgressStyleModel",
      "state": {
       "description_width": ""
      }
     },
     "32b2673354be41b2bbadad6714f6fbdb": {
      "model_module": "@jupyter-widgets/base",
      "model_module_version": "1.2.0",
      "model_name": "LayoutModel",
      "state": {}
     },
     "32e22cc5d8d3451ebf8f42bac8b78634": {
      "model_module": "@jupyter-widgets/base",
      "model_module_version": "1.2.0",
      "model_name": "LayoutModel",
      "state": {}
     },
     "3348dca4b8b84c4594ad84cdf018dcd2": {
      "model_module": "@jupyter-widgets/controls",
      "model_module_version": "1.5.0",
      "model_name": "HTMLModel",
      "state": {
       "layout": "IPY_MODEL_c497e4e7a05c4f9ebd337cd761736c36",
       "style": "IPY_MODEL_968a1f84f7b549d9ae76d9fb5ce2f311",
       "value": " 2/100 [00:26&lt;20:22, 12.47s/it]"
      }
     },
     "345fd5a5bd8b4204a75db02a355debd6": {
      "model_module": "@jupyter-widgets/controls",
      "model_module_version": "1.5.0",
      "model_name": "FloatProgressModel",
      "state": {
       "bar_style": "success",
       "layout": "IPY_MODEL_03c6a2bb1efe45509ca0573f5671fbe2",
       "style": "IPY_MODEL_42d5dc7f5683445a8c0969398c4f15ad",
       "value": 100
      }
     },
     "347aea90e8b1464a861a1165abe03de8": {
      "model_module": "@jupyter-widgets/controls",
      "model_module_version": "1.5.0",
      "model_name": "DescriptionStyleModel",
      "state": {
       "description_width": ""
      }
     },
     "348af13c56e44ae9a6f733a3b72f1384": {
      "model_module": "@jupyter-widgets/base",
      "model_module_version": "1.2.0",
      "model_name": "LayoutModel",
      "state": {}
     },
     "3490f4d5f1c14878a9abe2eee2055bb2": {
      "model_module": "@jupyter-widgets/controls",
      "model_module_version": "1.5.0",
      "model_name": "DescriptionStyleModel",
      "state": {
       "description_width": ""
      }
     },
     "34cbdbd2dc774f69b2aaeadd4cb9c267": {
      "model_module": "@jupyter-widgets/controls",
      "model_module_version": "1.5.0",
      "model_name": "DescriptionStyleModel",
      "state": {
       "description_width": ""
      }
     },
     "3553ebe52de945ba899daa65988608ee": {
      "model_module": "@jupyter-widgets/controls",
      "model_module_version": "1.5.0",
      "model_name": "FloatProgressModel",
      "state": {
       "bar_style": "danger",
       "layout": "IPY_MODEL_b621bc167d15467484dbf8d90173afdd",
       "max": 6,
       "style": "IPY_MODEL_9dd9a3f3752e49fba0136302938dab58",
       "value": 1
      }
     },
     "356ccdc827d241e2b7ded12f55678e74": {
      "model_module": "@jupyter-widgets/controls",
      "model_module_version": "1.5.0",
      "model_name": "ProgressStyleModel",
      "state": {
       "description_width": ""
      }
     },
     "362245825fd2453387e98139a8a00a3a": {
      "model_module": "@jupyter-widgets/controls",
      "model_module_version": "1.5.0",
      "model_name": "HTMLModel",
      "state": {
       "layout": "IPY_MODEL_4ca4413e79fc4a92994f1b7a158435c5",
       "style": "IPY_MODEL_a60b43be425a4cb79142bb6bf4bbfb10",
       "value": " 50%"
      }
     },
     "36305e80babb44eaa4d293eae4596198": {
      "model_module": "@jupyter-widgets/controls",
      "model_module_version": "1.5.0",
      "model_name": "DescriptionStyleModel",
      "state": {
       "description_width": ""
      }
     },
     "36df321ba1c845c89c63e8fb1f5c7901": {
      "model_module": "@jupyter-widgets/base",
      "model_module_version": "1.2.0",
      "model_name": "LayoutModel",
      "state": {}
     },
     "37220c8326694ba69d6d59c65c978b58": {
      "model_module": "@jupyter-widgets/controls",
      "model_module_version": "1.5.0",
      "model_name": "HTMLModel",
      "state": {
       "layout": "IPY_MODEL_4b5ee0cdc9ff462eaddbf853f784c1c8",
       "style": "IPY_MODEL_e9837e94730548948c897a19b9170dbc",
       "value": "100%"
      }
     },
     "37329a091b3043fa99fd409ef8d083d0": {
      "model_module": "@jupyter-widgets/controls",
      "model_module_version": "1.5.0",
      "model_name": "HTMLModel",
      "state": {
       "layout": "IPY_MODEL_2b4f081699b040c0ae83a1e6c834a8c3",
       "style": "IPY_MODEL_34cbdbd2dc774f69b2aaeadd4cb9c267",
       "value": " 0/2 [00:01&lt;?, ?it/s]"
      }
     },
     "3813d2ddece04e3780758bbab71ad52b": {
      "model_module": "@jupyter-widgets/controls",
      "model_module_version": "1.5.0",
      "model_name": "FloatProgressModel",
      "state": {
       "bar_style": "danger",
       "layout": "IPY_MODEL_36df321ba1c845c89c63e8fb1f5c7901",
       "max": 2,
       "style": "IPY_MODEL_7deff62f485a4fff8f3d4b2a5bd5732d"
      }
     },
     "38a307366fe1454daf9952943c1185bf": {
      "model_module": "@jupyter-widgets/base",
      "model_module_version": "1.2.0",
      "model_name": "LayoutModel",
      "state": {}
     },
     "391ed103beab4bd0aed2c7625fef9258": {
      "model_module": "@jupyter-widgets/base",
      "model_module_version": "1.2.0",
      "model_name": "LayoutModel",
      "state": {}
     },
     "3d771370883f4555b1025e74b03fdf7f": {
      "model_module": "@jupyter-widgets/controls",
      "model_module_version": "1.5.0",
      "model_name": "HTMLModel",
      "state": {
       "layout": "IPY_MODEL_782d9afac9fb4e468a9de8c47c555471",
       "style": "IPY_MODEL_60de92a0d5804410b5357b9357106d89",
       "value": "  2%"
      }
     },
     "3ea7f35ad6924f638f0ef2f5fb027f2e": {
      "model_module": "@jupyter-widgets/controls",
      "model_module_version": "1.5.0",
      "model_name": "HBoxModel",
      "state": {
       "children": [
        "IPY_MODEL_406e7d323f62401d9d3d82a52f81f1ec",
        "IPY_MODEL_e87e7ab452d647be80c75ed6f0be3a8b",
        "IPY_MODEL_aa8ca1ba7e2648498fbc4c8332d10e7e"
       ],
       "layout": "IPY_MODEL_1451f2039ccb4c1c82011bd448c66042"
      }
     },
     "3eddd70bcacb45328ce54856eaad8775": {
      "model_module": "@jupyter-widgets/controls",
      "model_module_version": "1.5.0",
      "model_name": "DescriptionStyleModel",
      "state": {
       "description_width": ""
      }
     },
     "406abbe632c746bdb25beaa0a5f2bc5b": {
      "model_module": "@jupyter-widgets/controls",
      "model_module_version": "1.5.0",
      "model_name": "HTMLModel",
      "state": {
       "layout": "IPY_MODEL_bafb874b7e1c48fca55e7eec52289e68",
       "style": "IPY_MODEL_895bc294db4a462681a934fa5b572781",
       "value": "100%"
      }
     },
     "406e7d323f62401d9d3d82a52f81f1ec": {
      "model_module": "@jupyter-widgets/controls",
      "model_module_version": "1.5.0",
      "model_name": "HTMLModel",
      "state": {
       "layout": "IPY_MODEL_742439e7e60243b288618af39f7e1207",
       "style": "IPY_MODEL_23ea51d053f444509691b55780697b19",
       "value": "  0%"
      }
     },
     "4196acee08774e37ac807cea9395de6c": {
      "model_module": "@jupyter-widgets/controls",
      "model_module_version": "1.5.0",
      "model_name": "ProgressStyleModel",
      "state": {
       "description_width": ""
      }
     },
     "42823cc5a2f44cdba8683e27c193157a": {
      "model_module": "@jupyter-widgets/controls",
      "model_module_version": "1.5.0",
      "model_name": "HTMLModel",
      "state": {
       "layout": "IPY_MODEL_f091ca3f46bd4bc59b9cc297f41b955f",
       "style": "IPY_MODEL_db3c2585ec7a4a0b9923afe9e6e6ed82",
       "value": " 0/10 [00:00&lt;?, ?it/s]"
      }
     },
     "42d5dc7f5683445a8c0969398c4f15ad": {
      "model_module": "@jupyter-widgets/controls",
      "model_module_version": "1.5.0",
      "model_name": "ProgressStyleModel",
      "state": {
       "description_width": ""
      }
     },
     "435150023fca464dbc8157302f592eaf": {
      "model_module": "@jupyter-widgets/controls",
      "model_module_version": "1.5.0",
      "model_name": "ProgressStyleModel",
      "state": {
       "description_width": ""
      }
     },
     "4383b182845946fd9ddaf58fce7599b1": {
      "model_module": "@jupyter-widgets/controls",
      "model_module_version": "1.5.0",
      "model_name": "HTMLModel",
      "state": {
       "layout": "IPY_MODEL_d8315c8871cb48f8a26be0633ed18f82",
       "style": "IPY_MODEL_df5fe0f688d74c818bcd09a971472947",
       "value": "  1%"
      }
     },
     "43923ca019c2439b8ddad42354543253": {
      "model_module": "@jupyter-widgets/controls",
      "model_module_version": "1.5.0",
      "model_name": "DescriptionStyleModel",
      "state": {
       "description_width": ""
      }
     },
     "43aeadaf887e4860bab32c71166548a6": {
      "model_module": "@jupyter-widgets/controls",
      "model_module_version": "1.5.0",
      "model_name": "FloatProgressModel",
      "state": {
       "bar_style": "danger",
       "layout": "IPY_MODEL_e4baf2dc8a4d4adca31b690801b2c234",
       "max": 2,
       "style": "IPY_MODEL_a02d21e0b5b542af98f69310a5caca44"
      }
     },
     "4414654e95624ac58516f79631c61234": {
      "model_module": "@jupyter-widgets/controls",
      "model_module_version": "1.5.0",
      "model_name": "DescriptionStyleModel",
      "state": {
       "description_width": ""
      }
     },
     "44455ec94fcf4d0e9913731120a6f254": {
      "model_module": "@jupyter-widgets/controls",
      "model_module_version": "1.5.0",
      "model_name": "FloatProgressModel",
      "state": {
       "bar_style": "success",
       "layout": "IPY_MODEL_5c199f2be487465caa09c5b6cb3e2d97",
       "style": "IPY_MODEL_356ccdc827d241e2b7ded12f55678e74",
       "value": 100
      }
     },
     "44bdb342b5e340ddb11709a077d58801": {
      "model_module": "@jupyter-widgets/controls",
      "model_module_version": "1.5.0",
      "model_name": "HTMLModel",
      "state": {
       "layout": "IPY_MODEL_f5c0d204a1dc445fa9e7e3cacd3a12bd",
       "style": "IPY_MODEL_a28fee94a6da494783d34b8f74d06fec",
       "value": "  1%"
      }
     },
     "457a86c6c1eb4bc8a52433a871bcabc9": {
      "model_module": "@jupyter-widgets/base",
      "model_module_version": "1.2.0",
      "model_name": "LayoutModel",
      "state": {}
     },
     "459cf1bf145a4ec0bede24449a9ecb8c": {
      "model_module": "@jupyter-widgets/base",
      "model_module_version": "1.2.0",
      "model_name": "LayoutModel",
      "state": {}
     },
     "45ca5d98ce2840f3935664a84d4aafc9": {
      "model_module": "@jupyter-widgets/base",
      "model_module_version": "1.2.0",
      "model_name": "LayoutModel",
      "state": {}
     },
     "460287039de3412ab52adff21c04290a": {
      "model_module": "@jupyter-widgets/base",
      "model_module_version": "1.2.0",
      "model_name": "LayoutModel",
      "state": {}
     },
     "461c6eebfd1740668ac31a2e43deb0db": {
      "model_module": "@jupyter-widgets/controls",
      "model_module_version": "1.5.0",
      "model_name": "DescriptionStyleModel",
      "state": {
       "description_width": ""
      }
     },
     "46afd3a710f447c8af17e120e84a7e69": {
      "model_module": "@jupyter-widgets/controls",
      "model_module_version": "1.5.0",
      "model_name": "DescriptionStyleModel",
      "state": {
       "description_width": ""
      }
     },
     "4729349d35344f1f9001c77b0285fa2a": {
      "model_module": "@jupyter-widgets/controls",
      "model_module_version": "1.5.0",
      "model_name": "DescriptionStyleModel",
      "state": {
       "description_width": ""
      }
     },
     "4736fb43dc3c4694862531bde20a02e2": {
      "model_module": "@jupyter-widgets/base",
      "model_module_version": "1.2.0",
      "model_name": "LayoutModel",
      "state": {}
     },
     "474e534c99e849f9aa9fd35176bb2700": {
      "model_module": "@jupyter-widgets/base",
      "model_module_version": "1.2.0",
      "model_name": "LayoutModel",
      "state": {}
     },
     "482df36cee324bfb9168855d1cd145b1": {
      "model_module": "@jupyter-widgets/controls",
      "model_module_version": "1.5.0",
      "model_name": "DescriptionStyleModel",
      "state": {
       "description_width": ""
      }
     },
     "493bb242683244baa56dc8e6098a2eb1": {
      "model_module": "@jupyter-widgets/base",
      "model_module_version": "1.2.0",
      "model_name": "LayoutModel",
      "state": {}
     },
     "4b5ee0cdc9ff462eaddbf853f784c1c8": {
      "model_module": "@jupyter-widgets/base",
      "model_module_version": "1.2.0",
      "model_name": "LayoutModel",
      "state": {}
     },
     "4c03b468e0724e0c9ac1ddf8aa93dbe3": {
      "model_module": "@jupyter-widgets/controls",
      "model_module_version": "1.5.0",
      "model_name": "HTMLModel",
      "state": {
       "layout": "IPY_MODEL_6624199496cd4825ab38ebac83949f21",
       "style": "IPY_MODEL_4414654e95624ac58516f79631c61234",
       "value": " 17%"
      }
     },
     "4c18da65acb04da3a3a616613e81825f": {
      "model_module": "@jupyter-widgets/base",
      "model_module_version": "1.2.0",
      "model_name": "LayoutModel",
      "state": {}
     },
     "4ca4413e79fc4a92994f1b7a158435c5": {
      "model_module": "@jupyter-widgets/base",
      "model_module_version": "1.2.0",
      "model_name": "LayoutModel",
      "state": {}
     },
     "4d7618d7b35944598bff1da48c43c323": {
      "model_module": "@jupyter-widgets/base",
      "model_module_version": "1.2.0",
      "model_name": "LayoutModel",
      "state": {}
     },
     "4e1ab32404ef4c0ea4b6fdceb1fc9312": {
      "model_module": "@jupyter-widgets/controls",
      "model_module_version": "1.5.0",
      "model_name": "DescriptionStyleModel",
      "state": {
       "description_width": ""
      }
     },
     "4e7cae43d2b74ea2a47bb36392cccd6e": {
      "model_module": "@jupyter-widgets/base",
      "model_module_version": "1.2.0",
      "model_name": "LayoutModel",
      "state": {}
     },
     "4e8b87c04b3845979a879af375cd8e75": {
      "model_module": "@jupyter-widgets/controls",
      "model_module_version": "1.5.0",
      "model_name": "HBoxModel",
      "state": {
       "children": [
        "IPY_MODEL_3d771370883f4555b1025e74b03fdf7f",
        "IPY_MODEL_52993ea9b793483396a85410447b0dd3",
        "IPY_MODEL_3348dca4b8b84c4594ad84cdf018dcd2"
       ],
       "layout": "IPY_MODEL_32e22cc5d8d3451ebf8f42bac8b78634"
      }
     },
     "4ef6a044a95744708ba95d18ea067ade": {
      "model_module": "@jupyter-widgets/controls",
      "model_module_version": "1.5.0",
      "model_name": "DescriptionStyleModel",
      "state": {
       "description_width": ""
      }
     },
     "4f71e32a39144d2fa57d0c8f94e04fef": {
      "model_module": "@jupyter-widgets/controls",
      "model_module_version": "1.5.0",
      "model_name": "HTMLModel",
      "state": {
       "layout": "IPY_MODEL_0c8ecd1be4a24d488d717c6dd4d2932e",
       "style": "IPY_MODEL_ab0eec38ade2426a904a2ca9de7fb8e2",
       "value": " 6/6 [01:13&lt;00:00,  9.80s/it]"
      }
     },
     "4f7ce0e7f77f48c1b9652c4f953282ee": {
      "model_module": "@jupyter-widgets/base",
      "model_module_version": "1.2.0",
      "model_name": "LayoutModel",
      "state": {}
     },
     "50118bc782114ddf97b62c8a622d20c2": {
      "model_module": "@jupyter-widgets/controls",
      "model_module_version": "1.5.0",
      "model_name": "ProgressStyleModel",
      "state": {
       "description_width": ""
      }
     },
     "511582658c6a4c1fae89e16561c7c8ed": {
      "model_module": "@jupyter-widgets/controls",
      "model_module_version": "1.5.0",
      "model_name": "HBoxModel",
      "state": {
       "children": [
        "IPY_MODEL_44bdb342b5e340ddb11709a077d58801",
        "IPY_MODEL_015f809b87084148a888e472d4f0779d",
        "IPY_MODEL_990b560844af44b1977eaf79e5737388"
       ],
       "layout": "IPY_MODEL_1d29d671c1d847aaac0bc8fd37f592b4"
      }
     },
     "511775aade39477d955a64d9fbf553a5": {
      "model_module": "@jupyter-widgets/controls",
      "model_module_version": "1.5.0",
      "model_name": "HBoxModel",
      "state": {
       "children": [
        "IPY_MODEL_406abbe632c746bdb25beaa0a5f2bc5b",
        "IPY_MODEL_b8e1b9c4f3974465a53a3f4a89203512",
        "IPY_MODEL_b47069bd3e5645bbbc9b85def33cd4bc"
       ],
       "layout": "IPY_MODEL_00cfa7ef8b2945409c798a7cca9d91cd"
      }
     },
     "52993ea9b793483396a85410447b0dd3": {
      "model_module": "@jupyter-widgets/controls",
      "model_module_version": "1.5.0",
      "model_name": "FloatProgressModel",
      "state": {
       "bar_style": "danger",
       "layout": "IPY_MODEL_25d9f91c6a4b4112bfb32503fe2d8aca",
       "style": "IPY_MODEL_6c3f4e12c75d45ffba07ce048e5e8ada",
       "value": 2
      }
     },
     "52ba1888a25941459c32fc3940f5dab6": {
      "model_module": "@jupyter-widgets/base",
      "model_module_version": "1.2.0",
      "model_name": "LayoutModel",
      "state": {}
     },
     "536dc769096241af8974d8ca4c3816f9": {
      "model_module": "@jupyter-widgets/controls",
      "model_module_version": "1.5.0",
      "model_name": "DescriptionStyleModel",
      "state": {
       "description_width": ""
      }
     },
     "5370de57f1464ce7a39cd343132e09dd": {
      "model_module": "@jupyter-widgets/controls",
      "model_module_version": "1.5.0",
      "model_name": "ProgressStyleModel",
      "state": {
       "description_width": ""
      }
     },
     "53d33114fc0d47dba7309aca3ec0757f": {
      "model_module": "@jupyter-widgets/base",
      "model_module_version": "1.2.0",
      "model_name": "LayoutModel",
      "state": {}
     },
     "544cf056cdc4409ca1e6031b7256881d": {
      "model_module": "@jupyter-widgets/controls",
      "model_module_version": "1.5.0",
      "model_name": "HTMLModel",
      "state": {
       "layout": "IPY_MODEL_f939358be3e64e6abf5c824d3e2e6262",
       "style": "IPY_MODEL_461c6eebfd1740668ac31a2e43deb0db",
       "value": " 0/10 [00:00&lt;?, ?it/s]"
      }
     },
     "54bfaee8db4e48ef84f4380e7fec5a45": {
      "model_module": "@jupyter-widgets/base",
      "model_module_version": "1.2.0",
      "model_name": "LayoutModel",
      "state": {}
     },
     "56d234a06b714aff8c3cd0355586cb33": {
      "model_module": "@jupyter-widgets/base",
      "model_module_version": "1.2.0",
      "model_name": "LayoutModel",
      "state": {}
     },
     "56f654fbad7541e1b1270e20df4ae434": {
      "model_module": "@jupyter-widgets/base",
      "model_module_version": "1.2.0",
      "model_name": "LayoutModel",
      "state": {}
     },
     "5736679390bd4264931d1bff60d58f41": {
      "model_module": "@jupyter-widgets/controls",
      "model_module_version": "1.5.0",
      "model_name": "DescriptionStyleModel",
      "state": {
       "description_width": ""
      }
     },
     "582219344a8441e295b02525e0d0d77f": {
      "model_module": "@jupyter-widgets/base",
      "model_module_version": "1.2.0",
      "model_name": "LayoutModel",
      "state": {}
     },
     "583aa14ec834470ca2fd2e6f608298da": {
      "model_module": "@jupyter-widgets/controls",
      "model_module_version": "1.5.0",
      "model_name": "DescriptionStyleModel",
      "state": {
       "description_width": ""
      }
     },
     "585db117e42e408f8bd475eb344107df": {
      "model_module": "@jupyter-widgets/controls",
      "model_module_version": "1.5.0",
      "model_name": "HTMLModel",
      "state": {
       "layout": "IPY_MODEL_21d5eb6b5f2747c6be4186a3ae2205f8",
       "style": "IPY_MODEL_661157b6c68f49129fadfe84980eff4c",
       "value": "  3%"
      }
     },
     "587031848cfe45078eb795b789293a82": {
      "model_module": "@jupyter-widgets/controls",
      "model_module_version": "1.5.0",
      "model_name": "DescriptionStyleModel",
      "state": {
       "description_width": ""
      }
     },
     "5883abcb85dd4d45bec1fc8c8d8c060e": {
      "model_module": "@jupyter-widgets/controls",
      "model_module_version": "1.5.0",
      "model_name": "FloatProgressModel",
      "state": {
       "bar_style": "danger",
       "layout": "IPY_MODEL_642ad414de984a35bd8f680a727b7414",
       "style": "IPY_MODEL_e25490516a93487d8fc3a1888a0e375a",
       "value": 1
      }
     },
     "595016e3a9f740e888e2f941b0bc0c1d": {
      "model_module": "@jupyter-widgets/base",
      "model_module_version": "1.2.0",
      "model_name": "LayoutModel",
      "state": {}
     },
     "59da40ee1e224135a9a9c18cb85e5fcb": {
      "model_module": "@jupyter-widgets/controls",
      "model_module_version": "1.5.0",
      "model_name": "DescriptionStyleModel",
      "state": {
       "description_width": ""
      }
     },
     "5a9e82f890fe488db8fda1334856e7df": {
      "model_module": "@jupyter-widgets/controls",
      "model_module_version": "1.5.0",
      "model_name": "HBoxModel",
      "state": {
       "children": [
        "IPY_MODEL_d2a79d659b624e07b732536b8b3c1eee",
        "IPY_MODEL_44455ec94fcf4d0e9913731120a6f254",
        "IPY_MODEL_6449ab3d36fa4b55a42700b6b747f29b"
       ],
       "layout": "IPY_MODEL_16416b29583b4fbe8035466ea39a1c27"
      }
     },
     "5b522e8bc90149938edc3593b2be486d": {
      "model_module": "@jupyter-widgets/base",
      "model_module_version": "1.2.0",
      "model_name": "LayoutModel",
      "state": {}
     },
     "5b73546b16b2444fa11ae5e30d5b9152": {
      "model_module": "@jupyter-widgets/controls",
      "model_module_version": "1.5.0",
      "model_name": "HTMLModel",
      "state": {
       "layout": "IPY_MODEL_54bfaee8db4e48ef84f4380e7fec5a45",
       "style": "IPY_MODEL_d0f816746ce14041b60eaa618825770f",
       "value": " 1/6 [00:25&lt;01:56, 23.39s/it]"
      }
     },
     "5b780c9c1ceb4c9087efc8276b57d68a": {
      "model_module": "@jupyter-widgets/base",
      "model_module_version": "1.2.0",
      "model_name": "LayoutModel",
      "state": {}
     },
     "5bba11395c884264a8257de60909ea0d": {
      "model_module": "@jupyter-widgets/controls",
      "model_module_version": "1.5.0",
      "model_name": "HTMLModel",
      "state": {
       "layout": "IPY_MODEL_1aa90569b2de4932b006aee6b6288412",
       "style": "IPY_MODEL_587031848cfe45078eb795b789293a82",
       "value": "  0%"
      }
     },
     "5c199f2be487465caa09c5b6cb3e2d97": {
      "model_module": "@jupyter-widgets/base",
      "model_module_version": "1.2.0",
      "model_name": "LayoutModel",
      "state": {}
     },
     "5c3ee5126e7c4642a450b843f619d169": {
      "model_module": "@jupyter-widgets/controls",
      "model_module_version": "1.5.0",
      "model_name": "HBoxModel",
      "state": {
       "children": [
        "IPY_MODEL_a6ebc075b4f24b1784dc6ebbbcc91076",
        "IPY_MODEL_2325bacd444d458891fa8d507c12b350",
        "IPY_MODEL_544cf056cdc4409ca1e6031b7256881d"
       ],
       "layout": "IPY_MODEL_c111814b46b846048a239de9b462ac56"
      }
     },
     "5c995b6d1365466aa11c695262d3bb2d": {
      "model_module": "@jupyter-widgets/controls",
      "model_module_version": "1.5.0",
      "model_name": "DescriptionStyleModel",
      "state": {
       "description_width": ""
      }
     },
     "5d3da3903f8646bc8de20ca013e03573": {
      "model_module": "@jupyter-widgets/controls",
      "model_module_version": "1.5.0",
      "model_name": "HTMLModel",
      "state": {
       "layout": "IPY_MODEL_c5d336aea3d24338b0bfd81b262c0f39",
       "style": "IPY_MODEL_59da40ee1e224135a9a9c18cb85e5fcb",
       "value": "100%"
      }
     },
     "5ec399e0c4db434ea049f80a5c6d2950": {
      "model_module": "@jupyter-widgets/base",
      "model_module_version": "1.2.0",
      "model_name": "LayoutModel",
      "state": {}
     },
     "5fc199f9b1454e8da997eb5ad6ac6d53": {
      "model_module": "@jupyter-widgets/controls",
      "model_module_version": "1.5.0",
      "model_name": "DescriptionStyleModel",
      "state": {
       "description_width": ""
      }
     },
     "6075f86ac5494830b347b3a55eaf36b8": {
      "model_module": "@jupyter-widgets/controls",
      "model_module_version": "1.5.0",
      "model_name": "FloatProgressModel",
      "state": {
       "bar_style": "danger",
       "layout": "IPY_MODEL_d1f673f49b474e77acfd763e23f1830e",
       "style": "IPY_MODEL_237080f7e2f243f58980416807d0de8f",
       "value": 9
      }
     },
     "60de92a0d5804410b5357b9357106d89": {
      "model_module": "@jupyter-widgets/controls",
      "model_module_version": "1.5.0",
      "model_name": "DescriptionStyleModel",
      "state": {
       "description_width": ""
      }
     },
     "610c63a5016c42a3858d60bb87802f6e": {
      "model_module": "@jupyter-widgets/controls",
      "model_module_version": "1.5.0",
      "model_name": "HTMLModel",
      "state": {
       "layout": "IPY_MODEL_bd179a8e58e14e828106d974ce208594",
       "style": "IPY_MODEL_36305e80babb44eaa4d293eae4596198",
       "value": "100%"
      }
     },
     "61d84738de494b32a424e0ad15f781f3": {
      "model_module": "@jupyter-widgets/controls",
      "model_module_version": "1.5.0",
      "model_name": "DescriptionStyleModel",
      "state": {
       "description_width": ""
      }
     },
     "6282e35b0ea44e7798f304843260ecc9": {
      "model_module": "@jupyter-widgets/controls",
      "model_module_version": "1.5.0",
      "model_name": "FloatProgressModel",
      "state": {
       "bar_style": "danger",
       "layout": "IPY_MODEL_846109be9ef9487bb94f62eafdee6323",
       "style": "IPY_MODEL_3299ede944ad4c84b5ba53c277cd47a9",
       "value": 3
      }
     },
     "637e00a2ca3e41ae9a204318efe7fa5b": {
      "model_module": "@jupyter-widgets/base",
      "model_module_version": "1.2.0",
      "model_name": "LayoutModel",
      "state": {}
     },
     "640fec8e7d3143b09990483c3a6b5503": {
      "model_module": "@jupyter-widgets/base",
      "model_module_version": "1.2.0",
      "model_name": "LayoutModel",
      "state": {}
     },
     "64237af0197849838e78cc3b0eed79a1": {
      "model_module": "@jupyter-widgets/controls",
      "model_module_version": "1.5.0",
      "model_name": "ProgressStyleModel",
      "state": {
       "description_width": ""
      }
     },
     "642ad414de984a35bd8f680a727b7414": {
      "model_module": "@jupyter-widgets/base",
      "model_module_version": "1.2.0",
      "model_name": "LayoutModel",
      "state": {}
     },
     "6449ab3d36fa4b55a42700b6b747f29b": {
      "model_module": "@jupyter-widgets/controls",
      "model_module_version": "1.5.0",
      "model_name": "HTMLModel",
      "state": {
       "layout": "IPY_MODEL_ed0b8196cff74f5485bf1bcc75e95426",
       "style": "IPY_MODEL_71135988abb3456f8924e7300f41ef57",
       "value": " 100/100 [23:45&lt;00:00, 16.42s/it]"
      }
     },
     "661157b6c68f49129fadfe84980eff4c": {
      "model_module": "@jupyter-widgets/controls",
      "model_module_version": "1.5.0",
      "model_name": "DescriptionStyleModel",
      "state": {
       "description_width": ""
      }
     },
     "6624199496cd4825ab38ebac83949f21": {
      "model_module": "@jupyter-widgets/base",
      "model_module_version": "1.2.0",
      "model_name": "LayoutModel",
      "state": {}
     },
     "6809e126e3414077b844368516327370": {
      "model_module": "@jupyter-widgets/controls",
      "model_module_version": "1.5.0",
      "model_name": "HBoxModel",
      "state": {
       "children": [
        "IPY_MODEL_610c63a5016c42a3858d60bb87802f6e",
        "IPY_MODEL_f1c110243333498b97909287586c7a89",
        "IPY_MODEL_d6cb71675bd1468783501a29a8abb984"
       ],
       "layout": "IPY_MODEL_53d33114fc0d47dba7309aca3ec0757f"
      }
     },
     "69278dd0254d4196b43b4d23a34b4572": {
      "model_module": "@jupyter-widgets/base",
      "model_module_version": "1.2.0",
      "model_name": "LayoutModel",
      "state": {}
     },
     "6a06a898e62e4aecadb0bba91071f7c1": {
      "model_module": "@jupyter-widgets/controls",
      "model_module_version": "1.5.0",
      "model_name": "DescriptionStyleModel",
      "state": {
       "description_width": ""
      }
     },
     "6a94d79baff54b2c8aea424ab428ab57": {
      "model_module": "@jupyter-widgets/controls",
      "model_module_version": "1.5.0",
      "model_name": "ProgressStyleModel",
      "state": {
       "description_width": ""
      }
     },
     "6bc8980736db4d19ae6516ffdeb9fb0d": {
      "model_module": "@jupyter-widgets/base",
      "model_module_version": "1.2.0",
      "model_name": "LayoutModel",
      "state": {}
     },
     "6c32195d129c497b8ec7f7b53f9d8193": {
      "model_module": "@jupyter-widgets/controls",
      "model_module_version": "1.5.0",
      "model_name": "DescriptionStyleModel",
      "state": {
       "description_width": ""
      }
     },
     "6c3f4e12c75d45ffba07ce048e5e8ada": {
      "model_module": "@jupyter-widgets/controls",
      "model_module_version": "1.5.0",
      "model_name": "ProgressStyleModel",
      "state": {
       "description_width": ""
      }
     },
     "6c5f78620d2c4fdc9df2137b07bf2a49": {
      "model_module": "@jupyter-widgets/controls",
      "model_module_version": "1.5.0",
      "model_name": "HBoxModel",
      "state": {
       "children": [
        "IPY_MODEL_4383b182845946fd9ddaf58fce7599b1",
        "IPY_MODEL_5883abcb85dd4d45bec1fc8c8d8c060e",
        "IPY_MODEL_a5754d8bf0dc4a448935ffc300b00ecf"
       ],
       "layout": "IPY_MODEL_94b09e59f3be4a2e8750d844da9ec460"
      }
     },
     "6da84641183b47778fab6d831df215eb": {
      "model_module": "@jupyter-widgets/base",
      "model_module_version": "1.2.0",
      "model_name": "LayoutModel",
      "state": {}
     },
     "6dc671d1ad244f0dac4a1d381b016f3a": {
      "model_module": "@jupyter-widgets/base",
      "model_module_version": "1.2.0",
      "model_name": "LayoutModel",
      "state": {}
     },
     "6dcfca32299649e684c2d8d425ba7add": {
      "model_module": "@jupyter-widgets/base",
      "model_module_version": "1.2.0",
      "model_name": "LayoutModel",
      "state": {}
     },
     "6e79045e9d5c4874b0457c31e923c682": {
      "model_module": "@jupyter-widgets/controls",
      "model_module_version": "1.5.0",
      "model_name": "DescriptionStyleModel",
      "state": {
       "description_width": ""
      }
     },
     "6e9784eabd9b413784dd9042966a0e8d": {
      "model_module": "@jupyter-widgets/base",
      "model_module_version": "1.2.0",
      "model_name": "LayoutModel",
      "state": {}
     },
     "6f34298d5d7742cfbf6b1114645dd721": {
      "model_module": "@jupyter-widgets/base",
      "model_module_version": "1.2.0",
      "model_name": "LayoutModel",
      "state": {}
     },
     "6f6dd15f26ef4b2ca6502b51825abfed": {
      "model_module": "@jupyter-widgets/controls",
      "model_module_version": "1.5.0",
      "model_name": "FloatProgressModel",
      "state": {
       "bar_style": "danger",
       "layout": "IPY_MODEL_782a4235a5e94c62b56f740665d11bd2",
       "max": 6,
       "style": "IPY_MODEL_64237af0197849838e78cc3b0eed79a1"
      }
     },
     "6f9220a86af04742a5957deb1c0417cd": {
      "model_module": "@jupyter-widgets/controls",
      "model_module_version": "1.5.0",
      "model_name": "ProgressStyleModel",
      "state": {
       "description_width": ""
      }
     },
     "706fc51e8112488194b3620714180735": {
      "model_module": "@jupyter-widgets/base",
      "model_module_version": "1.2.0",
      "model_name": "LayoutModel",
      "state": {}
     },
     "70c14df879b144428590c65b0aa15c02": {
      "model_module": "@jupyter-widgets/controls",
      "model_module_version": "1.5.0",
      "model_name": "HBoxModel",
      "state": {
       "children": [
        "IPY_MODEL_addc91ef2e8c447c85a8bff76fa2ec1d",
        "IPY_MODEL_43aeadaf887e4860bab32c71166548a6",
        "IPY_MODEL_b7c2a939bd284414a00ae456d3d1b038"
       ],
       "layout": "IPY_MODEL_2b7b7f08b72f4cf68e00a969b81619ed"
      }
     },
     "71135988abb3456f8924e7300f41ef57": {
      "model_module": "@jupyter-widgets/controls",
      "model_module_version": "1.5.0",
      "model_name": "DescriptionStyleModel",
      "state": {
       "description_width": ""
      }
     },
     "71b69a753250436dabfe4b5f4289c79c": {
      "model_module": "@jupyter-widgets/controls",
      "model_module_version": "1.5.0",
      "model_name": "HTMLModel",
      "state": {
       "layout": "IPY_MODEL_474e534c99e849f9aa9fd35176bb2700",
       "style": "IPY_MODEL_536dc769096241af8974d8ca4c3816f9",
       "value": " 3/100 [00:39&lt;19:47, 12.25s/it]"
      }
     },
     "71ba34ac34ee40f3b2ee4b43bc62d012": {
      "model_module": "@jupyter-widgets/controls",
      "model_module_version": "1.5.0",
      "model_name": "ProgressStyleModel",
      "state": {
       "description_width": ""
      }
     },
     "73ea62f60d7c47f1ad55bbe635e74ec4": {
      "model_module": "@jupyter-widgets/controls",
      "model_module_version": "1.5.0",
      "model_name": "FloatProgressModel",
      "state": {
       "bar_style": "danger",
       "layout": "IPY_MODEL_a100051f6d8b4caaab1e97510904f9d2",
       "max": 10,
       "style": "IPY_MODEL_1f36da911535401798c1b42728061a43"
      }
     },
     "742439e7e60243b288618af39f7e1207": {
      "model_module": "@jupyter-widgets/base",
      "model_module_version": "1.2.0",
      "model_name": "LayoutModel",
      "state": {}
     },
     "75d3d7614e754ec48132a1d081499068": {
      "model_module": "@jupyter-widgets/base",
      "model_module_version": "1.2.0",
      "model_name": "LayoutModel",
      "state": {}
     },
     "76be36ca9bcb417182a69263514e07fb": {
      "model_module": "@jupyter-widgets/base",
      "model_module_version": "1.2.0",
      "model_name": "LayoutModel",
      "state": {}
     },
     "782a4235a5e94c62b56f740665d11bd2": {
      "model_module": "@jupyter-widgets/base",
      "model_module_version": "1.2.0",
      "model_name": "LayoutModel",
      "state": {}
     },
     "782d9afac9fb4e468a9de8c47c555471": {
      "model_module": "@jupyter-widgets/base",
      "model_module_version": "1.2.0",
      "model_name": "LayoutModel",
      "state": {}
     },
     "7831f753c54947b688cb9700d3a6e7c5": {
      "model_module": "@jupyter-widgets/controls",
      "model_module_version": "1.5.0",
      "model_name": "DescriptionStyleModel",
      "state": {
       "description_width": ""
      }
     },
     "787f8f26459c46048bb658c97c035633": {
      "model_module": "@jupyter-widgets/base",
      "model_module_version": "1.2.0",
      "model_name": "LayoutModel",
      "state": {}
     },
     "78a4c860bd634d6db86256eef351c63e": {
      "model_module": "@jupyter-widgets/controls",
      "model_module_version": "1.5.0",
      "model_name": "HBoxModel",
      "state": {
       "children": [
        "IPY_MODEL_ff144f75b54a42ffaa46be2621fcde8e",
        "IPY_MODEL_8dc7611cddfd402481282e3b46d68309",
        "IPY_MODEL_e745c5cc07a84cba88c6c13ab747456a"
       ],
       "layout": "IPY_MODEL_493bb242683244baa56dc8e6098a2eb1"
      }
     },
     "79d1a21e119c4389a4e999a935ce92be": {
      "model_module": "@jupyter-widgets/controls",
      "model_module_version": "1.5.0",
      "model_name": "HTMLModel",
      "state": {
       "layout": "IPY_MODEL_6f34298d5d7742cfbf6b1114645dd721",
       "style": "IPY_MODEL_82fad2307896457db1e454af7d233dbc",
       "value": "100%"
      }
     },
     "7ad0ace2f01747419b8dd72a7b6857f6": {
      "model_module": "@jupyter-widgets/controls",
      "model_module_version": "1.5.0",
      "model_name": "HTMLModel",
      "state": {
       "layout": "IPY_MODEL_827abb2348d8463db83fe3d37898f976",
       "style": "IPY_MODEL_7831f753c54947b688cb9700d3a6e7c5",
       "value": " 2/2 [00:19&lt;00:00,  9.58s/it]"
      }
     },
     "7c3c286b6f9443b6b99a105ed0dffed2": {
      "model_module": "@jupyter-widgets/controls",
      "model_module_version": "1.5.0",
      "model_name": "HTMLModel",
      "state": {
       "layout": "IPY_MODEL_abdadc88e7164721ab0682c1de1ca43b",
       "style": "IPY_MODEL_e03b4df02f9f4423b42de6b0a0909a52",
       "value": "100%"
      }
     },
     "7c787e97b01141ea90a9ae9ea0afb414": {
      "model_module": "@jupyter-widgets/controls",
      "model_module_version": "1.5.0",
      "model_name": "FloatProgressModel",
      "state": {
       "bar_style": "success",
       "layout": "IPY_MODEL_e7c51d4bf83449f4ada38c4c83a84b57",
       "max": 10,
       "style": "IPY_MODEL_8ea1b5d320194ff79d69259f1fbe07da",
       "value": 10
      }
     },
     "7d0fe5a0ad174feaa165b5e09d36faf8": {
      "model_module": "@jupyter-widgets/controls",
      "model_module_version": "1.5.0",
      "model_name": "DescriptionStyleModel",
      "state": {
       "description_width": ""
      }
     },
     "7deff62f485a4fff8f3d4b2a5bd5732d": {
      "model_module": "@jupyter-widgets/controls",
      "model_module_version": "1.5.0",
      "model_name": "ProgressStyleModel",
      "state": {
       "description_width": ""
      }
     },
     "7e4548a53dfd445db64e2a11ecd52f67": {
      "model_module": "@jupyter-widgets/controls",
      "model_module_version": "1.5.0",
      "model_name": "HTMLModel",
      "state": {
       "layout": "IPY_MODEL_e5fe4e4340cf427c9594013ad359f7d0",
       "style": "IPY_MODEL_1537c930621d42f0ba7c25cfafec163f",
       "value": "  0%"
      }
     },
     "7e6e184467624ee28cef2ba538fa95c4": {
      "model_module": "@jupyter-widgets/controls",
      "model_module_version": "1.5.0",
      "model_name": "HTMLModel",
      "state": {
       "layout": "IPY_MODEL_087b345e80e649cdb09f4d99b431a143",
       "style": "IPY_MODEL_6c32195d129c497b8ec7f7b53f9d8193",
       "value": " 100/100 [14:26&lt;00:00,  8.16s/it]"
      }
     },
     "7f4053c94c53413a910c5ca4741a5308": {
      "model_module": "@jupyter-widgets/base",
      "model_module_version": "1.2.0",
      "model_name": "LayoutModel",
      "state": {}
     },
     "810fa4e2aa8c4c42908bdf93fe8124ad": {
      "model_module": "@jupyter-widgets/controls",
      "model_module_version": "1.5.0",
      "model_name": "ProgressStyleModel",
      "state": {
       "description_width": ""
      }
     },
     "81f8fc0ee30d4ba8bbd13e0fb2de1a84": {
      "model_module": "@jupyter-widgets/controls",
      "model_module_version": "1.5.0",
      "model_name": "FloatProgressModel",
      "state": {
       "bar_style": "success",
       "layout": "IPY_MODEL_ff56a886db8b4d81bbc064c54bfe4d84",
       "max": 10,
       "style": "IPY_MODEL_6f9220a86af04742a5957deb1c0417cd",
       "value": 10
      }
     },
     "827abb2348d8463db83fe3d37898f976": {
      "model_module": "@jupyter-widgets/base",
      "model_module_version": "1.2.0",
      "model_name": "LayoutModel",
      "state": {}
     },
     "82fad2307896457db1e454af7d233dbc": {
      "model_module": "@jupyter-widgets/controls",
      "model_module_version": "1.5.0",
      "model_name": "DescriptionStyleModel",
      "state": {
       "description_width": ""
      }
     },
     "83087aa34b41404eab3d69e352d9446f": {
      "model_module": "@jupyter-widgets/controls",
      "model_module_version": "1.5.0",
      "model_name": "HBoxModel",
      "state": {
       "children": [
        "IPY_MODEL_c8223967c9c949f7a179329dea80ced9",
        "IPY_MODEL_302e1f049f79490cacf65197e043ccef",
        "IPY_MODEL_04e66cc5fc9447b9811a1e0f6fc411d5"
       ],
       "layout": "IPY_MODEL_de921307d3704f4a8b8eccdf714102d9"
      }
     },
     "8392b904501143da8cbeb1f0a4250b62": {
      "model_module": "@jupyter-widgets/controls",
      "model_module_version": "1.5.0",
      "model_name": "HBoxModel",
      "state": {
       "children": [
        "IPY_MODEL_362245825fd2453387e98139a8a00a3a",
        "IPY_MODEL_1fb1b22564474ba2837dc3d805338094",
        "IPY_MODEL_af6301c24ce7476fb69c76e1f9958607"
       ],
       "layout": "IPY_MODEL_4d7618d7b35944598bff1da48c43c323"
      }
     },
     "83c1b4986edb4c5d862408d082f75d5b": {
      "model_module": "@jupyter-widgets/controls",
      "model_module_version": "1.5.0",
      "model_name": "FloatProgressModel",
      "state": {
       "bar_style": "success",
       "layout": "IPY_MODEL_da75305b7db6437580119c07d7f57a0b",
       "max": 10,
       "style": "IPY_MODEL_05d4634e612f44a691101c0506a5d02c",
       "value": 10
      }
     },
     "83eb04499fb3463b94afe74a250aa49a": {
      "model_module": "@jupyter-widgets/base",
      "model_module_version": "1.2.0",
      "model_name": "LayoutModel",
      "state": {}
     },
     "846109be9ef9487bb94f62eafdee6323": {
      "model_module": "@jupyter-widgets/base",
      "model_module_version": "1.2.0",
      "model_name": "LayoutModel",
      "state": {}
     },
     "857821c2939b4883b064265b6cddf771": {
      "model_module": "@jupyter-widgets/controls",
      "model_module_version": "1.5.0",
      "model_name": "HTMLModel",
      "state": {
       "layout": "IPY_MODEL_b00924ead8964690901adfde7a0f4edb",
       "style": "IPY_MODEL_ff88882b7d9b489e91af4bc75e057c5a",
       "value": "  0%"
      }
     },
     "859c1ac5dc674269b5ec92e7695ad88d": {
      "model_module": "@jupyter-widgets/base",
      "model_module_version": "1.2.0",
      "model_name": "LayoutModel",
      "state": {}
     },
     "864ddbfa5b2c4cf4bd8e06d127254999": {
      "model_module": "@jupyter-widgets/controls",
      "model_module_version": "1.5.0",
      "model_name": "FloatProgressModel",
      "state": {
       "bar_style": "danger",
       "layout": "IPY_MODEL_b44f0e5643de4e3a8962932ec27dcc88",
       "style": "IPY_MODEL_a6e439c925a24f27b47fad40c412ee2f",
       "value": 12
      }
     },
     "891c18ce40944cb08ce847a5d2c0a8ed": {
      "model_module": "@jupyter-widgets/base",
      "model_module_version": "1.2.0",
      "model_name": "LayoutModel",
      "state": {}
     },
     "895bc294db4a462681a934fa5b572781": {
      "model_module": "@jupyter-widgets/controls",
      "model_module_version": "1.5.0",
      "model_name": "DescriptionStyleModel",
      "state": {
       "description_width": ""
      }
     },
     "8ac0e9df8ffa4c3db8a1219ba74924b8": {
      "model_module": "@jupyter-widgets/controls",
      "model_module_version": "1.5.0",
      "model_name": "HTMLModel",
      "state": {
       "layout": "IPY_MODEL_e5ae9ad6901443e7a9e03582cd1c9481",
       "style": "IPY_MODEL_6e79045e9d5c4874b0457c31e923c682",
       "value": " 10/10 [01:53&lt;00:00, 11.00s/it]"
      }
     },
     "8bd4145664b144139d9d282b1978a77d": {
      "model_module": "@jupyter-widgets/controls",
      "model_module_version": "1.5.0",
      "model_name": "HBoxModel",
      "state": {
       "children": [
        "IPY_MODEL_fbc1af5527bc4d36a369f16164bb010c",
        "IPY_MODEL_dcb376ec997a4a89ad1e7ef5cca72b0a",
        "IPY_MODEL_ba3e0c134b774e54a584e79d642e5a55"
       ],
       "layout": "IPY_MODEL_1e4bc5dfa14d4a8e9ca7215f2d72d749"
      }
     },
     "8caa183b2aec4d5e895730232f204cb0": {
      "model_module": "@jupyter-widgets/base",
      "model_module_version": "1.2.0",
      "model_name": "LayoutModel",
      "state": {}
     },
     "8dc7611cddfd402481282e3b46d68309": {
      "model_module": "@jupyter-widgets/controls",
      "model_module_version": "1.5.0",
      "model_name": "FloatProgressModel",
      "state": {
       "bar_style": "success",
       "layout": "IPY_MODEL_457a86c6c1eb4bc8a52433a871bcabc9",
       "style": "IPY_MODEL_50118bc782114ddf97b62c8a622d20c2",
       "value": 100
      }
     },
     "8e54fa24212b4467a6d786953f4acda3": {
      "model_module": "@jupyter-widgets/base",
      "model_module_version": "1.2.0",
      "model_name": "LayoutModel",
      "state": {}
     },
     "8ea1b5d320194ff79d69259f1fbe07da": {
      "model_module": "@jupyter-widgets/controls",
      "model_module_version": "1.5.0",
      "model_name": "ProgressStyleModel",
      "state": {
       "description_width": ""
      }
     },
     "9067caf207ff404994f41bd6acfb5373": {
      "model_module": "@jupyter-widgets/controls",
      "model_module_version": "1.5.0",
      "model_name": "DescriptionStyleModel",
      "state": {
       "description_width": ""
      }
     },
     "90efe39f1cb64778b7c26209f51d37ed": {
      "model_module": "@jupyter-widgets/controls",
      "model_module_version": "1.5.0",
      "model_name": "HTMLModel",
      "state": {
       "layout": "IPY_MODEL_4e7cae43d2b74ea2a47bb36392cccd6e",
       "style": "IPY_MODEL_cb578919e24e4c17b34561ccd4c0a36a",
       "value": " 2/2 [00:27&lt;00:00, 14.48s/it]"
      }
     },
     "91e3422a3f8b402d9692dbc46a7f395b": {
      "model_module": "@jupyter-widgets/controls",
      "model_module_version": "1.5.0",
      "model_name": "HTMLModel",
      "state": {
       "layout": "IPY_MODEL_76be36ca9bcb417182a69263514e07fb",
       "style": "IPY_MODEL_2651a8fdb8dc42f1a128b6b1503cbac4",
       "value": "100%"
      }
     },
     "937b11d0cb9c4fe89acc4485fb9ce530": {
      "model_module": "@jupyter-widgets/base",
      "model_module_version": "1.2.0",
      "model_name": "LayoutModel",
      "state": {}
     },
     "94b09e59f3be4a2e8750d844da9ec460": {
      "model_module": "@jupyter-widgets/base",
      "model_module_version": "1.2.0",
      "model_name": "LayoutModel",
      "state": {}
     },
     "968a1f84f7b549d9ae76d9fb5ce2f311": {
      "model_module": "@jupyter-widgets/controls",
      "model_module_version": "1.5.0",
      "model_name": "DescriptionStyleModel",
      "state": {
       "description_width": ""
      }
     },
     "969abe12a025453e930e8c949f0c7fdd": {
      "model_module": "@jupyter-widgets/controls",
      "model_module_version": "1.5.0",
      "model_name": "HTMLModel",
      "state": {
       "layout": "IPY_MODEL_0a6e9caf867040e79ed42cb65234b50b",
       "style": "IPY_MODEL_1e36cdb4d4db446c8a9b73dd1b2a7437",
       "value": " 17%"
      }
     },
     "96c787483e574063a06b619cff453757": {
      "model_module": "@jupyter-widgets/base",
      "model_module_version": "1.2.0",
      "model_name": "LayoutModel",
      "state": {}
     },
     "97026e8048b74606b92fa628d3b70e22": {
      "model_module": "@jupyter-widgets/controls",
      "model_module_version": "1.5.0",
      "model_name": "HBoxModel",
      "state": {
       "children": [
        "IPY_MODEL_91e3422a3f8b402d9692dbc46a7f395b",
        "IPY_MODEL_e449195e87044e278a0f9c59015b2dfe",
        "IPY_MODEL_7ad0ace2f01747419b8dd72a7b6857f6"
       ],
       "layout": "IPY_MODEL_dc038c32423d4978ae597132a4548c8e"
      }
     },
     "990b560844af44b1977eaf79e5737388": {
      "model_module": "@jupyter-widgets/controls",
      "model_module_version": "1.5.0",
      "model_name": "HTMLModel",
      "state": {
       "layout": "IPY_MODEL_f3b6ca82651e4ef48185de0a45ffb413",
       "style": "IPY_MODEL_0b1466b9f0d74b49bc89fe289b2ca9a0",
       "value": " 1/100 [00:21&lt;15:46,  9.56s/it]"
      }
     },
     "99b34c03539a48ed85b0fe34421b5ec2": {
      "model_module": "@jupyter-widgets/controls",
      "model_module_version": "1.5.0",
      "model_name": "HTMLModel",
      "state": {
       "layout": "IPY_MODEL_637e00a2ca3e41ae9a204318efe7fa5b",
       "style": "IPY_MODEL_4729349d35344f1f9001c77b0285fa2a",
       "value": "100%"
      }
     },
     "9b6117925ad84d88b1f6b3afc6eba372": {
      "model_module": "@jupyter-widgets/controls",
      "model_module_version": "1.5.0",
      "model_name": "DescriptionStyleModel",
      "state": {
       "description_width": ""
      }
     },
     "9d037d31ea064cb2997b4cf767366e5e": {
      "model_module": "@jupyter-widgets/controls",
      "model_module_version": "1.5.0",
      "model_name": "HBoxModel",
      "state": {
       "children": [
        "IPY_MODEL_5bba11395c884264a8257de60909ea0d",
        "IPY_MODEL_f8c938a10b8e455e957227109cde74b4",
        "IPY_MODEL_0e1cb7a40cbc4176826726ae0fa71df2"
       ],
       "layout": "IPY_MODEL_21fc7a5b7a984f69ad06d1802dfe4489"
      }
     },
     "9d803bd798284ee9a1b03ce13384e312": {
      "model_module": "@jupyter-widgets/base",
      "model_module_version": "1.2.0",
      "model_name": "LayoutModel",
      "state": {}
     },
     "9dd9a3f3752e49fba0136302938dab58": {
      "model_module": "@jupyter-widgets/controls",
      "model_module_version": "1.5.0",
      "model_name": "ProgressStyleModel",
      "state": {
       "description_width": ""
      }
     },
     "9e53c31233ee403d8260348cb05b7121": {
      "model_module": "@jupyter-widgets/base",
      "model_module_version": "1.2.0",
      "model_name": "LayoutModel",
      "state": {}
     },
     "9e935b04543246968f4daf8a740436c0": {
      "model_module": "@jupyter-widgets/controls",
      "model_module_version": "1.5.0",
      "model_name": "HBoxModel",
      "state": {
       "children": [
        "IPY_MODEL_5d3da3903f8646bc8de20ca013e03573",
        "IPY_MODEL_83c1b4986edb4c5d862408d082f75d5b",
        "IPY_MODEL_a6653cdaf3434573bfbf0273d297d8b6"
       ],
       "layout": "IPY_MODEL_d29fed02745b40ea878694259a47db1a"
      }
     },
     "9ef77ada41324a2f8f4020ed0cf84849": {
      "model_module": "@jupyter-widgets/controls",
      "model_module_version": "1.5.0",
      "model_name": "HTMLModel",
      "state": {
       "layout": "IPY_MODEL_2dd4105cd29041fb8096f34b2ed2d7ea",
       "style": "IPY_MODEL_583aa14ec834470ca2fd2e6f608298da",
       "value": " 12/100 [03:05&lt;19:32, 13.32s/it]"
      }
     },
     "a02d21e0b5b542af98f69310a5caca44": {
      "model_module": "@jupyter-widgets/controls",
      "model_module_version": "1.5.0",
      "model_name": "ProgressStyleModel",
      "state": {
       "description_width": ""
      }
     },
     "a081b4a0608947c183de1ae3dfc766d8": {
      "model_module": "@jupyter-widgets/base",
      "model_module_version": "1.2.0",
      "model_name": "LayoutModel",
      "state": {}
     },
     "a100051f6d8b4caaab1e97510904f9d2": {
      "model_module": "@jupyter-widgets/base",
      "model_module_version": "1.2.0",
      "model_name": "LayoutModel",
      "state": {}
     },
     "a170a0da72e848ceb014ef88ae92e0da": {
      "model_module": "@jupyter-widgets/controls",
      "model_module_version": "1.5.0",
      "model_name": "DescriptionStyleModel",
      "state": {
       "description_width": ""
      }
     },
     "a215597175a74db7acde914b94e2ee39": {
      "model_module": "@jupyter-widgets/base",
      "model_module_version": "1.2.0",
      "model_name": "LayoutModel",
      "state": {}
     },
     "a2379097c63548119a30e5dd62b0718e": {
      "model_module": "@jupyter-widgets/base",
      "model_module_version": "1.2.0",
      "model_name": "LayoutModel",
      "state": {}
     },
     "a28fee94a6da494783d34b8f74d06fec": {
      "model_module": "@jupyter-widgets/controls",
      "model_module_version": "1.5.0",
      "model_name": "DescriptionStyleModel",
      "state": {
       "description_width": ""
      }
     },
     "a33808b1acfd4e02985f79c12599b92a": {
      "model_module": "@jupyter-widgets/controls",
      "model_module_version": "1.5.0",
      "model_name": "HBoxModel",
      "state": {
       "children": [
        "IPY_MODEL_585db117e42e408f8bd475eb344107df",
        "IPY_MODEL_6282e35b0ea44e7798f304843260ecc9",
        "IPY_MODEL_71b69a753250436dabfe4b5f4289c79c"
       ],
       "layout": "IPY_MODEL_076da0fb72ac4e4f8540f050289ac0d3"
      }
     },
     "a3b300e246d24d7ea3533f966e88f701": {
      "model_module": "@jupyter-widgets/base",
      "model_module_version": "1.2.0",
      "model_name": "LayoutModel",
      "state": {}
     },
     "a454d70d365846168ab1f54cdbc250bb": {
      "model_module": "@jupyter-widgets/controls",
      "model_module_version": "1.5.0",
      "model_name": "ProgressStyleModel",
      "state": {
       "description_width": ""
      }
     },
     "a4721bd142744540b666a3794d06ccc5": {
      "model_module": "@jupyter-widgets/controls",
      "model_module_version": "1.5.0",
      "model_name": "HBoxModel",
      "state": {
       "children": [
        "IPY_MODEL_29a0bcc2dc7b4f16bca7fd0652618254",
        "IPY_MODEL_3813d2ddece04e3780758bbab71ad52b",
        "IPY_MODEL_37329a091b3043fa99fd409ef8d083d0"
       ],
       "layout": "IPY_MODEL_8e54fa24212b4467a6d786953f4acda3"
      }
     },
     "a4b6b925fa054e82bb3d6f4f6768a56a": {
      "model_module": "@jupyter-widgets/controls",
      "model_module_version": "1.5.0",
      "model_name": "HBoxModel",
      "state": {
       "children": [
        "IPY_MODEL_7e4548a53dfd445db64e2a11ecd52f67",
        "IPY_MODEL_73ea62f60d7c47f1ad55bbe635e74ec4",
        "IPY_MODEL_42823cc5a2f44cdba8683e27c193157a"
       ],
       "layout": "IPY_MODEL_640fec8e7d3143b09990483c3a6b5503"
      }
     },
     "a50056505de84e9a80c95d7fd13336d1": {
      "model_module": "@jupyter-widgets/controls",
      "model_module_version": "1.5.0",
      "model_name": "HTMLModel",
      "state": {
       "layout": "IPY_MODEL_4c18da65acb04da3a3a616613e81825f",
       "style": "IPY_MODEL_9b6117925ad84d88b1f6b3afc6eba372",
       "value": "100%"
      }
     },
     "a5754d8bf0dc4a448935ffc300b00ecf": {
      "model_module": "@jupyter-widgets/controls",
      "model_module_version": "1.5.0",
      "model_name": "HTMLModel",
      "state": {
       "layout": "IPY_MODEL_891c18ce40944cb08ce847a5d2c0a8ed",
       "style": "IPY_MODEL_46afd3a710f447c8af17e120e84a7e69",
       "value": " 1/100 [00:12&lt;20:04, 12.17s/it]"
      }
     },
     "a60b43be425a4cb79142bb6bf4bbfb10": {
      "model_module": "@jupyter-widgets/controls",
      "model_module_version": "1.5.0",
      "model_name": "DescriptionStyleModel",
      "state": {
       "description_width": ""
      }
     },
     "a6653cdaf3434573bfbf0273d297d8b6": {
      "model_module": "@jupyter-widgets/controls",
      "model_module_version": "1.5.0",
      "model_name": "HTMLModel",
      "state": {
       "layout": "IPY_MODEL_278301fb1bb948d2972006ace506a482",
       "style": "IPY_MODEL_3490f4d5f1c14878a9abe2eee2055bb2",
       "value": " 10/10 [01:46&lt;00:00,  8.74s/it]"
      }
     },
     "a6e439c925a24f27b47fad40c412ee2f": {
      "model_module": "@jupyter-widgets/controls",
      "model_module_version": "1.5.0",
      "model_name": "ProgressStyleModel",
      "state": {
       "description_width": ""
      }
     },
     "a6ebc075b4f24b1784dc6ebbbcc91076": {
      "model_module": "@jupyter-widgets/controls",
      "model_module_version": "1.5.0",
      "model_name": "HTMLModel",
      "state": {
       "layout": "IPY_MODEL_dd4e5062f23242c1a53663585b4f7d7e",
       "style": "IPY_MODEL_1109aa5b9c67403c8e80360ff3818fec",
       "value": "  0%"
      }
     },
     "a7488c717ab6457fb712fa126fce2df1": {
      "model_module": "@jupyter-widgets/base",
      "model_module_version": "1.2.0",
      "model_name": "LayoutModel",
      "state": {}
     },
     "a789bd2afe234cd5af32208136eacb1e": {
      "model_module": "@jupyter-widgets/base",
      "model_module_version": "1.2.0",
      "model_name": "LayoutModel",
      "state": {}
     },
     "a879638778134d26960589fe4c96e71f": {
      "model_module": "@jupyter-widgets/controls",
      "model_module_version": "1.5.0",
      "model_name": "FloatProgressModel",
      "state": {
       "bar_style": "success",
       "layout": "IPY_MODEL_859c1ac5dc674269b5ec92e7695ad88d",
       "style": "IPY_MODEL_f1379b9b8f844c8d94ac54a12ff86a68",
       "value": 100
      }
     },
     "a8bae12100be44459cb6264c5c0d74b9": {
      "model_module": "@jupyter-widgets/controls",
      "model_module_version": "1.5.0",
      "model_name": "FloatProgressModel",
      "state": {
       "bar_style": "success",
       "layout": "IPY_MODEL_a215597175a74db7acde914b94e2ee39",
       "style": "IPY_MODEL_6a94d79baff54b2c8aea424ab428ab57",
       "value": 100
      }
     },
     "a99b4431a4a34a65afad67c401fde42e": {
      "model_module": "@jupyter-widgets/base",
      "model_module_version": "1.2.0",
      "model_name": "LayoutModel",
      "state": {}
     },
     "aa169b8684154715855c5d3bf9fcd62f": {
      "model_module": "@jupyter-widgets/controls",
      "model_module_version": "1.5.0",
      "model_name": "HTMLModel",
      "state": {
       "layout": "IPY_MODEL_bd565a30e1ae4896ad2282c6fd3a96c2",
       "style": "IPY_MODEL_a170a0da72e848ceb014ef88ae92e0da",
       "value": " 100/100 [18:57&lt;00:00, 11.29s/it]"
      }
     },
     "aa8ca1ba7e2648498fbc4c8332d10e7e": {
      "model_module": "@jupyter-widgets/controls",
      "model_module_version": "1.5.0",
      "model_name": "HTMLModel",
      "state": {
       "layout": "IPY_MODEL_31f4ae3759ff4aa883a6eea6c1fa78b6",
       "style": "IPY_MODEL_d422b9c4ec22483cb08b4d2307839000",
       "value": " 0/2 [00:00&lt;?, ?it/s]"
      }
     },
     "aaf440b878824093985f73ec4c00c328": {
      "model_module": "@jupyter-widgets/controls",
      "model_module_version": "1.5.0",
      "model_name": "HTMLModel",
      "state": {
       "layout": "IPY_MODEL_38a307366fe1454daf9952943c1185bf",
       "style": "IPY_MODEL_6a06a898e62e4aecadb0bba91071f7c1",
       "value": "100%"
      }
     },
     "ab0eec38ade2426a904a2ca9de7fb8e2": {
      "model_module": "@jupyter-widgets/controls",
      "model_module_version": "1.5.0",
      "model_name": "DescriptionStyleModel",
      "state": {
       "description_width": ""
      }
     },
     "abbf500cb37a4bbca96e087473896eb6": {
      "model_module": "@jupyter-widgets/controls",
      "model_module_version": "1.5.0",
      "model_name": "ProgressStyleModel",
      "state": {
       "description_width": ""
      }
     },
     "abdadc88e7164721ab0682c1de1ca43b": {
      "model_module": "@jupyter-widgets/base",
      "model_module_version": "1.2.0",
      "model_name": "LayoutModel",
      "state": {}
     },
     "ac266e45cd7942a7b580c77fb92207c4": {
      "model_module": "@jupyter-widgets/base",
      "model_module_version": "1.2.0",
      "model_name": "LayoutModel",
      "state": {}
     },
     "ace7e0fe001348009e2857dc0749fcf6": {
      "model_module": "@jupyter-widgets/base",
      "model_module_version": "1.2.0",
      "model_name": "LayoutModel",
      "state": {}
     },
     "addc91ef2e8c447c85a8bff76fa2ec1d": {
      "model_module": "@jupyter-widgets/controls",
      "model_module_version": "1.5.0",
      "model_name": "HTMLModel",
      "state": {
       "layout": "IPY_MODEL_e25b0c3558cc4bbabb2cc5d84126df5c",
       "style": "IPY_MODEL_e2c503f03011400d9890dc4bda936d05",
       "value": "  0%"
      }
     },
     "af6301c24ce7476fb69c76e1f9958607": {
      "model_module": "@jupyter-widgets/controls",
      "model_module_version": "1.5.0",
      "model_name": "HTMLModel",
      "state": {
       "layout": "IPY_MODEL_937b11d0cb9c4fe89acc4485fb9ce530",
       "style": "IPY_MODEL_24a99a1b31364f438719238a942c247f",
       "value": " 3/6 [00:54&lt;00:28,  9.33s/it]"
      }
     },
     "b00924ead8964690901adfde7a0f4edb": {
      "model_module": "@jupyter-widgets/base",
      "model_module_version": "1.2.0",
      "model_name": "LayoutModel",
      "state": {}
     },
     "b0dd7cfa0f864404aa1cd31b81034c26": {
      "model_module": "@jupyter-widgets/controls",
      "model_module_version": "1.5.0",
      "model_name": "ProgressStyleModel",
      "state": {
       "description_width": ""
      }
     },
     "b1f8e8067ce24c51b0799a8384493155": {
      "model_module": "@jupyter-widgets/controls",
      "model_module_version": "1.5.0",
      "model_name": "HBoxModel",
      "state": {
       "children": [
        "IPY_MODEL_857821c2939b4883b064265b6cddf771",
        "IPY_MODEL_6f6dd15f26ef4b2ca6502b51825abfed",
        "IPY_MODEL_075e5d6e5c984552aee4d343579cab43"
       ],
       "layout": "IPY_MODEL_459cf1bf145a4ec0bede24449a9ecb8c"
      }
     },
     "b1fd86fd83354805ab87d13eef085615": {
      "model_module": "@jupyter-widgets/controls",
      "model_module_version": "1.5.0",
      "model_name": "DescriptionStyleModel",
      "state": {
       "description_width": ""
      }
     },
     "b44f0e5643de4e3a8962932ec27dcc88": {
      "model_module": "@jupyter-widgets/base",
      "model_module_version": "1.2.0",
      "model_name": "LayoutModel",
      "state": {}
     },
     "b47069bd3e5645bbbc9b85def33cd4bc": {
      "model_module": "@jupyter-widgets/controls",
      "model_module_version": "1.5.0",
      "model_name": "HTMLModel",
      "state": {
       "layout": "IPY_MODEL_391ed103beab4bd0aed2c7625fef9258",
       "style": "IPY_MODEL_0b64139134834cb687c3dd84a4cc495f",
       "value": " 100/100 [17:18&lt;00:00, 10.97s/it]"
      }
     },
     "b4813162911a4acdbfc22bc6f5e12b81": {
      "model_module": "@jupyter-widgets/base",
      "model_module_version": "1.2.0",
      "model_name": "LayoutModel",
      "state": {}
     },
     "b4e400cd8e9b4c3b9dea653e706cfeb9": {
      "model_module": "@jupyter-widgets/base",
      "model_module_version": "1.2.0",
      "model_name": "LayoutModel",
      "state": {}
     },
     "b5190fd291504b7e80facc9d5e35deb3": {
      "model_module": "@jupyter-widgets/controls",
      "model_module_version": "1.5.0",
      "model_name": "FloatProgressModel",
      "state": {
       "bar_style": "success",
       "layout": "IPY_MODEL_fd6019ba5af44347ad6cfa8675caf52d",
       "max": 10,
       "style": "IPY_MODEL_3207e193340a4c37992c411d2f4802b8",
       "value": 10
      }
     },
     "b52e5f2b14c54d9db7c236601bef9901": {
      "model_module": "@jupyter-widgets/controls",
      "model_module_version": "1.5.0",
      "model_name": "HTMLModel",
      "state": {
       "layout": "IPY_MODEL_582219344a8441e295b02525e0d0d77f",
       "style": "IPY_MODEL_43923ca019c2439b8ddad42354543253",
       "value": " 12%"
      }
     },
     "b621bc167d15467484dbf8d90173afdd": {
      "model_module": "@jupyter-widgets/base",
      "model_module_version": "1.2.0",
      "model_name": "LayoutModel",
      "state": {}
     },
     "b6b72b3e85d14054a04fd9f128913f86": {
      "model_module": "@jupyter-widgets/controls",
      "model_module_version": "1.5.0",
      "model_name": "FloatProgressModel",
      "state": {
       "bar_style": "success",
       "layout": "IPY_MODEL_8caa183b2aec4d5e895730232f204cb0",
       "max": 2,
       "style": "IPY_MODEL_fe6e4cc131694c5486164119dcf349c9",
       "value": 2
      }
     },
     "b6df0a4e25b24c879ce5ddd408c50022": {
      "model_module": "@jupyter-widgets/controls",
      "model_module_version": "1.5.0",
      "model_name": "DescriptionStyleModel",
      "state": {
       "description_width": ""
      }
     },
     "b7c2a939bd284414a00ae456d3d1b038": {
      "model_module": "@jupyter-widgets/controls",
      "model_module_version": "1.5.0",
      "model_name": "HTMLModel",
      "state": {
       "layout": "IPY_MODEL_0703faf5fa2f411eb2f7a21eeb3cf05a",
       "style": "IPY_MODEL_4e1ab32404ef4c0ea4b6fdceb1fc9312",
       "value": " 0/2 [00:05&lt;?, ?it/s]"
      }
     },
     "b857cd4264e842a199fbdd8fb856907d": {
      "model_module": "@jupyter-widgets/base",
      "model_module_version": "1.2.0",
      "model_name": "LayoutModel",
      "state": {}
     },
     "b87110e02dd24661a70a757cec16cd04": {
      "model_module": "@jupyter-widgets/base",
      "model_module_version": "1.2.0",
      "model_name": "LayoutModel",
      "state": {}
     },
     "b8e1b9c4f3974465a53a3f4a89203512": {
      "model_module": "@jupyter-widgets/controls",
      "model_module_version": "1.5.0",
      "model_name": "FloatProgressModel",
      "state": {
       "bar_style": "success",
       "layout": "IPY_MODEL_6bc8980736db4d19ae6516ffdeb9fb0d",
       "style": "IPY_MODEL_2d70cda8bc754f3abcaf23a1cf2b728b",
       "value": 100
      }
     },
     "b913ad7e28f54793a16c52a7d5647802": {
      "model_module": "@jupyter-widgets/controls",
      "model_module_version": "1.5.0",
      "model_name": "FloatProgressModel",
      "state": {
       "bar_style": "success",
       "layout": "IPY_MODEL_f12af11231cf46a69ac9da2670d62160",
       "max": 6,
       "style": "IPY_MODEL_2ab013f3e1994feca71a16fb3f75c8af",
       "value": 6
      }
     },
     "b94fa0f4305247a099f851b839061a79": {
      "model_module": "@jupyter-widgets/controls",
      "model_module_version": "1.5.0",
      "model_name": "HTMLModel",
      "state": {
       "layout": "IPY_MODEL_69278dd0254d4196b43b4d23a34b4572",
       "style": "IPY_MODEL_9067caf207ff404994f41bd6acfb5373",
       "value": "100%"
      }
     },
     "b9f180bdbe3f429fa424b9dc82f889c8": {
      "model_module": "@jupyter-widgets/controls",
      "model_module_version": "1.5.0",
      "model_name": "DescriptionStyleModel",
      "state": {
       "description_width": ""
      }
     },
     "ba3e0613edc3456292d3f13d4e15552d": {
      "model_module": "@jupyter-widgets/controls",
      "model_module_version": "1.5.0",
      "model_name": "HTMLModel",
      "state": {
       "layout": "IPY_MODEL_ef3b0349b8124b429352ade67fd940b0",
       "style": "IPY_MODEL_d695c282b969464ba9c4d6e375b72759",
       "value": " 0/100 [00:08&lt;?, ?it/s]"
      }
     },
     "ba3e0c134b774e54a584e79d642e5a55": {
      "model_module": "@jupyter-widgets/controls",
      "model_module_version": "1.5.0",
      "model_name": "HTMLModel",
      "state": {
       "layout": "IPY_MODEL_45ca5d98ce2840f3935664a84d4aafc9",
       "style": "IPY_MODEL_be722bf0a80b47fb9c21d1923be1d471",
       "value": " 0/4 [00:04&lt;?, ?it/s]"
      }
     },
     "ba66c948760844ffb82f40a751ec5d72": {
      "model_module": "@jupyter-widgets/controls",
      "model_module_version": "1.5.0",
      "model_name": "DescriptionStyleModel",
      "state": {
       "description_width": ""
      }
     },
     "bad75bf99e814db3ba9f8338655858ba": {
      "model_module": "@jupyter-widgets/controls",
      "model_module_version": "1.5.0",
      "model_name": "HBoxModel",
      "state": {
       "children": [
        "IPY_MODEL_b94fa0f4305247a099f851b839061a79",
        "IPY_MODEL_81f8fc0ee30d4ba8bbd13e0fb2de1a84",
        "IPY_MODEL_c7d7be8bfffd46efbdce8b56c98a5686"
       ],
       "layout": "IPY_MODEL_ec422c73f0b74432ad8f8f5b8c924862"
      }
     },
     "bafb874b7e1c48fca55e7eec52289e68": {
      "model_module": "@jupyter-widgets/base",
      "model_module_version": "1.2.0",
      "model_name": "LayoutModel",
      "state": {}
     },
     "bb17cf0ba1004c55ad761c69f40e98a1": {
      "model_module": "@jupyter-widgets/controls",
      "model_module_version": "1.5.0",
      "model_name": "HTMLModel",
      "state": {
       "layout": "IPY_MODEL_5ec399e0c4db434ea049f80a5c6d2950",
       "style": "IPY_MODEL_d6f3922d2e5d47dc8b4e165de73c6f6d",
       "value": "  0%"
      }
     },
     "bb6383a72d5b4b38a52833e1dcc6e68a": {
      "model_module": "@jupyter-widgets/base",
      "model_module_version": "1.2.0",
      "model_name": "LayoutModel",
      "state": {}
     },
     "bd179a8e58e14e828106d974ce208594": {
      "model_module": "@jupyter-widgets/base",
      "model_module_version": "1.2.0",
      "model_name": "LayoutModel",
      "state": {}
     },
     "bd565a30e1ae4896ad2282c6fd3a96c2": {
      "model_module": "@jupyter-widgets/base",
      "model_module_version": "1.2.0",
      "model_name": "LayoutModel",
      "state": {}
     },
     "be722bf0a80b47fb9c21d1923be1d471": {
      "model_module": "@jupyter-widgets/controls",
      "model_module_version": "1.5.0",
      "model_name": "DescriptionStyleModel",
      "state": {
       "description_width": ""
      }
     },
     "c09a625474b14b7391991e113d3f82c1": {
      "model_module": "@jupyter-widgets/base",
      "model_module_version": "1.2.0",
      "model_name": "LayoutModel",
      "state": {}
     },
     "c111814b46b846048a239de9b462ac56": {
      "model_module": "@jupyter-widgets/base",
      "model_module_version": "1.2.0",
      "model_name": "LayoutModel",
      "state": {}
     },
     "c1f1df61535a4532bf40ed19f7a8f4ab": {
      "model_module": "@jupyter-widgets/controls",
      "model_module_version": "1.5.0",
      "model_name": "HBoxModel",
      "state": {
       "children": [
        "IPY_MODEL_969abe12a025453e930e8c949f0c7fdd",
        "IPY_MODEL_3553ebe52de945ba899daa65988608ee",
        "IPY_MODEL_5b73546b16b2444fa11ae5e30d5b9152"
       ],
       "layout": "IPY_MODEL_56f654fbad7541e1b1270e20df4ae434"
      }
     },
     "c1fe1e2bdcca46738dccdc45d83f87cf": {
      "model_module": "@jupyter-widgets/base",
      "model_module_version": "1.2.0",
      "model_name": "LayoutModel",
      "state": {}
     },
     "c255314effe44aef8320e4d6c71d0806": {
      "model_module": "@jupyter-widgets/controls",
      "model_module_version": "1.5.0",
      "model_name": "FloatProgressModel",
      "state": {
       "bar_style": "success",
       "layout": "IPY_MODEL_cae6c8b5d32149b886f55a47e328c699",
       "max": 4,
       "style": "IPY_MODEL_fad3a850b6e14793983c5a623742cf76",
       "value": 4
      }
     },
     "c28748447f524a8290a922c6508e3b87": {
      "model_module": "@jupyter-widgets/controls",
      "model_module_version": "1.5.0",
      "model_name": "HBoxModel",
      "state": {
       "children": [
        "IPY_MODEL_b52e5f2b14c54d9db7c236601bef9901",
        "IPY_MODEL_864ddbfa5b2c4cf4bd8e06d127254999",
        "IPY_MODEL_9ef77ada41324a2f8f4020ed0cf84849"
       ],
       "layout": "IPY_MODEL_a99b4431a4a34a65afad67c401fde42e"
      }
     },
     "c2bdf741472a4c059158f4870a1348bc": {
      "model_module": "@jupyter-widgets/controls",
      "model_module_version": "1.5.0",
      "model_name": "DescriptionStyleModel",
      "state": {
       "description_width": ""
      }
     },
     "c31654f671cd43e3bf6ca1f4930f6dd1": {
      "model_module": "@jupyter-widgets/base",
      "model_module_version": "1.2.0",
      "model_name": "LayoutModel",
      "state": {}
     },
     "c3bcbda31e5f40d3b60b91b826755a96": {
      "model_module": "@jupyter-widgets/base",
      "model_module_version": "1.2.0",
      "model_name": "LayoutModel",
      "state": {}
     },
     "c3e4ded389ab474fb77c5751fb71f65a": {
      "model_module": "@jupyter-widgets/base",
      "model_module_version": "1.2.0",
      "model_name": "LayoutModel",
      "state": {}
     },
     "c3e9f8ecfe414850922bd3a846248c08": {
      "model_module": "@jupyter-widgets/controls",
      "model_module_version": "1.5.0",
      "model_name": "ProgressStyleModel",
      "state": {
       "description_width": ""
      }
     },
     "c497e4e7a05c4f9ebd337cd761736c36": {
      "model_module": "@jupyter-widgets/base",
      "model_module_version": "1.2.0",
      "model_name": "LayoutModel",
      "state": {}
     },
     "c5d336aea3d24338b0bfd81b262c0f39": {
      "model_module": "@jupyter-widgets/base",
      "model_module_version": "1.2.0",
      "model_name": "LayoutModel",
      "state": {}
     },
     "c64551c6977a47fdaa01489d801fa5c8": {
      "model_module": "@jupyter-widgets/base",
      "model_module_version": "1.2.0",
      "model_name": "LayoutModel",
      "state": {}
     },
     "c7396d0bf8734a89b0628564e3a62b59": {
      "model_module": "@jupyter-widgets/controls",
      "model_module_version": "1.5.0",
      "model_name": "ProgressStyleModel",
      "state": {
       "description_width": ""
      }
     },
     "c7d7be8bfffd46efbdce8b56c98a5686": {
      "model_module": "@jupyter-widgets/controls",
      "model_module_version": "1.5.0",
      "model_name": "HTMLModel",
      "state": {
       "layout": "IPY_MODEL_bb6383a72d5b4b38a52833e1dcc6e68a",
       "style": "IPY_MODEL_5736679390bd4264931d1bff60d58f41",
       "value": " 10/10 [02:11&lt;00:00, 12.07s/it]"
      }
     },
     "c7e4a51fcf09486d8c77ac52045bc49c": {
      "model_module": "@jupyter-widgets/controls",
      "model_module_version": "1.5.0",
      "model_name": "HTMLModel",
      "state": {
       "layout": "IPY_MODEL_a2379097c63548119a30e5dd62b0718e",
       "style": "IPY_MODEL_d46bfa0595ed4147bee4faf1f7e301e6",
       "value": " 9/100 [02:03&lt;21:25, 14.13s/it]"
      }
     },
     "c7eeda77bf8e45a5a34009e3bd1b7404": {
      "model_module": "@jupyter-widgets/controls",
      "model_module_version": "1.5.0",
      "model_name": "FloatProgressModel",
      "state": {
       "bar_style": "danger",
       "layout": "IPY_MODEL_9d803bd798284ee9a1b03ce13384e312",
       "max": 6,
       "style": "IPY_MODEL_f6223c45057c42dd98b71fab11743bcf",
       "value": 1
      }
     },
     "c81f13c9e51140618728e35f942920c1": {
      "model_module": "@jupyter-widgets/controls",
      "model_module_version": "1.5.0",
      "model_name": "DescriptionStyleModel",
      "state": {
       "description_width": ""
      }
     },
     "c8223967c9c949f7a179329dea80ced9": {
      "model_module": "@jupyter-widgets/controls",
      "model_module_version": "1.5.0",
      "model_name": "HTMLModel",
      "state": {
       "layout": "IPY_MODEL_5b780c9c1ceb4c9087efc8276b57d68a",
       "style": "IPY_MODEL_3253f3b7dd45425aaf10df9f23f65e02",
       "value": "  0%"
      }
     },
     "c90e81f6dfed4d5384ca7e0670b4cd08": {
      "model_module": "@jupyter-widgets/controls",
      "model_module_version": "1.5.0",
      "model_name": "DescriptionStyleModel",
      "state": {
       "description_width": ""
      }
     },
     "c9da0a181ab54847ada51539f3adeb75": {
      "model_module": "@jupyter-widgets/controls",
      "model_module_version": "1.5.0",
      "model_name": "HBoxModel",
      "state": {
       "children": [
        "IPY_MODEL_bb17cf0ba1004c55ad761c69f40e98a1",
        "IPY_MODEL_d233274e0dc3458a95e6f5ae8b458f1f",
        "IPY_MODEL_25f9b260b64b4270980cdfe5e8cbb11d"
       ],
       "layout": "IPY_MODEL_10dc29fe4f25408b9cd2033832aebce6"
      }
     },
     "ca49d383793c400191f5518a3e1c77f5": {
      "model_module": "@jupyter-widgets/controls",
      "model_module_version": "1.5.0",
      "model_name": "FloatProgressModel",
      "state": {
       "bar_style": "danger",
       "layout": "IPY_MODEL_ace7e0fe001348009e2857dc0749fcf6",
       "max": 6,
       "style": "IPY_MODEL_11a5ac55982d482e95c1c118032abb85"
      }
     },
     "cae6c8b5d32149b886f55a47e328c699": {
      "model_module": "@jupyter-widgets/base",
      "model_module_version": "1.2.0",
      "model_name": "LayoutModel",
      "state": {}
     },
     "cafb1a2d2f05419e8ec0ca41b58f9dd1": {
      "model_module": "@jupyter-widgets/controls",
      "model_module_version": "1.5.0",
      "model_name": "HBoxModel",
      "state": {
       "children": [
        "IPY_MODEL_21fabb804e1f482abc7ae51f74ab52e7",
        "IPY_MODEL_ca49d383793c400191f5518a3e1c77f5",
        "IPY_MODEL_25362c08ae23411e904c03ae9607b398"
       ],
       "layout": "IPY_MODEL_6da84641183b47778fab6d831df215eb"
      }
     },
     "cb578919e24e4c17b34561ccd4c0a36a": {
      "model_module": "@jupyter-widgets/controls",
      "model_module_version": "1.5.0",
      "model_name": "DescriptionStyleModel",
      "state": {
       "description_width": ""
      }
     },
     "cc60b9ee091344c0a76de3dcaa76ecba": {
      "model_module": "@jupyter-widgets/controls",
      "model_module_version": "1.5.0",
      "model_name": "HBoxModel",
      "state": {
       "children": [
        "IPY_MODEL_048e6de6d3f44594a1b417a05615a37e",
        "IPY_MODEL_e7609fbde5a14f6c9500df0ff38759ae",
        "IPY_MODEL_fb80a9de8fa54b8aa8835c181b30cd06"
       ],
       "layout": "IPY_MODEL_e9ffa86a382644d89fcb9b8c1eb3febd"
      }
     },
     "ccd8c2df28d3467e8c175497e466dd4e": {
      "model_module": "@jupyter-widgets/controls",
      "model_module_version": "1.5.0",
      "model_name": "DescriptionStyleModel",
      "state": {
       "description_width": ""
      }
     },
     "cd9a69a440314d30a1125c8246dabc2f": {
      "model_module": "@jupyter-widgets/base",
      "model_module_version": "1.2.0",
      "model_name": "LayoutModel",
      "state": {}
     },
     "cf78b6580a1748a2b9330b0424a68fab": {
      "model_module": "@jupyter-widgets/controls",
      "model_module_version": "1.5.0",
      "model_name": "HTMLModel",
      "state": {
       "layout": "IPY_MODEL_a3b300e246d24d7ea3533f966e88f701",
       "style": "IPY_MODEL_095c1908fd6c48c49f6b68ce9fae0f38",
       "value": "100%"
      }
     },
     "d04706cefc9d4da3a128ca963c2679da": {
      "model_module": "@jupyter-widgets/controls",
      "model_module_version": "1.5.0",
      "model_name": "HTMLModel",
      "state": {
       "layout": "IPY_MODEL_b857cd4264e842a199fbdd8fb856907d",
       "style": "IPY_MODEL_b9f180bdbe3f429fa424b9dc82f889c8",
       "value": " 1/6 [00:13&lt;00:38,  7.63s/it]"
      }
     },
     "d0f816746ce14041b60eaa618825770f": {
      "model_module": "@jupyter-widgets/controls",
      "model_module_version": "1.5.0",
      "model_name": "DescriptionStyleModel",
      "state": {
       "description_width": ""
      }
     },
     "d15a6b7cd3514676bdde43e4bab30e4b": {
      "model_module": "@jupyter-widgets/controls",
      "model_module_version": "1.5.0",
      "model_name": "ProgressStyleModel",
      "state": {
       "description_width": ""
      }
     },
     "d1f673f49b474e77acfd763e23f1830e": {
      "model_module": "@jupyter-widgets/base",
      "model_module_version": "1.2.0",
      "model_name": "LayoutModel",
      "state": {}
     },
     "d207df9065fb42e0ba67356fd632af84": {
      "model_module": "@jupyter-widgets/base",
      "model_module_version": "1.2.0",
      "model_name": "LayoutModel",
      "state": {}
     },
     "d233274e0dc3458a95e6f5ae8b458f1f": {
      "model_module": "@jupyter-widgets/controls",
      "model_module_version": "1.5.0",
      "model_name": "FloatProgressModel",
      "state": {
       "bar_style": "danger",
       "layout": "IPY_MODEL_706fc51e8112488194b3620714180735",
       "max": 10,
       "style": "IPY_MODEL_a454d70d365846168ab1f54cdbc250bb"
      }
     },
     "d29fed02745b40ea878694259a47db1a": {
      "model_module": "@jupyter-widgets/base",
      "model_module_version": "1.2.0",
      "model_name": "LayoutModel",
      "state": {}
     },
     "d2a79d659b624e07b732536b8b3c1eee": {
      "model_module": "@jupyter-widgets/controls",
      "model_module_version": "1.5.0",
      "model_name": "HTMLModel",
      "state": {
       "layout": "IPY_MODEL_cd9a69a440314d30a1125c8246dabc2f",
       "style": "IPY_MODEL_c2bdf741472a4c059158f4870a1348bc",
       "value": "100%"
      }
     },
     "d314727d4260466c9cd53b4828afc510": {
      "model_module": "@jupyter-widgets/controls",
      "model_module_version": "1.5.0",
      "model_name": "DescriptionStyleModel",
      "state": {
       "description_width": ""
      }
     },
     "d3eff17a6c3946748a91f3cd9474f5ce": {
      "model_module": "@jupyter-widgets/controls",
      "model_module_version": "1.5.0",
      "model_name": "HTMLModel",
      "state": {
       "layout": "IPY_MODEL_5b522e8bc90149938edc3593b2be486d",
       "style": "IPY_MODEL_347aea90e8b1464a861a1165abe03de8",
       "value": "100%"
      }
     },
     "d422b9c4ec22483cb08b4d2307839000": {
      "model_module": "@jupyter-widgets/controls",
      "model_module_version": "1.5.0",
      "model_name": "DescriptionStyleModel",
      "state": {
       "description_width": ""
      }
     },
     "d46bfa0595ed4147bee4faf1f7e301e6": {
      "model_module": "@jupyter-widgets/controls",
      "model_module_version": "1.5.0",
      "model_name": "DescriptionStyleModel",
      "state": {
       "description_width": ""
      }
     },
     "d695c282b969464ba9c4d6e375b72759": {
      "model_module": "@jupyter-widgets/controls",
      "model_module_version": "1.5.0",
      "model_name": "DescriptionStyleModel",
      "state": {
       "description_width": ""
      }
     },
     "d6cb71675bd1468783501a29a8abb984": {
      "model_module": "@jupyter-widgets/controls",
      "model_module_version": "1.5.0",
      "model_name": "HTMLModel",
      "state": {
       "layout": "IPY_MODEL_fc4c1b0909034f9a97afc68bc056980f",
       "style": "IPY_MODEL_266ec126c6c84c09aa064abb6f8745a5",
       "value": " 36/36 [08:13&lt;00:00, 12.78s/it]"
      }
     },
     "d6f3922d2e5d47dc8b4e165de73c6f6d": {
      "model_module": "@jupyter-widgets/controls",
      "model_module_version": "1.5.0",
      "model_name": "DescriptionStyleModel",
      "state": {
       "description_width": ""
      }
     },
     "d8315c8871cb48f8a26be0633ed18f82": {
      "model_module": "@jupyter-widgets/base",
      "model_module_version": "1.2.0",
      "model_name": "LayoutModel",
      "state": {}
     },
     "da75305b7db6437580119c07d7f57a0b": {
      "model_module": "@jupyter-widgets/base",
      "model_module_version": "1.2.0",
      "model_name": "LayoutModel",
      "state": {}
     },
     "da9d06a1acee4381962dff7bc3345fa8": {
      "model_module": "@jupyter-widgets/base",
      "model_module_version": "1.2.0",
      "model_name": "LayoutModel",
      "state": {}
     },
     "db3c2585ec7a4a0b9923afe9e6e6ed82": {
      "model_module": "@jupyter-widgets/controls",
      "model_module_version": "1.5.0",
      "model_name": "DescriptionStyleModel",
      "state": {
       "description_width": ""
      }
     },
     "dc038c32423d4978ae597132a4548c8e": {
      "model_module": "@jupyter-widgets/base",
      "model_module_version": "1.2.0",
      "model_name": "LayoutModel",
      "state": {}
     },
     "dc81709e2937494ab7b7f32366d60621": {
      "model_module": "@jupyter-widgets/controls",
      "model_module_version": "1.5.0",
      "model_name": "HBoxModel",
      "state": {
       "children": [
        "IPY_MODEL_99b34c03539a48ed85b0fe34421b5ec2",
        "IPY_MODEL_b5190fd291504b7e80facc9d5e35deb3",
        "IPY_MODEL_17ec43fa48c84e94ab22c413ee640a9e"
       ],
       "layout": "IPY_MODEL_c64551c6977a47fdaa01489d801fa5c8"
      }
     },
     "dcb376ec997a4a89ad1e7ef5cca72b0a": {
      "model_module": "@jupyter-widgets/controls",
      "model_module_version": "1.5.0",
      "model_name": "FloatProgressModel",
      "state": {
       "bar_style": "danger",
       "layout": "IPY_MODEL_b87110e02dd24661a70a757cec16cd04",
       "max": 4,
       "style": "IPY_MODEL_f2a8e7c046164d7584b952a5647e488a"
      }
     },
     "dd4e5062f23242c1a53663585b4f7d7e": {
      "model_module": "@jupyter-widgets/base",
      "model_module_version": "1.2.0",
      "model_name": "LayoutModel",
      "state": {}
     },
     "de921307d3704f4a8b8eccdf714102d9": {
      "model_module": "@jupyter-widgets/base",
      "model_module_version": "1.2.0",
      "model_name": "LayoutModel",
      "state": {}
     },
     "df02e8a78e7444f2b815a3f7769b33d0": {
      "model_module": "@jupyter-widgets/controls",
      "model_module_version": "1.5.0",
      "model_name": "DescriptionStyleModel",
      "state": {
       "description_width": ""
      }
     },
     "df5fe0f688d74c818bcd09a971472947": {
      "model_module": "@jupyter-widgets/controls",
      "model_module_version": "1.5.0",
      "model_name": "DescriptionStyleModel",
      "state": {
       "description_width": ""
      }
     },
     "e006c661f2cb45a0bf166a05ce4f3dd9": {
      "model_module": "@jupyter-widgets/controls",
      "model_module_version": "1.5.0",
      "model_name": "HTMLModel",
      "state": {
       "layout": "IPY_MODEL_4736fb43dc3c4694862531bde20a02e2",
       "style": "IPY_MODEL_c81f13c9e51140618728e35f942920c1",
       "value": "100%"
      }
     },
     "e03b4df02f9f4423b42de6b0a0909a52": {
      "model_module": "@jupyter-widgets/controls",
      "model_module_version": "1.5.0",
      "model_name": "DescriptionStyleModel",
      "state": {
       "description_width": ""
      }
     },
     "e070db11c743425fb06ff31099ad78b3": {
      "model_module": "@jupyter-widgets/controls",
      "model_module_version": "1.5.0",
      "model_name": "HTMLModel",
      "state": {
       "layout": "IPY_MODEL_15260d62ec0842149711bc60dd80b593",
       "style": "IPY_MODEL_e9213f452b48498cbfcdb18a7c3b602b",
       "value": "  9%"
      }
     },
     "e25490516a93487d8fc3a1888a0e375a": {
      "model_module": "@jupyter-widgets/controls",
      "model_module_version": "1.5.0",
      "model_name": "ProgressStyleModel",
      "state": {
       "description_width": ""
      }
     },
     "e25b0c3558cc4bbabb2cc5d84126df5c": {
      "model_module": "@jupyter-widgets/base",
      "model_module_version": "1.2.0",
      "model_name": "LayoutModel",
      "state": {}
     },
     "e2c503f03011400d9890dc4bda936d05": {
      "model_module": "@jupyter-widgets/controls",
      "model_module_version": "1.5.0",
      "model_name": "DescriptionStyleModel",
      "state": {
       "description_width": ""
      }
     },
     "e2f2ceca46d0446e85c1f93031a53b39": {
      "model_module": "@jupyter-widgets/base",
      "model_module_version": "1.2.0",
      "model_name": "LayoutModel",
      "state": {}
     },
     "e449195e87044e278a0f9c59015b2dfe": {
      "model_module": "@jupyter-widgets/controls",
      "model_module_version": "1.5.0",
      "model_name": "FloatProgressModel",
      "state": {
       "bar_style": "success",
       "layout": "IPY_MODEL_83eb04499fb3463b94afe74a250aa49a",
       "max": 2,
       "style": "IPY_MODEL_c7396d0bf8734a89b0628564e3a62b59",
       "value": 2
      }
     },
     "e4baf2dc8a4d4adca31b690801b2c234": {
      "model_module": "@jupyter-widgets/base",
      "model_module_version": "1.2.0",
      "model_name": "LayoutModel",
      "state": {}
     },
     "e5ae9ad6901443e7a9e03582cd1c9481": {
      "model_module": "@jupyter-widgets/base",
      "model_module_version": "1.2.0",
      "model_name": "LayoutModel",
      "state": {}
     },
     "e5b3ef6c9db14c4392011d258e41427a": {
      "model_module": "@jupyter-widgets/controls",
      "model_module_version": "1.5.0",
      "model_name": "FloatProgressModel",
      "state": {
       "bar_style": "success",
       "layout": "IPY_MODEL_595016e3a9f740e888e2f941b0bc0c1d",
       "max": 6,
       "style": "IPY_MODEL_810fa4e2aa8c4c42908bdf93fe8124ad",
       "value": 6
      }
     },
     "e5fc3fc16d27420fb2ad28e2551e6185": {
      "model_module": "@jupyter-widgets/controls",
      "model_module_version": "1.5.0",
      "model_name": "HTMLModel",
      "state": {
       "layout": "IPY_MODEL_f324a75497324d20a57f982346cd7e4c",
       "style": "IPY_MODEL_21033b026e1f430893b1a0cc36a21637",
       "value": "100%"
      }
     },
     "e5fe4e4340cf427c9594013ad359f7d0": {
      "model_module": "@jupyter-widgets/base",
      "model_module_version": "1.2.0",
      "model_name": "LayoutModel",
      "state": {}
     },
     "e6aba12926b146b7b8464babf3bdc9b6": {
      "model_module": "@jupyter-widgets/controls",
      "model_module_version": "1.5.0",
      "model_name": "DescriptionStyleModel",
      "state": {
       "description_width": ""
      }
     },
     "e745c5cc07a84cba88c6c13ab747456a": {
      "model_module": "@jupyter-widgets/controls",
      "model_module_version": "1.5.0",
      "model_name": "HTMLModel",
      "state": {
       "layout": "IPY_MODEL_9e53c31233ee403d8260348cb05b7121",
       "style": "IPY_MODEL_4ef6a044a95744708ba95d18ea067ade",
       "value": " 100/100 [17:51&lt;00:00,  8.57s/it]"
      }
     },
     "e7609fbde5a14f6c9500df0ff38759ae": {
      "model_module": "@jupyter-widgets/controls",
      "model_module_version": "1.5.0",
      "model_name": "FloatProgressModel",
      "state": {
       "bar_style": "danger",
       "layout": "IPY_MODEL_ed868f68cdc54a0dbb4512ffd0739562",
       "max": 2,
       "style": "IPY_MODEL_435150023fca464dbc8157302f592eaf",
       "value": 1
      }
     },
     "e7c51d4bf83449f4ada38c4c83a84b57": {
      "model_module": "@jupyter-widgets/base",
      "model_module_version": "1.2.0",
      "model_name": "LayoutModel",
      "state": {}
     },
     "e830659d3d7548d0aa8fff5cff5cbe5a": {
      "model_module": "@jupyter-widgets/controls",
      "model_module_version": "1.5.0",
      "model_name": "ProgressStyleModel",
      "state": {
       "description_width": ""
      }
     },
     "e87e7ab452d647be80c75ed6f0be3a8b": {
      "model_module": "@jupyter-widgets/controls",
      "model_module_version": "1.5.0",
      "model_name": "FloatProgressModel",
      "state": {
       "bar_style": "danger",
       "layout": "IPY_MODEL_a081b4a0608947c183de1ae3dfc766d8",
       "max": 2,
       "style": "IPY_MODEL_b0dd7cfa0f864404aa1cd31b81034c26"
      }
     },
     "e9213f452b48498cbfcdb18a7c3b602b": {
      "model_module": "@jupyter-widgets/controls",
      "model_module_version": "1.5.0",
      "model_name": "DescriptionStyleModel",
      "state": {
       "description_width": ""
      }
     },
     "e9837e94730548948c897a19b9170dbc": {
      "model_module": "@jupyter-widgets/controls",
      "model_module_version": "1.5.0",
      "model_name": "DescriptionStyleModel",
      "state": {
       "description_width": ""
      }
     },
     "e9ffa86a382644d89fcb9b8c1eb3febd": {
      "model_module": "@jupyter-widgets/base",
      "model_module_version": "1.2.0",
      "model_name": "LayoutModel",
      "state": {}
     },
     "eb0d617369504477a02ce5b21770435c": {
      "model_module": "@jupyter-widgets/base",
      "model_module_version": "1.2.0",
      "model_name": "LayoutModel",
      "state": {}
     },
     "ebddd59cf13b4aeaba60692c22273b72": {
      "model_module": "@jupyter-widgets/base",
      "model_module_version": "1.2.0",
      "model_name": "LayoutModel",
      "state": {}
     },
     "ebf05768d81a4c3d9e2315f64cd69a45": {
      "model_module": "@jupyter-widgets/controls",
      "model_module_version": "1.5.0",
      "model_name": "DescriptionStyleModel",
      "state": {
       "description_width": ""
      }
     },
     "ec422c73f0b74432ad8f8f5b8c924862": {
      "model_module": "@jupyter-widgets/base",
      "model_module_version": "1.2.0",
      "model_name": "LayoutModel",
      "state": {}
     },
     "ed00411455cf4ff69909213c0e50806b": {
      "model_module": "@jupyter-widgets/controls",
      "model_module_version": "1.5.0",
      "model_name": "DescriptionStyleModel",
      "state": {
       "description_width": ""
      }
     },
     "ed0b8196cff74f5485bf1bcc75e95426": {
      "model_module": "@jupyter-widgets/base",
      "model_module_version": "1.2.0",
      "model_name": "LayoutModel",
      "state": {}
     },
     "ed868f68cdc54a0dbb4512ffd0739562": {
      "model_module": "@jupyter-widgets/base",
      "model_module_version": "1.2.0",
      "model_name": "LayoutModel",
      "state": {}
     },
     "edd676eafc9a41c798d09e90b7454608": {
      "model_module": "@jupyter-widgets/base",
      "model_module_version": "1.2.0",
      "model_name": "LayoutModel",
      "state": {}
     },
     "ee2e9dc130e145618107c7f762910644": {
      "model_module": "@jupyter-widgets/controls",
      "model_module_version": "1.5.0",
      "model_name": "HBoxModel",
      "state": {
       "children": [
        "IPY_MODEL_79d1a21e119c4389a4e999a935ce92be",
        "IPY_MODEL_345fd5a5bd8b4204a75db02a355debd6",
        "IPY_MODEL_aa169b8684154715855c5d3bf9fcd62f"
       ],
       "layout": "IPY_MODEL_a7488c717ab6457fb712fa126fce2df1"
      }
     },
     "ef3b0349b8124b429352ade67fd940b0": {
      "model_module": "@jupyter-widgets/base",
      "model_module_version": "1.2.0",
      "model_name": "LayoutModel",
      "state": {}
     },
     "f091ca3f46bd4bc59b9cc297f41b955f": {
      "model_module": "@jupyter-widgets/base",
      "model_module_version": "1.2.0",
      "model_name": "LayoutModel",
      "state": {}
     },
     "f12af11231cf46a69ac9da2670d62160": {
      "model_module": "@jupyter-widgets/base",
      "model_module_version": "1.2.0",
      "model_name": "LayoutModel",
      "state": {}
     },
     "f1379b9b8f844c8d94ac54a12ff86a68": {
      "model_module": "@jupyter-widgets/controls",
      "model_module_version": "1.5.0",
      "model_name": "ProgressStyleModel",
      "state": {
       "description_width": ""
      }
     },
     "f1c110243333498b97909287586c7a89": {
      "model_module": "@jupyter-widgets/controls",
      "model_module_version": "1.5.0",
      "model_name": "FloatProgressModel",
      "state": {
       "bar_style": "success",
       "layout": "IPY_MODEL_6dcfca32299649e684c2d8d425ba7add",
       "max": 36,
       "style": "IPY_MODEL_4196acee08774e37ac807cea9395de6c",
       "value": 36
      }
     },
     "f2a8e7c046164d7584b952a5647e488a": {
      "model_module": "@jupyter-widgets/controls",
      "model_module_version": "1.5.0",
      "model_name": "ProgressStyleModel",
      "state": {
       "description_width": ""
      }
     },
     "f324a75497324d20a57f982346cd7e4c": {
      "model_module": "@jupyter-widgets/base",
      "model_module_version": "1.2.0",
      "model_name": "LayoutModel",
      "state": {}
     },
     "f3b6ca82651e4ef48185de0a45ffb413": {
      "model_module": "@jupyter-widgets/base",
      "model_module_version": "1.2.0",
      "model_name": "LayoutModel",
      "state": {}
     },
     "f3bc9fb2d63b4a82a4f4c00633068420": {
      "model_module": "@jupyter-widgets/controls",
      "model_module_version": "1.5.0",
      "model_name": "HBoxModel",
      "state": {
       "children": [
        "IPY_MODEL_7c3c286b6f9443b6b99a105ed0dffed2",
        "IPY_MODEL_f5c11cbc1b894cb1885433d253733311",
        "IPY_MODEL_8ac0e9df8ffa4c3db8a1219ba74924b8"
       ],
       "layout": "IPY_MODEL_c31654f671cd43e3bf6ca1f4930f6dd1"
      }
     },
     "f405e12684504ee9a4713a638f5efec2": {
      "model_module": "@jupyter-widgets/controls",
      "model_module_version": "1.5.0",
      "model_name": "HBoxModel",
      "state": {
       "children": [
        "IPY_MODEL_aaf440b878824093985f73ec4c00c328",
        "IPY_MODEL_e5b3ef6c9db14c4392011d258e41427a",
        "IPY_MODEL_4f71e32a39144d2fa57d0c8f94e04fef"
       ],
       "layout": "IPY_MODEL_a789bd2afe234cd5af32208136eacb1e"
      }
     },
     "f5c0d204a1dc445fa9e7e3cacd3a12bd": {
      "model_module": "@jupyter-widgets/base",
      "model_module_version": "1.2.0",
      "model_name": "LayoutModel",
      "state": {}
     },
     "f5c11cbc1b894cb1885433d253733311": {
      "model_module": "@jupyter-widgets/controls",
      "model_module_version": "1.5.0",
      "model_name": "FloatProgressModel",
      "state": {
       "bar_style": "success",
       "layout": "IPY_MODEL_52ba1888a25941459c32fc3940f5dab6",
       "max": 10,
       "style": "IPY_MODEL_23d62264f5f2445eac1a7788e8d1677d",
       "value": 10
      }
     },
     "f6223c45057c42dd98b71fab11743bcf": {
      "model_module": "@jupyter-widgets/controls",
      "model_module_version": "1.5.0",
      "model_name": "ProgressStyleModel",
      "state": {
       "description_width": ""
      }
     },
     "f6bb7da8d18a401bb2cf4a75c4328aaf": {
      "model_module": "@jupyter-widgets/base",
      "model_module_version": "1.2.0",
      "model_name": "LayoutModel",
      "state": {}
     },
     "f893b81671464b189ea876a351dc30c0": {
      "model_module": "@jupyter-widgets/base",
      "model_module_version": "1.2.0",
      "model_name": "LayoutModel",
      "state": {}
     },
     "f8c938a10b8e455e957227109cde74b4": {
      "model_module": "@jupyter-widgets/controls",
      "model_module_version": "1.5.0",
      "model_name": "FloatProgressModel",
      "state": {
       "bar_style": "danger",
       "layout": "IPY_MODEL_460287039de3412ab52adff21c04290a",
       "max": 6,
       "style": "IPY_MODEL_abbf500cb37a4bbca96e087473896eb6"
      }
     },
     "f939358be3e64e6abf5c824d3e2e6262": {
      "model_module": "@jupyter-widgets/base",
      "model_module_version": "1.2.0",
      "model_name": "LayoutModel",
      "state": {}
     },
     "fad3a850b6e14793983c5a623742cf76": {
      "model_module": "@jupyter-widgets/controls",
      "model_module_version": "1.5.0",
      "model_name": "ProgressStyleModel",
      "state": {
       "description_width": ""
      }
     },
     "fb80a9de8fa54b8aa8835c181b30cd06": {
      "model_module": "@jupyter-widgets/controls",
      "model_module_version": "1.5.0",
      "model_name": "HTMLModel",
      "state": {
       "layout": "IPY_MODEL_c09a625474b14b7391991e113d3f82c1",
       "style": "IPY_MODEL_5fc199f9b1454e8da997eb5ad6ac6d53",
       "value": " 1/2 [00:19&lt;00:14, 14.23s/it]"
      }
     },
     "fbc1af5527bc4d36a369f16164bb010c": {
      "model_module": "@jupyter-widgets/controls",
      "model_module_version": "1.5.0",
      "model_name": "HTMLModel",
      "state": {
       "layout": "IPY_MODEL_d207df9065fb42e0ba67356fd632af84",
       "style": "IPY_MODEL_b6df0a4e25b24c879ce5ddd408c50022",
       "value": "  0%"
      }
     },
     "fc4c1b0909034f9a97afc68bc056980f": {
      "model_module": "@jupyter-widgets/base",
      "model_module_version": "1.2.0",
      "model_name": "LayoutModel",
      "state": {}
     },
     "fd6019ba5af44347ad6cfa8675caf52d": {
      "model_module": "@jupyter-widgets/base",
      "model_module_version": "1.2.0",
      "model_name": "LayoutModel",
      "state": {}
     },
     "fe6e4cc131694c5486164119dcf349c9": {
      "model_module": "@jupyter-widgets/controls",
      "model_module_version": "1.5.0",
      "model_name": "ProgressStyleModel",
      "state": {
       "description_width": ""
      }
     },
     "fec33bb5309347d8912990afda03a68d": {
      "model_module": "@jupyter-widgets/controls",
      "model_module_version": "1.5.0",
      "model_name": "HBoxModel",
      "state": {
       "children": [
        "IPY_MODEL_e070db11c743425fb06ff31099ad78b3",
        "IPY_MODEL_6075f86ac5494830b347b3a55eaf36b8",
        "IPY_MODEL_c7e4a51fcf09486d8c77ac52045bc49c"
       ],
       "layout": "IPY_MODEL_75d3d7614e754ec48132a1d081499068"
      }
     },
     "ff144f75b54a42ffaa46be2621fcde8e": {
      "model_module": "@jupyter-widgets/controls",
      "model_module_version": "1.5.0",
      "model_name": "HTMLModel",
      "state": {
       "layout": "IPY_MODEL_e2f2ceca46d0446e85c1f93031a53b39",
       "style": "IPY_MODEL_c90e81f6dfed4d5384ca7e0670b4cd08",
       "value": "100%"
      }
     },
     "ff56a886db8b4d81bbc064c54bfe4d84": {
      "model_module": "@jupyter-widgets/base",
      "model_module_version": "1.2.0",
      "model_name": "LayoutModel",
      "state": {}
     },
     "ff88882b7d9b489e91af4bc75e057c5a": {
      "model_module": "@jupyter-widgets/controls",
      "model_module_version": "1.5.0",
      "model_name": "DescriptionStyleModel",
      "state": {
       "description_width": ""
      }
     }
    },
    "version_major": 2,
    "version_minor": 0
   }
  }
 },
 "nbformat": 4,
 "nbformat_minor": 4
}
