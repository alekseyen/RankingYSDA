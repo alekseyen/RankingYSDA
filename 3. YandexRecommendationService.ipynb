{
 "cells": [
  {
   "cell_type": "markdown",
   "id": "2a6ec4a0-88c8-4bf7-8915-852c7b6d0413",
   "metadata": {},
   "source": [
    "# 1. Download data and Setup\n"
   ]
  },
  {
   "cell_type": "code",
   "execution_count": null,
   "id": "00d0c8f7-c1da-4573-ae9b-3e1561949e77",
   "metadata": {},
   "outputs": [],
   "source": [
    "#!pip3 install wldhx.yadisk-direct"
   ]
  },
  {
   "cell_type": "code",
   "execution_count": 3,
   "id": "0ec48a32-508e-41ec-a615-e53579e13f1d",
   "metadata": {
    "execution": {
     "iopub.execute_input": "2022-04-29T13:09:26.001570Z",
     "iopub.status.busy": "2022-04-29T13:09:26.001241Z",
     "iopub.status.idle": "2022-04-29T13:09:26.006878Z",
     "shell.execute_reply": "2022-04-29T13:09:26.005727Z",
     "shell.execute_reply.started": "2022-04-29T13:09:26.001530Z"
    },
    "tags": []
   },
   "outputs": [],
   "source": [
    "# !curl -L $(yadisk-direct https://disk.yandex.ru/d/9yMyAhVNw_tvLA) -o data.zip"
   ]
  },
  {
   "cell_type": "code",
   "execution_count": 7,
   "id": "2c83edaa-30ff-4def-8c6c-5657a4af31bb",
   "metadata": {
    "execution": {
     "iopub.execute_input": "2022-04-28T14:56:19.544887Z",
     "iopub.status.busy": "2022-04-28T14:56:19.544671Z",
     "iopub.status.idle": "2022-04-28T14:56:21.718547Z",
     "shell.execute_reply": "2022-04-28T14:56:21.717200Z",
     "shell.execute_reply.started": "2022-04-28T14:56:19.544856Z"
    }
   },
   "outputs": [
    {
     "name": "stdout",
     "output_type": "stream",
     "text": [
      "Archive:  data.zip\n",
      "   creating: data/\n",
      "  inflating: data/aspects.csv        \n",
      "  inflating: data/features.csv       \n",
      "  inflating: data/organisations.csv  \n",
      "  inflating: data/reviews.csv        \n",
      "  inflating: data/rubrics.csv        \n",
      "  inflating: data/test_users.csv     \n",
      "  inflating: data/users.csv          \n"
     ]
    }
   ],
   "source": [
    "# !unzip data.zip"
   ]
  },
  {
   "cell_type": "code",
   "execution_count": 61,
   "id": "dfe89cdc-cd90-4f2a-b1b3-1824fb158ce0",
   "metadata": {
    "execution": {
     "iopub.execute_input": "2022-04-29T13:32:52.761523Z",
     "iopub.status.busy": "2022-04-29T13:32:52.761265Z",
     "iopub.status.idle": "2022-04-29T13:32:52.768079Z",
     "shell.execute_reply": "2022-04-29T13:32:52.767132Z",
     "shell.execute_reply.started": "2022-04-29T13:32:52.761487Z"
    },
    "tags": []
   },
   "outputs": [],
   "source": [
    "import numpy as np\n",
    "import pandas as pd\n",
    "import matplotlib.pyplot as plt\n",
    "from scipy import sparse\n",
    "from tqdm.auto import tqdm\n",
    "import typing as tp\n",
    "import plotly\n",
    "import random\n",
    "from tqdm.auto import tqdm\n",
    "\n",
    "tqdm.pandas()\n",
    "\n",
    "np.random.seed(2022)\n",
    "random.seed(2022)\n",
    "\n",
    "pd.set_option('display.float_format', lambda x: '%.3f' % x)"
   ]
  },
  {
   "cell_type": "markdown",
   "id": "01032d84-0ef2-4259-ac60-efeeba184c89",
   "metadata": {},
   "source": [
    "# 2. Data preparation and Cleaning"
   ]
  },
  {
   "cell_type": "code",
   "execution_count": 135,
   "id": "7ecfba67-59e9-4bc3-968e-7730791e9679",
   "metadata": {
    "execution": {
     "iopub.execute_input": "2022-04-29T14:32:55.787643Z",
     "iopub.status.busy": "2022-04-29T14:32:55.787306Z",
     "iopub.status.idle": "2022-04-29T14:32:58.322814Z",
     "shell.execute_reply": "2022-04-29T14:32:58.321877Z",
     "shell.execute_reply.started": "2022-04-29T14:32:55.787606Z"
    },
    "tags": []
   },
   "outputs": [
    {
     "name": "stderr",
     "output_type": "stream",
     "text": [
      "/home/alekseyen/miniconda3/envs/py39/lib/python3.9/site-packages/IPython/core/interactiveshell.py:3172: DtypeWarning: Columns (4) have mixed types.Specify dtype option on import or set low_memory=False.\n",
      "  has_raised = await self.run_ast_nodes(code_ast.body, cell_name,\n"
     ]
    }
   ],
   "source": [
    "reviews_df = pd.read_csv('data/reviews.csv').rename(columns= {'aspects' : 'aspect_ids', 'rating':'review_rating'},)\n",
    "\n",
    "users_df = pd.read_csv('data/users.csv').rename(columns = {'city': 'user_city'})\n",
    "test_users_df = pd.read_csv('data/test_users.csv')\n",
    "organisations_df = pd.read_csv('data/organisations.csv').rename(columns={'city': 'org_city', 'rating': 'org_rating'})\n",
    "\n",
    "rubrics_df = pd.read_csv('data/rubrics.csv')\n",
    "features_df = pd.read_csv('data/features.csv')\n",
    "aspects_df = pd.read_csv('data/aspects.csv')"
   ]
  },
  {
   "cell_type": "code",
   "execution_count": 3,
   "id": "76ce70cb-402d-44b2-b792-690ca811ffe8",
   "metadata": {
    "execution": {
     "iopub.execute_input": "2022-04-29T13:10:43.986399Z",
     "iopub.status.busy": "2022-04-29T13:10:43.986178Z",
     "iopub.status.idle": "2022-04-29T13:10:44.018283Z",
     "shell.execute_reply": "2022-04-29T13:10:44.016989Z",
     "shell.execute_reply.started": "2022-04-29T13:10:43.986372Z"
    },
    "tags": []
   },
   "outputs": [
    {
     "name": "stdout",
     "output_type": "stream",
     "text": [
      "<class 'pandas.core.frame.DataFrame'>\n",
      "RangeIndex: 15 entries, 0 to 14\n",
      "Data columns (total 2 columns):\n",
      " #   Column       Non-Null Count  Dtype \n",
      "---  ------       --------------  ----- \n",
      " 0   rubric_id    15 non-null     int64 \n",
      " 1   rubric_name  15 non-null     object\n",
      "dtypes: int64(1), object(1)\n",
      "memory usage: 368.0+ bytes\n",
      "<class 'pandas.core.frame.DataFrame'>\n",
      "RangeIndex: 1006 entries, 0 to 1005\n",
      "Data columns (total 2 columns):\n",
      " #   Column        Non-Null Count  Dtype \n",
      "---  ------        --------------  ----- \n",
      " 0   feature_id    1006 non-null   int64 \n",
      " 1   feature_name  1006 non-null   object\n",
      "dtypes: int64(1), object(1)\n",
      "memory usage: 15.8+ KB\n",
      "<class 'pandas.core.frame.DataFrame'>\n",
      "RangeIndex: 243 entries, 0 to 242\n",
      "Data columns (total 2 columns):\n",
      " #   Column       Non-Null Count  Dtype \n",
      "---  ------       --------------  ----- \n",
      " 0   aspect_id    243 non-null    int64 \n",
      " 1   aspect_name  243 non-null    object\n",
      "dtypes: int64(1), object(1)\n",
      "memory usage: 3.9+ KB\n"
     ]
    },
    {
     "data": {
      "text/plain": [
       "(None, None, None)"
      ]
     },
     "execution_count": 3,
     "metadata": {},
     "output_type": "execute_result"
    }
   ],
   "source": [
    "rubrics_df.info(), features_df.info(), aspects_df.info()"
   ]
  },
  {
   "cell_type": "markdown",
   "id": "d7a1109d-d04b-4e9a-81ef-d711cc6388a9",
   "metadata": {},
   "source": [
    "As assumed sizes reviews_dfof `dict` dataframe is small. But let's imagine it's huge :)\n"
   ]
  },
  {
   "cell_type": "code",
   "execution_count": 4,
   "id": "f57b0ada-d9b1-447f-ad3e-28e279a7796f",
   "metadata": {
    "execution": {
     "iopub.execute_input": "2022-04-29T13:10:44.019413Z",
     "iopub.status.busy": "2022-04-29T13:10:44.019184Z",
     "iopub.status.idle": "2022-04-29T13:10:44.023170Z",
     "shell.execute_reply": "2022-04-29T13:10:44.022172Z",
     "shell.execute_reply.started": "2022-04-29T13:10:44.019382Z"
    },
    "tags": []
   },
   "outputs": [],
   "source": [
    "# reviews_df.aspect_ids = pd.to_numeric(reviews_df.aspect_ids)"
   ]
  },
  {
   "cell_type": "code",
   "execution_count": 5,
   "id": "612b85b9-1aba-474f-ae36-b0991d99bd59",
   "metadata": {
    "execution": {
     "iopub.execute_input": "2022-04-29T13:10:44.024674Z",
     "iopub.status.busy": "2022-04-29T13:10:44.024418Z",
     "iopub.status.idle": "2022-04-29T13:10:47.264779Z",
     "shell.execute_reply": "2022-04-29T13:10:47.263810Z",
     "shell.execute_reply.started": "2022-04-29T13:10:44.024646Z"
    },
    "tags": []
   },
   "outputs": [
    {
     "data": {
      "text/html": [
       "<div>\n",
       "<style scoped>\n",
       "    .dataframe tbody tr th:only-of-type {\n",
       "        vertical-align: middle;\n",
       "    }\n",
       "\n",
       "    .dataframe tbody tr th {\n",
       "        vertical-align: top;\n",
       "    }\n",
       "\n",
       "    .dataframe thead th {\n",
       "        text-align: right;\n",
       "    }\n",
       "</style>\n",
       "<table border=\"1\" class=\"dataframe\">\n",
       "  <thead>\n",
       "    <tr style=\"text-align: right;\">\n",
       "      <th></th>\n",
       "      <th>user_id</th>\n",
       "      <th>org_id</th>\n",
       "      <th>review_rating</th>\n",
       "      <th>ts</th>\n",
       "      <th>aspect_ids</th>\n",
       "    </tr>\n",
       "  </thead>\n",
       "  <tbody>\n",
       "    <tr>\n",
       "      <th>0</th>\n",
       "      <td>5969205021826098131</td>\n",
       "      <td>15999570556361329805</td>\n",
       "      <td>1.0</td>\n",
       "      <td>279</td>\n",
       "      <td>NaN</td>\n",
       "    </tr>\n",
       "    <tr>\n",
       "      <th>1</th>\n",
       "      <td>11419028914633614269</td>\n",
       "      <td>15999570556361329805</td>\n",
       "      <td>1.0</td>\n",
       "      <td>391</td>\n",
       "      <td>NaN</td>\n",
       "    </tr>\n",
       "    <tr>\n",
       "      <th>2</th>\n",
       "      <td>11971839180212507821</td>\n",
       "      <td>15999570556361329805</td>\n",
       "      <td>1.0</td>\n",
       "      <td>419</td>\n",
       "      <td>NaN</td>\n",
       "    </tr>\n",
       "    <tr>\n",
       "      <th>3</th>\n",
       "      <td>3849350083734153986</td>\n",
       "      <td>15999570556361329805</td>\n",
       "      <td>1.0</td>\n",
       "      <td>641</td>\n",
       "      <td>NaN</td>\n",
       "    </tr>\n",
       "    <tr>\n",
       "      <th>4</th>\n",
       "      <td>6903065064138938065</td>\n",
       "      <td>15999570556361329805</td>\n",
       "      <td>1.0</td>\n",
       "      <td>654</td>\n",
       "      <td>NaN</td>\n",
       "    </tr>\n",
       "    <tr>\n",
       "      <th>...</th>\n",
       "      <td>...</td>\n",
       "      <td>...</td>\n",
       "      <td>...</td>\n",
       "      <td>...</td>\n",
       "      <td>...</td>\n",
       "    </tr>\n",
       "    <tr>\n",
       "      <th>4129691</th>\n",
       "      <td>907604215316834814</td>\n",
       "      <td>219245207864793974</td>\n",
       "      <td>4.0</td>\n",
       "      <td>982</td>\n",
       "      <td>97</td>\n",
       "    </tr>\n",
       "    <tr>\n",
       "      <th>4129692</th>\n",
       "      <td>2245592011385839678</td>\n",
       "      <td>219245207864793974</td>\n",
       "      <td>5.0</td>\n",
       "      <td>448</td>\n",
       "      <td>97</td>\n",
       "    </tr>\n",
       "    <tr>\n",
       "      <th>4129693</th>\n",
       "      <td>5691026343836404728</td>\n",
       "      <td>14687570877891213266</td>\n",
       "      <td>2.0</td>\n",
       "      <td>1127</td>\n",
       "      <td>97</td>\n",
       "    </tr>\n",
       "    <tr>\n",
       "      <th>4129694</th>\n",
       "      <td>11193314027500612304</td>\n",
       "      <td>1205510582855082798</td>\n",
       "      <td>5.0</td>\n",
       "      <td>1001</td>\n",
       "      <td>97</td>\n",
       "    </tr>\n",
       "    <tr>\n",
       "      <th>4129695</th>\n",
       "      <td>7299623046763533959</td>\n",
       "      <td>12073644775894883506</td>\n",
       "      <td>5.0</td>\n",
       "      <td>657</td>\n",
       "      <td>97</td>\n",
       "    </tr>\n",
       "  </tbody>\n",
       "</table>\n",
       "<p>4129696 rows × 5 columns</p>\n",
       "</div>"
      ],
      "text/plain": [
       "                      user_id                org_id  review_rating    ts  \\\n",
       "0         5969205021826098131  15999570556361329805            1.0   279   \n",
       "1        11419028914633614269  15999570556361329805            1.0   391   \n",
       "2        11971839180212507821  15999570556361329805            1.0   419   \n",
       "3         3849350083734153986  15999570556361329805            1.0   641   \n",
       "4         6903065064138938065  15999570556361329805            1.0   654   \n",
       "...                       ...                   ...            ...   ...   \n",
       "4129691    907604215316834814    219245207864793974            4.0   982   \n",
       "4129692   2245592011385839678    219245207864793974            5.0   448   \n",
       "4129693   5691026343836404728  14687570877891213266            2.0  1127   \n",
       "4129694  11193314027500612304   1205510582855082798            5.0  1001   \n",
       "4129695   7299623046763533959  12073644775894883506            5.0   657   \n",
       "\n",
       "        aspect_ids  \n",
       "0              NaN  \n",
       "1              NaN  \n",
       "2              NaN  \n",
       "3              NaN  \n",
       "4              NaN  \n",
       "...            ...  \n",
       "4129691         97  \n",
       "4129692         97  \n",
       "4129693         97  \n",
       "4129694         97  \n",
       "4129695         97  \n",
       "\n",
       "[4129696 rows x 5 columns]"
      ]
     },
     "execution_count": 5,
     "metadata": {},
     "output_type": "execute_result"
    }
   ],
   "source": [
    "reviews_df.explode('aspect_ids')"
   ]
  },
  {
   "cell_type": "code",
   "execution_count": 6,
   "id": "0327f77b-757c-4b4c-862e-41964f05e504",
   "metadata": {
    "execution": {
     "iopub.execute_input": "2022-04-29T13:10:47.266002Z",
     "iopub.status.busy": "2022-04-29T13:10:47.265804Z",
     "iopub.status.idle": "2022-04-29T13:10:47.271079Z",
     "shell.execute_reply": "2022-04-29T13:10:47.270163Z",
     "shell.execute_reply.started": "2022-04-29T13:10:47.265969Z"
    },
    "tags": []
   },
   "outputs": [],
   "source": [
    "def apply_func_to_each_columns(df: pd.DataFrame, columns_to_apply: list[str], func: tp.Callable) -> None:\n",
    "    new_df = df.copy()\n",
    "    for column in columns_to_apply:\n",
    "        # rows_without_NAN = ~df[column].isnull()\n",
    "        # df.loc[rows_without_NAN, column] = df.loc[rows_without_NAN, column].apply(func)\n",
    "        new_df[column] = df[column].apply(func)\n",
    "        \n",
    "    return new_df\n",
    "\n",
    "parse_str_to_int_list = lambda line: [int(number) for number in str(line).split(' ') if number.isnumeric()]"
   ]
  },
  {
   "cell_type": "markdown",
   "id": "fac2bd73-8f2e-4e82-8bbc-51ffb088f508",
   "metadata": {},
   "source": [
    "1. in `reviews` parse `aspect_ids`"
   ]
  },
  {
   "cell_type": "code",
   "execution_count": 7,
   "id": "14f0bdea-20f8-4594-ac38-3e2d9b2abff1",
   "metadata": {
    "execution": {
     "iopub.execute_input": "2022-04-29T13:10:47.272111Z",
     "iopub.status.busy": "2022-04-29T13:10:47.271859Z",
     "iopub.status.idle": "2022-04-29T13:10:52.852071Z",
     "shell.execute_reply": "2022-04-29T13:10:52.851395Z",
     "shell.execute_reply.started": "2022-04-29T13:10:47.272079Z"
    },
    "tags": []
   },
   "outputs": [
    {
     "data": {
      "text/plain": [
       "3646404    15\n",
       "3867655    14\n",
       "3646855    14\n",
       "3632205    14\n",
       "3809694    14\n",
       "           ..\n",
       "1376570     0\n",
       "1376571     0\n",
       "1376572     0\n",
       "1376573     0\n",
       "2064848     0\n",
       "Name: aspect_ids, Length: 4129696, dtype: int64"
      ]
     },
     "execution_count": 7,
     "metadata": {},
     "output_type": "execute_result"
    }
   ],
   "source": [
    "reviews = apply_func_to_each_columns(reviews_df, ['aspect_ids'], parse_str_to_int_list)\n",
    "\n",
    "reviews.aspect_ids.apply(len).sort_values(ascending=False)\n"
   ]
  },
  {
   "cell_type": "code",
   "execution_count": 8,
   "id": "f0ea7d50-046e-4b34-8541-560b088ef7ee",
   "metadata": {
    "execution": {
     "iopub.execute_input": "2022-04-29T13:10:52.853300Z",
     "iopub.status.busy": "2022-04-29T13:10:52.853063Z",
     "iopub.status.idle": "2022-04-29T13:10:56.983875Z",
     "shell.execute_reply": "2022-04-29T13:10:56.982961Z",
     "shell.execute_reply.started": "2022-04-29T13:10:52.853266Z"
    },
    "tags": []
   },
   "outputs": [
    {
     "data": {
      "text/html": [
       "<div>\n",
       "<style scoped>\n",
       "    .dataframe tbody tr th:only-of-type {\n",
       "        vertical-align: middle;\n",
       "    }\n",
       "\n",
       "    .dataframe tbody tr th {\n",
       "        vertical-align: top;\n",
       "    }\n",
       "\n",
       "    .dataframe thead th {\n",
       "        text-align: right;\n",
       "    }\n",
       "</style>\n",
       "<table border=\"1\" class=\"dataframe\">\n",
       "  <thead>\n",
       "    <tr style=\"text-align: right;\">\n",
       "      <th></th>\n",
       "      <th>user_id</th>\n",
       "      <th>org_id</th>\n",
       "      <th>review_rating</th>\n",
       "      <th>ts</th>\n",
       "      <th>aspect_id</th>\n",
       "    </tr>\n",
       "  </thead>\n",
       "  <tbody>\n",
       "    <tr>\n",
       "      <th>2896631</th>\n",
       "      <td>229425976098127178</td>\n",
       "      <td>17292100939536682647</td>\n",
       "      <td>3.0</td>\n",
       "      <td>679</td>\n",
       "      <td>NaN</td>\n",
       "    </tr>\n",
       "    <tr>\n",
       "      <th>3672042</th>\n",
       "      <td>16874620654240530563</td>\n",
       "      <td>11427946889796726844</td>\n",
       "      <td>5.0</td>\n",
       "      <td>1156</td>\n",
       "      <td>267</td>\n",
       "    </tr>\n",
       "    <tr>\n",
       "      <th>3918783</th>\n",
       "      <td>2020161878602313605</td>\n",
       "      <td>4176108691529323966</td>\n",
       "      <td>5.0</td>\n",
       "      <td>25</td>\n",
       "      <td>265</td>\n",
       "    </tr>\n",
       "    <tr>\n",
       "      <th>2206782</th>\n",
       "      <td>5313458781801270324</td>\n",
       "      <td>16444928614807344345</td>\n",
       "      <td>5.0</td>\n",
       "      <td>1206</td>\n",
       "      <td>NaN</td>\n",
       "    </tr>\n",
       "    <tr>\n",
       "      <th>1002351</th>\n",
       "      <td>9818407012068264498</td>\n",
       "      <td>1427695528613762065</td>\n",
       "      <td>5.0</td>\n",
       "      <td>1140</td>\n",
       "      <td>NaN</td>\n",
       "    </tr>\n",
       "    <tr>\n",
       "      <th>3353762</th>\n",
       "      <td>3064623136350032078</td>\n",
       "      <td>4594011633420927733</td>\n",
       "      <td>5.0</td>\n",
       "      <td>744</td>\n",
       "      <td>NaN</td>\n",
       "    </tr>\n",
       "    <tr>\n",
       "      <th>2649272</th>\n",
       "      <td>9026371437099015800</td>\n",
       "      <td>5718418596353227955</td>\n",
       "      <td>3.0</td>\n",
       "      <td>1086</td>\n",
       "      <td>NaN</td>\n",
       "    </tr>\n",
       "    <tr>\n",
       "      <th>2473092</th>\n",
       "      <td>18375136522233841854</td>\n",
       "      <td>6129601420560555512</td>\n",
       "      <td>5.0</td>\n",
       "      <td>835</td>\n",
       "      <td>NaN</td>\n",
       "    </tr>\n",
       "    <tr>\n",
       "      <th>3302014</th>\n",
       "      <td>2515715014433407707</td>\n",
       "      <td>5742705483529187651</td>\n",
       "      <td>5.0</td>\n",
       "      <td>1013</td>\n",
       "      <td>NaN</td>\n",
       "    </tr>\n",
       "    <tr>\n",
       "      <th>2553444</th>\n",
       "      <td>13814904045016888096</td>\n",
       "      <td>15919482492715844882</td>\n",
       "      <td>5.0</td>\n",
       "      <td>425</td>\n",
       "      <td>NaN</td>\n",
       "    </tr>\n",
       "  </tbody>\n",
       "</table>\n",
       "</div>"
      ],
      "text/plain": [
       "                      user_id                org_id  review_rating    ts  \\\n",
       "2896631    229425976098127178  17292100939536682647            3.0   679   \n",
       "3672042  16874620654240530563  11427946889796726844            5.0  1156   \n",
       "3918783   2020161878602313605   4176108691529323966            5.0    25   \n",
       "2206782   5313458781801270324  16444928614807344345            5.0  1206   \n",
       "1002351   9818407012068264498   1427695528613762065            5.0  1140   \n",
       "3353762   3064623136350032078   4594011633420927733            5.0   744   \n",
       "2649272   9026371437099015800   5718418596353227955            3.0  1086   \n",
       "2473092  18375136522233841854   6129601420560555512            5.0   835   \n",
       "3302014   2515715014433407707   5742705483529187651            5.0  1013   \n",
       "2553444  13814904045016888096  15919482492715844882            5.0   425   \n",
       "\n",
       "        aspect_id  \n",
       "2896631       NaN  \n",
       "3672042       267  \n",
       "3918783       265  \n",
       "2206782       NaN  \n",
       "1002351       NaN  \n",
       "3353762       NaN  \n",
       "2649272       NaN  \n",
       "2473092       NaN  \n",
       "3302014       NaN  \n",
       "2553444       NaN  "
      ]
     },
     "execution_count": 8,
     "metadata": {},
     "output_type": "execute_result"
    }
   ],
   "source": [
    "reviews = reviews.explode('aspect_ids').rename(columns={'aspect_ids': 'aspect_id'}) # same function also in spark\n",
    "reviews.sample(10)\n",
    "\n",
    "# or do smth like: https://stackoverflow.com/questions/39954668/how-to-convert-column-with-list-of-values-into-rows-in-pandas-dataframe\n",
    "# https://stackoverflow.com/questions/45846765/efficient-way-to-unnest-explode-multiple-list-columns-in-a-pandas-dataframe\n",
    "\n",
    "# >>> s = df.apply(lambda x: pd.Series(x['samples']), axis=1).stack().reset_index(level=1, drop=True)\n",
    "# >>> s.name = 'sample'\n",
    "# >>> df.drop('samples', axis=1).join(s)"
   ]
  },
  {
   "cell_type": "markdown",
   "id": "59e2f778-42d1-442e-97fc-b9352d5fe6dc",
   "metadata": {},
   "source": [
    "As u can see instead of `4129696` we got `4585254`"
   ]
  },
  {
   "cell_type": "markdown",
   "id": "207c66e4-06ba-4549-9afd-93cf12ee3411",
   "metadata": {},
   "source": [
    "2. in `organisations` parse `features_ids`"
   ]
  },
  {
   "cell_type": "code",
   "execution_count": 9,
   "id": "b7ad2d52-3039-45a4-8bfb-bdc80961649e",
   "metadata": {
    "execution": {
     "iopub.execute_input": "2022-04-29T13:10:57.053126Z",
     "iopub.status.busy": "2022-04-29T13:10:57.052945Z",
     "iopub.status.idle": "2022-04-29T13:10:57.060566Z",
     "shell.execute_reply": "2022-04-29T13:10:57.059658Z",
     "shell.execute_reply.started": "2022-04-29T13:10:57.053102Z"
    },
    "tags": []
   },
   "outputs": [
    {
     "data": {
      "text/plain": [
       "0        3501685156 3501779478 20422 3502045016 3502045...\n",
       "1        1509 1082283206 273469383 10462 11617 35017794...\n",
       "2        10462 11177 11617 11629 1416 1018 11704 11867 ...\n",
       "3        3501618484 2020795524 11629 11617 1018 11704 2...\n",
       "4        11617 10462 11177 1416 11867 3501744275 20282 ...\n",
       "                               ...                        \n",
       "68334    1018 1415 10462 11629 11867 20422 20424 118949...\n",
       "68335    11634 11629 3501481353 11177 3501773763 11867 ...\n",
       "68336    20422 11867 246 3501754799 3501779478 12048 35...\n",
       "68337    3491142672 3501481353 11867 20422 273469383 11...\n",
       "68338    3501498189 3501509030 3501498184 12309 20422 3...\n",
       "Name: features_id, Length: 68339, dtype: object"
      ]
     },
     "execution_count": 9,
     "metadata": {},
     "output_type": "execute_result"
    }
   ],
   "source": [
    "organisations_df.features_id"
   ]
  },
  {
   "cell_type": "code",
   "execution_count": 10,
   "id": "5e921bfd-292b-4832-b902-0a15713c2691",
   "metadata": {
    "execution": {
     "iopub.execute_input": "2022-04-29T13:10:57.061753Z",
     "iopub.status.busy": "2022-04-29T13:10:57.061510Z",
     "iopub.status.idle": "2022-04-29T13:10:58.318139Z",
     "shell.execute_reply": "2022-04-29T13:10:58.317243Z",
     "shell.execute_reply.started": "2022-04-29T13:10:57.061721Z"
    },
    "tags": []
   },
   "outputs": [
    {
     "data": {
      "text/html": [
       "<div>\n",
       "<style scoped>\n",
       "    .dataframe tbody tr th:only-of-type {\n",
       "        vertical-align: middle;\n",
       "    }\n",
       "\n",
       "    .dataframe tbody tr th {\n",
       "        vertical-align: top;\n",
       "    }\n",
       "\n",
       "    .dataframe thead th {\n",
       "        text-align: right;\n",
       "    }\n",
       "</style>\n",
       "<table border=\"1\" class=\"dataframe\">\n",
       "  <thead>\n",
       "    <tr style=\"text-align: right;\">\n",
       "      <th></th>\n",
       "      <th>org_id</th>\n",
       "      <th>org_city</th>\n",
       "      <th>average_bill</th>\n",
       "      <th>org_rating</th>\n",
       "      <th>rubric_id</th>\n",
       "      <th>feature_id</th>\n",
       "    </tr>\n",
       "  </thead>\n",
       "  <tbody>\n",
       "    <tr>\n",
       "      <th>65503</th>\n",
       "      <td>3728393500911044816</td>\n",
       "      <td>spb</td>\n",
       "      <td>1000.0</td>\n",
       "      <td>4.577778</td>\n",
       "      <td>30776</td>\n",
       "      <td>3501481353</td>\n",
       "    </tr>\n",
       "    <tr>\n",
       "      <th>14378</th>\n",
       "      <td>4365770885606692016</td>\n",
       "      <td>spb</td>\n",
       "      <td>500.0</td>\n",
       "      <td>4.700000</td>\n",
       "      <td>31495</td>\n",
       "      <td>3501745827</td>\n",
       "    </tr>\n",
       "    <tr>\n",
       "      <th>58402</th>\n",
       "      <td>12458691864921036268</td>\n",
       "      <td>spb</td>\n",
       "      <td>500.0</td>\n",
       "      <td>4.152542</td>\n",
       "      <td>30776</td>\n",
       "      <td>3501513153</td>\n",
       "    </tr>\n",
       "    <tr>\n",
       "      <th>33526</th>\n",
       "      <td>16377585093291514129</td>\n",
       "      <td>msk</td>\n",
       "      <td>1000.0</td>\n",
       "      <td>4.181818</td>\n",
       "      <td>31401</td>\n",
       "      <td>20422</td>\n",
       "    </tr>\n",
       "    <tr>\n",
       "      <th>55340</th>\n",
       "      <td>4373450798536241368</td>\n",
       "      <td>msk</td>\n",
       "      <td>NaN</td>\n",
       "      <td>3.969697</td>\n",
       "      <td>30774</td>\n",
       "      <td>20422</td>\n",
       "    </tr>\n",
       "    <tr>\n",
       "      <th>36489</th>\n",
       "      <td>16161879390952478621</td>\n",
       "      <td>spb</td>\n",
       "      <td>NaN</td>\n",
       "      <td>NaN</td>\n",
       "      <td>30770</td>\n",
       "      <td>11629</td>\n",
       "    </tr>\n",
       "    <tr>\n",
       "      <th>63797</th>\n",
       "      <td>6093159996422930978</td>\n",
       "      <td>msk</td>\n",
       "      <td>1500.0</td>\n",
       "      <td>NaN</td>\n",
       "      <td>30776</td>\n",
       "      <td>256</td>\n",
       "    </tr>\n",
       "    <tr>\n",
       "      <th>29307</th>\n",
       "      <td>15635531236542873290</td>\n",
       "      <td>msk</td>\n",
       "      <td>500.0</td>\n",
       "      <td>3.998634</td>\n",
       "      <td>30771</td>\n",
       "      <td>1415</td>\n",
       "    </tr>\n",
       "    <tr>\n",
       "      <th>58990</th>\n",
       "      <td>15627596723391133804</td>\n",
       "      <td>spb</td>\n",
       "      <td>500.0</td>\n",
       "      <td>NaN</td>\n",
       "      <td>30774</td>\n",
       "      <td>11177</td>\n",
       "    </tr>\n",
       "    <tr>\n",
       "      <th>62363</th>\n",
       "      <td>17685525691353954335</td>\n",
       "      <td>msk</td>\n",
       "      <td>2000.0</td>\n",
       "      <td>4.386986</td>\n",
       "      <td>30776</td>\n",
       "      <td>11629</td>\n",
       "    </tr>\n",
       "  </tbody>\n",
       "</table>\n",
       "</div>"
      ],
      "text/plain": [
       "                     org_id org_city  average_bill  org_rating rubric_id  \\\n",
       "65503   3728393500911044816      spb        1000.0    4.577778     30776   \n",
       "14378   4365770885606692016      spb         500.0    4.700000     31495   \n",
       "58402  12458691864921036268      spb         500.0    4.152542     30776   \n",
       "33526  16377585093291514129      msk        1000.0    4.181818     31401   \n",
       "55340   4373450798536241368      msk           NaN    3.969697     30774   \n",
       "36489  16161879390952478621      spb           NaN         NaN     30770   \n",
       "63797   6093159996422930978      msk        1500.0         NaN     30776   \n",
       "29307  15635531236542873290      msk         500.0    3.998634     30771   \n",
       "58990  15627596723391133804      spb         500.0         NaN     30774   \n",
       "62363  17685525691353954335      msk        2000.0    4.386986     30776   \n",
       "\n",
       "       feature_id  \n",
       "65503  3501481353  \n",
       "14378  3501745827  \n",
       "58402  3501513153  \n",
       "33526       20422  \n",
       "55340       20422  \n",
       "36489       11629  \n",
       "63797         256  \n",
       "29307        1415  \n",
       "58990       11177  \n",
       "62363       11629  "
      ]
     },
     "execution_count": 10,
     "metadata": {},
     "output_type": "execute_result"
    }
   ],
   "source": [
    "organisations = apply_func_to_each_columns(organisations_df, ['features_id', 'rubrics_id'], parse_str_to_int_list)\n",
    "\n",
    "organisations = organisations.explode('features_id') \\\n",
    "                             .explode('rubrics_id') \\\n",
    "                             .rename(columns={'features_id': 'feature_id', 'rubrics_id': 'rubric_id'})\n",
    "\n",
    "organisations.sample(10)\n"
   ]
  },
  {
   "cell_type": "code",
   "execution_count": 11,
   "id": "11e95a7f-2422-4059-8e26-93e92746c1d8",
   "metadata": {
    "execution": {
     "iopub.execute_input": "2022-04-29T13:10:58.319555Z",
     "iopub.status.busy": "2022-04-29T13:10:58.319307Z",
     "iopub.status.idle": "2022-04-29T13:10:58.324619Z",
     "shell.execute_reply": "2022-04-29T13:10:58.324060Z",
     "shell.execute_reply.started": "2022-04-29T13:10:58.319511Z"
    },
    "tags": []
   },
   "outputs": [
    {
     "data": {
      "text/plain": [
       "((1004751, 6), (68339, 6))"
      ]
     },
     "execution_count": 11,
     "metadata": {},
     "output_type": "execute_result"
    }
   ],
   "source": [
    "organisations.shape, organisations_df.shape"
   ]
  },
  {
   "cell_type": "markdown",
   "id": "496bb315-bd0b-4ad2-9407-ab003e76ec46",
   "metadata": {},
   "source": [
    "So we have `1004751` instead of `68339` len dataframe"
   ]
  },
  {
   "cell_type": "code",
   "execution_count": 12,
   "id": "2872aa14-c5fe-4578-8ea9-f9a29c45a6e8",
   "metadata": {
    "execution": {
     "iopub.execute_input": "2022-04-29T13:10:58.362640Z",
     "iopub.status.busy": "2022-04-29T13:10:58.362404Z",
     "iopub.status.idle": "2022-04-29T13:15:22.490947Z",
     "shell.execute_reply": "2022-04-29T13:15:22.489799Z",
     "shell.execute_reply.started": "2022-04-29T13:10:58.362609Z"
    },
    "tags": []
   },
   "outputs": [
    {
     "name": "stdout",
     "output_type": "stream",
     "text": [
      "CPU times: user 2min 50s, sys: 1min 33s, total: 4min 24s\n",
      "Wall time: 4min 24s\n"
     ]
    }
   ],
   "source": [
    "%%time\n",
    "\n",
    "full_review_info = reviews \\\n",
    "    .merge(organisations, on='org_id', how='left') \\\n",
    "    .merge(users_df, on='user_id', how='left') \\\n",
    "    .merge(aspects_df, on='aspect_id', how='left') \\\n",
    "    .merge(features_df, on='feature_id', how='left') \\\n",
    "    .merge(rubrics_df, on='rubric_id')\n"
   ]
  },
  {
   "cell_type": "code",
   "execution_count": 13,
   "id": "e1c445c8-46fb-41bd-a77d-b3b358d86687",
   "metadata": {
    "execution": {
     "iopub.execute_input": "2022-04-29T13:15:22.514045Z",
     "iopub.status.busy": "2022-04-29T13:15:22.513836Z",
     "iopub.status.idle": "2022-04-29T13:16:01.007870Z",
     "shell.execute_reply": "2022-04-29T13:16:01.007038Z",
     "shell.execute_reply.started": "2022-04-29T13:15:22.514003Z"
    },
    "tags": []
   },
   "outputs": [
    {
     "data": {
      "text/html": [
       "<div>\n",
       "<style scoped>\n",
       "    .dataframe tbody tr th:only-of-type {\n",
       "        vertical-align: middle;\n",
       "    }\n",
       "\n",
       "    .dataframe tbody tr th {\n",
       "        vertical-align: top;\n",
       "    }\n",
       "\n",
       "    .dataframe thead th {\n",
       "        text-align: right;\n",
       "    }\n",
       "</style>\n",
       "<table border=\"1\" class=\"dataframe\">\n",
       "  <thead>\n",
       "    <tr style=\"text-align: right;\">\n",
       "      <th></th>\n",
       "      <th>user_id</th>\n",
       "      <th>org_id</th>\n",
       "      <th>review_rating</th>\n",
       "      <th>ts</th>\n",
       "      <th>aspect_id</th>\n",
       "      <th>org_city</th>\n",
       "      <th>average_bill</th>\n",
       "      <th>org_rating</th>\n",
       "      <th>rubric_id</th>\n",
       "      <th>feature_id</th>\n",
       "      <th>user_city</th>\n",
       "      <th>aspect_name</th>\n",
       "      <th>feature_name</th>\n",
       "      <th>rubric_name</th>\n",
       "    </tr>\n",
       "  </thead>\n",
       "  <tbody>\n",
       "    <tr>\n",
       "      <th>85742529</th>\n",
       "      <td>17913019607399519371</td>\n",
       "      <td>6664350636076147652</td>\n",
       "      <td>1.0</td>\n",
       "      <td>583</td>\n",
       "      <td>NaN</td>\n",
       "      <td>msk</td>\n",
       "      <td>500.0</td>\n",
       "      <td>4.266667</td>\n",
       "      <td>30775</td>\n",
       "      <td>11704</td>\n",
       "      <td>msk</td>\n",
       "      <td>NaN</td>\n",
       "      <td>wi_fi</td>\n",
       "      <td>Пиццерия</td>\n",
       "    </tr>\n",
       "    <tr>\n",
       "      <th>97655185</th>\n",
       "      <td>10405407735547291462</td>\n",
       "      <td>14803105372140225878</td>\n",
       "      <td>5.0</td>\n",
       "      <td>943</td>\n",
       "      <td>4</td>\n",
       "      <td>spb</td>\n",
       "      <td>500.0</td>\n",
       "      <td>4.250000</td>\n",
       "      <td>30770</td>\n",
       "      <td>20424</td>\n",
       "      <td>spb</td>\n",
       "      <td>Еда</td>\n",
       "      <td>price_category</td>\n",
       "      <td>Бар, паб</td>\n",
       "    </tr>\n",
       "    <tr>\n",
       "      <th>116707659</th>\n",
       "      <td>1220830570075314678</td>\n",
       "      <td>16327095963630245962</td>\n",
       "      <td>1.0</td>\n",
       "      <td>575</td>\n",
       "      <td>267</td>\n",
       "      <td>msk</td>\n",
       "      <td>NaN</td>\n",
       "      <td>3.697151</td>\n",
       "      <td>30771</td>\n",
       "      <td>11177</td>\n",
       "      <td>msk</td>\n",
       "      <td>Чай</td>\n",
       "      <td>breakfast</td>\n",
       "      <td>Быстрое питание</td>\n",
       "    </tr>\n",
       "    <tr>\n",
       "      <th>111769041</th>\n",
       "      <td>11576520981468855512</td>\n",
       "      <td>1212502960035640455</td>\n",
       "      <td>2.0</td>\n",
       "      <td>959</td>\n",
       "      <td>NaN</td>\n",
       "      <td>msk</td>\n",
       "      <td>500.0</td>\n",
       "      <td>4.334694</td>\n",
       "      <td>30771</td>\n",
       "      <td>3501749289</td>\n",
       "      <td>msk</td>\n",
       "      <td>NaN</td>\n",
       "      <td>closed_for_visitors</td>\n",
       "      <td>Быстрое питание</td>\n",
       "    </tr>\n",
       "    <tr>\n",
       "      <th>11868192</th>\n",
       "      <td>9312540573052556317</td>\n",
       "      <td>16327095963630245962</td>\n",
       "      <td>5.0</td>\n",
       "      <td>1273</td>\n",
       "      <td>NaN</td>\n",
       "      <td>msk</td>\n",
       "      <td>NaN</td>\n",
       "      <td>3.697151</td>\n",
       "      <td>30774</td>\n",
       "      <td>1076799212</td>\n",
       "      <td>spb</td>\n",
       "      <td>NaN</td>\n",
       "      <td>mcexpress</td>\n",
       "      <td>Кафе</td>\n",
       "    </tr>\n",
       "    <tr>\n",
       "      <th>44988750</th>\n",
       "      <td>3928830865617394177</td>\n",
       "      <td>9755115000265538221</td>\n",
       "      <td>5.0</td>\n",
       "      <td>733</td>\n",
       "      <td>NaN</td>\n",
       "      <td>spb</td>\n",
       "      <td>NaN</td>\n",
       "      <td>4.445575</td>\n",
       "      <td>30776</td>\n",
       "      <td>3501481353</td>\n",
       "      <td>spb</td>\n",
       "      <td>NaN</td>\n",
       "      <td>projector</td>\n",
       "      <td>Ресторан</td>\n",
       "    </tr>\n",
       "    <tr>\n",
       "      <th>118900848</th>\n",
       "      <td>16657807763200908305</td>\n",
       "      <td>199252321913224408</td>\n",
       "      <td>5.0</td>\n",
       "      <td>1182</td>\n",
       "      <td>NaN</td>\n",
       "      <td>spb</td>\n",
       "      <td>NaN</td>\n",
       "      <td>4.380684</td>\n",
       "      <td>31495</td>\n",
       "      <td>3501498389</td>\n",
       "      <td>spb</td>\n",
       "      <td>NaN</td>\n",
       "      <td>free transfer</td>\n",
       "      <td>Кофейня</td>\n",
       "    </tr>\n",
       "    <tr>\n",
       "      <th>117678146</th>\n",
       "      <td>14350758550460120470</td>\n",
       "      <td>7657737654778456349</td>\n",
       "      <td>3.0</td>\n",
       "      <td>535</td>\n",
       "      <td>17</td>\n",
       "      <td>spb</td>\n",
       "      <td>500.0</td>\n",
       "      <td>4.301449</td>\n",
       "      <td>30771</td>\n",
       "      <td>11177</td>\n",
       "      <td>spb</td>\n",
       "      <td>Шаверма</td>\n",
       "      <td>breakfast</td>\n",
       "      <td>Быстрое питание</td>\n",
       "    </tr>\n",
       "    <tr>\n",
       "      <th>116722012</th>\n",
       "      <td>12590011418621898564</td>\n",
       "      <td>8037928576994158448</td>\n",
       "      <td>1.0</td>\n",
       "      <td>928</td>\n",
       "      <td>267</td>\n",
       "      <td>msk</td>\n",
       "      <td>NaN</td>\n",
       "      <td>4.326752</td>\n",
       "      <td>30771</td>\n",
       "      <td>20424</td>\n",
       "      <td>msk</td>\n",
       "      <td>Чай</td>\n",
       "      <td>price_category</td>\n",
       "      <td>Быстрое питание</td>\n",
       "    </tr>\n",
       "    <tr>\n",
       "      <th>58215430</th>\n",
       "      <td>8234783575766018808</td>\n",
       "      <td>5072738578507807787</td>\n",
       "      <td>5.0</td>\n",
       "      <td>605</td>\n",
       "      <td>NaN</td>\n",
       "      <td>msk</td>\n",
       "      <td>1000.0</td>\n",
       "      <td>4.506986</td>\n",
       "      <td>30776</td>\n",
       "      <td>3501513153</td>\n",
       "      <td>msk</td>\n",
       "      <td>NaN</td>\n",
       "      <td>tag_menu</td>\n",
       "      <td>Ресторан</td>\n",
       "    </tr>\n",
       "  </tbody>\n",
       "</table>\n",
       "</div>"
      ],
      "text/plain": [
       "                        user_id                org_id  review_rating    ts  \\\n",
       "85742529   17913019607399519371   6664350636076147652            1.0   583   \n",
       "97655185   10405407735547291462  14803105372140225878            5.0   943   \n",
       "116707659   1220830570075314678  16327095963630245962            1.0   575   \n",
       "111769041  11576520981468855512   1212502960035640455            2.0   959   \n",
       "11868192    9312540573052556317  16327095963630245962            5.0  1273   \n",
       "44988750    3928830865617394177   9755115000265538221            5.0   733   \n",
       "118900848  16657807763200908305    199252321913224408            5.0  1182   \n",
       "117678146  14350758550460120470   7657737654778456349            3.0   535   \n",
       "116722012  12590011418621898564   8037928576994158448            1.0   928   \n",
       "58215430    8234783575766018808   5072738578507807787            5.0   605   \n",
       "\n",
       "          aspect_id org_city  average_bill  org_rating rubric_id  feature_id  \\\n",
       "85742529        NaN      msk         500.0    4.266667     30775       11704   \n",
       "97655185          4      spb         500.0    4.250000     30770       20424   \n",
       "116707659       267      msk           NaN    3.697151     30771       11177   \n",
       "111769041       NaN      msk         500.0    4.334694     30771  3501749289   \n",
       "11868192        NaN      msk           NaN    3.697151     30774  1076799212   \n",
       "44988750        NaN      spb           NaN    4.445575     30776  3501481353   \n",
       "118900848       NaN      spb           NaN    4.380684     31495  3501498389   \n",
       "117678146        17      spb         500.0    4.301449     30771       11177   \n",
       "116722012       267      msk           NaN    4.326752     30771       20424   \n",
       "58215430        NaN      msk        1000.0    4.506986     30776  3501513153   \n",
       "\n",
       "          user_city aspect_name         feature_name      rubric_name  \n",
       "85742529        msk         NaN                wi_fi         Пиццерия  \n",
       "97655185        spb         Еда       price_category         Бар, паб  \n",
       "116707659       msk         Чай            breakfast  Быстрое питание  \n",
       "111769041       msk         NaN  closed_for_visitors  Быстрое питание  \n",
       "11868192        spb         NaN            mcexpress             Кафе  \n",
       "44988750        spb         NaN            projector         Ресторан  \n",
       "118900848       spb         NaN        free transfer          Кофейня  \n",
       "117678146       spb     Шаверма            breakfast  Быстрое питание  \n",
       "116722012       msk         Чай       price_category  Быстрое питание  \n",
       "58215430        msk         NaN             tag_menu         Ресторан  "
      ]
     },
     "execution_count": 13,
     "metadata": {},
     "output_type": "execute_result"
    }
   ],
   "source": [
    "full_review_info.sample(10)"
   ]
  },
  {
   "cell_type": "code",
   "execution_count": 14,
   "id": "c70f89a7-68fc-4f95-af89-87252615a2e9",
   "metadata": {
    "execution": {
     "iopub.execute_input": "2022-04-29T13:16:01.009224Z",
     "iopub.status.busy": "2022-04-29T13:16:01.008940Z",
     "iopub.status.idle": "2022-04-29T13:16:01.021905Z",
     "shell.execute_reply": "2022-04-29T13:16:01.020779Z",
     "shell.execute_reply.started": "2022-04-29T13:16:01.009196Z"
    },
    "tags": []
   },
   "outputs": [
    {
     "name": "stdout",
     "output_type": "stream",
     "text": [
      "<class 'pandas.core.frame.DataFrame'>\n",
      "Int64Index: 127825382 entries, 0 to 127825381\n",
      "Data columns (total 14 columns):\n",
      " #   Column         Dtype  \n",
      "---  ------         -----  \n",
      " 0   user_id        uint64 \n",
      " 1   org_id         uint64 \n",
      " 2   review_rating  float64\n",
      " 3   ts             int64  \n",
      " 4   aspect_id      object \n",
      " 5   org_city       object \n",
      " 6   average_bill   float64\n",
      " 7   org_rating     float64\n",
      " 8   rubric_id      object \n",
      " 9   feature_id     object \n",
      " 10  user_city      object \n",
      " 11  aspect_name    object \n",
      " 12  feature_name   object \n",
      " 13  rubric_name    object \n",
      "dtypes: float64(3), int64(1), object(8), uint64(2)\n",
      "memory usage: 14.3+ GB\n"
     ]
    }
   ],
   "source": [
    "full_review_info.info()"
   ]
  },
  {
   "cell_type": "markdown",
   "id": "b01ef881-3b9a-40b0-897c-daefa308ff09",
   "metadata": {},
   "source": [
    "`14.3+ GB` Looks not okey, but in real task we wouldn't use pandas in production"
   ]
  },
  {
   "cell_type": "markdown",
   "id": "1a0e552c-9ef7-40f4-a11c-5f4b5edd10f5",
   "metadata": {},
   "source": [
    "# 3. Split mechanism, Metrics"
   ]
  },
  {
   "cell_type": "markdown",
   "id": "96885b53-b97c-4d09-87c4-9cde5c56ca5b",
   "metadata": {},
   "source": [
    "## Metric calc"
   ]
  },
  {
   "attachments": {
    "2ef6f092-55d0-47ed-819e-f7b65bd6a04f.png": {
     "image/png": "[encoded data removed]"
    }
   },
   "cell_type": "markdown",
   "id": "40a9b50a-eae6-4dc0-acd3-371aa4ed0589",
   "metadata": {},
   "source": [
    "![image.png](attachment:2ef6f092-55d0-47ed-819e-f7b65bd6a04f.png)"
   ]
  },
  {
   "cell_type": "code",
   "execution_count": 27,
   "id": "1324b3dc-4dc2-45be-8d43-d772f31123f3",
   "metadata": {
    "execution": {
     "iopub.execute_input": "2022-04-29T13:17:52.786859Z",
     "iopub.status.busy": "2022-04-29T13:17:52.786621Z",
     "iopub.status.idle": "2022-04-29T13:17:52.795042Z",
     "shell.execute_reply": "2022-04-29T13:17:52.794045Z",
     "shell.execute_reply.started": "2022-04-29T13:17:52.786832Z"
    },
    "tags": []
   },
   "outputs": [],
   "source": [
    "def MNAP(size=20):       \n",
    "    def metric(y_true, predictions, size=size):\n",
    "        predictions = predictions.rename(columns={'target': 'predictions'})\n",
    "        merged = y_true.merge(predictions, on='user_id')\n",
    "    \n",
    "        def score(x, size=size):          \n",
    "            y_true = x[1][1]\n",
    "            predictions = x[1][2][:size]\n",
    "            \n",
    "            weight = 0\n",
    "            inner_weights = [0]\n",
    "            \n",
    "            for n, item in enumerate(predictions):\n",
    "                inner_weight = inner_weights[-1] + (1 if item in y_true else 0)\n",
    "                inner_weights.append(inner_weight)\n",
    "            \n",
    "            for n, item in enumerate(predictions):                \n",
    "                if item in y_true:\n",
    "                    weight += inner_weights[n + 1] / (n + 1)\n",
    "                    \n",
    "            return weight / min(len(y_true), size)\n",
    "    \n",
    "        return np.mean([score(row) for row in merged.iterrows()])\n",
    "    \n",
    "        \n",
    "    return metric"
   ]
  },
  {
   "cell_type": "markdown",
   "id": "a465fcb9-d572-4f88-8c8b-ccfededa686a",
   "metadata": {},
   "source": [
    "## Splitting"
   ]
  },
  {
   "cell_type": "code",
   "execution_count": 16,
   "id": "7e48de9c-b325-44e9-bd82-9fd6db5d9db5",
   "metadata": {
    "execution": {
     "iopub.execute_input": "2022-04-29T13:16:01.071467Z",
     "iopub.status.busy": "2022-04-29T13:16:01.071172Z",
     "iopub.status.idle": "2022-04-29T13:16:01.078227Z",
     "shell.execute_reply": "2022-04-29T13:16:01.077130Z",
     "shell.execute_reply.started": "2022-04-29T13:16:01.071419Z"
    },
    "tags": []
   },
   "outputs": [],
   "source": [
    "def review_split(reviews, percentage=0.33, end_ts_values=None):\n",
    "    if end_ts_values is None:\n",
    "        end_ts_values = reviews.ts.max()\n",
    "    \n",
    "    reviews_cut = reviews[reviews.ts < end_ts_values]\n",
    "    ts_percentile = reviews_cut.ts.quantile(0.33)\n",
    "    \n",
    "    reviews_train = reviews_cut[reviews_cut.ts <= ts_percentile]\n",
    "    reviews_test = reviews_cut[reviews_cut.ts >= ts_percentile]    \n",
    "    \n",
    "    return reviews_train, reviews_test"
   ]
  },
  {
   "cell_type": "code",
   "execution_count": 17,
   "id": "4d1adad2-a330-4664-86c4-35806cdf2b95",
   "metadata": {
    "execution": {
     "iopub.execute_input": "2022-04-29T13:16:01.079496Z",
     "iopub.status.busy": "2022-04-29T13:16:01.079233Z",
     "iopub.status.idle": "2022-04-29T13:16:37.308916Z",
     "shell.execute_reply": "2022-04-29T13:16:37.308144Z",
     "shell.execute_reply.started": "2022-04-29T13:16:01.079462Z"
    },
    "tags": []
   },
   "outputs": [
    {
     "data": {
      "text/plain": [
       "((42227002, 14), (85618578, 14))"
      ]
     },
     "execution_count": 17,
     "metadata": {},
     "output_type": "execute_result"
    }
   ],
   "source": [
    "train, test = review_split(full_review_info)\n",
    "train.shape, test.shape"
   ]
  },
  {
   "cell_type": "markdown",
   "id": "169b8854-ea61-408a-a959-74eeaa609380",
   "metadata": {},
   "source": [
    "## Answering"
   ]
  },
  {
   "cell_type": "code",
   "execution_count": 18,
   "id": "03b2f16a-9fd4-4c97-886e-a96fe03e3125",
   "metadata": {
    "execution": {
     "iopub.execute_input": "2022-04-29T13:16:37.310223Z",
     "iopub.status.busy": "2022-04-29T13:16:37.309967Z",
     "iopub.status.idle": "2022-04-29T13:16:37.690240Z",
     "shell.execute_reply": "2022-04-29T13:16:37.689345Z",
     "shell.execute_reply.started": "2022-04-29T13:16:37.310184Z"
    }
   },
   "outputs": [
    {
     "data": {
      "text/plain": [
       "msk    19029\n",
       "spb     3456\n",
       "Name: user_city, dtype: int64"
      ]
     },
     "execution_count": 18,
     "metadata": {},
     "output_type": "execute_result"
    }
   ],
   "source": [
    "test_users = test_users_df.merge(users_df, on='user_id', how='left')\n",
    "test_users.user_city.value_counts()"
   ]
  },
  {
   "cell_type": "markdown",
   "id": "93718f9d-ca6d-43c2-883c-fc3ed23ba8ff",
   "metadata": {},
   "source": [
    "So, for each user in test we know his destination"
   ]
  },
  {
   "cell_type": "code",
   "execution_count": 96,
   "id": "db70ddcd-b643-44a2-a4c0-3f88f4bb60be",
   "metadata": {
    "execution": {
     "iopub.execute_input": "2022-04-29T13:41:47.388198Z",
     "iopub.status.busy": "2022-04-29T13:41:47.387893Z",
     "iopub.status.idle": "2022-04-29T13:41:49.007850Z",
     "shell.execute_reply": "2022-04-29T13:41:49.006819Z",
     "shell.execute_reply.started": "2022-04-29T13:41:47.388146Z"
    },
    "tags": []
   },
   "outputs": [],
   "source": [
    "y_test = test_users_df \\\n",
    "    .merge(reviews[['user_id', 'org_id']], on='user_id', how='left') \\\n",
    "    .groupby('user_id') \\\n",
    "    .agg({'org_id': list}) \\\n",
    "    .rename(columns={'org_id': 'y_true'}) \\\n",
    "    .reset_index()\n",
    "\n",
    "y_test.y_true = y_test.y_true.apply(lambda x: list(map(int, x)))"
   ]
  },
  {
   "cell_type": "code",
   "execution_count": 97,
   "id": "0d3e7877-f7c4-4237-a4d9-ac9759bad571",
   "metadata": {
    "execution": {
     "iopub.execute_input": "2022-04-29T13:41:49.037938Z",
     "iopub.status.busy": "2022-04-29T13:41:49.037559Z",
     "iopub.status.idle": "2022-04-29T13:41:49.045343Z",
     "shell.execute_reply": "2022-04-29T13:41:49.044344Z",
     "shell.execute_reply.started": "2022-04-29T13:41:49.037902Z"
    },
    "tags": []
   },
   "outputs": [
    {
     "data": {
      "text/plain": [
       "user_id    uint64\n",
       "y_true     object\n",
       "dtype: object"
      ]
     },
     "execution_count": 97,
     "metadata": {},
     "output_type": "execute_result"
    }
   ],
   "source": [
    "y_test.dtypes"
   ]
  },
  {
   "cell_type": "code",
   "execution_count": 20,
   "id": "87d37230-7ec7-4b2c-bb76-5a42286c77db",
   "metadata": {
    "execution": {
     "iopub.execute_input": "2022-04-29T13:16:39.007664Z",
     "iopub.status.busy": "2022-04-29T13:16:39.007448Z",
     "iopub.status.idle": "2022-04-29T13:16:39.013165Z",
     "shell.execute_reply": "2022-04-29T13:16:39.012435Z",
     "shell.execute_reply.started": "2022-04-29T13:16:39.007630Z"
    }
   },
   "outputs": [],
   "source": [
    "def make_answer(df, name):\n",
    "    ans = df.copy()\n",
    "    ans['target'] = ans['target'].apply(lambda orgs: ' '.join(map(str, orgs)))\n",
    "    ans.to_csv(f'{name}.csv', index=None)\n",
    "    \n",
    "    del ans"
   ]
  },
  {
   "cell_type": "code",
   "execution_count": 28,
   "id": "bbf6cec3-caa8-4c94-9459-00972a8a4000",
   "metadata": {
    "execution": {
     "iopub.execute_input": "2022-04-29T13:17:56.799294Z",
     "iopub.status.busy": "2022-04-29T13:17:56.799010Z",
     "iopub.status.idle": "2022-04-29T13:17:56.805030Z",
     "shell.execute_reply": "2022-04-29T13:17:56.803713Z",
     "shell.execute_reply.started": "2022-04-29T13:17:56.799246Z"
    },
    "tags": []
   },
   "outputs": [],
   "source": [
    "N_PREDICTION_ORG = 20\n",
    "\n",
    "mnap_metric_calc = MNAP(N_PREDICTION_ORG)"
   ]
  },
  {
   "cell_type": "code",
   "execution_count": 31,
   "id": "22e45142-3b8b-4b0a-b5ea-8f15e2ea2a23",
   "metadata": {
    "execution": {
     "iopub.execute_input": "2022-04-29T13:18:34.569034Z",
     "iopub.status.busy": "2022-04-29T13:18:34.568672Z",
     "iopub.status.idle": "2022-04-29T13:18:34.577687Z",
     "shell.execute_reply": "2022-04-29T13:18:34.576239Z",
     "shell.execute_reply.started": "2022-04-29T13:18:34.568994Z"
    },
    "tags": []
   },
   "outputs": [],
   "source": [
    "pred_example = pd.DataFrame(\n",
    "{\n",
    "    'user_id': [1175872067657083, 3960211634564871],\n",
    "    'target': [[5326072468960064989,  9293289382222853816,  3361065379355406105, 380393201136864076, 16397358758595904644],\n",
    "               [16996585379035144871, 14585266011799937129, 13220328679916389818, 13882403132669515214, 18021456929242079630]\n",
    "              ]\n",
    "}\n",
    ")\n",
    "\n",
    "y_test_example = pd.DataFrame(\n",
    "{\n",
    "    'user_id': [1175872067657083, 3960211634564871],\n",
    "    'y_true': [[3099370727209496142, 5326072468960064989, 14037457789472617093, 4433870819289787251, 11006800892303205642],\n",
    "               [10868679817509284366, 13220328679916389818]\n",
    "              ]\n",
    "}\n",
    ")\n"
   ]
  },
  {
   "cell_type": "code",
   "execution_count": 32,
   "id": "1987f855-922e-4bc1-a3de-80f2648b1685",
   "metadata": {
    "execution": {
     "iopub.execute_input": "2022-04-29T13:18:34.730633Z",
     "iopub.status.busy": "2022-04-29T13:18:34.730465Z",
     "iopub.status.idle": "2022-04-29T13:18:34.741390Z",
     "shell.execute_reply": "2022-04-29T13:18:34.740685Z",
     "shell.execute_reply.started": "2022-04-29T13:18:34.730622Z"
    },
    "tags": []
   },
   "outputs": [
    {
     "data": {
      "text/plain": [
       "0.18333333333333335"
      ]
     },
     "execution_count": 32,
     "metadata": {},
     "output_type": "execute_result"
    }
   ],
   "source": [
    "mnap_metric_calc(y_test_example, pred_example)"
   ]
  },
  {
   "cell_type": "markdown",
   "id": "12f8bd75-d477-4093-a818-a626f7bf83ee",
   "metadata": {},
   "source": [
    "# 4. baselines"
   ]
  },
  {
   "cell_type": "markdown",
   "id": "0da2ea8a-4185-483f-9f76-8c740c098fce",
   "metadata": {},
   "source": [
    "Simple baselines without using any Machine Learning"
   ]
  },
  {
   "cell_type": "markdown",
   "id": "99e9389b-d10d-42eb-942e-8e91f7ece64b",
   "metadata": {},
   "source": [
    "## Random recommendation"
   ]
  },
  {
   "cell_type": "code",
   "execution_count": 34,
   "id": "84a22e84-534b-4e90-9b5f-9c6331004b75",
   "metadata": {
    "execution": {
     "iopub.execute_input": "2022-04-29T13:18:49.643723Z",
     "iopub.status.busy": "2022-04-29T13:18:49.643469Z",
     "iopub.status.idle": "2022-04-29T13:19:23.179470Z",
     "shell.execute_reply": "2022-04-29T13:19:23.178214Z",
     "shell.execute_reply.started": "2022-04-29T13:18:49.643694Z"
    },
    "tags": []
   },
   "outputs": [
    {
     "data": {
      "text/plain": [
       "(45619, 22720)"
      ]
     },
     "execution_count": 34,
     "metadata": {},
     "output_type": "execute_result"
    }
   ],
   "source": [
    "msk_orgs = full_review_info[full_review_info['org_city'] == 'msk']['org_id'].unique()\n",
    "spb_orgs = full_review_info[full_review_info['org_city'] == 'spb']['org_id'].unique()\n",
    "\n",
    "len(msk_orgs), len(spb_orgs)"
   ]
  },
  {
   "cell_type": "code",
   "execution_count": 35,
   "id": "66ff1ea2-0c10-44ab-a1b4-b0dccf9e93b7",
   "metadata": {
    "execution": {
     "iopub.execute_input": "2022-04-29T13:19:23.181428Z",
     "iopub.status.busy": "2022-04-29T13:19:23.181230Z",
     "iopub.status.idle": "2022-04-29T13:19:24.036869Z",
     "shell.execute_reply": "2022-04-29T13:19:24.036075Z",
     "shell.execute_reply.started": "2022-04-29T13:19:23.181398Z"
    },
    "tags": []
   },
   "outputs": [],
   "source": [
    "# import functools\n",
    "# functools.partial\n",
    "\n",
    "random_choose_org = lambda x: np.random.choice(spb_orgs, N_PREDICTION_ORG, replace=False) if x['user_city'] == 'msk' else np.random.choice(msk_orgs, N_PREDICTION_ORG, replace=False)\n",
    "\n",
    "target = test_users.apply(random_choose_org, axis=1)"
   ]
  },
  {
   "cell_type": "code",
   "execution_count": 36,
   "id": "115c5527-c63b-41d8-b73a-5cdd6719a15c",
   "metadata": {
    "execution": {
     "iopub.execute_input": "2022-04-29T13:19:24.038413Z",
     "iopub.status.busy": "2022-04-29T13:19:24.038184Z",
     "iopub.status.idle": "2022-04-29T13:19:24.045467Z",
     "shell.execute_reply": "2022-04-29T13:19:24.044419Z",
     "shell.execute_reply.started": "2022-04-29T13:19:24.038384Z"
    },
    "tags": []
   },
   "outputs": [],
   "source": [
    "result_random = test_users[['user_id']].copy()\n",
    "result_random['target'] = target\n"
   ]
  },
  {
   "cell_type": "code",
   "execution_count": 37,
   "id": "b5d92426-a31b-4335-b09f-f96d4680179f",
   "metadata": {
    "execution": {
     "iopub.execute_input": "2022-04-29T13:19:24.047500Z",
     "iopub.status.busy": "2022-04-29T13:19:24.047219Z",
     "iopub.status.idle": "2022-04-29T13:19:24.054921Z",
     "shell.execute_reply": "2022-04-29T13:19:24.053781Z",
     "shell.execute_reply.started": "2022-04-29T13:19:24.047427Z"
    },
    "tags": []
   },
   "outputs": [
    {
     "data": {
      "text/plain": [
       "((22485, 2), (22485, 2))"
      ]
     },
     "execution_count": 37,
     "metadata": {},
     "output_type": "execute_result"
    }
   ],
   "source": [
    "y_test.shape, result_random.shape"
   ]
  },
  {
   "cell_type": "code",
   "execution_count": 44,
   "id": "c4d6f96b-050b-4202-b750-ec269f097630",
   "metadata": {
    "execution": {
     "iopub.execute_input": "2022-04-29T13:22:18.797535Z",
     "iopub.status.busy": "2022-04-29T13:22:18.797260Z",
     "iopub.status.idle": "2022-04-29T13:22:18.828040Z",
     "shell.execute_reply": "2022-04-29T13:22:18.827225Z",
     "shell.execute_reply.started": "2022-04-29T13:22:18.797498Z"
    },
    "tags": []
   },
   "outputs": [
    {
     "data": {
      "text/html": [
       "<div>\n",
       "<style scoped>\n",
       "    .dataframe tbody tr th:only-of-type {\n",
       "        vertical-align: middle;\n",
       "    }\n",
       "\n",
       "    .dataframe tbody tr th {\n",
       "        vertical-align: top;\n",
       "    }\n",
       "\n",
       "    .dataframe thead th {\n",
       "        text-align: right;\n",
       "    }\n",
       "</style>\n",
       "<table border=\"1\" class=\"dataframe\">\n",
       "  <thead>\n",
       "    <tr style=\"text-align: right;\">\n",
       "      <th></th>\n",
       "      <th>user_id</th>\n",
       "      <th>target</th>\n",
       "      <th>y_true</th>\n",
       "    </tr>\n",
       "  </thead>\n",
       "  <tbody>\n",
       "    <tr>\n",
       "      <th>16868</th>\n",
       "      <td>14633171782851322853</td>\n",
       "      <td>[12454525412902198085, 11218019101392238711, 4...</td>\n",
       "      <td>[13730233750976174314, 2787156097552998474, 11...</td>\n",
       "    </tr>\n",
       "    <tr>\n",
       "      <th>17568</th>\n",
       "      <td>3031978000135456738</td>\n",
       "      <td>[5696833996459062817, 15788148632233890150, 54...</td>\n",
       "      <td>[11006800892303205642, 10382281594135798475, 1...</td>\n",
       "    </tr>\n",
       "    <tr>\n",
       "      <th>20053</th>\n",
       "      <td>17908969283618987579</td>\n",
       "      <td>[9243025813592328873, 14017993842420089842, 13...</td>\n",
       "      <td>[3432151593601609433, 7824224429364335211, 756...</td>\n",
       "    </tr>\n",
       "    <tr>\n",
       "      <th>16572</th>\n",
       "      <td>612933854916714492</td>\n",
       "      <td>[12981183737349217927, 7256833316788929358, 15...</td>\n",
       "      <td>[14299038106324100783, 3290745739241311464, 15...</td>\n",
       "    </tr>\n",
       "    <tr>\n",
       "      <th>17003</th>\n",
       "      <td>8031530490302329253</td>\n",
       "      <td>[1161546094295717314, 12368228128599732964, 74...</td>\n",
       "      <td>[1352900198295267165, 2195361217477256866, 111...</td>\n",
       "    </tr>\n",
       "    <tr>\n",
       "      <th>2284</th>\n",
       "      <td>12869715996591675718</td>\n",
       "      <td>[14905610313433618054, 9675524123436578073, 11...</td>\n",
       "      <td>[1435674414900395919, 2645993823236004281, 123...</td>\n",
       "    </tr>\n",
       "    <tr>\n",
       "      <th>222</th>\n",
       "      <td>17064760978885603717</td>\n",
       "      <td>[13941432392042473131, 7870406827290866253, 10...</td>\n",
       "      <td>[11598849612575836677, 8628711277418501758, 79...</td>\n",
       "    </tr>\n",
       "    <tr>\n",
       "      <th>10849</th>\n",
       "      <td>17240385623564938799</td>\n",
       "      <td>[10295641935307348321, 3799567149887107179, 16...</td>\n",
       "      <td>[2004179479792092234, 6721526179323412826]</td>\n",
       "    </tr>\n",
       "    <tr>\n",
       "      <th>22166</th>\n",
       "      <td>14447881977804036742</td>\n",
       "      <td>[9917483987007302684, 15743962532501255514, 74...</td>\n",
       "      <td>[3189471572895390546, 8754130794036124532, 747...</td>\n",
       "    </tr>\n",
       "    <tr>\n",
       "      <th>2051</th>\n",
       "      <td>14715457714563610142</td>\n",
       "      <td>[10421132470345218153, 13547277892034259676, 1...</td>\n",
       "      <td>[14471364305557264390, 2966606192252052550, 12...</td>\n",
       "    </tr>\n",
       "  </tbody>\n",
       "</table>\n",
       "</div>"
      ],
      "text/plain": [
       "                    user_id  \\\n",
       "16868  14633171782851322853   \n",
       "17568   3031978000135456738   \n",
       "20053  17908969283618987579   \n",
       "16572    612933854916714492   \n",
       "17003   8031530490302329253   \n",
       "2284   12869715996591675718   \n",
       "222    17064760978885603717   \n",
       "10849  17240385623564938799   \n",
       "22166  14447881977804036742   \n",
       "2051   14715457714563610142   \n",
       "\n",
       "                                                  target  \\\n",
       "16868  [12454525412902198085, 11218019101392238711, 4...   \n",
       "17568  [5696833996459062817, 15788148632233890150, 54...   \n",
       "20053  [9243025813592328873, 14017993842420089842, 13...   \n",
       "16572  [12981183737349217927, 7256833316788929358, 15...   \n",
       "17003  [1161546094295717314, 12368228128599732964, 74...   \n",
       "2284   [14905610313433618054, 9675524123436578073, 11...   \n",
       "222    [13941432392042473131, 7870406827290866253, 10...   \n",
       "10849  [10295641935307348321, 3799567149887107179, 16...   \n",
       "22166  [9917483987007302684, 15743962532501255514, 74...   \n",
       "2051   [10421132470345218153, 13547277892034259676, 1...   \n",
       "\n",
       "                                                  y_true  \n",
       "16868  [13730233750976174314, 2787156097552998474, 11...  \n",
       "17568  [11006800892303205642, 10382281594135798475, 1...  \n",
       "20053  [3432151593601609433, 7824224429364335211, 756...  \n",
       "16572  [14299038106324100783, 3290745739241311464, 15...  \n",
       "17003  [1352900198295267165, 2195361217477256866, 111...  \n",
       "2284   [1435674414900395919, 2645993823236004281, 123...  \n",
       "222    [11598849612575836677, 8628711277418501758, 79...  \n",
       "10849         [2004179479792092234, 6721526179323412826]  \n",
       "22166  [3189471572895390546, 8754130794036124532, 747...  \n",
       "2051   [14471364305557264390, 2966606192252052550, 12...  "
      ]
     },
     "execution_count": 44,
     "metadata": {},
     "output_type": "execute_result"
    }
   ],
   "source": [
    "result_random.merge(y_test, on='user_id').sample(10)"
   ]
  },
  {
   "cell_type": "code",
   "execution_count": 43,
   "id": "d55f5001-e914-48a6-8807-17b8fd2af0d6",
   "metadata": {
    "execution": {
     "iopub.execute_input": "2022-04-29T13:21:19.831004Z",
     "iopub.status.busy": "2022-04-29T13:21:19.830755Z",
     "iopub.status.idle": "2022-04-29T13:21:35.071757Z",
     "shell.execute_reply": "2022-04-29T13:21:35.070825Z",
     "shell.execute_reply.started": "2022-04-29T13:21:19.830966Z"
    },
    "tags": []
   },
   "outputs": [
    {
     "data": {
      "text/plain": [
       "0.004379863195415152"
      ]
     },
     "execution_count": 43,
     "metadata": {},
     "output_type": "execute_result"
    }
   ],
   "source": [
    "mnap_metric_calc(y_test, result_random) * 100"
   ]
  },
  {
   "cell_type": "code",
   "execution_count": 40,
   "id": "6cc79173-6e38-4c08-8802-b6b8eb6b6a65",
   "metadata": {
    "execution": {
     "iopub.execute_input": "2022-04-29T13:19:39.151787Z",
     "iopub.status.busy": "2022-04-29T13:19:39.151577Z",
     "iopub.status.idle": "2022-04-29T13:19:39.742714Z",
     "shell.execute_reply": "2022-04-29T13:19:39.741581Z",
     "shell.execute_reply.started": "2022-04-29T13:19:39.151754Z"
    },
    "tags": []
   },
   "outputs": [
    {
     "data": {
      "text/html": [
       "<div>\n",
       "<style scoped>\n",
       "    .dataframe tbody tr th:only-of-type {\n",
       "        vertical-align: middle;\n",
       "    }\n",
       "\n",
       "    .dataframe tbody tr th {\n",
       "        vertical-align: top;\n",
       "    }\n",
       "\n",
       "    .dataframe thead th {\n",
       "        text-align: right;\n",
       "    }\n",
       "</style>\n",
       "<table border=\"1\" class=\"dataframe\">\n",
       "  <thead>\n",
       "    <tr style=\"text-align: right;\">\n",
       "      <th></th>\n",
       "      <th>user_id</th>\n",
       "      <th>target</th>\n",
       "    </tr>\n",
       "  </thead>\n",
       "  <tbody>\n",
       "    <tr>\n",
       "      <th>0</th>\n",
       "      <td>11859048046981233908</td>\n",
       "      <td>[14291813952693371814, 18296442805684883655, 1...</td>\n",
       "    </tr>\n",
       "    <tr>\n",
       "      <th>1</th>\n",
       "      <td>15587804372050325574</td>\n",
       "      <td>[13064952707297140827, 12938310779546936379, 4...</td>\n",
       "    </tr>\n",
       "    <tr>\n",
       "      <th>2</th>\n",
       "      <td>12162067348356020196</td>\n",
       "      <td>[6078548748694935743, 12012994269630510588, 11...</td>\n",
       "    </tr>\n",
       "    <tr>\n",
       "      <th>3</th>\n",
       "      <td>8103517504171274389</td>\n",
       "      <td>[5676502108179280826, 10140635697863404537, 11...</td>\n",
       "    </tr>\n",
       "    <tr>\n",
       "      <th>4</th>\n",
       "      <td>10945514241898471401</td>\n",
       "      <td>[13579648093647152602, 3474339525900168788, 86...</td>\n",
       "    </tr>\n",
       "    <tr>\n",
       "      <th>...</th>\n",
       "      <td>...</td>\n",
       "      <td>...</td>\n",
       "    </tr>\n",
       "    <tr>\n",
       "      <th>22480</th>\n",
       "      <td>13566530607351820237</td>\n",
       "      <td>[8848644278010639406, 627582383648898705, 5079...</td>\n",
       "    </tr>\n",
       "    <tr>\n",
       "      <th>22481</th>\n",
       "      <td>11335509666663005941</td>\n",
       "      <td>[12184245054450841626, 2164819459233967618, 96...</td>\n",
       "    </tr>\n",
       "    <tr>\n",
       "      <th>22482</th>\n",
       "      <td>9661327606538591652</td>\n",
       "      <td>[4834325459763527595, 5927972744371606715, 118...</td>\n",
       "    </tr>\n",
       "    <tr>\n",
       "      <th>22483</th>\n",
       "      <td>14022370448741367741</td>\n",
       "      <td>[7589842432295673357, 9019275552152928424, 120...</td>\n",
       "    </tr>\n",
       "    <tr>\n",
       "      <th>22484</th>\n",
       "      <td>17587673573341943884</td>\n",
       "      <td>[4230061755506286640, 1595191268549912263, 137...</td>\n",
       "    </tr>\n",
       "  </tbody>\n",
       "</table>\n",
       "<p>22485 rows × 2 columns</p>\n",
       "</div>"
      ],
      "text/plain": [
       "                    user_id                                             target\n",
       "0      11859048046981233908  [14291813952693371814, 18296442805684883655, 1...\n",
       "1      15587804372050325574  [13064952707297140827, 12938310779546936379, 4...\n",
       "2      12162067348356020196  [6078548748694935743, 12012994269630510588, 11...\n",
       "3       8103517504171274389  [5676502108179280826, 10140635697863404537, 11...\n",
       "4      10945514241898471401  [13579648093647152602, 3474339525900168788, 86...\n",
       "...                     ...                                                ...\n",
       "22480  13566530607351820237  [8848644278010639406, 627582383648898705, 5079...\n",
       "22481  11335509666663005941  [12184245054450841626, 2164819459233967618, 96...\n",
       "22482   9661327606538591652  [4834325459763527595, 5927972744371606715, 118...\n",
       "22483  14022370448741367741  [7589842432295673357, 9019275552152928424, 120...\n",
       "22484  17587673573341943884  [4230061755506286640, 1595191268549912263, 137...\n",
       "\n",
       "[22485 rows x 2 columns]"
      ]
     },
     "execution_count": 40,
     "metadata": {},
     "output_type": "execute_result"
    }
   ],
   "source": [
    "make_answer(result_random, 'result_random')\n",
    "result_random"
   ]
  },
  {
   "cell_type": "markdown",
   "id": "e9327ed7-fdd9-4f61-82b4-29f7366d25f0",
   "metadata": {
    "execution": {
     "iopub.execute_input": "2022-04-29T13:22:53.500641Z",
     "iopub.status.busy": "2022-04-29T13:22:53.500318Z",
     "iopub.status.idle": "2022-04-29T13:22:53.505867Z",
     "shell.execute_reply": "2022-04-29T13:22:53.504395Z",
     "shell.execute_reply.started": "2022-04-29T13:22:53.500609Z"
    }
   },
   "source": [
    "## Recommend most popular places with high rate"
   ]
  },
  {
   "cell_type": "code",
   "execution_count": 203,
   "id": "c06ea5f5-e04b-4a63-b140-9609d849dc31",
   "metadata": {
    "execution": {
     "iopub.execute_input": "2022-04-29T15:22:30.942895Z",
     "iopub.status.busy": "2022-04-29T15:22:30.942518Z",
     "iopub.status.idle": "2022-04-29T15:23:43.532352Z",
     "shell.execute_reply": "2022-04-29T15:23:43.531422Z",
     "shell.execute_reply.started": "2022-04-29T15:22:30.942862Z"
    },
    "tags": []
   },
   "outputs": [
    {
     "name": "stdout",
     "output_type": "stream",
     "text": [
      "Msk good org reviews ratio 0.874799915272791\n",
      "SPB good org reviews ratio 0.89232099201243\n"
     ]
    }
   ],
   "source": [
    "msk_orgs = full_review_info[(full_review_info['org_city'] == 'msk') & (full_review_info['org_rating'] > 4)]['org_id']\n",
    "spb_orgs = full_review_info[(full_review_info['org_city'] == 'spb') & (full_review_info['org_rating'] > 4)]['org_id']\n",
    "\n",
    "print(f'Msk good org reviews ratio {len(msk_orgs) / (full_review_info[full_review_info[\"org_city\"] == \"msk\"].shape[0])}')\n",
    "print(f'SPB good org reviews ratio {len(spb_orgs) / (full_review_info[full_review_info[\"org_city\"] == \"spb\"].shape[0])}')\n",
    "\n",
    "msk_orgs = msk_orgs.value_counts().index[:N_PREDICTION_ORG].to_list()\n",
    "spb_orgs = spb_orgs.value_counts().index[:N_PREDICTION_ORG].to_list()"
   ]
  },
  {
   "cell_type": "code",
   "execution_count": 204,
   "id": "5c6b5afb-47f4-42c4-b451-5e3fed86323f",
   "metadata": {
    "execution": {
     "iopub.execute_input": "2022-04-29T15:23:43.534251Z",
     "iopub.status.busy": "2022-04-29T15:23:43.533970Z",
     "iopub.status.idle": "2022-04-29T15:23:43.541232Z",
     "shell.execute_reply": "2022-04-29T15:23:43.540236Z",
     "shell.execute_reply.started": "2022-04-29T15:23:43.534179Z"
    },
    "tags": []
   },
   "outputs": [
    {
     "data": {
      "text/plain": [
       "array([3, 1, 2])"
      ]
     },
     "execution_count": 204,
     "metadata": {},
     "output_type": "execute_result"
    }
   ],
   "source": [
    "rng = np.random.default_rng()\n",
    "rng.choice([1, 2, 3, 1], size = 3, replace=False)\n",
    "# Interesting details about np.random.choices withoud duplication\n",
    "# https://ymd_h.gitlab.io/ymd_blog/posts/numpy_random_choice/"
   ]
  },
  {
   "cell_type": "code",
   "execution_count": 205,
   "id": "0afe0ce4-cded-4ced-84e4-33b2b9ed74b5",
   "metadata": {
    "execution": {
     "iopub.execute_input": "2022-04-29T15:23:43.542924Z",
     "iopub.status.busy": "2022-04-29T15:23:43.542696Z",
     "iopub.status.idle": "2022-04-29T15:23:45.089967Z",
     "shell.execute_reply": "2022-04-29T15:23:45.088964Z",
     "shell.execute_reply.started": "2022-04-29T15:23:43.542889Z"
    },
    "tags": []
   },
   "outputs": [
    {
     "data": {
      "application/vnd.jupyter.widget-view+json": {
       "model_id": "fe072de5032c425481509a47451aed07",
       "version_major": 2,
       "version_minor": 0
      },
      "text/plain": [
       "  0%|          | 0/22485 [00:00<?, ?it/s]"
      ]
     },
     "metadata": {},
     "output_type": "display_data"
    },
    {
     "data": {
      "application/vnd.jupyter.widget-view+json": {
       "model_id": "e75625ad032e4080b3ba873412e040c4",
       "version_major": 2,
       "version_minor": 0
      },
      "text/plain": [
       "  0%|          | 0/22485 [00:00<?, ?it/s]"
      ]
     },
     "metadata": {},
     "output_type": "display_data"
    }
   ],
   "source": [
    "# random_choose_org = lambda x: np.random.choice(spb_orgs, size = N_PREDICTION_ORG, replace=False) if x['user_city'] == 'msk' else np.random.choice(msk_orgs, N_PREDICTION_ORG, replace=False)\n",
    "random_choose_org = lambda x: np.random.choice(spb_orgs, size = N_PREDICTION_ORG, replace=False) if x['user_city'] == 'msk' else np.random.choice(msk_orgs, N_PREDICTION_ORG, replace=False)\n",
    "\n",
    "target = test_users.progress_apply(random_choose_org, axis=1)\n",
    "target = target.progress_apply(lambda x: list(map(int, x)))\n",
    "\n",
    "result_top_N = test_users[['user_id']].copy()\n",
    "result_top_N['target'] = target"
   ]
  },
  {
   "cell_type": "code",
   "execution_count": 206,
   "id": "242399c2-8d6e-4271-86aa-e52458f5e448",
   "metadata": {
    "execution": {
     "iopub.execute_input": "2022-04-29T15:23:45.091935Z",
     "iopub.status.busy": "2022-04-29T15:23:45.091675Z",
     "iopub.status.idle": "2022-04-29T15:23:46.423384Z",
     "shell.execute_reply": "2022-04-29T15:23:46.421515Z",
     "shell.execute_reply.started": "2022-04-29T15:23:45.091913Z"
    },
    "tags": []
   },
   "outputs": [
    {
     "data": {
      "text/plain": [
       "0        0\n",
       "14988    0\n",
       "14996    0\n",
       "14995    0\n",
       "14994    0\n",
       "        ..\n",
       "7493     0\n",
       "7492     0\n",
       "7491     0\n",
       "7490     0\n",
       "22484    0\n",
       "Length: 22485, dtype: int64"
      ]
     },
     "execution_count": 206,
     "metadata": {},
     "output_type": "execute_result"
    }
   ],
   "source": [
    "result_top_N.merge(y_test, on='user_id').apply(lambda x: sum([i in x['y_true'] for i in x['target']]), axis=1).sort_values(ascending=False)"
   ]
  },
  {
   "cell_type": "code",
   "execution_count": 196,
   "id": "d886ed0d-1a24-49f8-8e09-399b88b50e61",
   "metadata": {
    "execution": {
     "iopub.execute_input": "2022-04-29T15:16:11.934999Z",
     "iopub.status.busy": "2022-04-29T15:16:11.934748Z",
     "iopub.status.idle": "2022-04-29T15:16:14.224458Z",
     "shell.execute_reply": "2022-04-29T15:16:14.223341Z",
     "shell.execute_reply.started": "2022-04-29T15:16:11.934926Z"
    },
    "tags": []
   },
   "outputs": [
    {
     "data": {
      "text/plain": [
       "0.0831595696295419"
      ]
     },
     "execution_count": 196,
     "metadata": {},
     "output_type": "execute_result"
    }
   ],
   "source": [
    "mnap_metric_calc(y_test, result_top_N) * 100"
   ]
  },
  {
   "cell_type": "code",
   "execution_count": 207,
   "id": "431d3fff-7ac9-4d2e-ba0f-dfd896721cea",
   "metadata": {
    "execution": {
     "iopub.execute_input": "2022-04-29T15:24:16.291920Z",
     "iopub.status.busy": "2022-04-29T15:24:16.291636Z",
     "iopub.status.idle": "2022-04-29T15:24:16.575604Z",
     "shell.execute_reply": "2022-04-29T15:24:16.574533Z",
     "shell.execute_reply.started": "2022-04-29T15:24:16.291882Z"
    },
    "tags": []
   },
   "outputs": [
    {
     "data": {
      "text/html": [
       "<div>\n",
       "<style scoped>\n",
       "    .dataframe tbody tr th:only-of-type {\n",
       "        vertical-align: middle;\n",
       "    }\n",
       "\n",
       "    .dataframe tbody tr th {\n",
       "        vertical-align: top;\n",
       "    }\n",
       "\n",
       "    .dataframe thead th {\n",
       "        text-align: right;\n",
       "    }\n",
       "</style>\n",
       "<table border=\"1\" class=\"dataframe\">\n",
       "  <thead>\n",
       "    <tr style=\"text-align: right;\">\n",
       "      <th></th>\n",
       "      <th>user_id</th>\n",
       "      <th>target</th>\n",
       "    </tr>\n",
       "  </thead>\n",
       "  <tbody>\n",
       "    <tr>\n",
       "      <th>0</th>\n",
       "      <td>11859048046981233908</td>\n",
       "      <td>[1732348878070501632, 15092837550836111360, 53...</td>\n",
       "    </tr>\n",
       "    <tr>\n",
       "      <th>1</th>\n",
       "      <td>15587804372050325574</td>\n",
       "      <td>[11006800892303206400, 11710076672100157440, 1...</td>\n",
       "    </tr>\n",
       "    <tr>\n",
       "      <th>2</th>\n",
       "      <td>12162067348356020196</td>\n",
       "      <td>[14811007832067758080, 11266259534819315712, 3...</td>\n",
       "    </tr>\n",
       "    <tr>\n",
       "      <th>3</th>\n",
       "      <td>8103517504171274389</td>\n",
       "      <td>[16515799056215097344, 5019267650883348480, 19...</td>\n",
       "    </tr>\n",
       "    <tr>\n",
       "      <th>4</th>\n",
       "      <td>10945514241898471401</td>\n",
       "      <td>[1352900198295267072, 17483411528870660096, 17...</td>\n",
       "    </tr>\n",
       "    <tr>\n",
       "      <th>...</th>\n",
       "      <td>...</td>\n",
       "      <td>...</td>\n",
       "    </tr>\n",
       "    <tr>\n",
       "      <th>22480</th>\n",
       "      <td>13566530607351820237</td>\n",
       "      <td>[1352900198295267072, 1732348878070501632, 532...</td>\n",
       "    </tr>\n",
       "    <tr>\n",
       "      <th>22481</th>\n",
       "      <td>11335509666663005941</td>\n",
       "      <td>[1732348878070501632, 3099370727209496064, 171...</td>\n",
       "    </tr>\n",
       "    <tr>\n",
       "      <th>22482</th>\n",
       "      <td>9661327606538591652</td>\n",
       "      <td>[15120040193672648704, 1876636121854267392, 15...</td>\n",
       "    </tr>\n",
       "    <tr>\n",
       "      <th>22483</th>\n",
       "      <td>14022370448741367741</td>\n",
       "      <td>[12309025298401949696, 10276373697321246720, 1...</td>\n",
       "    </tr>\n",
       "    <tr>\n",
       "      <th>22484</th>\n",
       "      <td>17587673573341943884</td>\n",
       "      <td>[14133244540333873152, 336748997849365888, 153...</td>\n",
       "    </tr>\n",
       "  </tbody>\n",
       "</table>\n",
       "<p>22485 rows × 2 columns</p>\n",
       "</div>"
      ],
      "text/plain": [
       "                    user_id                                             target\n",
       "0      11859048046981233908  [1732348878070501632, 15092837550836111360, 53...\n",
       "1      15587804372050325574  [11006800892303206400, 11710076672100157440, 1...\n",
       "2      12162067348356020196  [14811007832067758080, 11266259534819315712, 3...\n",
       "3       8103517504171274389  [16515799056215097344, 5019267650883348480, 19...\n",
       "4      10945514241898471401  [1352900198295267072, 17483411528870660096, 17...\n",
       "...                     ...                                                ...\n",
       "22480  13566530607351820237  [1352900198295267072, 1732348878070501632, 532...\n",
       "22481  11335509666663005941  [1732348878070501632, 3099370727209496064, 171...\n",
       "22482   9661327606538591652  [15120040193672648704, 1876636121854267392, 15...\n",
       "22483  14022370448741367741  [12309025298401949696, 10276373697321246720, 1...\n",
       "22484  17587673573341943884  [14133244540333873152, 336748997849365888, 153...\n",
       "\n",
       "[22485 rows x 2 columns]"
      ]
     },
     "execution_count": 207,
     "metadata": {},
     "output_type": "execute_result"
    }
   ],
   "source": [
    "make_answer(result_top_N, 'result_top_N')\n",
    "result_top_N"
   ]
  },
  {
   "cell_type": "markdown",
   "id": "037931c3-3e16-432e-ab8d-32c83afb7893",
   "metadata": {
    "tags": []
   },
   "source": [
    "## Recommend from each category"
   ]
  },
  {
   "cell_type": "markdown",
   "id": "7e2d0cc2-9237-4672-af73-c790afb592dc",
   "metadata": {},
   "source": [
    "todo"
   ]
  },
  {
   "cell_type": "markdown",
   "id": "5f93ceed-b259-4355-b3a8-c54974f7d7ad",
   "metadata": {},
   "source": [
    "# 5. [Model] Collaborative filtering & ALS\n",
    "\n",
    "1. Make interaction matrix for MSK places\n",
    "2. Make interaction matrix for SPB places\n",
    "3. use `implicit.als`\n",
    "4. `recommend_all` and transformer into appropirate format"
   ]
  },
  {
   "cell_type": "code",
   "execution_count": 209,
   "id": "b5379f06-bb69-4762-8670-4dc3ccdedfe8",
   "metadata": {
    "execution": {
     "iopub.execute_input": "2022-04-29T15:36:35.636034Z",
     "iopub.status.busy": "2022-04-29T15:36:35.635731Z",
     "iopub.status.idle": "2022-04-29T15:36:35.847455Z",
     "shell.execute_reply": "2022-04-29T15:36:35.846442Z",
     "shell.execute_reply.started": "2022-04-29T15:36:35.635997Z"
    },
    "tags": []
   },
   "outputs": [],
   "source": [
    "import implicit"
   ]
  },
  {
   "cell_type": "code",
   "execution_count": 225,
   "id": "ffde6756-a7e7-4768-84b6-4b9439651152",
   "metadata": {
    "execution": {
     "iopub.execute_input": "2022-04-29T15:56:46.092848Z",
     "iopub.status.busy": "2022-04-29T15:56:46.092563Z",
     "iopub.status.idle": "2022-04-29T15:56:46.100161Z",
     "shell.execute_reply": "2022-04-29T15:56:46.098995Z",
     "shell.execute_reply.started": "2022-04-29T15:56:46.092815Z"
    }
   },
   "outputs": [],
   "source": [
    "def filter_reviews(reviews, users=None, orgs=None): \n",
    "    '''\n",
    "    filter_reviews(reviews, users=None, orgs=None)\n",
    "    Оставляет в выборке только отзывы, оставленные заданными пользователями на заданные организации. \n",
    "\n",
    "    '''\n",
    "    if users is not None: \n",
    "        reviews = reviews.merge(users, on='user_id', how='inner')\n",
    "        clear_df(reviews)\n",
    "        \n",
    "    if orgs is not None:\n",
    "        reviews = reviews.merge(orgs, on='org_id', how='inner')\n",
    "        clear_df(reviews)\n",
    "        \n",
    "    return reviews"
   ]
  },
  {
   "cell_type": "markdown",
   "id": "ee0782ae-4164-4588-a520-a5856cb276ce",
   "metadata": {},
   "source": [
    "## Interaction matrix"
   ]
  },
  {
   "cell_type": "code",
   "execution_count": 226,
   "id": "96c50433-18c1-4f09-9291-efacd47efd6d",
   "metadata": {
    "execution": {
     "iopub.execute_input": "2022-04-29T15:56:47.492228Z",
     "iopub.status.busy": "2022-04-29T15:56:47.491878Z",
     "iopub.status.idle": "2022-04-29T15:56:47.500670Z",
     "shell.execute_reply": "2022-04-29T15:56:47.499633Z",
     "shell.execute_reply.started": "2022-04-29T15:56:47.492183Z"
    },
    "tags": []
   },
   "outputs": [],
   "source": [
    "def reduce_reviews(reviews, min_user_reviews=5, min_org_reviews=13):\n",
    "    \n",
    "    inner_reviews = reviews[reviews['user_city'] == reviews['org_city']]\n",
    "    outer_reviews = reviews[reviews['user_city'] != reviews['org_city']]\n",
    "\n",
    "    tourist_users = outer_reviews['user_id'].unique()\n",
    "    inner_reviews = filter_reviews(inner_reviews, users=tourist_users)\n",
    "    \n",
    "    top_users = count_unique(inner_reviews, 'user_id')\n",
    "    top_users = top_users[top_users['count'] >= min_user_reviews]\n",
    "        \n",
    "    top_orgs = count_unique(inner_reviews, 'org_id')\n",
    "    top_orgs = top_orgs[top_orgs['count'] >= min_org_reviews]\n",
    "        \n",
    "    inner_reviews = filter_reviews(inner_reviews, users=top_users, orgs=top_orgs)\n",
    "    outer_reviews = filter_reviews(outer_reviews, users=top_users)\n",
    "    \n",
    "    reviews = pd.concat([inner_reviews, outer_reviews])\n",
    "    users = reviews['user_id'].unique()\n",
    "    orgs = reviews['org_id'].unique()\n",
    "    \n",
    "    \n",
    "    return (\n",
    "        (\n",
    "            inner_reviews,\n",
    "            inner_reviews['org_id'].unique()\n",
    "        ),\n",
    "        (\n",
    "            outer_reviews,\n",
    "            outer_reviews['org_id'].unique()\n",
    "        ),\n",
    "        inner_reviews['user_id'].unique()\n",
    "    )"
   ]
  },
  {
   "cell_type": "code",
   "execution_count": 227,
   "id": "16839c48-47da-4259-a2c9-4dae230fd4f0",
   "metadata": {
    "execution": {
     "iopub.execute_input": "2022-04-29T15:56:47.714183Z",
     "iopub.status.busy": "2022-04-29T15:56:47.713931Z",
     "iopub.status.idle": "2022-04-29T15:56:49.033837Z",
     "shell.execute_reply": "2022-04-29T15:56:49.032359Z",
     "shell.execute_reply.started": "2022-04-29T15:56:47.714161Z"
    },
    "tags": []
   },
   "outputs": [],
   "source": [
    "def create_mappings(df, column):\n",
    "    '''\n",
    "    create_mappings(df, column)\n",
    "        Создаёт маппинг между оригинальными ключами словаря и новыми порядковыми.\n",
    "        \n",
    "        Parameters\n",
    "        ----------\n",
    "        df : pandas.DataFrame\n",
    "            DataFrame с данными.\n",
    "            \n",
    "        column : str\n",
    "            Название колонки, содержащей нужны ключи. \n",
    "        \n",
    "        Returns\n",
    "        -------\n",
    "        code_to_idx : dict\n",
    "            Словарь с маппингом: \"оригинальный ключ\" -> \"новый ключ\".\n",
    "        \n",
    "        idx_to_code : dict\n",
    "            Словарь с маппингом: \"новый ключ\" -> \"оригинальный ключ\".\n",
    "    '''\n",
    "    \n",
    "    code_to_idx = {}\n",
    "    idx_to_code = {}\n",
    "    \n",
    "    for idx, code in enumerate(df[column].to_list()):\n",
    "        code_to_idx[code] = idx\n",
    "        idx_to_code[idx] = code\n",
    "        \n",
    "    return code_to_idx, idx_to_code\n",
    "\n",
    "\n",
    "def map_ids(row, mapping):\n",
    "    '''\n",
    "    Вспомогательная функция\n",
    "    '''\n",
    "    \n",
    "    return mapping[row]\n",
    "\n",
    "\n",
    "def interaction_matrix(reviews, test_users, min_user_reviews=5, min_org_reviews=12): \n",
    "    '''\n",
    "    Parameters\n",
    "    ---------\n",
    "    min_user_reviews : int, default=5\n",
    "        Minumal user feedbacks to include him in matrix\n",
    "\n",
    "    min_org_reviews : int, default=12\n",
    "        Same but with orgs\n",
    "\n",
    "    Returns\n",
    "    -------\n",
    "    InteractionMatrix : scipy.sparse.csr_matrix\n",
    "             ---------------------------------------------------\n",
    "            | TRAIN USERS, INNER ORGS | TRAIN USERS, OUTER ORGS |\n",
    "            |                         |                         |\n",
    "             ---------------------------------------------------\n",
    "            |  TEST USERS, INNER ORGS |  TEST USERS, OUTER ORGS |\n",
    "            |                         |                         |\n",
    "             ---------------------------------------------------\n",
    "\n",
    "    splitting : tuple\n",
    "            1. Number users in train\n",
    "            2. Number users in test\n",
    "\n",
    "    splitting: tuple\n",
    "            1. (idx_to_uid, uid_to_idx) - map ind to user_id\n",
    "            2. (idx_to_oid, oid_to_idx) - map ind to org_id\n",
    "    '''\n",
    "    \n",
    "    \n",
    "    info = reduce_reviews(reviews, min_user_reviews, min_org_reviews)\n",
    "    \n",
    "    (inner_reviews, inner_orgs), (outer_reviews, outer_orgs), train_users = info\n",
    "    \n",
    "    # удалим из обучающей выборки пользователей, которые есть в тестовой\n",
    "    test_users = test_users[['user_id']]\n",
    "    \n",
    "    train_users = (\n",
    "        pd.merge(train_users, test_users, indicator=True, how='outer')\n",
    "        .query('_merge==\"left_only\"')\n",
    "        .drop('_merge', axis=1)\n",
    "    )\n",
    "    \n",
    "    inner_reviews = filter_reviews(inner_reviews, train_users)\n",
    "    outer_reviews = filter_reviews(outer_reviews, train_users)\n",
    "    \n",
    "    # оставляем отзывы, оставленные тестовыми пользователями\n",
    "    test_reviews = filter_reviews(reviews, test_users, pd.concat([inner_orgs, outer_orgs]))\n",
    "    \n",
    "    # получаем полный набор маппингов\n",
    "    all_users = pd.concat([train_users, test_users])\n",
    "    all_orgs = pd.concat([inner_orgs, outer_orgs])\n",
    "    \n",
    "    uid_to_idx, idx_to_uid = create_mappings(all_users, 'user_id')\n",
    "    oid_to_idx, idx_to_oid = create_mappings(all_orgs, 'org_id')\n",
    "    \n",
    "    # собираем матрицу взаимодействий \n",
    "    reviews = pd.concat([inner_reviews, outer_reviews, test_reviews])    \n",
    "        \n",
    "    I = reviews['user_id'].apply(map_ids, args=[uid_to_idx]).values\n",
    "    J = reviews['org_id'].apply(map_ids, args=[oid_to_idx]).values\n",
    "    values = reviews['rating']\n",
    "        \n",
    "    interactions = sparse.coo_matrix(\n",
    "        (values, (I, J)), \n",
    "        shape=(len(all_users), len(all_orgs)), \n",
    "        dtype=np.float64\n",
    "    ).tocsr()\n",
    "    \n",
    "    \n",
    "    return (\n",
    "        interactions, \n",
    "        (len(train_users), len(inner_orgs)), \n",
    "        (\n",
    "            (idx_to_uid, uid_to_idx),\n",
    "            (idx_to_oid, oid_to_idx)\n",
    "        )\n",
    "    )\n"
   ]
  },
  {
   "cell_type": "markdown",
   "id": "be0a8fd8-717c-420e-8db4-20fe59ff0a23",
   "metadata": {},
   "source": [
    "## ALS"
   ]
  },
  {
   "cell_type": "code",
   "execution_count": 228,
   "id": "b64bab83-f9f8-405e-8181-d9186b9545d6",
   "metadata": {
    "execution": {
     "iopub.execute_input": "2022-04-29T15:56:49.036322Z",
     "iopub.status.busy": "2022-04-29T15:56:49.035932Z",
     "iopub.status.idle": "2022-04-29T15:56:49.045046Z",
     "shell.execute_reply": "2022-04-29T15:56:49.043832Z",
     "shell.execute_reply.started": "2022-04-29T15:56:49.036214Z"
    },
    "tags": []
   },
   "outputs": [],
   "source": [
    "def make_predictions(interactions, X_test, N):\n",
    "    \n",
    "    predictions = X_test[['user_id']].copy()\n",
    "    predictions['target'] = pd.Series(dtype=object)\n",
    "    predictions = predictions.set_index('user_id')\n",
    "    \n",
    "    interactions, (train_users_len, inner_orgs_len), mappings = interactions\n",
    "    (idx_to_uid, uid_to_idx), (idx_to_oid, oid_to_idx) = mappings\n",
    "\n",
    "    base_model = implicit.als.AlternatingLeastSquares(\n",
    "        factors=5, \n",
    "        iterations=75, \n",
    "        regularization=0.05, \n",
    "        random_state=42\n",
    "    )\n",
    "    \n",
    "    base_model.fit(interactions.T)\n",
    "    \n",
    "    orgs_to_filter = list(np.arange(inner_orgs_len))\n",
    "\n",
    "    recommendations = base_model.recommend_all(\n",
    "        interactions,\n",
    "        N=N,\n",
    "        filter_already_liked_items=True,\n",
    "        filter_items=orgs_to_filter,\n",
    "        show_progress=True\n",
    "    )\n",
    "    \n",
    "    for user_id in tqdm(X_test['user_id'].values, leave=False):\n",
    "        predictions.loc[user_id, 'target'] = list(\n",
    "            map(\n",
    "                lambda org_idx: idx_to_oid[org_idx], \n",
    "                recommendations[uid_to_idx[user_id]]\n",
    "            )\n",
    "        )\n",
    "        \n",
    "    return predictions.reset_index()"
   ]
  },
  {
   "cell_type": "code",
   "execution_count": 229,
   "id": "a9d5eb15-d8a6-4f27-89c1-08859595cb95",
   "metadata": {
    "execution": {
     "iopub.execute_input": "2022-04-29T15:56:49.046303Z",
     "iopub.status.busy": "2022-04-29T15:56:49.046042Z",
     "iopub.status.idle": "2022-04-29T15:57:04.509889Z",
     "shell.execute_reply": "2022-04-29T15:57:04.508412Z",
     "shell.execute_reply.started": "2022-04-29T15:56:49.046256Z"
    },
    "tags": []
   },
   "outputs": [
    {
     "ename": "TypeError",
     "evalue": "Can only merge Series or DataFrame objects, a <class 'numpy.ndarray'> was passed",
     "output_type": "error",
     "traceback": [
      "\u001B[0;31m---------------------------------------------------------------------------\u001B[0m",
      "\u001B[0;31mTypeError\u001B[0m                                 Traceback (most recent call last)",
      "\u001B[0;32m/var/tmp/ipykernel_29681/377663443.py\u001B[0m in \u001B[0;36m<module>\u001B[0;34m\u001B[0m\n\u001B[0;32m----> 1\u001B[0;31m msk_interactions = interaction_matrix(\n\u001B[0m\u001B[1;32m      2\u001B[0m     \u001B[0mtrain\u001B[0m\u001B[0;34m[\u001B[0m\u001B[0mtrain\u001B[0m\u001B[0;34m[\u001B[0m\u001B[0;34m'user_city'\u001B[0m\u001B[0;34m]\u001B[0m \u001B[0;34m==\u001B[0m \u001B[0;34m'msk'\u001B[0m\u001B[0;34m]\u001B[0m\u001B[0;34m,\u001B[0m\u001B[0;34m\u001B[0m\u001B[0;34m\u001B[0m\u001B[0m\n\u001B[1;32m      3\u001B[0m     \u001B[0mtest_users\u001B[0m\u001B[0;34m[\u001B[0m\u001B[0mtest_users\u001B[0m\u001B[0;34m[\u001B[0m\u001B[0;34m'user_city'\u001B[0m\u001B[0;34m]\u001B[0m \u001B[0;34m==\u001B[0m \u001B[0;34m'msk'\u001B[0m\u001B[0;34m]\u001B[0m\u001B[0;34m,\u001B[0m\u001B[0;34m\u001B[0m\u001B[0;34m\u001B[0m\u001B[0m\n\u001B[1;32m      4\u001B[0m )\n\u001B[1;32m      5\u001B[0m \u001B[0;34m\u001B[0m\u001B[0m\n",
      "\u001B[0;32m/var/tmp/ipykernel_29681/2734951725.py\u001B[0m in \u001B[0;36minteraction_matrix\u001B[0;34m(reviews, test_users, min_user_reviews, min_org_reviews)\u001B[0m\n\u001B[1;32m     70\u001B[0m \u001B[0;34m\u001B[0m\u001B[0m\n\u001B[1;32m     71\u001B[0m \u001B[0;34m\u001B[0m\u001B[0m\n\u001B[0;32m---> 72\u001B[0;31m     \u001B[0minfo\u001B[0m \u001B[0;34m=\u001B[0m \u001B[0mreduce_reviews\u001B[0m\u001B[0;34m(\u001B[0m\u001B[0mreviews\u001B[0m\u001B[0;34m,\u001B[0m \u001B[0mmin_user_reviews\u001B[0m\u001B[0;34m,\u001B[0m \u001B[0mmin_org_reviews\u001B[0m\u001B[0;34m)\u001B[0m\u001B[0;34m\u001B[0m\u001B[0;34m\u001B[0m\u001B[0m\n\u001B[0m\u001B[1;32m     73\u001B[0m \u001B[0;34m\u001B[0m\u001B[0m\n\u001B[1;32m     74\u001B[0m     \u001B[0;34m(\u001B[0m\u001B[0minner_reviews\u001B[0m\u001B[0;34m,\u001B[0m \u001B[0minner_orgs\u001B[0m\u001B[0;34m)\u001B[0m\u001B[0;34m,\u001B[0m \u001B[0;34m(\u001B[0m\u001B[0mouter_reviews\u001B[0m\u001B[0;34m,\u001B[0m \u001B[0mouter_orgs\u001B[0m\u001B[0;34m)\u001B[0m\u001B[0;34m,\u001B[0m \u001B[0mtrain_users\u001B[0m \u001B[0;34m=\u001B[0m \u001B[0minfo\u001B[0m\u001B[0;34m\u001B[0m\u001B[0;34m\u001B[0m\u001B[0m\n",
      "\u001B[0;32m/var/tmp/ipykernel_29681/711607501.py\u001B[0m in \u001B[0;36mreduce_reviews\u001B[0;34m(reviews, min_user_reviews, min_org_reviews)\u001B[0m\n\u001B[1;32m      5\u001B[0m \u001B[0;34m\u001B[0m\u001B[0m\n\u001B[1;32m      6\u001B[0m     \u001B[0mtourist_users\u001B[0m \u001B[0;34m=\u001B[0m \u001B[0mouter_reviews\u001B[0m\u001B[0;34m[\u001B[0m\u001B[0;34m'user_id'\u001B[0m\u001B[0;34m]\u001B[0m\u001B[0;34m.\u001B[0m\u001B[0munique\u001B[0m\u001B[0;34m(\u001B[0m\u001B[0;34m)\u001B[0m\u001B[0;34m\u001B[0m\u001B[0;34m\u001B[0m\u001B[0m\n\u001B[0;32m----> 7\u001B[0;31m     \u001B[0minner_reviews\u001B[0m \u001B[0;34m=\u001B[0m \u001B[0mfilter_reviews\u001B[0m\u001B[0;34m(\u001B[0m\u001B[0minner_reviews\u001B[0m\u001B[0;34m,\u001B[0m \u001B[0musers\u001B[0m\u001B[0;34m=\u001B[0m\u001B[0mtourist_users\u001B[0m\u001B[0;34m)\u001B[0m\u001B[0;34m\u001B[0m\u001B[0;34m\u001B[0m\u001B[0m\n\u001B[0m\u001B[1;32m      8\u001B[0m \u001B[0;34m\u001B[0m\u001B[0m\n\u001B[1;32m      9\u001B[0m     \u001B[0mtop_users\u001B[0m \u001B[0;34m=\u001B[0m \u001B[0mcount_unique\u001B[0m\u001B[0;34m(\u001B[0m\u001B[0minner_reviews\u001B[0m\u001B[0;34m,\u001B[0m \u001B[0;34m'user_id'\u001B[0m\u001B[0;34m)\u001B[0m\u001B[0;34m\u001B[0m\u001B[0;34m\u001B[0m\u001B[0m\n",
      "\u001B[0;32m/var/tmp/ipykernel_29681/3953000426.py\u001B[0m in \u001B[0;36mfilter_reviews\u001B[0;34m(reviews, users, orgs)\u001B[0m\n\u001B[1;32m      6\u001B[0m     '''\n\u001B[1;32m      7\u001B[0m     \u001B[0;32mif\u001B[0m \u001B[0musers\u001B[0m \u001B[0;32mis\u001B[0m \u001B[0;32mnot\u001B[0m \u001B[0;32mNone\u001B[0m\u001B[0;34m:\u001B[0m\u001B[0;34m\u001B[0m\u001B[0;34m\u001B[0m\u001B[0m\n\u001B[0;32m----> 8\u001B[0;31m         \u001B[0mreviews\u001B[0m \u001B[0;34m=\u001B[0m \u001B[0mreviews\u001B[0m\u001B[0;34m.\u001B[0m\u001B[0mmerge\u001B[0m\u001B[0;34m(\u001B[0m\u001B[0musers\u001B[0m\u001B[0;34m,\u001B[0m \u001B[0mon\u001B[0m\u001B[0;34m=\u001B[0m\u001B[0;34m'user_id'\u001B[0m\u001B[0;34m,\u001B[0m \u001B[0mhow\u001B[0m\u001B[0;34m=\u001B[0m\u001B[0;34m'inner'\u001B[0m\u001B[0;34m)\u001B[0m\u001B[0;34m\u001B[0m\u001B[0;34m\u001B[0m\u001B[0m\n\u001B[0m\u001B[1;32m      9\u001B[0m         \u001B[0mclear_df\u001B[0m\u001B[0;34m(\u001B[0m\u001B[0mreviews\u001B[0m\u001B[0;34m)\u001B[0m\u001B[0;34m\u001B[0m\u001B[0;34m\u001B[0m\u001B[0m\n\u001B[1;32m     10\u001B[0m \u001B[0;34m\u001B[0m\u001B[0m\n",
      "\u001B[0;32m~/miniconda3/envs/py39/lib/python3.9/site-packages/pandas/core/frame.py\u001B[0m in \u001B[0;36mmerge\u001B[0;34m(self, right, how, on, left_on, right_on, left_index, right_index, sort, suffixes, copy, indicator, validate)\u001B[0m\n\u001B[1;32m   8193\u001B[0m         \u001B[0;32mfrom\u001B[0m \u001B[0mpandas\u001B[0m\u001B[0;34m.\u001B[0m\u001B[0mcore\u001B[0m\u001B[0;34m.\u001B[0m\u001B[0mreshape\u001B[0m\u001B[0;34m.\u001B[0m\u001B[0mmerge\u001B[0m \u001B[0;32mimport\u001B[0m \u001B[0mmerge\u001B[0m\u001B[0;34m\u001B[0m\u001B[0;34m\u001B[0m\u001B[0m\n\u001B[1;32m   8194\u001B[0m \u001B[0;34m\u001B[0m\u001B[0m\n\u001B[0;32m-> 8195\u001B[0;31m         return merge(\n\u001B[0m\u001B[1;32m   8196\u001B[0m             \u001B[0mself\u001B[0m\u001B[0;34m,\u001B[0m\u001B[0;34m\u001B[0m\u001B[0;34m\u001B[0m\u001B[0m\n\u001B[1;32m   8197\u001B[0m             \u001B[0mright\u001B[0m\u001B[0;34m,\u001B[0m\u001B[0;34m\u001B[0m\u001B[0;34m\u001B[0m\u001B[0m\n",
      "\u001B[0;32m~/miniconda3/envs/py39/lib/python3.9/site-packages/pandas/core/reshape/merge.py\u001B[0m in \u001B[0;36mmerge\u001B[0;34m(left, right, how, on, left_on, right_on, left_index, right_index, sort, suffixes, copy, indicator, validate)\u001B[0m\n\u001B[1;32m     72\u001B[0m     \u001B[0mvalidate\u001B[0m\u001B[0;34m=\u001B[0m\u001B[0;32mNone\u001B[0m\u001B[0;34m,\u001B[0m\u001B[0;34m\u001B[0m\u001B[0;34m\u001B[0m\u001B[0m\n\u001B[1;32m     73\u001B[0m ) -> \"DataFrame\":\n\u001B[0;32m---> 74\u001B[0;31m     op = _MergeOperation(\n\u001B[0m\u001B[1;32m     75\u001B[0m         \u001B[0mleft\u001B[0m\u001B[0;34m,\u001B[0m\u001B[0;34m\u001B[0m\u001B[0;34m\u001B[0m\u001B[0m\n\u001B[1;32m     76\u001B[0m         \u001B[0mright\u001B[0m\u001B[0;34m,\u001B[0m\u001B[0;34m\u001B[0m\u001B[0;34m\u001B[0m\u001B[0m\n",
      "\u001B[0;32m~/miniconda3/envs/py39/lib/python3.9/site-packages/pandas/core/reshape/merge.py\u001B[0m in \u001B[0;36m__init__\u001B[0;34m(self, left, right, how, on, left_on, right_on, axis, left_index, right_index, sort, suffixes, copy, indicator, validate)\u001B[0m\n\u001B[1;32m    597\u001B[0m     ):\n\u001B[1;32m    598\u001B[0m         \u001B[0m_left\u001B[0m \u001B[0;34m=\u001B[0m \u001B[0m_validate_operand\u001B[0m\u001B[0;34m(\u001B[0m\u001B[0mleft\u001B[0m\u001B[0;34m)\u001B[0m\u001B[0;34m\u001B[0m\u001B[0;34m\u001B[0m\u001B[0m\n\u001B[0;32m--> 599\u001B[0;31m         \u001B[0m_right\u001B[0m \u001B[0;34m=\u001B[0m \u001B[0m_validate_operand\u001B[0m\u001B[0;34m(\u001B[0m\u001B[0mright\u001B[0m\u001B[0;34m)\u001B[0m\u001B[0;34m\u001B[0m\u001B[0;34m\u001B[0m\u001B[0m\n\u001B[0m\u001B[1;32m    600\u001B[0m         \u001B[0mself\u001B[0m\u001B[0;34m.\u001B[0m\u001B[0mleft\u001B[0m \u001B[0;34m=\u001B[0m \u001B[0mself\u001B[0m\u001B[0;34m.\u001B[0m\u001B[0morig_left\u001B[0m \u001B[0;34m=\u001B[0m \u001B[0m_left\u001B[0m\u001B[0;34m\u001B[0m\u001B[0;34m\u001B[0m\u001B[0m\n\u001B[1;32m    601\u001B[0m         \u001B[0mself\u001B[0m\u001B[0;34m.\u001B[0m\u001B[0mright\u001B[0m \u001B[0;34m=\u001B[0m \u001B[0mself\u001B[0m\u001B[0;34m.\u001B[0m\u001B[0morig_right\u001B[0m \u001B[0;34m=\u001B[0m \u001B[0m_right\u001B[0m\u001B[0;34m\u001B[0m\u001B[0;34m\u001B[0m\u001B[0m\n",
      "\u001B[0;32m~/miniconda3/envs/py39/lib/python3.9/site-packages/pandas/core/reshape/merge.py\u001B[0m in \u001B[0;36m_validate_operand\u001B[0;34m(obj)\u001B[0m\n\u001B[1;32m   2146\u001B[0m             \u001B[0;32mreturn\u001B[0m \u001B[0mobj\u001B[0m\u001B[0;34m.\u001B[0m\u001B[0mto_frame\u001B[0m\u001B[0;34m(\u001B[0m\u001B[0;34m)\u001B[0m\u001B[0;34m\u001B[0m\u001B[0;34m\u001B[0m\u001B[0m\n\u001B[1;32m   2147\u001B[0m     \u001B[0;32melse\u001B[0m\u001B[0;34m:\u001B[0m\u001B[0;34m\u001B[0m\u001B[0;34m\u001B[0m\u001B[0m\n\u001B[0;32m-> 2148\u001B[0;31m         raise TypeError(\n\u001B[0m\u001B[1;32m   2149\u001B[0m             \u001B[0;34mf\"Can only merge Series or DataFrame objects, a {type(obj)} was passed\"\u001B[0m\u001B[0;34m\u001B[0m\u001B[0;34m\u001B[0m\u001B[0m\n\u001B[1;32m   2150\u001B[0m         )\n",
      "\u001B[0;31mTypeError\u001B[0m: Can only merge Series or DataFrame objects, a <class 'numpy.ndarray'> was passed"
     ]
    }
   ],
   "source": [
    "msk_interactions = interaction_matrix(\n",
    "    train[train['user_city'] == 'msk'],\n",
    "    test_users[test_users['user_city'] == 'msk'],\n",
    ")\n",
    "\n",
    "spb_interactions = interaction_matrix(\n",
    "    train[train['user_city'] == 'spb'],\n",
    "    test_users[test_users['user_city'] == 'spb'],\n",
    ")       \n",
    "        \n",
    "test_msk_users = test_users[test_users['user_city'] == 'msk']\n",
    "test_spb_users = test_users[test_users['user_city'] == 'spb']\n",
    "\n",
    "msk_predictions = make_predictions(msk_interactions, test_msk_users, N)\n",
    "spb_predictions = make_predictions(spb_interactions, test_spb_users, N)\n",
    "\n",
    "predictions = pd.concat([msk_predictions, spb_predictions])"
   ]
  },
  {
   "cell_type": "code",
   "execution_count": null,
   "id": "bda9dc19-dda4-4b59-8978-ad4efc640962",
   "metadata": {},
   "outputs": [],
   "source": [
    "todo"
   ]
  },
  {
   "cell_type": "markdown",
   "id": "cbd9bc22-2ebe-4bf4-9d07-137ba72c64f9",
   "metadata": {},
   "source": [
    "# 7. [Model] Gradient boosting"
   ]
  },
  {
   "cell_type": "markdown",
   "id": "6b306b57-7073-4f2e-8910-3312ae028d51",
   "metadata": {},
   "source": [
    "## Augmentation"
   ]
  },
  {
   "cell_type": "markdown",
   "id": "bbf87e98-f0e1-4326-8943-74f7b5f7e292",
   "metadata": {},
   "source": [
    "todo"
   ]
  },
  {
   "cell_type": "markdown",
   "id": "e550b8b1-13e2-4f08-b5a8-463c3b5611a6",
   "metadata": {
    "execution": {
     "iopub.execute_input": "2022-04-29T16:01:36.759169Z",
     "iopub.status.busy": "2022-04-29T16:01:36.758791Z",
     "iopub.status.idle": "2022-04-29T16:01:36.764683Z",
     "shell.execute_reply": "2022-04-29T16:01:36.763425Z",
     "shell.execute_reply.started": "2022-04-29T16:01:36.759127Z"
    },
    "tags": []
   },
   "source": [
    "## xgboost"
   ]
  },
  {
   "cell_type": "markdown",
   "id": "4d6beb66-5f32-43a4-b14e-79a7a847f4fa",
   "metadata": {},
   "source": [
    "todo"
   ]
  },
  {
   "cell_type": "markdown",
   "id": "f1eb1b35-0d08-4ca9-88f8-823620d85c2d",
   "metadata": {},
   "source": [
    "# 8. [Model] LightFM's"
   ]
  },
  {
   "cell_type": "code",
   "execution_count": null,
   "id": "1a79dd00-fb66-4255-8207-996f13c1daa6",
   "metadata": {
    "tags": []
   },
   "outputs": [],
   "source": [
    "import lightfm\n"
   ]
  },
  {
   "cell_type": "code",
   "execution_count": null,
   "id": "c806aaf0-7471-4e61-ab58-4987942292b2",
   "metadata": {},
   "outputs": [],
   "source": []
  }
 ],
 "metadata": {
  "kernelspec": {
   "display_name": "Python 3 (ipykernel)",
   "language": "python",
   "name": "python3"
  },
  "language_info": {
   "codemirror_mode": {
    "name": "ipython",
    "version": 3
   },
   "file_extension": ".py",
   "mimetype": "text/x-python",
   "name": "python",
   "nbconvert_exporter": "python",
   "pygments_lexer": "ipython3",
   "version": "3.9.7"
  },
  "widgets": {
   "application/vnd.jupyter.widget-state+json": {
    "state": {
     "00d54337c5ad4f27aac370bea8efe1b1": {
      "model_module": "@jupyter-widgets/base",
      "model_module_version": "1.2.0",
      "model_name": "LayoutModel",
      "state": {}
     },
     "038bbe3de34146b292b4a3400bd78ebf": {
      "model_module": "@jupyter-widgets/base",
      "model_module_version": "1.2.0",
      "model_name": "LayoutModel",
      "state": {}
     },
     "03eeedee0c6d4da6adece09a61c7e33a": {
      "model_module": "@jupyter-widgets/controls",
      "model_module_version": "1.5.0",
      "model_name": "ProgressStyleModel",
      "state": {
       "description_width": ""
      }
     },
     "05e61533925f47cdb8fa7c7736527083": {
      "model_module": "@jupyter-widgets/base",
      "model_module_version": "1.2.0",
      "model_name": "LayoutModel",
      "state": {}
     },
     "05f11c34ce4e4e3fa8e24eff96c54076": {
      "model_module": "@jupyter-widgets/controls",
      "model_module_version": "1.5.0",
      "model_name": "DescriptionStyleModel",
      "state": {
       "description_width": ""
      }
     },
     "06a9c0bac8324f45b490a47bac75790d": {
      "model_module": "@jupyter-widgets/controls",
      "model_module_version": "1.5.0",
      "model_name": "DescriptionStyleModel",
      "state": {
       "description_width": ""
      }
     },
     "0960dad2bd76489abf882b415c2fd167": {
      "model_module": "@jupyter-widgets/base",
      "model_module_version": "1.2.0",
      "model_name": "LayoutModel",
      "state": {}
     },
     "09cb94c80c264256a9e699aa048a5b1d": {
      "model_module": "@jupyter-widgets/controls",
      "model_module_version": "1.5.0",
      "model_name": "ProgressStyleModel",
      "state": {
       "description_width": ""
      }
     },
     "0e8a15561e644d118097b698b09e1f9a": {
      "model_module": "@jupyter-widgets/controls",
      "model_module_version": "1.5.0",
      "model_name": "HTMLModel",
      "state": {
       "layout": "IPY_MODEL_6ba5aa62aaa142da8df83a779f1f072e",
       "style": "IPY_MODEL_e617a04e02f84c81b31fd041a52183f7",
       "value": " 22485/22485 [00:01&lt;00:00, 13254.14it/s]"
      }
     },
     "2258ccf933d8481db07fb76cc8ca704f": {
      "model_module": "@jupyter-widgets/controls",
      "model_module_version": "1.5.0",
      "model_name": "FloatProgressModel",
      "state": {
       "bar_style": "success",
       "layout": "IPY_MODEL_f3d8e00f9e264be19d349a74446968c1",
       "max": 22485,
       "style": "IPY_MODEL_d202e845cceb4f11a54bee202309a6f5",
       "value": 22485
      }
     },
     "28f00ce899664ecb8d3d46e8fe34a47c": {
      "model_module": "@jupyter-widgets/controls",
      "model_module_version": "1.5.0",
      "model_name": "FloatProgressModel",
      "state": {
       "bar_style": "success",
       "layout": "IPY_MODEL_afd02ab35bef4111addea56e0ea4a03b",
       "max": 22485,
       "style": "IPY_MODEL_c3912f1c85b346c1b04edc90e8fffca2",
       "value": 22485
      }
     },
     "31955800b1c14310aa6716e13af45250": {
      "model_module": "@jupyter-widgets/base",
      "model_module_version": "1.2.0",
      "model_name": "LayoutModel",
      "state": {}
     },
     "31a0088da76747de95d9a7edd27bdef7": {
      "model_module": "@jupyter-widgets/base",
      "model_module_version": "1.2.0",
      "model_name": "LayoutModel",
      "state": {}
     },
     "361db76e3f5f47288532c62ebd500a5b": {
      "model_module": "@jupyter-widgets/controls",
      "model_module_version": "1.5.0",
      "model_name": "ProgressStyleModel",
      "state": {
       "description_width": ""
      }
     },
     "3741469a9b2c4f728c37b16da349ceec": {
      "model_module": "@jupyter-widgets/base",
      "model_module_version": "1.2.0",
      "model_name": "LayoutModel",
      "state": {}
     },
     "376e37ddae8b41d8b7511a99337b615c": {
      "model_module": "@jupyter-widgets/controls",
      "model_module_version": "1.5.0",
      "model_name": "DescriptionStyleModel",
      "state": {
       "description_width": ""
      }
     },
     "403b456948ee468aa5ab9e00898c6613": {
      "model_module": "@jupyter-widgets/controls",
      "model_module_version": "1.5.0",
      "model_name": "HTMLModel",
      "state": {
       "layout": "IPY_MODEL_c95055a0885546f2a9bc8ad6028b1342",
       "style": "IPY_MODEL_e802740709724e6e995ac84341d9533a",
       "value": "  0%"
      }
     },
     "40af85a4a0b94de28a623794a2d2dbc3": {
      "model_module": "@jupyter-widgets/controls",
      "model_module_version": "1.5.0",
      "model_name": "HTMLModel",
      "state": {
       "layout": "IPY_MODEL_a3fe9402e7dc40bf9a41da55b73a1535",
       "style": "IPY_MODEL_ab60fc6b650c462cbb35ed4b6ba1a4a0",
       "value": "100%"
      }
     },
     "49d4bd16a2d045dfbf469d0756baecb2": {
      "model_module": "@jupyter-widgets/controls",
      "model_module_version": "1.5.0",
      "model_name": "ProgressStyleModel",
      "state": {
       "description_width": ""
      }
     },
     "4aa025c8fc34461899d933f7f29f2c37": {
      "model_module": "@jupyter-widgets/controls",
      "model_module_version": "1.5.0",
      "model_name": "FloatProgressModel",
      "state": {
       "bar_style": "danger",
       "layout": "IPY_MODEL_31955800b1c14310aa6716e13af45250",
       "max": 22485,
       "style": "IPY_MODEL_361db76e3f5f47288532c62ebd500a5b",
       "value": 17
      }
     },
     "4c801875012a435fb3c1806264243cc5": {
      "model_module": "@jupyter-widgets/controls",
      "model_module_version": "1.5.0",
      "model_name": "FloatProgressModel",
      "state": {
       "bar_style": "success",
       "layout": "IPY_MODEL_e4ac36c8fe324188822f127dd74f5749",
       "max": 22485,
       "style": "IPY_MODEL_03eeedee0c6d4da6adece09a61c7e33a",
       "value": 22485
      }
     },
     "4cb26b60cfec48f4b0185bec6dbe73ed": {
      "model_module": "@jupyter-widgets/base",
      "model_module_version": "1.2.0",
      "model_name": "LayoutModel",
      "state": {}
     },
     "4fd38625db63495e915d4c732291919e": {
      "model_module": "@jupyter-widgets/base",
      "model_module_version": "1.2.0",
      "model_name": "LayoutModel",
      "state": {}
     },
     "562d9ae2bcc54ce799ebd4d1b7fdd47e": {
      "model_module": "@jupyter-widgets/controls",
      "model_module_version": "1.5.0",
      "model_name": "HTMLModel",
      "state": {
       "layout": "IPY_MODEL_e8c935a640dc4b5aab5513d26477a6c5",
       "style": "IPY_MODEL_80d41ad3242f4e39824d1b28b6274673",
       "value": " 22485/22485 [00:00&lt;00:00, 89328.52it/s]"
      }
     },
     "5ab73d52eb4344ed80a2ff51ddb44d9c": {
      "model_module": "@jupyter-widgets/controls",
      "model_module_version": "1.5.0",
      "model_name": "HTMLModel",
      "state": {
       "layout": "IPY_MODEL_66194bd5532549d79884241a85beed7d",
       "style": "IPY_MODEL_730620261e4e4970bd73ec04358552df",
       "value": " 22485/22485 [00:01&lt;00:00, 18123.16it/s]"
      }
     },
     "5c6bad4abf2c457d83898ee26b952df0": {
      "model_module": "@jupyter-widgets/base",
      "model_module_version": "1.2.0",
      "model_name": "LayoutModel",
      "state": {}
     },
     "5dfd8d440c9a48feb42fed33567ff454": {
      "model_module": "@jupyter-widgets/controls",
      "model_module_version": "1.5.0",
      "model_name": "HTMLModel",
      "state": {
       "layout": "IPY_MODEL_a9596932289743a984d317ed376453ac",
       "style": "IPY_MODEL_ec083cc7da564fd991cd18fb4a7db929",
       "value": "  0%"
      }
     },
     "5e469139a52e45ef94582ff242c353a4": {
      "model_module": "@jupyter-widgets/controls",
      "model_module_version": "1.5.0",
      "model_name": "HBoxModel",
      "state": {
       "children": [
        "IPY_MODEL_5dfd8d440c9a48feb42fed33567ff454",
        "IPY_MODEL_5fe06ef4dfe94c14abdef74398276779",
        "IPY_MODEL_5ea957292cee47edbe056de16c1aef0d"
       ],
       "layout": "IPY_MODEL_3741469a9b2c4f728c37b16da349ceec"
      }
     },
     "5ea957292cee47edbe056de16c1aef0d": {
      "model_module": "@jupyter-widgets/controls",
      "model_module_version": "1.5.0",
      "model_name": "HTMLModel",
      "state": {
       "layout": "IPY_MODEL_c888f8cdc79f430ab2cf3efb722aafbd",
       "style": "IPY_MODEL_f1b797499d9a4ee6ad15c2b41104b238",
       "value": " 1/22485 [00:00&lt;09:58, 37.58it/s]"
      }
     },
     "5fafb1c0706f4b59b3175bd51b33a71c": {
      "model_module": "@jupyter-widgets/base",
      "model_module_version": "1.2.0",
      "model_name": "LayoutModel",
      "state": {}
     },
     "5fe06ef4dfe94c14abdef74398276779": {
      "model_module": "@jupyter-widgets/controls",
      "model_module_version": "1.5.0",
      "model_name": "FloatProgressModel",
      "state": {
       "bar_style": "danger",
       "layout": "IPY_MODEL_8a8821c72b8d40499027fb851624d3ed",
       "max": 22485,
       "style": "IPY_MODEL_f13fddad1192415ba51c57877ffd92ef",
       "value": 1
      }
     },
     "61f4f2e9bcae4488aa3796e494456804": {
      "model_module": "@jupyter-widgets/base",
      "model_module_version": "1.2.0",
      "model_name": "LayoutModel",
      "state": {}
     },
     "66194bd5532549d79884241a85beed7d": {
      "model_module": "@jupyter-widgets/base",
      "model_module_version": "1.2.0",
      "model_name": "LayoutModel",
      "state": {}
     },
     "68c2f4d1232f45c08a80ec20f45f5739": {
      "model_module": "@jupyter-widgets/controls",
      "model_module_version": "1.5.0",
      "model_name": "HBoxModel",
      "state": {
       "children": [
        "IPY_MODEL_e8e3f4530e5b4631a6fbd575b19a0f91",
        "IPY_MODEL_c8e95edb2fb5475cb65294a2b6ad0042",
        "IPY_MODEL_c5efce85266f42498128e31d1316fb54"
       ],
       "layout": "IPY_MODEL_05e61533925f47cdb8fa7c7736527083"
      }
     },
     "6ba5aa62aaa142da8df83a779f1f072e": {
      "model_module": "@jupyter-widgets/base",
      "model_module_version": "1.2.0",
      "model_name": "LayoutModel",
      "state": {}
     },
     "6beb7ed381f94ef1843a7433c69d15e2": {
      "model_module": "@jupyter-widgets/base",
      "model_module_version": "1.2.0",
      "model_name": "LayoutModel",
      "state": {}
     },
     "730620261e4e4970bd73ec04358552df": {
      "model_module": "@jupyter-widgets/controls",
      "model_module_version": "1.5.0",
      "model_name": "DescriptionStyleModel",
      "state": {
       "description_width": ""
      }
     },
     "80d41ad3242f4e39824d1b28b6274673": {
      "model_module": "@jupyter-widgets/controls",
      "model_module_version": "1.5.0",
      "model_name": "DescriptionStyleModel",
      "state": {
       "description_width": ""
      }
     },
     "8282e76bcd6646c5aa4cd99bebe0af3f": {
      "model_module": "@jupyter-widgets/controls",
      "model_module_version": "1.5.0",
      "model_name": "FloatProgressModel",
      "state": {
       "bar_style": "success",
       "layout": "IPY_MODEL_dd846f6f94e941a4b9ebdb82c9c6e0a8",
       "max": 22485,
       "style": "IPY_MODEL_49d4bd16a2d045dfbf469d0756baecb2",
       "value": 22485
      }
     },
     "863ec3e6187c4311be5ab750c25a0d1d": {
      "model_module": "@jupyter-widgets/controls",
      "model_module_version": "1.5.0",
      "model_name": "HTMLModel",
      "state": {
       "layout": "IPY_MODEL_eb5f7519bdfa4f5e87780fd084eb93b3",
       "style": "IPY_MODEL_e612f04d55924435ae7eb7bda50c5be0",
       "value": "100%"
      }
     },
     "8a254c42b7d74201b89e32993782485a": {
      "model_module": "@jupyter-widgets/controls",
      "model_module_version": "1.5.0",
      "model_name": "HBoxModel",
      "state": {
       "children": [
        "IPY_MODEL_863ec3e6187c4311be5ab750c25a0d1d",
        "IPY_MODEL_2258ccf933d8481db07fb76cc8ca704f",
        "IPY_MODEL_ae117d0b1d1c4011ac5f479877854ff2"
       ],
       "layout": "IPY_MODEL_31a0088da76747de95d9a7edd27bdef7"
      }
     },
     "8a8821c72b8d40499027fb851624d3ed": {
      "model_module": "@jupyter-widgets/base",
      "model_module_version": "1.2.0",
      "model_name": "LayoutModel",
      "state": {}
     },
     "8c9e2b767b6d4f52a14f9ef284ec5572": {
      "model_module": "@jupyter-widgets/base",
      "model_module_version": "1.2.0",
      "model_name": "LayoutModel",
      "state": {}
     },
     "903e3c38fc2d4b599b9e4e3a916b6396": {
      "model_module": "@jupyter-widgets/controls",
      "model_module_version": "1.5.0",
      "model_name": "ProgressStyleModel",
      "state": {
       "description_width": ""
      }
     },
     "93ec9d9a652241b782dd36a69fc15604": {
      "model_module": "@jupyter-widgets/controls",
      "model_module_version": "1.5.0",
      "model_name": "HTMLModel",
      "state": {
       "layout": "IPY_MODEL_95f6f9a741964f38a2eb9b7f02a49a97",
       "style": "IPY_MODEL_fc9f2ec72917459da8733cceed6a0580",
       "value": " 22485/22485 [00:00&lt;00:00, 105382.49it/s]"
      }
     },
     "95f6f9a741964f38a2eb9b7f02a49a97": {
      "model_module": "@jupyter-widgets/base",
      "model_module_version": "1.2.0",
      "model_name": "LayoutModel",
      "state": {}
     },
     "9a26af9b7af744b9bd3838fbc760b5e3": {
      "model_module": "@jupyter-widgets/base",
      "model_module_version": "1.2.0",
      "model_name": "LayoutModel",
      "state": {}
     },
     "9d033ba784264459adfa0b4a8313c924": {
      "model_module": "@jupyter-widgets/controls",
      "model_module_version": "1.5.0",
      "model_name": "HBoxModel",
      "state": {
       "children": [
        "IPY_MODEL_403b456948ee468aa5ab9e00898c6613",
        "IPY_MODEL_4aa025c8fc34461899d933f7f29f2c37",
        "IPY_MODEL_b2f5472c94a547b4b3b99db120e1cf60"
       ],
       "layout": "IPY_MODEL_9a26af9b7af744b9bd3838fbc760b5e3"
      }
     },
     "a3fe9402e7dc40bf9a41da55b73a1535": {
      "model_module": "@jupyter-widgets/base",
      "model_module_version": "1.2.0",
      "model_name": "LayoutModel",
      "state": {}
     },
     "a72d00fc280a48d9924fa6ce1aafcf58": {
      "model_module": "@jupyter-widgets/controls",
      "model_module_version": "1.5.0",
      "model_name": "HTMLModel",
      "state": {
       "layout": "IPY_MODEL_61f4f2e9bcae4488aa3796e494456804",
       "style": "IPY_MODEL_06a9c0bac8324f45b490a47bac75790d",
       "value": "100%"
      }
     },
     "a8b78db30d2e4731b534c8a8be4d5d47": {
      "model_module": "@jupyter-widgets/controls",
      "model_module_version": "1.5.0",
      "model_name": "DescriptionStyleModel",
      "state": {
       "description_width": ""
      }
     },
     "a9596932289743a984d317ed376453ac": {
      "model_module": "@jupyter-widgets/base",
      "model_module_version": "1.2.0",
      "model_name": "LayoutModel",
      "state": {}
     },
     "ab60fc6b650c462cbb35ed4b6ba1a4a0": {
      "model_module": "@jupyter-widgets/controls",
      "model_module_version": "1.5.0",
      "model_name": "DescriptionStyleModel",
      "state": {
       "description_width": ""
      }
     },
     "abc7f78463ff482f85038910b8557388": {
      "model_module": "@jupyter-widgets/controls",
      "model_module_version": "1.5.0",
      "model_name": "DescriptionStyleModel",
      "state": {
       "description_width": ""
      }
     },
     "ae117d0b1d1c4011ac5f479877854ff2": {
      "model_module": "@jupyter-widgets/controls",
      "model_module_version": "1.5.0",
      "model_name": "HTMLModel",
      "state": {
       "layout": "IPY_MODEL_4cb26b60cfec48f4b0185bec6dbe73ed",
       "style": "IPY_MODEL_05f11c34ce4e4e3fa8e24eff96c54076",
       "value": " 22485/22485 [00:01&lt;00:00, 13219.16it/s]"
      }
     },
     "afd02ab35bef4111addea56e0ea4a03b": {
      "model_module": "@jupyter-widgets/base",
      "model_module_version": "1.2.0",
      "model_name": "LayoutModel",
      "state": {}
     },
     "b2f5472c94a547b4b3b99db120e1cf60": {
      "model_module": "@jupyter-widgets/controls",
      "model_module_version": "1.5.0",
      "model_name": "HTMLModel",
      "state": {
       "layout": "IPY_MODEL_5fafb1c0706f4b59b3175bd51b33a71c",
       "style": "IPY_MODEL_bafe3ed7ad8441b0981931cefea6e3c9",
       "value": " 17/22485 [00:33&lt;11:49:15,  1.89s/it]"
      }
     },
     "b5bf8d02351c4769bbbffd450abf5a53": {
      "model_module": "@jupyter-widgets/controls",
      "model_module_version": "1.5.0",
      "model_name": "HTMLModel",
      "state": {
       "layout": "IPY_MODEL_f1d6bfa377264c78a0b799ca4a656e2b",
       "style": "IPY_MODEL_eb08d356e87345f5a8038fe80b67584f",
       "value": "100%"
      }
     },
     "b6b7ddfa57b34602ade560c9d1924386": {
      "model_module": "@jupyter-widgets/controls",
      "model_module_version": "1.5.0",
      "model_name": "HBoxModel",
      "state": {
       "children": [
        "IPY_MODEL_fb65526b48024dd3aa76d99bbb030a5e",
        "IPY_MODEL_e9376354eb7440d6963201d60160e07c",
        "IPY_MODEL_e0fa702785b6420eabfa92fefecb4561"
       ],
       "layout": "IPY_MODEL_4fd38625db63495e915d4c732291919e"
      }
     },
     "b6dad2b358ec42719cf63e9701224883": {
      "model_module": "@jupyter-widgets/base",
      "model_module_version": "1.2.0",
      "model_name": "LayoutModel",
      "state": {}
     },
     "ba98cc31ccbb45b68d3f9e39ccc55416": {
      "model_module": "@jupyter-widgets/controls",
      "model_module_version": "1.5.0",
      "model_name": "HBoxModel",
      "state": {
       "children": [
        "IPY_MODEL_bd718ca61d1e4c5199751ace9361a334",
        "IPY_MODEL_4c801875012a435fb3c1806264243cc5",
        "IPY_MODEL_0e8a15561e644d118097b698b09e1f9a"
       ],
       "layout": "IPY_MODEL_00d54337c5ad4f27aac370bea8efe1b1"
      }
     },
     "bafe3ed7ad8441b0981931cefea6e3c9": {
      "model_module": "@jupyter-widgets/controls",
      "model_module_version": "1.5.0",
      "model_name": "DescriptionStyleModel",
      "state": {
       "description_width": ""
      }
     },
     "bbabb038e88c4b36a72704c0dcc1ca1e": {
      "model_module": "@jupyter-widgets/controls",
      "model_module_version": "1.5.0",
      "model_name": "DescriptionStyleModel",
      "state": {
       "description_width": ""
      }
     },
     "bc45d995b9804834b4c0cb577628f5f6": {
      "model_module": "@jupyter-widgets/base",
      "model_module_version": "1.2.0",
      "model_name": "LayoutModel",
      "state": {}
     },
     "bd718ca61d1e4c5199751ace9361a334": {
      "model_module": "@jupyter-widgets/controls",
      "model_module_version": "1.5.0",
      "model_name": "HTMLModel",
      "state": {
       "layout": "IPY_MODEL_d1555827f142427aa3965f20d9d1da37",
       "style": "IPY_MODEL_376e37ddae8b41d8b7511a99337b615c",
       "value": "100%"
      }
     },
     "c3912f1c85b346c1b04edc90e8fffca2": {
      "model_module": "@jupyter-widgets/controls",
      "model_module_version": "1.5.0",
      "model_name": "ProgressStyleModel",
      "state": {
       "description_width": ""
      }
     },
     "c57622512fe24aeca395f2eb7730eb7a": {
      "model_module": "@jupyter-widgets/base",
      "model_module_version": "1.2.0",
      "model_name": "LayoutModel",
      "state": {}
     },
     "c5efce85266f42498128e31d1316fb54": {
      "model_module": "@jupyter-widgets/controls",
      "model_module_version": "1.5.0",
      "model_name": "HTMLModel",
      "state": {
       "layout": "IPY_MODEL_c57622512fe24aeca395f2eb7730eb7a",
       "style": "IPY_MODEL_bbabb038e88c4b36a72704c0dcc1ca1e",
       "value": " 1/22485 [00:00&lt;08:49, 42.50it/s]"
      }
     },
     "c888f8cdc79f430ab2cf3efb722aafbd": {
      "model_module": "@jupyter-widgets/base",
      "model_module_version": "1.2.0",
      "model_name": "LayoutModel",
      "state": {}
     },
     "c8e95edb2fb5475cb65294a2b6ad0042": {
      "model_module": "@jupyter-widgets/controls",
      "model_module_version": "1.5.0",
      "model_name": "FloatProgressModel",
      "state": {
       "bar_style": "danger",
       "layout": "IPY_MODEL_b6dad2b358ec42719cf63e9701224883",
       "max": 22485,
       "style": "IPY_MODEL_903e3c38fc2d4b599b9e4e3a916b6396",
       "value": 1
      }
     },
     "c95055a0885546f2a9bc8ad6028b1342": {
      "model_module": "@jupyter-widgets/base",
      "model_module_version": "1.2.0",
      "model_name": "LayoutModel",
      "state": {}
     },
     "cdeab54895274e3b99e573a4e6eaced1": {
      "model_module": "@jupyter-widgets/controls",
      "model_module_version": "1.5.0",
      "model_name": "ProgressStyleModel",
      "state": {
       "description_width": ""
      }
     },
     "cec85bbf516b4dbcaf2161c82d0c8869": {
      "model_module": "@jupyter-widgets/base",
      "model_module_version": "1.2.0",
      "model_name": "LayoutModel",
      "state": {}
     },
     "d03b2dc2760d48f3b0a5c0e96e669e59": {
      "model_module": "@jupyter-widgets/controls",
      "model_module_version": "1.5.0",
      "model_name": "HBoxModel",
      "state": {
       "children": [
        "IPY_MODEL_b5bf8d02351c4769bbbffd450abf5a53",
        "IPY_MODEL_d6d954d63c1d48da98fa3fd8eaa1cad2",
        "IPY_MODEL_93ec9d9a652241b782dd36a69fc15604"
       ],
       "layout": "IPY_MODEL_bc45d995b9804834b4c0cb577628f5f6"
      }
     },
     "d1555827f142427aa3965f20d9d1da37": {
      "model_module": "@jupyter-widgets/base",
      "model_module_version": "1.2.0",
      "model_name": "LayoutModel",
      "state": {}
     },
     "d202e845cceb4f11a54bee202309a6f5": {
      "model_module": "@jupyter-widgets/controls",
      "model_module_version": "1.5.0",
      "model_name": "ProgressStyleModel",
      "state": {
       "description_width": ""
      }
     },
     "d6d954d63c1d48da98fa3fd8eaa1cad2": {
      "model_module": "@jupyter-widgets/controls",
      "model_module_version": "1.5.0",
      "model_name": "FloatProgressModel",
      "state": {
       "bar_style": "success",
       "layout": "IPY_MODEL_8c9e2b767b6d4f52a14f9ef284ec5572",
       "max": 22485,
       "style": "IPY_MODEL_09cb94c80c264256a9e699aa048a5b1d",
       "value": 22485
      }
     },
     "dd846f6f94e941a4b9ebdb82c9c6e0a8": {
      "model_module": "@jupyter-widgets/base",
      "model_module_version": "1.2.0",
      "model_name": "LayoutModel",
      "state": {}
     },
     "e0fa702785b6420eabfa92fefecb4561": {
      "model_module": "@jupyter-widgets/controls",
      "model_module_version": "1.5.0",
      "model_name": "HTMLModel",
      "state": {
       "layout": "IPY_MODEL_5c6bad4abf2c457d83898ee26b952df0",
       "style": "IPY_MODEL_ffa99c9ac3f44136b266debfce2c248d",
       "value": " 115/22485 [03:40&lt;16:03:23,  2.58s/it]"
      }
     },
     "e4ac36c8fe324188822f127dd74f5749": {
      "model_module": "@jupyter-widgets/base",
      "model_module_version": "1.2.0",
      "model_name": "LayoutModel",
      "state": {}
     },
     "e612f04d55924435ae7eb7bda50c5be0": {
      "model_module": "@jupyter-widgets/controls",
      "model_module_version": "1.5.0",
      "model_name": "DescriptionStyleModel",
      "state": {
       "description_width": ""
      }
     },
     "e617a04e02f84c81b31fd041a52183f7": {
      "model_module": "@jupyter-widgets/controls",
      "model_module_version": "1.5.0",
      "model_name": "DescriptionStyleModel",
      "state": {
       "description_width": ""
      }
     },
     "e75625ad032e4080b3ba873412e040c4": {
      "model_module": "@jupyter-widgets/controls",
      "model_module_version": "1.5.0",
      "model_name": "HBoxModel",
      "state": {
       "children": [
        "IPY_MODEL_a72d00fc280a48d9924fa6ce1aafcf58",
        "IPY_MODEL_28f00ce899664ecb8d3d46e8fe34a47c",
        "IPY_MODEL_562d9ae2bcc54ce799ebd4d1b7fdd47e"
       ],
       "layout": "IPY_MODEL_6beb7ed381f94ef1843a7433c69d15e2"
      }
     },
     "e802740709724e6e995ac84341d9533a": {
      "model_module": "@jupyter-widgets/controls",
      "model_module_version": "1.5.0",
      "model_name": "DescriptionStyleModel",
      "state": {
       "description_width": ""
      }
     },
     "e8c935a640dc4b5aab5513d26477a6c5": {
      "model_module": "@jupyter-widgets/base",
      "model_module_version": "1.2.0",
      "model_name": "LayoutModel",
      "state": {}
     },
     "e8e3f4530e5b4631a6fbd575b19a0f91": {
      "model_module": "@jupyter-widgets/controls",
      "model_module_version": "1.5.0",
      "model_name": "HTMLModel",
      "state": {
       "layout": "IPY_MODEL_fee77c91b9f64a23b09e7ed698bd4cf9",
       "style": "IPY_MODEL_abc7f78463ff482f85038910b8557388",
       "value": "  0%"
      }
     },
     "e9376354eb7440d6963201d60160e07c": {
      "model_module": "@jupyter-widgets/controls",
      "model_module_version": "1.5.0",
      "model_name": "FloatProgressModel",
      "state": {
       "bar_style": "danger",
       "layout": "IPY_MODEL_cec85bbf516b4dbcaf2161c82d0c8869",
       "max": 22485,
       "style": "IPY_MODEL_cdeab54895274e3b99e573a4e6eaced1",
       "value": 115
      }
     },
     "eb08d356e87345f5a8038fe80b67584f": {
      "model_module": "@jupyter-widgets/controls",
      "model_module_version": "1.5.0",
      "model_name": "DescriptionStyleModel",
      "state": {
       "description_width": ""
      }
     },
     "eb5f7519bdfa4f5e87780fd084eb93b3": {
      "model_module": "@jupyter-widgets/base",
      "model_module_version": "1.2.0",
      "model_name": "LayoutModel",
      "state": {}
     },
     "ec083cc7da564fd991cd18fb4a7db929": {
      "model_module": "@jupyter-widgets/controls",
      "model_module_version": "1.5.0",
      "model_name": "DescriptionStyleModel",
      "state": {
       "description_width": ""
      }
     },
     "f13fddad1192415ba51c57877ffd92ef": {
      "model_module": "@jupyter-widgets/controls",
      "model_module_version": "1.5.0",
      "model_name": "ProgressStyleModel",
      "state": {
       "description_width": ""
      }
     },
     "f1b797499d9a4ee6ad15c2b41104b238": {
      "model_module": "@jupyter-widgets/controls",
      "model_module_version": "1.5.0",
      "model_name": "DescriptionStyleModel",
      "state": {
       "description_width": ""
      }
     },
     "f1d6bfa377264c78a0b799ca4a656e2b": {
      "model_module": "@jupyter-widgets/base",
      "model_module_version": "1.2.0",
      "model_name": "LayoutModel",
      "state": {}
     },
     "f3d8e00f9e264be19d349a74446968c1": {
      "model_module": "@jupyter-widgets/base",
      "model_module_version": "1.2.0",
      "model_name": "LayoutModel",
      "state": {}
     },
     "fb65526b48024dd3aa76d99bbb030a5e": {
      "model_module": "@jupyter-widgets/controls",
      "model_module_version": "1.5.0",
      "model_name": "HTMLModel",
      "state": {
       "layout": "IPY_MODEL_038bbe3de34146b292b4a3400bd78ebf",
       "style": "IPY_MODEL_a8b78db30d2e4731b534c8a8be4d5d47",
       "value": "  1%"
      }
     },
     "fc9f2ec72917459da8733cceed6a0580": {
      "model_module": "@jupyter-widgets/controls",
      "model_module_version": "1.5.0",
      "model_name": "DescriptionStyleModel",
      "state": {
       "description_width": ""
      }
     },
     "fe072de5032c425481509a47451aed07": {
      "model_module": "@jupyter-widgets/controls",
      "model_module_version": "1.5.0",
      "model_name": "HBoxModel",
      "state": {
       "children": [
        "IPY_MODEL_40af85a4a0b94de28a623794a2d2dbc3",
        "IPY_MODEL_8282e76bcd6646c5aa4cd99bebe0af3f",
        "IPY_MODEL_5ab73d52eb4344ed80a2ff51ddb44d9c"
       ],
       "layout": "IPY_MODEL_0960dad2bd76489abf882b415c2fd167"
      }
     },
     "fee77c91b9f64a23b09e7ed698bd4cf9": {
      "model_module": "@jupyter-widgets/base",
      "model_module_version": "1.2.0",
      "model_name": "LayoutModel",
      "state": {}
     },
     "ffa99c9ac3f44136b266debfce2c248d": {
      "model_module": "@jupyter-widgets/controls",
      "model_module_version": "1.5.0",
      "model_name": "DescriptionStyleModel",
      "state": {
       "description_width": ""
      }
     }
    },
    "version_major": 2,
    "version_minor": 0
   }
  }
 },
 "nbformat": 4,
 "nbformat_minor": 5
}